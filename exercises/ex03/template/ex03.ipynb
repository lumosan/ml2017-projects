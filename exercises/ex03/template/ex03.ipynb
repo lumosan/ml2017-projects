{
 "cells": [
  {
   "cell_type": "code",
   "execution_count": 1,
   "metadata": {},
   "outputs": [],
   "source": [
    "# Useful starting lines\n",
    "%matplotlib inline\n",
    "import numpy as np\n",
    "import matplotlib.pyplot as plt\n",
    "%load_ext autoreload\n",
    "%autoreload 2"
   ]
  },
  {
   "cell_type": "markdown",
   "metadata": {},
   "source": [
    "# 1 Least squares and linear basis functions models\n",
    "## 1.1 Least squares"
   ]
  },
  {
   "cell_type": "code",
   "execution_count": 2,
   "metadata": {},
   "outputs": [],
   "source": [
    "def build_poly(x, degree, offset=True):\n",
    "    '''Polynomial basis functions for input data x,\n",
    "    for up to a certain degree.'''\n",
    "    if offset:\n",
    "        rows, cols = np.indices((x.shape[0], degree+1))\n",
    "        tx = np.power(x[rows], cols)\n",
    "    else:\n",
    "        rows, cols = np.indices((x.shape[0], degree))\n",
    "        tx = np.power(x[rows], cols+1)\n",
    "    return tx\n",
    "\n",
    "def build_model_data(x, y):\n",
    "    '''Form (y,tX) to get regression data in matrix form. Uses build_poly.'''\n",
    "    return y, build_poly(x, 1, offset=True)"
   ]
  },
  {
   "cell_type": "code",
   "execution_count": 3,
   "metadata": {},
   "outputs": [],
   "source": [
    "def standardize(x):\n",
    "    '''Standardize the original data set.'''\n",
    "    mean_x = np.mean(x, axis=0)\n",
    "    x = x - mean_x\n",
    "    std_x = np.std(x, axis=0)\n",
    "    x = x / std_x\n",
    "    return x, mean_x, std_x"
   ]
  },
  {
   "cell_type": "code",
   "execution_count": 4,
   "metadata": {},
   "outputs": [],
   "source": [
    "def compute_mse(y, tx, w):\n",
    "    '''\n",
    "    Calculates the loss using mse.\n",
    "    The value returned equals (2*RMSE)^2\n",
    "    '''\n",
    "    if len(tx.shape) == 1:\n",
    "        tx = tx.reshape(-1, 1)\n",
    "    if len(y.shape) == 1:\n",
    "        y = y.reshape(-1, 1)\n",
    "    w = np.array(w).reshape(tx.shape[1], 1)\n",
    "    z = y - tx.dot(w)\n",
    "    z = z.T.dot(z)\n",
    "    return z[0][0] / tx.shape[0]"
   ]
  },
  {
   "cell_type": "code",
   "execution_count": 5,
   "metadata": {},
   "outputs": [],
   "source": [
    "def least_squares(y, tx):\n",
    "    '''\n",
    "    Calculates the least squares solution using the normal equations.\n",
    "    It returns RMSE and the optimal weights.\n",
    "    '''\n",
    "    w_opt = np.linalg.pinv(tx).dot(y)\n",
    "    rmse = np.sqrt(compute_mse(y, tx, w_opt))\n",
    "    return w_opt, rmse"
   ]
  },
  {
   "cell_type": "markdown",
   "metadata": {},
   "source": [
    "### Load the data\n",
    "Here we will reuse the dataset `height_weight_genders.csv` from previous exercise section to check the correctness of your implementation. Please compare it with your previous result."
   ]
  },
  {
   "cell_type": "code",
   "execution_count": 6,
   "metadata": {},
   "outputs": [],
   "source": [
    "from helpers import *"
   ]
  },
  {
   "cell_type": "code",
   "execution_count": 7,
   "metadata": {},
   "outputs": [],
   "source": [
    "height, weight, gender = load_data_from_ex02(sub_sample=False, add_outlier=False)\n",
    "x, mean_x, std_x = standardize(height)\n",
    "y, tx = build_model_data(x, weight)\n",
    "w_opt, rmse = least_squares(y, tx)"
   ]
  },
  {
   "cell_type": "markdown",
   "metadata": {},
   "source": [
    "Test it here"
   ]
  },
  {
   "cell_type": "code",
   "execution_count": 8,
   "metadata": {},
   "outputs": [
    {
     "name": "stdout",
     "output_type": "stream",
     "text": [
      "5.54723135786\n",
      "[ 73.293922    13.47971243]\n"
     ]
    }
   ],
   "source": [
    "print(rmse)\n",
    "print(w_opt)"
   ]
  },
  {
   "cell_type": "markdown",
   "metadata": {},
   "source": [
    "## 1.2 Least squares with a linear basis function model\n",
    "Start from this section, we will use the dataset `dataEx3.csv`.\n",
    "\n",
    "### Implement polynomial basis functions"
   ]
  },
  {
   "cell_type": "code",
   "execution_count": 9,
   "metadata": {
    "scrolled": true
   },
   "outputs": [
    {
     "name": "stdout",
     "output_type": "stream",
     "text": [
      "shape of x (50,)\n",
      "shape of y (50,)\n"
     ]
    }
   ],
   "source": [
    "# load dataset\n",
    "x, y = load_data()\n",
    "print(\"shape of x {}\".format(x.shape))\n",
    "print(\"shape of y {}\".format(y.shape))"
   ]
  },
  {
   "cell_type": "markdown",
   "metadata": {},
   "source": [
    "Let us play with polynomial regression. Note that we will use your implemented function `compute_mse`. Please copy and paste your implementation from exercise02."
   ]
  },
  {
   "cell_type": "code",
   "execution_count": 10,
   "metadata": {},
   "outputs": [],
   "source": [
    "from plots import *"
   ]
  },
  {
   "cell_type": "code",
   "execution_count": 11,
   "metadata": {},
   "outputs": [],
   "source": [
    "def polynomial_regression():\n",
    "    '''Constructing the polynomial basis function expansion of the data,\n",
    "       and then running least squares regression.'''\n",
    "\n",
    "    # define parameters\n",
    "    degrees = [1, 3, 7, 12]\n",
    "\n",
    "    # define structure of the figure\n",
    "    num_row = 2\n",
    "    num_col = 2\n",
    "    f, axs = plt.subplots(num_row, num_col)\n",
    "\n",
    "    for ind, degree in enumerate(degrees):\n",
    "        x_standardized, mean_x, std_x = standardize(x)\n",
    "        tx = build_poly(x_standardized, degree)\n",
    "        w_opt, rmse = least_squares(y, tx)\n",
    "\n",
    "        print(\"Processing {i}th experiment, degree={d}, rmse={loss}\".format(\n",
    "              i=ind + 1, d=degree, loss=rmse))\n",
    "\n",
    "        # plot fit\n",
    "        plot_fitted_curve(\n",
    "            y, x_standardized, w_opt, degree, axs[ind // num_col][ind % num_col])\n",
    "\n",
    "    plt.tight_layout()\n",
    "    plt.savefig(\"visualize_polynomial_regression\")\n",
    "    plt.show()"
   ]
  },
  {
   "cell_type": "markdown",
   "metadata": {},
   "source": [
    "Run polynomial regression"
   ]
  },
  {
   "cell_type": "code",
   "execution_count": 12,
   "metadata": {},
   "outputs": [
    {
     "name": "stdout",
     "output_type": "stream",
     "text": [
      "Processing 1th experiment, degree=1, rmse=0.47187607963421874\n",
      "Processing 2th experiment, degree=3, rmse=0.2585827766773748\n",
      "Processing 3th experiment, degree=7, rmse=0.24965870360907508\n",
      "Processing 4th experiment, degree=12, rmse=0.24032507466876604\n"
     ]
    },
    {
     "data": {
      "image/png": "[encoded data removed]",
      "text/plain": [
       "<matplotlib.figure.Figure at 0x7f0de9689cc0>"
      ]
     },
     "metadata": {},
     "output_type": "display_data"
    }
   ],
   "source": [
    "polynomial_regression()"
   ]
  },
  {
   "cell_type": "code",
   "execution_count": 28,
   "metadata": {},
   "outputs": [],
   "source": [
    "def polynomial_regression():\n",
    "    '''Constructing the polynomial basis function expansion of the data,\n",
    "       and then running least squares regression.'''\n",
    "\n",
    "    # define parameters\n",
    "    degrees = [1, 3, 7, 12]\n",
    "\n",
    "    # define structure of the figure\n",
    "    num_row = 2\n",
    "    num_col = 2\n",
    "    f, axs = plt.subplots(num_row, num_col)\n",
    "    x_standardized, mean_x, std_x = standardize(x)\n",
    "    for ind, degree in enumerate(degrees):\n",
    "        tx = build_poly(x_standardized, degree)\n",
    "        w_opt, rmse = least_squares(y, tx)\n",
    "\n",
    "        print(\"Processing {i}th experiment, degree={d}, rmse={loss}\".format(\n",
    "              i=ind + 1, d=degree, loss=rmse))\n",
    "\n",
    "        # plot fit\n",
    "        x_cont = np.linspace(np.min(x),np.max(x),100)\n",
    "        x_cont_standardized = (x_cont-mean_x)/std_x\n",
    "        X_cont = build_poly(x_cont_standardized, degree)\n",
    "        y_cont = X_cont.dot(w_opt)\n",
    "        plt.subplot(2,2,ind+1)\n",
    "        plt.scatter(x, y, s=10),\n",
    "        plt.plot(x_cont, y_cont, color='darkorange')\n",
    "        \n",
    "    plt.tight_layout()\n",
    "    plt.savefig(\"visualize_polynomial_regression\")\n",
    "    plt.show()"
   ]
  },
  {
   "cell_type": "code",
   "execution_count": 29,
   "metadata": {},
   "outputs": [
    {
     "name": "stdout",
     "output_type": "stream",
     "text": [
      "Processing 1th experiment, degree=1, rmse=0.47187607963421874\n",
      "Processing 2th experiment, degree=3, rmse=0.2585827766773748\n",
      "Processing 3th experiment, degree=7, rmse=0.24965870360907508\n",
      "Processing 4th experiment, degree=12, rmse=0.24032507466876604\n"
     ]
    },
    {
     "data": {
      "image/png": "[encoded data removed]",
      "text/plain": [
       "<matplotlib.figure.Figure at 0x7f0dbdc2d710>"
      ]
     },
     "metadata": {},
     "output_type": "display_data"
    }
   ],
   "source": [
    "polynomial_regression()"
   ]
  },
  {
   "cell_type": "markdown",
   "metadata": {},
   "source": [
    "# 2 Evaluating model predication performance\n",
    "\n",
    "\n",
    "Let us show the train and test splits for various polynomial degrees. First of all, please fill in the function `split_data()`"
   ]
  },
  {
   "cell_type": "code",
   "execution_count": 30,
   "metadata": {},
   "outputs": [],
   "source": [
    "def split_data(x, y, ratio, seed=1):\n",
    "    '''\n",
    "    Split the dataset based on the split ratio. E.g. if ratio is 0.8\n",
    "    you will have 80% of your data set dedicated to training\n",
    "    and the rest dedicated to testing\n",
    "    '''\n",
    "    np.random.seed(seed)\n",
    "\n",
    "    size = int(ratio * x.shape[0])\n",
    "    indices = np.random.permutation(x.shape[0])\n",
    "    training_idx, test_idx = indices[:size], indices[size:]\n",
    "\n",
    "    x_training, x_test = x[training_idx], x[test_idx]\n",
    "    y_training, y_test = y[training_idx], y[test_idx]\n",
    "\n",
    "    return x_training, x_test, y_training, y_test\n"
   ]
  },
  {
   "cell_type": "markdown",
   "metadata": {},
   "source": [
    "Then, test your `split_data` function below."
   ]
  },
  {
   "cell_type": "code",
   "execution_count": 31,
   "metadata": {},
   "outputs": [
    {
     "name": "stdout",
     "output_type": "stream",
     "text": [
      "(array([[3, 3],\n",
      "       [2, 2],\n",
      "       [5, 5],\n",
      "       [1, 1]]), array([[4, 4]]), array([ 6,  4, 10,  2]), array([8]))\n",
      "\n",
      "(array([3, 2, 5, 1]), array([4]), array([ 6,  4, 10,  2]), array([8]))\n"
     ]
    }
   ],
   "source": [
    "print(split_data(np.array([[1, 1],[2, 2],[3, 3],[4, 4],[5, 5]]), np.array([2,4,6,8,10]), .8))\n",
    "print()\n",
    "print(split_data(np.array([ 1, 2, 3, 4, 5]), np.array([2,4,6,8,10]), .8))"
   ]
  },
  {
   "cell_type": "code",
   "execution_count": 32,
   "metadata": {},
   "outputs": [],
   "source": [
    "def train_test_split_demo(x, y, degree, ratio, seed):\n",
    "    \"\"\"polynomial regression with different split ratios and different degrees.\"\"\"\n",
    "    # split the data, and return train and test data\n",
    "    x_training, x_test, y_training, y_test = split_data(x, y, ratio, seed)\n",
    "\n",
    "    # form train and test data with polynomial basis function\n",
    "    x_training_standardized, mean_x, std_x = standardize(x_training)\n",
    "    tx_training = build_poly(x_training_standardized, degree)\n",
    "    x_test_standardized = (x_test - mean_x) / std_x\n",
    "    tx_test = build_poly(x_test_standardized, degree)\n",
    "\n",
    "    # calculate weights using least squares\n",
    "    w_opt, rmse_tr = least_squares(y_training, tx_training)\n",
    "\n",
    "    # calculate RMSE for train and test data,\n",
    "    rmse_te = np.sqrt(2 * compute_mse(y_test, tx_test, w_opt))\n",
    "    print(\"proportion={p}, degree={d}, Training RMSE={tr:.3f}, Testing RMSE={te:.3f}\".format(\n",
    "          p=ratio, d=degree, tr=rmse_tr, te=rmse_te))"
   ]
  },
  {
   "cell_type": "code",
   "execution_count": 33,
   "metadata": {},
   "outputs": [
    {
     "name": "stdout",
     "output_type": "stream",
     "text": [
      "proportion=0.9, degree=1, Training RMSE=0.494, Testing RMSE=0.256\n",
      "proportion=0.9, degree=3, Training RMSE=0.264, Testing RMSE=0.292\n",
      "proportion=0.9, degree=7, Training RMSE=0.254, Testing RMSE=0.311\n",
      "proportion=0.9, degree=12, Training RMSE=0.242, Testing RMSE=0.353\n",
      "proportion=0.5, degree=1, Training RMSE=0.455, Testing RMSE=0.751\n",
      "proportion=0.5, degree=3, Training RMSE=0.239, Testing RMSE=0.419\n",
      "proportion=0.5, degree=7, Training RMSE=0.232, Testing RMSE=0.402\n",
      "proportion=0.5, degree=12, Training RMSE=0.205, Testing RMSE=1.506\n",
      "proportion=0.1, degree=1, Training RMSE=0.428, Testing RMSE=0.755\n",
      "proportion=0.1, degree=3, Training RMSE=0.085, Testing RMSE=0.650\n",
      "proportion=0.1, degree=7, Training RMSE=0.000, Testing RMSE=3.781\n",
      "proportion=0.1, degree=12, Training RMSE=0.000, Testing RMSE=15.998\n"
     ]
    }
   ],
   "source": [
    "seed = 6\n",
    "degrees = [1, 3, 7, 12]\n",
    "split_ratios = [0.9, 0.5, 0.1]\n",
    "\n",
    "for split_ratio in split_ratios:\n",
    "    for degree in degrees:\n",
    "        train_test_split_demo(x, y, degree, split_ratio, seed)"
   ]
  },
  {
   "cell_type": "markdown",
   "metadata": {},
   "source": [
    "# 3 Ridge Regression\n",
    "Please fill in the function below."
   ]
  },
  {
   "cell_type": "raw",
   "metadata": {},
   "source": [
    "def compute_ridge_regression_loss(y, tx, w, lambda_):\n",
    "    if len(tx.shape) == 1:\n",
    "        tx = tx.reshape(-1, 1)\n",
    "    if len(y.shape) == 1:\n",
    "        y = y.reshape(-1, 1)\n",
    "    w = np.array(w).reshape(tx.shape[1], 1)\n",
    "    loss = compute_mse(y, tx, w) + lambda_ * np.linalg.norm(w)**2\n",
    "    return loss"
   ]
  },
  {
   "cell_type": "markdown",
   "metadata": {},
   "source": [
    "#### *TODO - How to standardize:*\n",
    "Using mean and stddev obtained by using the whole data.\n",
    "Using mean and stddev obtained by using the training data (and using these for the test data)."
   ]
  },
  {
   "cell_type": "code",
   "execution_count": 52,
   "metadata": {},
   "outputs": [],
   "source": [
    "def ridge_regression_demo(x, y, degree, ratio, seed):\n",
    "    \"\"\"ridge regression demo.\"\"\"\n",
    "    # define parameter\n",
    "    lambdas = np.logspace(-5, 0, 15)\n",
    "    standardized_x, mean_x, std_x = standardize(x)\n",
    "    \n",
    "    # split the data, and return train and test data\n",
    "    x_training, x_test, y_training, y_test = split_data(standardized_x, y, ratio, seed)\n",
    "\n",
    "    # form train and test data with polynomial basis function\n",
    "    tx_training = build_poly(x_training, degree)\n",
    "    tx_test = build_poly(x_test, degree)\n",
    "\n",
    "    rmse_tr = np.ones(len(lambdas))\n",
    "    rmse_te = np.ones(len(lambdas))\n",
    "\n",
    "    for ind, lambda_ in enumerate(lambdas):\n",
    "        # ridge regression with a given lambda\n",
    "        w_opt, rmse_training = ridge_regression(y_training, tx_training, lambda_)\n",
    "        rmse_test = np.sqrt(compute_mse(y_test, tx_test, w_opt))\n",
    "        \n",
    "        rmse_tr[ind] = rmse_training\n",
    "        rmse_te[ind] = rmse_test\n",
    "        \n",
    "        print(\"proportion={p}, degree={d}, lambda={l:.3f}, Training RMSE={tr:.3f}, Testing RMSE={te:.3f}\".format(\n",
    "               p=ratio, d=degree, l=lambda_, tr=rmse_tr[ind], te=rmse_te[ind]))\n",
    "    # Plot the obtained results\n",
    "    plot_train_test(rmse_tr, rmse_te, lambdas, degree)\n"
   ]
  },
  {
   "cell_type": "code",
   "execution_count": 53,
   "metadata": {},
   "outputs": [],
   "source": [
    "def ridge_regression(y, tx, lambda_):\n",
    "    '''Implements ridge regression using normal equations.'''\n",
    "    I = np.eye(tx.shape[1])\n",
    "    w_opt = np.linalg.inv(tx.T.dot(tx) + lambda_*2*tx.shape[1]*I).dot(tx.T.dot(y))\n",
    "    rmse = np.sqrt(compute_mse(y, tx, w_opt))\n",
    "    return w_opt, rmse"
   ]
  },
  {
   "cell_type": "code",
   "execution_count": 54,
   "metadata": {},
   "outputs": [
    {
     "name": "stdout",
     "output_type": "stream",
     "text": [
      "0.249658703609\n"
     ]
    }
   ],
   "source": [
    "# define parameter\n",
    "lambda_= 0\n",
    "x, mean_x, std_x = standardize(x)\n",
    "\n",
    "# form train and test data with polynomial basis function\n",
    "tx = build_poly(x, 7)\n",
    "\n",
    "# ridge regression with a given lambda\n",
    "w_opt, rmse = ridge_regression(y, tx, lambda_)\n",
    "\n",
    "print(rmse)"
   ]
  },
  {
   "cell_type": "code",
   "execution_count": 55,
   "metadata": {},
   "outputs": [
    {
     "name": "stdout",
     "output_type": "stream",
     "text": [
      "proportion=0.5, degree=7, lambda=0.000, Training RMSE=0.204, Testing RMSE=0.339\n",
      "proportion=0.5, degree=7, lambda=0.000, Training RMSE=0.204, Testing RMSE=0.339\n",
      "proportion=0.5, degree=7, lambda=0.000, Training RMSE=0.204, Testing RMSE=0.338\n",
      "proportion=0.5, degree=7, lambda=0.000, Training RMSE=0.204, Testing RMSE=0.336\n",
      "proportion=0.5, degree=7, lambda=0.000, Training RMSE=0.204, Testing RMSE=0.331\n",
      "proportion=0.5, degree=7, lambda=0.001, Training RMSE=0.205, Testing RMSE=0.324\n",
      "proportion=0.5, degree=7, lambda=0.001, Training RMSE=0.207, Testing RMSE=0.313\n",
      "proportion=0.5, degree=7, lambda=0.003, Training RMSE=0.213, Testing RMSE=0.301\n",
      "proportion=0.5, degree=7, lambda=0.007, Training RMSE=0.222, Testing RMSE=0.292\n",
      "proportion=0.5, degree=7, lambda=0.016, Training RMSE=0.234, Testing RMSE=0.290\n",
      "proportion=0.5, degree=7, lambda=0.037, Training RMSE=0.251, Testing RMSE=0.299\n",
      "proportion=0.5, degree=7, lambda=0.085, Training RMSE=0.283, Testing RMSE=0.331\n",
      "proportion=0.5, degree=7, lambda=0.193, Training RMSE=0.328, Testing RMSE=0.387\n",
      "proportion=0.5, degree=7, lambda=0.439, Training RMSE=0.378, Testing RMSE=0.453\n",
      "proportion=0.5, degree=7, lambda=1.000, Training RMSE=0.424, Testing RMSE=0.519\n"
     ]
    },
    {
     "data": {
      "image/png": "[encoded data removed]",
      "text/plain": [
       "<matplotlib.figure.Figure at 0x7f0dbdc8a780>"
      ]
     },
     "metadata": {},
     "output_type": "display_data"
    }
   ],
   "source": [
    "seed = 13\n",
    "degree = 7\n",
    "split_ratio = 0.5\n",
    "ridge_regression_demo(x, y, degree, split_ratio, seed)"
   ]
  },
  {
   "cell_type": "code",
   "execution_count": null,
   "metadata": {},
   "outputs": [],
   "source": []
  },
  {
   "cell_type": "code",
   "execution_count": null,
   "metadata": {},
   "outputs": [],
   "source": []
  },
  {
   "cell_type": "code",
   "execution_count": null,
   "metadata": {},
   "outputs": [],
   "source": []
  }
 ],
 "metadata": {
  "anaconda-cloud": {},
  "kernelspec": {
   "display_name": "Python [conda root]",
   "language": "python",
   "name": "conda-root-py"
  },
  "language_info": {
   "codemirror_mode": {
    "name": "ipython",
    "version": 3
   },
   "file_extension": ".py",
   "mimetype": "text/x-python",
   "name": "python",
   "nbconvert_exporter": "python",
   "pygments_lexer": "ipython3",
   "version": "3.6.1"
  }
 },
 "nbformat": 4,
 "nbformat_minor": 1
}
