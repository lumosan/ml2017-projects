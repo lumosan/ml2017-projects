{
 "cells": [
  {
   "cell_type": "code",
   "execution_count": 2,
   "metadata": {},
   "outputs": [
    {
     "name": "stdout",
     "output_type": "stream",
     "text": [
      "The autotime extension is already loaded. To reload it, use:\n",
      "  %reload_ext autotime\n",
      "The autoreload extension is already loaded. To reload it, use:\n",
      "  %reload_ext autoreload\n",
      "time: 9.67 ms\n"
     ]
    }
   ],
   "source": [
    "%load_ext autotime\n",
    "\n",
    "%load_ext autoreload\n",
    "%autoreload 2"
   ]
  },
  {
   "cell_type": "code",
   "execution_count": 3,
   "metadata": {},
   "outputs": [
    {
     "name": "stdout",
     "output_type": "stream",
     "text": [
      "time: 111 ms\n"
     ]
    }
   ],
   "source": [
    "import numpy as np\n",
    "import scipy.sparse as sp\n",
    "from datafile_methods.data_io import save_csv\n",
    "DATA_PATH = '../data/'\n",
    "PREDICTION_PATH = '../data/predictions/'"
   ]
  },
  {
   "cell_type": "code",
   "execution_count": null,
   "metadata": {
    "collapsed": true
   },
   "outputs": [],
   "source": [
    "from datafile_methods.data_io import load_datasets\n",
    "from datafile_methods.data_processing import load_data\n",
    "\n",
    "# Load datasets\n",
    "folds, ratings, sample_submission = load_datasets()\n",
    "\n",
    "k_fold = len(folds)\n",
    "\n",
    "models = ['baseline',\n",
    "          'knn_baseline_i',\n",
    "          'knn_baseline_u',\n",
    "          'mf_svd_sci',\n",
    "          'nmf',\n",
    "          'slope_one',\n",
    "          'sur_svd',\n",
    "          'mf_als_recommend',\n",
    "          'mf_als']\n",
    "\n",
    "# Load predictions for each fold and model\n",
    "predictions = [[load_data('{p}model_{m}_te_{i}.csv'.format(\n",
    "    p=PREDICTION_PATH, m=model, i=i)) for i in range(k_fold)] for model in models]\n",
    "\n",
    "predictions_dict = dict(zip(models, predictions))"
   ]
  },
  {
   "cell_type": "code",
   "execution_count": null,
   "metadata": {
    "collapsed": true
   },
   "outputs": [],
   "source": [
    "from sklearn.linear_model import Ridge"
   ]
  },
  {
   "cell_type": "code",
   "execution_count": null,
   "metadata": {
    "collapsed": true,
    "scrolled": false
   },
   "outputs": [],
   "source": [
    "from prediction_methods.create_ensemble import evaluate_meta_features_ensemble\n",
    "predictors_high_df, observations_high_df, predictors_low_df, observations_low_df = evaluate_meta_features_ensemble(ratings, folds, predictions_dict)"
   ]
  },
  {
   "cell_type": "markdown",
   "metadata": {},
   "source": [
    "High support"
   ]
  },
  {
   "cell_type": "code",
   "execution_count": null,
   "metadata": {
    "collapsed": true
   },
   "outputs": [],
   "source": [
    "from sklearn.preprocessing import PolynomialFeatures\n",
    "import pandas as pd\n",
    "poly = PolynomialFeatures(2)"
   ]
  },
  {
   "cell_type": "code",
   "execution_count": null,
   "metadata": {
    "collapsed": true
   },
   "outputs": [],
   "source": [
    "regularization_errors_h_tr = {}\n",
    "regularization_errors_h_te = {}\n",
    "\n",
    "for alpha in np.linspace(0,.001,9):\n",
    "    rmse_errors_tr = np.zeros(k_fold)\n",
    "    rmse_errors_te = np.zeros(k_fold)\n",
    "    for i in range(k_fold):\n",
    "        # Get training data\n",
    "        preds_train = predictors_high_df[i][::2]\n",
    "        train = poly.fit_transform(preds_train)\n",
    "        vals_train = observations_high_df[i][::2]\n",
    "        # Create and fit model\n",
    "        clf = Ridge(alpha=alpha, normalize=True)\n",
    "        clf.fit(train, vals_train)\n",
    "        # Obtain predictions for training set\n",
    "        pred_train = clf.predict(train)\n",
    "        pred_train = np.clip(pred_train, 1.0, 5.0)\n",
    "        # Compute train error\n",
    "        rmse_train = sqrt(mean_squared_error(vals_train, pred_train))\n",
    "\n",
    "        # Use remaining data for testing\n",
    "        preds_test = predictors_high_df[i][1::2]\n",
    "        test = poly.fit_transform(preds_test)\n",
    "        vals_test = observations_high_df[i][1::2]\n",
    "        # Obtain predictions for test setpred_high_sub\n",
    "        pred_test = clf.predict(test)\n",
    "        # Compute test error\n",
    "        rmse_test = sqrt(mean_squared_error(vals_test, pred_test))\n",
    "        \n",
    "        # Save errors in arrays\n",
    "        rmse_errors_tr[i] = rmse_train\n",
    "        rmse_errors_te[i] = rmse_test\n",
    "    # Save errors in dictionaries\n",
    "    regularization_errors_h_tr[alpha] = rmse_errors_tr\n",
    "    regularization_errors_h_te[alpha] = rmse_errors_te\n",
    "\n",
    "plt.figure(figsize=(12,5))\n",
    "pd.DataFrame(regularization_errors_h_tr).boxplot()\n",
    "pd.DataFrame(regularization_errors_h_te).boxplot()\n",
    "plt.show()\n",
    "\n",
    "plt.figure(figsize=(12,5))\n",
    "pd.DataFrame(regularization_errors_h_tr).boxplot()\n",
    "plt.show()\n",
    "\n",
    "plt.figure(figsize=(12,5))\n",
    "pd.DataFrame(regularization_errors_h_te).boxplot()\n",
    "plt.show()\n",
    "\n",
    "# Best: alpha = .000125"
   ]
  },
  {
   "cell_type": "markdown",
   "metadata": {},
   "source": [
    "Low support"
   ]
  },
  {
   "cell_type": "code",
   "execution_count": null,
   "metadata": {
    "collapsed": true
   },
   "outputs": [],
   "source": [
    "regularization_errors_l_tr = {}\n",
    "regularization_errors_l_te = {}\n",
    "\n",
    "for alpha in np.linspace(0,.001,9):\n",
    "    rmse_errors_tr = np.zeros(k_fold)\n",
    "    rmse_errors_te = np.zeros(k_fold)\n",
    "    for i in range(k_fold):\n",
    "        # Get training data\n",
    "        preds_train = predictors_low_df[i][::2]\n",
    "        train = poly.fit_transform(preds_train)\n",
    "        vals_train = observations_low_df[i][::2]\n",
    "        # Create and fit model\n",
    "        clf = Ridge(alpha=alpha, normalize=True)\n",
    "        clf.fit(train, vals_train)\n",
    "        # Obtain predictions for training set\n",
    "        pred_train = clf.predict(train)\n",
    "        pred_train = np.clip(pred_train, 1.0, 5.0)\n",
    "        # Compute train error\n",
    "        rmse_train = sqrt(mean_squared_error(vals_train, pred_train))\n",
    "\n",
    "        # Use remaining data for testing\n",
    "        preds_test = predictors_low_df[i][1::2]\n",
    "        test = poly.fit_transform(preds_test)\n",
    "        vals_test = observations_low_df[i][1::2]\n",
    "        # Obtain predictions for test set\n",
    "        pred_test = clf.predict(test)\n",
    "        # Compute test error\n",
    "        rmse_test = sqrt(mean_squared_error(vals_test, pred_test))\n",
    "        \n",
    "        # Save errors in arrays\n",
    "        rmse_errors_tr[i] = rmse_train\n",
    "        rmse_errors_te[i] = rmse_test\n",
    "    # Save errors in dictionaries\n",
    "    regularization_errors_l_tr[alpha] = rmse_errors_tr\n",
    "    regularization_errors_l_te[alpha] = rmse_errors_te\n",
    "\n",
    "plt.figure(figsize=(12,5))\n",
    "pd.DataFrame(regularization_errors_l_tr).boxplot()\n",
    "pd.DataFrame(regularization_errors_l_te).boxplot()\n",
    "plt.show()\n",
    "\n",
    "plt.figure(figsize=(12,5))\n",
    "pd.DataFrame(regularization_errors_l_tr).boxplot()\n",
    "plt.show()\n",
    "\n",
    "plt.figure(figsize=(12,35))\n",
    "pd.DataFrame(regularization_errors_l_te).boxplot()\n",
    "plt.show()\n",
    "\n",
    "# Best: alpha = .000375"
   ]
  },
  {
   "cell_type": "markdown",
   "metadata": {},
   "source": [
    "#### Generate submission"
   ]
  },
  {
   "cell_type": "code",
   "execution_count": null,
   "metadata": {
    "collapsed": true
   },
   "outputs": [],
   "source": [
    "# Load predictions of submission entries with each model\n",
    "predictions_sub = [load_data('{p}model_{m}_sub.csv'.format(p=PREDICTION_PATH, m=model))\n",
    "    for model in models]\n",
    "predictions_sub_dict = dict(zip(models, predictions_sub))"
   ]
  }
 ],
 "metadata": {
  "kernelspec": {
   "display_name": "Python 3",
   "language": "python",
   "name": "python3"
  },
  "language_info": {
   "codemirror_mode": {
    "name": "ipython",
    "version": 3
   },
   "file_extension": ".py",
   "mimetype": "text/x-python",
   "name": "python",
   "nbconvert_exporter": "python",
   "pygments_lexer": "ipython3",
   "version": "3.6.3"
  }
 },
 "nbformat": 4,
 "nbformat_minor": 2
}
