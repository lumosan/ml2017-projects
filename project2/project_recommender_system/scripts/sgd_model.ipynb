{
 "cells": [
  {
   "cell_type": "code",
   "execution_count": 1,
   "metadata": {
    "collapsed": true
   },
   "outputs": [],
   "source": [
    "import numpy as np\n",
    "import scipy\n",
    "import scipy.io\n",
    "import scipy.sparse as sp\n",
    "import csv\n",
    "\n",
    "import matplotlib.pyplot as plt\n",
    "import seaborn as sns\n",
    "sns.set_style(\"whitegrid\")\n",
    "\n",
    "%load_ext autoreload\n",
    "%autoreload 2\n",
    "%matplotlib inline\n",
    "\n",
    "from helpers import calculate_mse"
   ]
  },
  {
   "cell_type": "markdown",
   "metadata": {},
   "source": [
    "# 0.1 Load and prepare data"
   ]
  },
  {
   "cell_type": "markdown",
   "metadata": {},
   "source": [
    "### Training and testing data"
   ]
  },
  {
   "cell_type": "markdown",
   "metadata": {},
   "source": [
    "#### Load the Data\n",
    "`ratings` is a sparse matrix in the shape of (num_items, num_users)"
   ]
  },
  {
   "cell_type": "code",
   "execution_count": 2,
   "metadata": {},
   "outputs": [
    {
     "name": "stdout",
     "output_type": "stream",
     "text": [
      "number of items: 1682, number of users: 943\n"
     ]
    }
   ],
   "source": [
    "from helpers import load_data, preprocess_data\n",
    "\n",
    "DATA_PATH = '../data/'\n",
    "PREDICTION_PATH = '../data/predictions/'\n",
    "#ratings = load_data('{dp}data_train.csv'.format(dp=DATA_PATH))\n",
    "ratings = load_data('{dp}movielens100k.csv'.format(dp=DATA_PATH))"
   ]
  },
  {
   "cell_type": "markdown",
   "metadata": {},
   "source": [
    "#### Plot the number of ratings per movie and user"
   ]
  },
  {
   "cell_type": "code",
   "execution_count": 3,
   "metadata": {
    "scrolled": true
   },
   "outputs": [
    {
     "data": {
      "image/png": "[encoded data removed]",
      "text/plain": [
       "<matplotlib.figure.Figure at 0x7f64d97426a0>"
      ]
     },
     "metadata": {},
     "output_type": "display_data"
    },
    {
     "name": "stdout",
     "output_type": "stream",
     "text": [
      "min # of items per user = 20, min # of users per item = 1.\n"
     ]
    }
   ],
   "source": [
    "from plots import plot_raw_data\n",
    "\n",
    "num_items_per_user, num_users_per_item = plot_raw_data(ratings)\n",
    "\n",
    "print(\"min # of items per user = {}, min # of users per item = {}.\".format(\n",
    "        min(num_items_per_user), min(num_users_per_item)))"
   ]
  },
  {
   "cell_type": "markdown",
   "metadata": {},
   "source": [
    "#### Split the data into a train and test set"
   ]
  },
  {
   "cell_type": "code",
   "execution_count": 4,
   "metadata": {
    "collapsed": true
   },
   "outputs": [],
   "source": [
    "def split_data(ratings, num_items_per_user, num_users_per_item,\n",
    "               min_num_ratings, p_test=0.1, verbose=False):\n",
    "    \"\"\"split the ratings to training data and test data.\n",
    "    Args:\n",
    "        min_num_ratings: \n",
    "            all users and items we keep must have at least min_num_ratings per user and per item. \n",
    "    \"\"\"\n",
    "    # set seed\n",
    "    np.random.seed(988)\n",
    "    \n",
    "    # select user and item based on the condition.\n",
    "    valid_users = np.where(num_items_per_user >= min_num_ratings)[0]\n",
    "    valid_items = np.where(num_users_per_item >= min_num_ratings)[0]\n",
    "    valid_ratings = ratings[valid_items, :][:, valid_users]\n",
    "    \n",
    "    # LIL is a convenient format for constructing sparse matrices\n",
    "    train = sp.lil_matrix(valid_ratings.shape)\n",
    "    test = sp.lil_matrix(valid_ratings.shape)\n",
    "    \n",
    "    valid_ratings_i, valid_ratings_u, valid_ratings_v = sp.find(valid_ratings)\n",
    "    valid_ratings_p_idx = np.random.permutation(range(len(valid_ratings_i)))\n",
    "    \n",
    "    n_test = int(p_test*len(valid_ratings_i))\n",
    "    \n",
    "    for idx in valid_ratings_p_idx[:n_test]:\n",
    "        test[valid_ratings_i[idx], valid_ratings_u[idx]] = valid_ratings_v[idx]\n",
    "        \n",
    "    for idx in valid_ratings_p_idx[n_test:]:\n",
    "        train[valid_ratings_i[idx], valid_ratings_u[idx]] = valid_ratings_v[idx]\n",
    "\n",
    "    if verbose:\n",
    "        print(\"Total number of nonzero elements in original data:{v}\".format(v=ratings.nnz))\n",
    "        print(\"Total number of nonzero elements in train data:{v}\".format(v=train.nnz))\n",
    "        print(\"Total number of nonzero elements in test data:{v}\".format(v=test.nnz))\n",
    "    \n",
    "    # convert to CSR for faster operations\n",
    "    return valid_ratings, train.tocsr(), test.tocsr()"
   ]
  },
  {
   "cell_type": "code",
   "execution_count": 5,
   "metadata": {},
   "outputs": [
    {
     "name": "stdout",
     "output_type": "stream",
     "text": [
      "Total number of nonzero elements in original data:99999\n",
      "Total number of nonzero elements in train data:88157\n",
      "Total number of nonzero elements in test data:9795\n"
     ]
    }
   ],
   "source": [
    "valid_ratings, train, test = split_data(ratings, num_items_per_user,\n",
    "    num_users_per_item, min_num_ratings=10, p_test=0.1, verbose=True)"
   ]
  },
  {
   "cell_type": "markdown",
   "metadata": {},
   "source": [
    "### Read submission creation data"
   ]
  },
  {
   "cell_type": "code",
   "execution_count": 6,
   "metadata": {},
   "outputs": [
    {
     "name": "stdout",
     "output_type": "stream",
     "text": [
      "number of items: 10000, number of users: 1000\n"
     ]
    }
   ],
   "source": [
    "ratings_csr = ratings.tocsr()\n",
    "sample_submission = load_data('{dp}sample_submission.csv'.format(dp=DATA_PATH))\n",
    "sample_submission_csr = sample_submission.tocsr()"
   ]
  },
  {
   "cell_type": "markdown",
   "metadata": {},
   "source": [
    "# 0.2 Auxiliary functions"
   ]
  },
  {
   "cell_type": "code",
   "execution_count": 7,
   "metadata": {
    "collapsed": true
   },
   "outputs": [],
   "source": [
    "def compute_division(a, b):\n",
    "    \"\"\"Computes element by element division.\n",
    "    If x/0 returns 0.\n",
    "    \"\"\"\n",
    "    # Raises error if vectors have different lengths\n",
    "    assert(len(a) == len(b))\n",
    "    \n",
    "    # Computes division\n",
    "    res = a.copy()\n",
    "    for i in range(len(a)):\n",
    "        if b[i] == 0:\n",
    "            res[i] = 0\n",
    "        else:\n",
    "            res[i] = a[i] / b[i]\n",
    "\n",
    "    return res"
   ]
  },
  {
   "cell_type": "markdown",
   "metadata": {},
   "source": [
    "# 1 Baselines"
   ]
  },
  {
   "cell_type": "code",
   "execution_count": 8,
   "metadata": {
    "collapsed": true,
    "scrolled": true
   },
   "outputs": [],
   "source": [
    "# Baseline rating\n",
    "def baseline_rating(data):\n",
    "    \"\"\"Implements baseline method for a ratings matrix\n",
    "    using the global mean.\n",
    "    \"\"\"\n",
    "    # Compute global mean using training data\n",
    "    r_mean = data.sum() / data.getnnz()\n",
    "    \n",
    "    return r_mean\n",
    "\n",
    "\n",
    "# User or item specific effect\n",
    "def baseline_user_item_specific(data, mean, set_num=0):\n",
    "    \"\"\"Implements baseline method for a ratings matrix\n",
    "    using either the user or the item mean,\n",
    "    as indicated in parameter mean.\n",
    "    \"\"\"\n",
    "    if mean==\"user\":\n",
    "        flag = 1\n",
    "        inv_flag = 0\n",
    "    else:\n",
    "        flag = 0\n",
    "        inv_flag = 1\n",
    "\n",
    "    num = max(set_num, data.shape[flag])\n",
    "    \n",
    "    # Obtain r_demeaned (ratings minus global avg)\n",
    "    global_mean = baseline_rating(data)\n",
    "    r_demeaned = data.copy()\n",
    "    r_demeaned.data = (1.0 * r_demeaned.data) - global_mean\n",
    "    \n",
    "    # Compute means using training data\n",
    "    # get rows, columns and values for elements in r_demeaned\n",
    "    data_rcv = sp.find(r_demeaned)\n",
    "    # compute means\n",
    "    counts = np.bincount(data_rcv[flag], minlength=num)\n",
    "    sums = np.bincount(data_rcv[flag], weights=data_rcv[2], minlength=num)\n",
    "    means = compute_division(sums, counts)\n",
    "\n",
    "    return means"
   ]
  },
  {
   "cell_type": "code",
   "execution_count": 9,
   "metadata": {
    "collapsed": true
   },
   "outputs": [],
   "source": [
    "def demean_matrix(data, verbose=False):\n",
    "    \"\"\"Removes the global, user and item means from a matrix.\n",
    "    Returns the matrix and the computed means.\n",
    "    \"\"\"\n",
    "    num_items, num_users = data.shape\n",
    "    (rows, cols, vals) = sp.find(data)\n",
    "    \n",
    "    # Compute global, user and item means    \n",
    "    global_mean = baseline_rating(data)\n",
    "    item_means = baseline_user_item_specific(data, 'item')\n",
    "    user_means = baseline_user_item_specific(data, 'user')\n",
    "    \n",
    "    # Substract the baseline of each element in 'data'\n",
    "    train_vals = vals.copy()\n",
    "    train_vals = 1.0 * train_vals\n",
    "    \n",
    "    baselines = np.array([(global_mean + item_means[i] + user_means[u])\n",
    "        for (i, u) in zip(rows, cols)])\n",
    "    train_vals -= baselines\n",
    "\n",
    "    # Get matrix\n",
    "    r_demeaned = sp.csr_matrix((train_vals, (rows, cols)),\n",
    "        shape=(num_items, num_users))\n",
    "    \n",
    "    if verbose:\n",
    "        print('---------------------------------------------')\n",
    "        print('          Completed demean_matrix!           ')\n",
    "        print('---------------------------------------------')\n",
    "    \n",
    "    return r_demeaned, global_mean, user_means, item_means"
   ]
  },
  {
   "cell_type": "code",
   "execution_count": 10,
   "metadata": {
    "collapsed": true
   },
   "outputs": [],
   "source": [
    "def demean_test_matrix(data, global_mean, item_means, user_means,\n",
    "    verbose=False):\n",
    "    \"\"\"Removes the global, user and item means from a matrix.\n",
    "    Returns the matrix and the computed means.\n",
    "    \"\"\"\n",
    "    num_items, num_users = data.shape\n",
    "    (rows, cols, vals) = sp.find(data)\n",
    "    \n",
    "    # Substract the baseline of each element in 'data'\n",
    "    train_vals = vals.copy()\n",
    "    train_vals = 1.0 * train_vals\n",
    "    \n",
    "    baselines = np.array([(global_mean + item_means[i] + user_means[u])\n",
    "        for (i, u) in zip(rows, cols)])\n",
    "    train_vals -= baselines\n",
    "\n",
    "    # Get matrix\n",
    "    r_demeaned = sp.csr_matrix((train_vals, (rows, cols)),\n",
    "        shape=(num_items, num_users))\n",
    "    \n",
    "    if verbose:\n",
    "        print('---------------------------------------------')\n",
    "        print('          Completed demean_matrix!           ')\n",
    "        print('---------------------------------------------')\n",
    "    return r_demeaned"
   ]
  },
  {
   "cell_type": "markdown",
   "metadata": {},
   "source": [
    "# 2 Matrix Factorization"
   ]
  },
  {
   "cell_type": "code",
   "execution_count": 11,
   "metadata": {
    "collapsed": true
   },
   "outputs": [],
   "source": [
    "def init_MF(data, k):\n",
    "    \"\"\"Initializes parameters for Matrix Factorization.\n",
    "    Assumes 'data' matrix is already demeaned.\n",
    "    \"\"\"      \n",
    "    np.random.seed(988)\n",
    "    num_items, num_users = data.shape\n",
    "    u_features = np.random.rand(num_users, k)\n",
    "    i_features = np.random.rand(num_items, k)\n",
    "    return u_features, i_features"
   ]
  },
  {
   "cell_type": "markdown",
   "metadata": {},
   "source": [
    "Compute the cost by the method of matrix factorization."
   ]
  },
  {
   "cell_type": "code",
   "execution_count": 12,
   "metadata": {
    "collapsed": true
   },
   "outputs": [],
   "source": [
    "def compute_error(data, u_features, i_features, nz):\n",
    "    \"\"\"Compute RMSE for prediction of nonzero elements.\"\"\"\n",
    "    preds = np.array([(u_features[u,:].dot(i_features[i,:]))\n",
    "        for (i, u) in nz])\n",
    "    vals = np.array([data[i,u] for (i,u) in nz])\n",
    "    mse = calculate_mse(vals, preds)  \n",
    "    rmse = np.sqrt(mse / len(vals))\n",
    "    return rmse"
   ]
  },
  {
   "cell_type": "code",
   "execution_count": 41,
   "metadata": {},
   "outputs": [],
   "source": [
    "def compute_mf_SGD(r_demeaned, nz_train, test_r_demeaned, nz_test, k=20, gamma=0.01, gamma_dec=1.2,\n",
    "    u_lambda=0.5, i_lambda=0.5, max_iter=None, int_vals=False, verbose=False, tol=1e-5,\n",
    "    init_u_features=None, init_i_features=None):\n",
    "    \"\"\"Compute matrix factorization by SGD.\n",
    "    Both 'data' and 'test_data' should be csr sparse matrices.\n",
    "    gamma_dec should be >=1\n",
    "    \"\"\"\n",
    "\n",
    "    #assert k <= min(data.shape), \"k must be smaller than the min dimension of 'data'\"\n",
    "    if (max_iter is None):\n",
    "        steps = 50\n",
    "    else:\n",
    "        steps = max_iter\n",
    "\n",
    "    # Set seed\n",
    "    np.random.seed(988)\n",
    "    \n",
    "    rand_u_features, rand_i_features = init_MF(r_demeaned, k)\n",
    "    \n",
    "    if (init_u_features is None):\n",
    "        u_features = rand_u_features\n",
    "    else:\n",
    "        u_features = init_u_features\n",
    "        \n",
    "    if (init_i_features is None):\n",
    "        i_features = rand_i_features\n",
    "    else:\n",
    "        i_features = init_i_features\n",
    "    \n",
    "    if verbose:\n",
    "        print(\"Starting matrix factorization with SGD...\")\n",
    "\n",
    "    rmse = 0\n",
    "    for step in range(steps):\n",
    "        # shuffle the training rating indices\n",
    "        np.random.seed(988)\n",
    "        np.random.shuffle(nz_train)\n",
    "        \n",
    "        # Reduce learning rate\n",
    "        gamma /= gamma_dec\n",
    "        \n",
    "        # Update item and user features\n",
    "        for i, u in nz_train:\n",
    "            i_f = i_features[i,:]\n",
    "            u_f = u_features[u,:]\n",
    "            e = r_demeaned[i, u] - np.dot(u_f,i_f)\n",
    "            # Obtain gradient\n",
    "            i_grad = e * u_f - i_lambda * i_f\n",
    "            u_grad = e * i_f - u_lambda * u_f\n",
    "            # Update user and item features\n",
    "            i_features[i,:] += gamma * i_grad\n",
    "            u_features[u,:] += gamma * u_grad\n",
    "        \n",
    "        rmse_old = rmse\n",
    "        rmse = compute_error(r_demeaned, u_features, i_features, nz_train)\n",
    "        print(\"{} - train_RMSE: {}.\".format(step, rmse))\n",
    "\n",
    "        # evaluate the test error\n",
    "        test_rmse = compute_error(test_r_demeaned, u_features, i_features, nz_test)\n",
    "        print(\"test RMSE: {}.\".format(test_rmse))\n",
    "        \n",
    "        if(rmse_old - rmse < 0):\n",
    "            gamma_dec += .15\n",
    "            gamma /= gamma_dec\n",
    "        elif(abs(rmse_old - rmse) <= tol):\n",
    "            break\n",
    "\n",
    "    return i_features, u_features, rmse"
   ]
  },
  {
   "cell_type": "markdown",
   "metadata": {},
   "source": [
    "### Try different parameters"
   ]
  },
  {
   "cell_type": "code",
   "execution_count": 35,
   "metadata": {},
   "outputs": [],
   "source": [
    "# Demean matrix and get feature vectors\n",
    "r_demeaned, global_mean, user_means, item_means = demean_matrix(train, verbose=False)\n",
    "\n",
    "# Get non-zero elements\n",
    "nz_row, nz_col = train.nonzero()\n",
    "nz_train = list(zip(nz_row, nz_col))\n",
    "\n",
    "test_r_demeaned = demean_test_matrix(test, global_mean, item_means,\n",
    "    user_means, verbose=False)\n",
    "nz_row, nz_col = test.nonzero()\n",
    "nz_test = list(zip(nz_row, nz_col))"
   ]
  },
  {
   "cell_type": "code",
   "execution_count": null,
   "metadata": {
    "scrolled": true
   },
   "outputs": [],
   "source": [
    "results_k = {}\n",
    "i=0\n",
    "for k in range(10, 110, 10):\n",
    "    print('----------------------------')\n",
    "    print('       k={}                    '.format(k))\n",
    "    print('----------------------------')\n",
    "    i_features, u_features, rmse = compute_mf_SGD(r_demeaned, nz_train, test_r_demeaned, nz_test, k=k, int_vals=True, verbose=True)\n",
    "    results_k[i]=(k, i_features, u_features, rmse)\n",
    "    i += 1"
   ]
  },
  {
   "cell_type": "code",
   "execution_count": null,
   "metadata": {},
   "outputs": [],
   "source": [
    "results_gamma = {}\n",
    "i=0\n",
    "for gamma in np.logspace(-3, -1, 10):\n",
    "    print('----------------------------')\n",
    "    print('       gamma={}                    '.format(gamma))\n",
    "    print('----------------------------')\n",
    "    i_features, u_features, rmse = compute_mf_SGD(r_demeaned, nz_train, test_r_demeaned, nz_test, gamma=gamma, int_vals=True, verbose=True)\n",
    "    results_gamma[i]=(gamma, i_features, u_features, rmse)\n",
    "    i+=1"
   ]
  },
  {
   "cell_type": "code",
   "execution_count": null,
   "metadata": {},
   "outputs": [],
   "source": [
    "np.random.seed(988)\n",
    "results_u_lambda = {}\n",
    "i=0\n",
    "for u_lambda in np.linspace(0,2,10):\n",
    "    print('----------------------------')\n",
    "    print('       u_lambda={}                    '.format(u_lambda))\n",
    "    print('----------------------------')\n",
    "    i_features, u_features, rmse = compute_mf_SGD(r_demeaned, nz_train, test_r_demeaned, nz_test, u_lambda=u_lambda, int_vals=True, verbose=True)\n",
    "    results_u_lambda[i]=(u_lambda, i_features, u_features, rmse)\n",
    "    i+=1"
   ]
  },
  {
   "cell_type": "code",
   "execution_count": null,
   "metadata": {},
   "outputs": [],
   "source": [
    "results_i_lambda = {}\n",
    "i=0\n",
    "i_features=None\n",
    "u_features=None\n",
    "for i_lambda in np.linspace(0,2,10):\n",
    "    print('----------------------------')\n",
    "    print('       i_lambda={}                    '.format(i_lambda))\n",
    "    print('----------------------------')\n",
    "    i_features, u_features, rmse = compute_mf_SGD(r_demeaned, nz_train, test_r_demeaned,\n",
    "        nz_test, i_lambda=i_lambda, int_vals=True, verbose=True, init_i_features=i_features,\n",
    "        init_u_features=u_features)\n",
    "    results_i_lambda[i]=(i_lambda, i_features, u_features, rmse)\n",
    "    i+=1"
   ]
  },
  {
   "cell_type": "code",
   "execution_count": null,
   "metadata": {
    "collapsed": true
   },
   "outputs": [],
   "source": []
  },
  {
   "cell_type": "code",
   "execution_count": null,
   "metadata": {
    "collapsed": true
   },
   "outputs": [],
   "source": []
  },
  {
   "cell_type": "raw",
   "metadata": {},
   "source": [
    "u_lambda_center = 2.0\n",
    "i_lambda_center = 0.4\n",
    "results_lambda = {}\n",
    "results_lambda_mat = np.zeros((5,5))\n",
    "i=0\n",
    "l=0\n",
    "m=0\n",
    "i_features=None\n",
    "u_features=None\n",
    "for i_lambda in np.linspace(i_lambda_center-.2, i_lambda_center+.2, 5):\n",
    "    m=0\n",
    "    for u_lambda in np.linspace(u_lambda_center-.3, u_lambda_center+.3, 5):\n",
    "        print('----------------------------')\n",
    "        print(' i_lambda={}    u_lambda={}  '.format(i_lambda, u_lambda))\n",
    "        print('----------------------------')\n",
    "        i_features, u_features, rmse = compute_mf_SGD(r_demeaned, nz_train, test_r_demeaned,\n",
    "            nz_test, i_lambda=i_lambda, u_lambda=u_lambda, int_vals=True, verbose=True, init_i_features=i_features,\n",
    "            init_u_features=u_features)\n",
    "        results_lambda[i]=(i_lambda, u_lambda, i_features, u_features, rmse)\n",
    "        results_lambda_mat[l,m]=rmse\n",
    "        m+=1\n",
    "        i+=1\n",
    "    l+=1"
   ]
  },
  {
   "cell_type": "code",
   "execution_count": 58,
   "metadata": {},
   "outputs": [
    {
     "name": "stdout",
     "output_type": "stream",
     "text": [
      "Starting matrix factorization with SGD...\n",
      "0 - train_RMSE: 0.9319571454308242.\n",
      "test RMSE: 0.9665100526794229.\n",
      "1 - train_RMSE: 0.9312761003886793.\n",
      "test RMSE: 0.96638297428526.\n",
      "2 - train_RMSE: 0.9307966970701645.\n",
      "test RMSE: 0.9663056551165.\n",
      "3 - train_RMSE: 0.930444498826798.\n",
      "test RMSE: 0.9662435940744988.\n",
      "4 - train_RMSE: 0.9301826426210329.\n",
      "test RMSE: 0.9661981024687464.\n",
      "5 - train_RMSE: 0.9299872733334507.\n",
      "test RMSE: 0.9661662901972351.\n",
      "6 - train_RMSE: 0.9298414342627287.\n",
      "test RMSE: 0.966142948024491.\n",
      "7 - train_RMSE: 0.9297326509507978.\n",
      "test RMSE: 0.96612425520987.\n",
      "8 - train_RMSE: 0.9296515963453335.\n",
      "test RMSE: 0.9661100084477544.\n",
      "9 - train_RMSE: 0.9295912796492761.\n",
      "test RMSE: 0.9660996463479206.\n"
     ]
    },
    {
     "ename": "KeyboardInterrupt",
     "evalue": "",
     "output_type": "error",
     "traceback": [
      "\u001b[0;31m---------------------------------------------------------------------------\u001b[0m",
      "\u001b[0;31mKeyboardInterrupt\u001b[0m                         Traceback (most recent call last)",
      "\u001b[0;32m<ipython-input-58-6bc03e81bb7a>\u001b[0m in \u001b[0;36m<module>\u001b[0;34m()\u001b[0m\n\u001b[1;32m      1\u001b[0m i_features, u_features, rmse = compute_mf_SGD(r_demeaned, nz_train, test_r_demeaned,\n\u001b[1;32m      2\u001b[0m     \u001b[0mnz_test\u001b[0m\u001b[0;34m,\u001b[0m \u001b[0mi_lambda\u001b[0m\u001b[0;34m=\u001b[0m\u001b[0;36m0\u001b[0m\u001b[0;34m,\u001b[0m \u001b[0mu_lambda\u001b[0m\u001b[0;34m=\u001b[0m\u001b[0;36m0\u001b[0m\u001b[0;34m,\u001b[0m \u001b[0mint_vals\u001b[0m\u001b[0;34m=\u001b[0m\u001b[0;32mTrue\u001b[0m\u001b[0;34m,\u001b[0m \u001b[0mverbose\u001b[0m\u001b[0;34m=\u001b[0m\u001b[0;32mTrue\u001b[0m\u001b[0;34m,\u001b[0m\u001b[0;34m\u001b[0m\u001b[0m\n\u001b[0;32m----> 3\u001b[0;31m     init_i_features=i_features, init_u_features=u_features)\n\u001b[0m",
      "\u001b[0;32m<ipython-input-41-40c1f6153cd5>\u001b[0m in \u001b[0;36mcompute_mf_SGD\u001b[0;34m(r_demeaned, nz_train, test_r_demeaned, nz_test, k, gamma, gamma_dec, u_lambda, i_lambda, max_iter, int_vals, verbose, tol, init_u_features, init_i_features)\u001b[0m\n\u001b[1;32m     46\u001b[0m             \u001b[0me\u001b[0m \u001b[0;34m=\u001b[0m \u001b[0mr_demeaned\u001b[0m\u001b[0;34m[\u001b[0m\u001b[0mi\u001b[0m\u001b[0;34m,\u001b[0m \u001b[0mu\u001b[0m\u001b[0;34m]\u001b[0m \u001b[0;34m-\u001b[0m \u001b[0mnp\u001b[0m\u001b[0;34m.\u001b[0m\u001b[0mdot\u001b[0m\u001b[0;34m(\u001b[0m\u001b[0mu_f\u001b[0m\u001b[0;34m,\u001b[0m\u001b[0mi_f\u001b[0m\u001b[0;34m)\u001b[0m\u001b[0;34m\u001b[0m\u001b[0m\n\u001b[1;32m     47\u001b[0m             \u001b[0;31m# Obtain gradient\u001b[0m\u001b[0;34m\u001b[0m\u001b[0;34m\u001b[0m\u001b[0m\n\u001b[0;32m---> 48\u001b[0;31m             \u001b[0mi_grad\u001b[0m \u001b[0;34m=\u001b[0m \u001b[0me\u001b[0m \u001b[0;34m*\u001b[0m \u001b[0mu_f\u001b[0m \u001b[0;34m-\u001b[0m \u001b[0mi_lambda\u001b[0m \u001b[0;34m*\u001b[0m \u001b[0mi_f\u001b[0m\u001b[0;34m\u001b[0m\u001b[0m\n\u001b[0m\u001b[1;32m     49\u001b[0m             \u001b[0mu_grad\u001b[0m \u001b[0;34m=\u001b[0m \u001b[0me\u001b[0m \u001b[0;34m*\u001b[0m \u001b[0mi_f\u001b[0m \u001b[0;34m-\u001b[0m \u001b[0mu_lambda\u001b[0m \u001b[0;34m*\u001b[0m \u001b[0mu_f\u001b[0m\u001b[0;34m\u001b[0m\u001b[0m\n\u001b[1;32m     50\u001b[0m             \u001b[0;31m# Update user and item features\u001b[0m\u001b[0;34m\u001b[0m\u001b[0;34m\u001b[0m\u001b[0m\n",
      "\u001b[0;31mKeyboardInterrupt\u001b[0m: "
     ]
    }
   ],
   "source": [
    "i_features, u_features, rmse = compute_mf_SGD(r_demeaned, nz_train, test_r_demeaned,\n",
    "    nz_test, i_lambda=0, u_lambda=0, int_vals=True, verbose=True,\n",
    "    init_i_features=i_features, init_u_features=u_features)"
   ]
  },
  {
   "cell_type": "code",
   "execution_count": 61,
   "metadata": {},
   "outputs": [
    {
     "name": "stdout",
     "output_type": "stream",
     "text": [
      "Starting matrix factorization with SGD...\n",
      "0 - train_RMSE: 0.9340167954020437.\n",
      "test RMSE: 0.9669795994027292.\n",
      "1 - train_RMSE: 0.9340276008467745.\n",
      "test RMSE: 0.9669488820057074.\n"
     ]
    },
    {
     "ename": "KeyboardInterrupt",
     "evalue": "",
     "output_type": "error",
     "traceback": [
      "\u001b[0;31m---------------------------------------------------------------------------\u001b[0m",
      "\u001b[0;31mKeyboardInterrupt\u001b[0m                         Traceback (most recent call last)",
      "\u001b[0;32m<ipython-input-61-8f357e49a2f9>\u001b[0m in \u001b[0;36m<module>\u001b[0;34m()\u001b[0m\n\u001b[1;32m      2\u001b[0m     \u001b[0mnz_test\u001b[0m\u001b[0;34m,\u001b[0m \u001b[0mi_lambda\u001b[0m\u001b[0;34m=\u001b[0m\u001b[0;36m0.2\u001b[0m\u001b[0;34m,\u001b[0m \u001b[0mu_lambda\u001b[0m\u001b[0;34m=\u001b[0m\u001b[0;36m2.0\u001b[0m\u001b[0;34m,\u001b[0m \u001b[0mint_vals\u001b[0m\u001b[0;34m=\u001b[0m\u001b[0;32mTrue\u001b[0m\u001b[0;34m,\u001b[0m \u001b[0mverbose\u001b[0m\u001b[0;34m=\u001b[0m\u001b[0;32mTrue\u001b[0m\u001b[0;34m,\u001b[0m\u001b[0;34m\u001b[0m\u001b[0m\n\u001b[1;32m      3\u001b[0m     \u001b[0mgamma\u001b[0m\u001b[0;34m=\u001b[0m\u001b[0;36m.01\u001b[0m\u001b[0;34m,\u001b[0m \u001b[0mgamma_dec\u001b[0m\u001b[0;34m=\u001b[0m\u001b[0;36m1.2\u001b[0m\u001b[0;34m,\u001b[0m\u001b[0;34m\u001b[0m\u001b[0m\n\u001b[0;32m----> 4\u001b[0;31m     init_i_features=i_features, init_u_features=u_features)\n\u001b[0m",
      "\u001b[0;32m<ipython-input-41-40c1f6153cd5>\u001b[0m in \u001b[0;36mcompute_mf_SGD\u001b[0;34m(r_demeaned, nz_train, test_r_demeaned, nz_test, k, gamma, gamma_dec, u_lambda, i_lambda, max_iter, int_vals, verbose, tol, init_u_features, init_i_features)\u001b[0m\n\u001b[1;32m     44\u001b[0m             \u001b[0mi_f\u001b[0m \u001b[0;34m=\u001b[0m \u001b[0mi_features\u001b[0m\u001b[0;34m[\u001b[0m\u001b[0mi\u001b[0m\u001b[0;34m,\u001b[0m\u001b[0;34m:\u001b[0m\u001b[0;34m]\u001b[0m\u001b[0;34m\u001b[0m\u001b[0m\n\u001b[1;32m     45\u001b[0m             \u001b[0mu_f\u001b[0m \u001b[0;34m=\u001b[0m \u001b[0mu_features\u001b[0m\u001b[0;34m[\u001b[0m\u001b[0mu\u001b[0m\u001b[0;34m,\u001b[0m\u001b[0;34m:\u001b[0m\u001b[0;34m]\u001b[0m\u001b[0;34m\u001b[0m\u001b[0m\n\u001b[0;32m---> 46\u001b[0;31m             \u001b[0me\u001b[0m \u001b[0;34m=\u001b[0m \u001b[0mr_demeaned\u001b[0m\u001b[0;34m[\u001b[0m\u001b[0mi\u001b[0m\u001b[0;34m,\u001b[0m \u001b[0mu\u001b[0m\u001b[0;34m]\u001b[0m \u001b[0;34m-\u001b[0m \u001b[0mnp\u001b[0m\u001b[0;34m.\u001b[0m\u001b[0mdot\u001b[0m\u001b[0;34m(\u001b[0m\u001b[0mu_f\u001b[0m\u001b[0;34m,\u001b[0m\u001b[0mi_f\u001b[0m\u001b[0;34m)\u001b[0m\u001b[0;34m\u001b[0m\u001b[0m\n\u001b[0m\u001b[1;32m     47\u001b[0m             \u001b[0;31m# Obtain gradient\u001b[0m\u001b[0;34m\u001b[0m\u001b[0;34m\u001b[0m\u001b[0m\n\u001b[1;32m     48\u001b[0m             \u001b[0mi_grad\u001b[0m \u001b[0;34m=\u001b[0m \u001b[0me\u001b[0m \u001b[0;34m*\u001b[0m \u001b[0mu_f\u001b[0m \u001b[0;34m-\u001b[0m \u001b[0mi_lambda\u001b[0m \u001b[0;34m*\u001b[0m \u001b[0mi_f\u001b[0m\u001b[0;34m\u001b[0m\u001b[0m\n",
      "\u001b[0;32m~/anaconda3/lib/python3.6/site-packages/scipy/sparse/csr.py\u001b[0m in \u001b[0;36m__getitem__\u001b[0;34m(self, key)\u001b[0m\n\u001b[1;32m    287\u001b[0m             \u001b[0;31m# [i, j]\u001b[0m\u001b[0;34m\u001b[0m\u001b[0;34m\u001b[0m\u001b[0m\n\u001b[1;32m    288\u001b[0m             \u001b[0;32mif\u001b[0m \u001b[0misintlike\u001b[0m\u001b[0;34m(\u001b[0m\u001b[0mcol\u001b[0m\u001b[0;34m)\u001b[0m\u001b[0;34m:\u001b[0m\u001b[0;34m\u001b[0m\u001b[0m\n\u001b[0;32m--> 289\u001b[0;31m                 \u001b[0;32mreturn\u001b[0m \u001b[0mself\u001b[0m\u001b[0;34m.\u001b[0m\u001b[0m_get_single_element\u001b[0m\u001b[0;34m(\u001b[0m\u001b[0mrow\u001b[0m\u001b[0;34m,\u001b[0m \u001b[0mcol\u001b[0m\u001b[0;34m)\u001b[0m\u001b[0;34m\u001b[0m\u001b[0m\n\u001b[0m\u001b[1;32m    290\u001b[0m             \u001b[0;31m# [i, 1:2]\u001b[0m\u001b[0;34m\u001b[0m\u001b[0;34m\u001b[0m\u001b[0m\n\u001b[1;32m    291\u001b[0m             \u001b[0;32melif\u001b[0m \u001b[0misinstance\u001b[0m\u001b[0;34m(\u001b[0m\u001b[0mcol\u001b[0m\u001b[0;34m,\u001b[0m \u001b[0mslice\u001b[0m\u001b[0;34m)\u001b[0m\u001b[0;34m:\u001b[0m\u001b[0;34m\u001b[0m\u001b[0m\n",
      "\u001b[0;32m~/anaconda3/lib/python3.6/site-packages/scipy/sparse/compressed.py\u001b[0m in \u001b[0;36m_get_single_element\u001b[0;34m(self, row, col)\u001b[0m\n\u001b[1;32m    883\u001b[0m             \u001b[0;32mraise\u001b[0m \u001b[0mIndexError\u001b[0m\u001b[0;34m(\u001b[0m\u001b[0;34m\"index out of bounds\"\u001b[0m\u001b[0;34m)\u001b[0m\u001b[0;34m\u001b[0m\u001b[0m\n\u001b[1;32m    884\u001b[0m \u001b[0;34m\u001b[0m\u001b[0m\n\u001b[0;32m--> 885\u001b[0;31m         \u001b[0mmajor_index\u001b[0m\u001b[0;34m,\u001b[0m \u001b[0mminor_index\u001b[0m \u001b[0;34m=\u001b[0m \u001b[0mself\u001b[0m\u001b[0;34m.\u001b[0m\u001b[0m_swap\u001b[0m\u001b[0;34m(\u001b[0m\u001b[0;34m(\u001b[0m\u001b[0mrow\u001b[0m\u001b[0;34m,\u001b[0m\u001b[0mcol\u001b[0m\u001b[0;34m)\u001b[0m\u001b[0;34m)\u001b[0m\u001b[0;34m\u001b[0m\u001b[0m\n\u001b[0m\u001b[1;32m    886\u001b[0m \u001b[0;34m\u001b[0m\u001b[0m\n\u001b[1;32m    887\u001b[0m         \u001b[0;31m# TODO make use of sorted indices (if present)\u001b[0m\u001b[0;34m\u001b[0m\u001b[0;34m\u001b[0m\u001b[0m\n",
      "\u001b[0;32m~/anaconda3/lib/python3.6/site-packages/scipy/sparse/csr.py\u001b[0m in \u001b[0;36m_swap\u001b[0;34m(self, x)\u001b[0m\n\u001b[1;32m    229\u001b[0m     \u001b[0;31m# these functions are used by the parent class (_cs_matrix)\u001b[0m\u001b[0;34m\u001b[0m\u001b[0;34m\u001b[0m\u001b[0m\n\u001b[1;32m    230\u001b[0m     \u001b[0;31m# to remove redudancy between csc_matrix and csr_matrix\u001b[0m\u001b[0;34m\u001b[0m\u001b[0;34m\u001b[0m\u001b[0m\n\u001b[0;32m--> 231\u001b[0;31m     \u001b[0;32mdef\u001b[0m \u001b[0m_swap\u001b[0m\u001b[0;34m(\u001b[0m\u001b[0mself\u001b[0m\u001b[0;34m,\u001b[0m\u001b[0mx\u001b[0m\u001b[0;34m)\u001b[0m\u001b[0;34m:\u001b[0m\u001b[0;34m\u001b[0m\u001b[0m\n\u001b[0m\u001b[1;32m    232\u001b[0m         \"\"\"swap the members of x if this is a column-oriented matrix\n\u001b[1;32m    233\u001b[0m         \"\"\"\n",
      "\u001b[0;31mKeyboardInterrupt\u001b[0m: "
     ]
    }
   ],
   "source": [
    "i_features, u_features, rmse = compute_mf_SGD(r_demeaned, nz_train, test_r_demeaned,\n",
    "    nz_test, i_lambda=0.2, u_lambda=2.0, int_vals=True, verbose=True,\n",
    "    gamma=.01, gamma_dec=1.2,\n",
    "    init_i_features=i_features, init_u_features=u_features)"
   ]
  },
  {
   "cell_type": "code",
   "execution_count": 67,
   "metadata": {},
   "outputs": [
    {
     "name": "stdout",
     "output_type": "stream",
     "text": [
      "Starting matrix factorization with SGD...\n",
      "0 - train_RMSE: 0.9343196766290522.\n",
      "test RMSE: 0.967031068535483.\n",
      "1 - train_RMSE: 0.9343195637013358.\n",
      "test RMSE: 0.9670315909074707.\n"
     ]
    }
   ],
   "source": [
    "i_features, u_features, rmse = compute_mf_SGD(r_demeaned, nz_train, test_r_demeaned,\n",
    "    nz_test, i_lambda=0.2, u_lambda=2.0, int_vals=True, verbose=True,\n",
    "    gamma=.3, gamma_dec=1.9,\n",
    "    init_i_features=i_features, init_u_features=u_features)"
   ]
  },
  {
   "cell_type": "code",
   "execution_count": null,
   "metadata": {},
   "outputs": [],
   "source": [
    "i_features, u_features, rmse = compute_mf_SGD(r_demeaned, nz_train, test_r_demeaned,\n",
    "    nz_test, i_lambda=0.4, u_lambda=2.0, int_vals=True, verbose=True,\n",
    "    init_i_features=i_features, init_u_features=u_features)"
   ]
  },
  {
   "cell_type": "code",
   "execution_count": null,
   "metadata": {
    "collapsed": true
   },
   "outputs": [],
   "source": [
    "i_features, u_features, rmse = compute_mf_SGD(r_demeaned, nz_train, test_r_demeaned,\n",
    "    nz_test, i_lambda=0.6, u_lambda=2.0, int_vals=True, verbose=True,\n",
    "    init_i_features=i_features, init_u_features=u_features)"
   ]
  },
  {
   "cell_type": "code",
   "execution_count": null,
   "metadata": {
    "collapsed": true
   },
   "outputs": [],
   "source": []
  },
  {
   "cell_type": "markdown",
   "metadata": {},
   "source": [
    "### Generate a submission file"
   ]
  },
  {
   "cell_type": "code",
   "execution_count": null,
   "metadata": {
    "collapsed": true
   },
   "outputs": [],
   "source": [
    "# Demean matrix and get feature vectors\n",
    "r_demeaned, global_mean, user_means, item_means = demean_matrix(ratings_csr, verbose=False)\n",
    "\n",
    "# Get non-zero elements\n",
    "nz_row, nz_col = ratings_csr.nonzero()\n",
    "nz_train = list(zip(nz_row, nz_col))"
   ]
  },
  {
   "cell_type": "code",
   "execution_count": null,
   "metadata": {
    "collapsed": true
   },
   "outputs": [],
   "source": [
    "def compute_mf_SGD(r_demeaned, nz_train, k=20, gamma=0.01, gamma_dec=1.2,\n",
    "    u_lambda=0.5, i_lambda=0.5, max_iter=None, int_vals=False, verbose=False, tol=1e-6):\n",
    "    \"\"\"Compute matrix factorization by SGD.\n",
    "    'data' should be a csr sparse matrices.\n",
    "    gamma_dec should be >=1\n",
    "    \"\"\"\n",
    "\n",
    "    #assert k <= min(data.shape), \"k must be smaller than the min dimension of 'data'\"\n",
    "    if (max_iter is None):\n",
    "        steps = 50\n",
    "    else:\n",
    "        steps = max_iter\n",
    "\n",
    "    # Set seed\n",
    "    np.random.seed(988)\n",
    "\n",
    "    u_features, i_features = init_MF(r_demeaned, k)\n",
    "\n",
    "    if verbose:\n",
    "        print(\"Starting matrix factorization with SGD...\")\n",
    "\n",
    "    rmse = 0\n",
    "    for step in range(steps):\n",
    "        # shuffle the training rating indices\n",
    "        np.random.shuffle(nz_train)\n",
    "        \n",
    "        # Reduce learning rate\n",
    "        gamma /= gamma_dec\n",
    "        \n",
    "        # Update item and user features\n",
    "        for i, u in nz_train:\n",
    "            i_f = i_features[i,:]\n",
    "            u_f = u_features[u,:]\n",
    "            e = r_demeaned[i, u] - np.dot(u_f,i_f)\n",
    "            # Obtain gradient\n",
    "            i_grad = e * u_f - i_lambda * i_f\n",
    "            u_grad = e * i_f - u_lambda * u_f\n",
    "            # Update user and item features\n",
    "            i_features[i,:] += gamma * i_grad\n",
    "            u_features[u,:] += gamma * u_grad\n",
    "        \n",
    "        rmse_old = rmse\n",
    "        rmse = compute_error(r_demeaned, u_features, i_features, nz_train)\n",
    "        print(\"{} - train_RMSE: {}.\".format(step, rmse))\n",
    "        \n",
    "        if(abs(rmse_old - rmse) <= tol):\n",
    "            break\n",
    "\n",
    "    return i_features, u_features"
   ]
  },
  {
   "cell_type": "code",
   "execution_count": null,
   "metadata": {},
   "outputs": [],
   "source": [
    "i_features, u_features = compute_mf_SGD(r_demeaned, nz_train, int_vals=False, verbose=True)"
   ]
  },
  {
   "cell_type": "code",
   "execution_count": null,
   "metadata": {
    "collapsed": true
   },
   "outputs": [],
   "source": [
    "(test_rows, test_cols, test_vals) = sp.find(sample_submission_csr)"
   ]
  },
  {
   "cell_type": "code",
   "execution_count": null,
   "metadata": {
    "collapsed": true
   },
   "outputs": [],
   "source": [
    "with open('{dp}{fn}.csv'.format(dp=PREDICTION_PATH, fn='test_rnd'), 'w') as csvfile:\n",
    "    fieldnames = ['Id', 'Prediction']\n",
    "    writer = csv.DictWriter(csvfile, delimiter=\",\", fieldnames=fieldnames)\n",
    "    writer.writeheader()\n",
    "    for (i, u) in zip(test_rows, test_cols):\n",
    "        interaction = np.array([(u_features[u,:].dot(i_features[i,:]))\n",
    "        baseline = global_mean + user_means[u] + item_means[i]\n",
    "        pred_i_u = interaction + baseline\n",
    "        writer.writerow({'Id':'r{r}_c{c}'.format(r=i+1,c=u+1),'Prediction':pred_i_u})\n"
   ]
  },
  {
   "cell_type": "code",
   "execution_count": null,
   "metadata": {
    "collapsed": true
   },
   "outputs": [],
   "source": []
  }
 ],
 "metadata": {
  "kernelspec": {
   "display_name": "Python 3",
   "language": "python",
   "name": "python3"
  },
  "language_info": {
   "codemirror_mode": {
    "name": "ipython",
    "version": 3
   },
   "file_extension": ".py",
   "mimetype": "text/x-python",
   "name": "python",
   "nbconvert_exporter": "python",
   "pygments_lexer": "ipython3",
   "version": "3.6.3"
  }
 },
 "nbformat": 4,
 "nbformat_minor": 1
}
