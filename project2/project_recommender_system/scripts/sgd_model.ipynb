{
 "cells": [
  {
   "cell_type": "code",
   "execution_count": 1,
   "metadata": {},
   "outputs": [],
   "source": [
    "import numpy as np\n",
    "import scipy\n",
    "import scipy.io\n",
    "import scipy.sparse as sp\n",
    "import csv\n",
    "\n",
    "import matplotlib.pyplot as plt\n",
    "import seaborn as sns\n",
    "sns.set_style(\"whitegrid\")\n",
    "\n",
    "%load_ext autoreload\n",
    "%autoreload 2\n",
    "%matplotlib inline\n",
    "\n",
    "from helpers import calculate_mse"
   ]
  },
  {
   "cell_type": "markdown",
   "metadata": {},
   "source": [
    "# 0.1 Load and prepare data"
   ]
  },
  {
   "cell_type": "markdown",
   "metadata": {},
   "source": [
    "### Training and testing data"
   ]
  },
  {
   "cell_type": "markdown",
   "metadata": {},
   "source": [
    "#### Load the Data\n",
    "`ratings` is a sparse matrix in the shape of (num_items, num_users)"
   ]
  },
  {
   "cell_type": "code",
   "execution_count": 2,
   "metadata": {},
   "outputs": [
    {
     "name": "stdout",
     "output_type": "stream",
     "text": [
      "number of items: 10000, number of users: 1000\n"
     ]
    }
   ],
   "source": [
    "from helpers import load_data, preprocess_data\n",
    "\n",
    "DATA_PATH = '../data/'\n",
    "PREDICTION_PATH = '../data/predictions/'\n",
    "ratings = load_data('{dp}data_train.csv'.format(dp=DATA_PATH))\n",
    "#ratings = load_data('{dp}movielens100k.csv'.format(dp=DATA_PATH))"
   ]
  },
  {
   "cell_type": "markdown",
   "metadata": {},
   "source": [
    "#### Plot the number of ratings per movie and user"
   ]
  },
  {
   "cell_type": "code",
   "execution_count": 3,
   "metadata": {
    "scrolled": true
   },
   "outputs": [
    {
     "data": {
      "image/png": "[encoded data removed]",
      "text/plain": [
       "<matplotlib.figure.Figure at 0x7fe4e863e748>"
      ]
     },
     "metadata": {},
     "output_type": "display_data"
    },
    {
     "name": "stdout",
     "output_type": "stream",
     "text": [
      "min # of items per user = 8, min # of users per item = 3.\n"
     ]
    }
   ],
   "source": [
    "from plots import plot_raw_data\n",
    "\n",
    "num_items_per_user, num_users_per_item = plot_raw_data(ratings)\n",
    "\n",
    "print(\"min # of items per user = {}, min # of users per item = {}.\".format(\n",
    "        min(num_items_per_user), min(num_users_per_item)))"
   ]
  },
  {
   "cell_type": "markdown",
   "metadata": {},
   "source": [
    "#### Split the data into a train and test set"
   ]
  },
  {
   "cell_type": "code",
   "execution_count": 4,
   "metadata": {},
   "outputs": [],
   "source": [
    "def split_data(ratings, num_items_per_user, num_users_per_item,\n",
    "               min_num_ratings, p_test=0.1, verbose=False):\n",
    "    \"\"\"split the ratings to training data and test data.\n",
    "    Args:\n",
    "        min_num_ratings: \n",
    "            all users and items we keep must have at least min_num_ratings per user and per item. \n",
    "    \"\"\"\n",
    "    # set seed\n",
    "    np.random.seed(988)\n",
    "    \n",
    "    # select user and item based on the condition.\n",
    "    valid_users = np.where(num_items_per_user >= min_num_ratings)[0]\n",
    "    valid_items = np.where(num_users_per_item >= min_num_ratings)[0]\n",
    "    valid_ratings = ratings[valid_items, :][:, valid_users]\n",
    "    \n",
    "    # LIL is a convenient format for constructing sparse matrices\n",
    "    train = sp.lil_matrix(valid_ratings.shape)\n",
    "    test = sp.lil_matrix(valid_ratings.shape)\n",
    "    \n",
    "    valid_ratings_i, valid_ratings_u, valid_ratings_v = sp.find(valid_ratings)\n",
    "    valid_ratings_p_idx = np.random.permutation(range(len(valid_ratings_i)))\n",
    "    \n",
    "    n_test = int(p_test*len(valid_ratings_i))\n",
    "    \n",
    "    for idx in valid_ratings_p_idx[:n_test]:\n",
    "        test[valid_ratings_i[idx], valid_ratings_u[idx]] = valid_ratings_v[idx]\n",
    "        \n",
    "    for idx in valid_ratings_p_idx[n_test:]:\n",
    "        train[valid_ratings_i[idx], valid_ratings_u[idx]] = valid_ratings_v[idx]\n",
    "\n",
    "    if verbose:\n",
    "        print(\"Total number of nonzero elements in original data:{v}\".format(v=ratings.nnz))\n",
    "        print(\"Total number of nonzero elements in train data:{v}\".format(v=train.nnz))\n",
    "        print(\"Total number of nonzero elements in test data:{v}\".format(v=test.nnz))\n",
    "    \n",
    "    # convert to CSR for faster operations\n",
    "    return valid_ratings, train.tocsr(), test.tocsr()"
   ]
  },
  {
   "cell_type": "code",
   "execution_count": 5,
   "metadata": {},
   "outputs": [
    {
     "name": "stdout",
     "output_type": "stream",
     "text": [
      "Total number of nonzero elements in original data:1176952\n",
      "Total number of nonzero elements in train data:1055804\n",
      "Total number of nonzero elements in test data:117311\n"
     ]
    }
   ],
   "source": [
    "valid_ratings, train, test = split_data(ratings, num_items_per_user,\n",
    "    num_users_per_item, min_num_ratings=25, p_test=0.1, verbose=True)"
   ]
  },
  {
   "cell_type": "markdown",
   "metadata": {},
   "source": [
    "### Read submission creation data"
   ]
  },
  {
   "cell_type": "code",
   "execution_count": 6,
   "metadata": {},
   "outputs": [
    {
     "name": "stdout",
     "output_type": "stream",
     "text": [
      "number of items: 10000, number of users: 1000\n"
     ]
    }
   ],
   "source": [
    "ratings_csr = ratings.tocsr()\n",
    "sample_submission = load_data('{dp}sample_submission.csv'.format(dp=DATA_PATH))\n",
    "sample_submission_csr = sample_submission.tocsr()"
   ]
  },
  {
   "cell_type": "markdown",
   "metadata": {},
   "source": [
    "# 0.2 Auxiliary functions"
   ]
  },
  {
   "cell_type": "code",
   "execution_count": 7,
   "metadata": {},
   "outputs": [],
   "source": [
    "def compute_division(a, b):\n",
    "    \"\"\"Computes element by element division.\n",
    "    If x/0 returns 0.\n",
    "    \"\"\"\n",
    "    # Raises error if vectors have different lengths\n",
    "    assert(len(a) == len(b))\n",
    "    \n",
    "    # Computes division\n",
    "    res = a.copy()\n",
    "    for i in range(len(a)):\n",
    "        if b[i] == 0:\n",
    "            res[i] = 0\n",
    "        else:\n",
    "            res[i] = a[i] / b[i]\n",
    "\n",
    "    return res"
   ]
  },
  {
   "cell_type": "markdown",
   "metadata": {},
   "source": [
    "# 1 Baselines"
   ]
  },
  {
   "cell_type": "code",
   "execution_count": 8,
   "metadata": {
    "scrolled": true
   },
   "outputs": [],
   "source": [
    "# Baseline rating\n",
    "def baseline_rating(data):\n",
    "    \"\"\"Implements baseline method for a ratings matrix\n",
    "    using the global mean.\n",
    "    \"\"\"\n",
    "    # Compute global mean using training data\n",
    "    r_mean = data.sum() / data.getnnz()\n",
    "    \n",
    "    return r_mean\n",
    "\n",
    "\n",
    "# User or item specific effect\n",
    "def baseline_user_item_specific(data, mean, set_num=0):\n",
    "    \"\"\"Implements baseline method for a ratings matrix\n",
    "    using either the user or the item mean,\n",
    "    as indicated in parameter mean.\n",
    "    \"\"\"\n",
    "    if mean==\"user\":\n",
    "        flag = 1\n",
    "        inv_flag = 0\n",
    "    else:\n",
    "        flag = 0\n",
    "        inv_flag = 1\n",
    "\n",
    "    num = max(set_num, data.shape[flag])\n",
    "    \n",
    "    # Obtain r_demeaned (ratings minus global avg)\n",
    "    global_mean = baseline_rating(data)\n",
    "    r_demeaned = data.copy()\n",
    "    r_demeaned.data = (1.0 * r_demeaned.data) - global_mean\n",
    "    \n",
    "    # Compute means using training data\n",
    "    # get rows, columns and values for elements in r_demeaned\n",
    "    data_rcv = sp.find(r_demeaned)\n",
    "    # compute means\n",
    "    counts = np.bincount(data_rcv[flag], minlength=num)\n",
    "    sums = np.bincount(data_rcv[flag], weights=data_rcv[2], minlength=num)\n",
    "    means = compute_division(sums, counts)\n",
    "\n",
    "    return means"
   ]
  },
  {
   "cell_type": "code",
   "execution_count": 9,
   "metadata": {},
   "outputs": [],
   "source": [
    "def demean_matrix(data, verbose=False):\n",
    "    \"\"\"Removes the global, user and item means from a matrix.\n",
    "    Returns the matrix and the computed means.\n",
    "    \"\"\"\n",
    "    num_items, num_users = data.shape\n",
    "    (rows, cols, vals) = sp.find(data)\n",
    "    \n",
    "    # Compute global, user and item means    \n",
    "    global_mean = baseline_rating(data)\n",
    "    item_means = baseline_user_item_specific(data, 'item')\n",
    "    user_means = baseline_user_item_specific(data, 'user')\n",
    "    \n",
    "    # Substract the baseline of each element in 'data'\n",
    "    train_vals = vals.copy()\n",
    "    train_vals = 1.0 * train_vals\n",
    "    \n",
    "    baselines = np.array([(global_mean + item_means[i] + user_means[u])\n",
    "        for (i, u) in zip(rows, cols)])\n",
    "    train_vals -= baselines\n",
    "\n",
    "    # Get matrix\n",
    "    r_demeaned = sp.csr_matrix((train_vals, (rows, cols)),\n",
    "        shape=(num_items, num_users))\n",
    "    \n",
    "    if verbose:\n",
    "        print('---------------------------------------------')\n",
    "        print('          Completed demean_matrix!           ')\n",
    "        print('---------------------------------------------')\n",
    "    \n",
    "    return r_demeaned, global_mean, user_means, item_means"
   ]
  },
  {
   "cell_type": "code",
   "execution_count": 10,
   "metadata": {},
   "outputs": [],
   "source": [
    "def demean_test_matrix(data, global_mean, item_means, user_means,\n",
    "    verbose=False):\n",
    "    \"\"\"Removes the global, user and item means from a matrix.\n",
    "    Returns the matrix and the computed means.\n",
    "    \"\"\"\n",
    "    num_items, num_users = data.shape\n",
    "    (rows, cols, vals) = sp.find(data)\n",
    "    \n",
    "    # Substract the baseline of each element in 'data'\n",
    "    train_vals = vals.copy()\n",
    "    train_vals = 1.0 * train_vals\n",
    "    \n",
    "    baselines = np.array([(global_mean + item_means[i] + user_means[u])\n",
    "        for (i, u) in zip(rows, cols)])\n",
    "    train_vals -= baselines\n",
    "\n",
    "    # Get matrix\n",
    "    r_demeaned = sp.csr_matrix((train_vals, (rows, cols)),\n",
    "        shape=(num_items, num_users))\n",
    "    \n",
    "    if verbose:\n",
    "        print('---------------------------------------------')\n",
    "        print('          Completed demean_matrix!           ')\n",
    "        print('---------------------------------------------')\n",
    "    return r_demeaned"
   ]
  },
  {
   "cell_type": "markdown",
   "metadata": {},
   "source": [
    "# 2 Matrix Factorization"
   ]
  },
  {
   "cell_type": "code",
   "execution_count": 11,
   "metadata": {},
   "outputs": [],
   "source": [
    "def init_MF(data, k):\n",
    "    \"\"\"Initializes parameters for Matrix Factorization.\n",
    "    Assumes 'data' matrix is already demeaned.\n",
    "    \"\"\"      \n",
    "    np.random.seed(988)\n",
    "    num_items, num_users = data.shape\n",
    "    u_features = np.random.rand(num_users, k)\n",
    "    i_features = np.random.rand(num_items, k)\n",
    "    return u_features, i_features"
   ]
  },
  {
   "cell_type": "markdown",
   "metadata": {},
   "source": [
    "Compute the cost by the method of matrix factorization."
   ]
  },
  {
   "cell_type": "code",
   "execution_count": 12,
   "metadata": {},
   "outputs": [],
   "source": [
    "def compute_error(data, u_features, i_features, nz):\n",
    "    \"\"\"Compute RMSE for prediction of nonzero elements.\"\"\"\n",
    "    preds = np.array([(u_features[u,:].dot(i_features[i,:]))\n",
    "        for (i, u) in nz])\n",
    "    vals = np.array([data[i,u] for (i,u) in nz])\n",
    "    mse = calculate_mse(vals, preds)  \n",
    "    rmse = np.sqrt(mse / len(vals))\n",
    "    return rmse"
   ]
  },
  {
   "cell_type": "code",
   "execution_count": 76,
   "metadata": {},
   "outputs": [],
   "source": [
    "def compute_mf_SGD(r_demeaned, nz_train, test_r_demeaned, nz_test, k=20, gamma=0.01, gamma_dec=1.2,\n",
    "    u_lambda=0.5, i_lambda=0.5, max_iter=None, verbose=False, tol=5e-6,\n",
    "    init_u_features=None, init_i_features=None):\n",
    "    \"\"\"Compute matrix factorization by SGD.\n",
    "    Both 'data' and 'test_data' should be csr sparse matrices.\n",
    "    gamma_dec should be >1\n",
    "    \"\"\"\n",
    "\n",
    "    #assert k <= min(data.shape), \"k must be smaller than the min dimension of 'data'\"\n",
    "    if (max_iter is None):\n",
    "        steps = 20\n",
    "    else:\n",
    "        steps = max_iter\n",
    "\n",
    "    # Set seed\n",
    "    np.random.seed(988)\n",
    "    \n",
    "    rand_u_features, rand_i_features = init_MF(r_demeaned, k)\n",
    "    \n",
    "    if (init_u_features is None):\n",
    "        u_features = rand_u_features\n",
    "    else:\n",
    "        u_features = init_u_features\n",
    "        \n",
    "    if (init_i_features is None):\n",
    "        i_features = rand_i_features\n",
    "    else:\n",
    "        i_features = init_i_features\n",
    "\n",
    "    rmse_tr = 90\n",
    "    \n",
    "    for step in range(steps):\n",
    "        # shuffle the training rating indices\n",
    "        #np.random.shuffle(nz_train)\n",
    "        \n",
    "        # Update item and user features\n",
    "        for i, u in nz_train:\n",
    "            i_f = i_features[i,:]\n",
    "            u_f = u_features[u,:]\n",
    "            e = r_demeaned[i, u] - np.dot(u_f,i_f)\n",
    "            # Obtain gradient\n",
    "            i_grad = e * u_f - i_lambda * i_f\n",
    "            u_grad = e * i_f - u_lambda * u_f\n",
    "            # Update user and item features\n",
    "            i_features[i,:] += gamma * i_grad\n",
    "            u_features[u,:] += gamma * u_grad\n",
    "        \n",
    "        # Reduce learning rate\n",
    "        gamma /= gamma_dec    \n",
    "    \n",
    "        rmse_tr_old = rmse_tr\n",
    "        rmse_tr = compute_error(r_demeaned, u_features, i_features, nz_train)\n",
    "        print(\"{} - train_RMSE: {}.\".format(step, rmse_tr))\n",
    "\n",
    "        # evaluate the test error\n",
    "        np.random.shuffle(nz_test)\n",
    "        rmse_te = compute_error(test_r_demeaned, u_features, i_features, nz_test)\n",
    "        print(\"test RMSE: {}.\".format(rmse_te))\n",
    "    \n",
    "        if((rmse_tr - rmse_tr_old) > 4*tol):\n",
    "            print(\"Whoops!\")\n",
    "            break\n",
    "        if(abs(rmse_tr_old - rmse_tr) < tol):\n",
    "            break\n",
    "\n",
    "    return i_features, u_features, rmse_tr, rmse_te"
   ]
  },
  {
   "cell_type": "markdown",
   "metadata": {},
   "source": [
    "### Try different parameters"
   ]
  },
  {
   "cell_type": "code",
   "execution_count": 54,
   "metadata": {},
   "outputs": [],
   "source": [
    "# Demean matrix and get feature vectors\n",
    "r_demeaned, global_mean, user_means, item_means = demean_matrix(train, verbose=False)\n",
    "\n",
    "# Get non-zero elements\n",
    "nz_row, nz_col = train.nonzero()\n",
    "nz_train = list(zip(nz_row, nz_col))\n",
    "\n",
    "test_r_demeaned = demean_test_matrix(test, global_mean, item_means,\n",
    "    user_means, verbose=False)\n",
    "\n",
    "nz_row, nz_col = test.nonzero()\n",
    "nz_test = list(zip(nz_row, nz_col))"
   ]
  },
  {
   "cell_type": "raw",
   "metadata": {},
   "source": [
    "parameters = {'k':np.linspace(20,120,10), 'u_lambda':np.linspace(.2,2,10), 'i_lambda':np.linspace(0.2,1.5,10)}\n",
    "gamma_combs = {'gamma':np.logspace(-1,-3,10), 'gamma_dec':np.linspace(1.1,1.8,10)}\n",
    "\n",
    "results_dict = {}\n",
    "et=0\n",
    "i_f = None\n",
    "u_f = None\n",
    "np.random.seed(60)\n",
    "\n",
    "for execution in range(20):\n",
    "    i_f = None\n",
    "    u_f = None\n",
    "    k = int(np.random.choice(parameters['k']))\n",
    "    u_lambda = np.random.choice(parameters['u_lambda'])\n",
    "    i_lambda = np.random.choice(parameters['i_lambda'])\n",
    "\n",
    "    for trials in range(5):\n",
    "        gamma = gamma_combs['gamma'][trials]\n",
    "        gamma_dec = np.random.choice(gamma_combs['gamma_dec'])\n",
    "        print('----------------------')\n",
    "        print('k:{}  u_l:{}  i_l:{}'.format(k, u_lambda, i_lambda))\n",
    "        print('g:{}  g_d:{}'.format(gamma, gamma_dec))\n",
    "        print('----------------------')\n",
    "        i_f, u_f, rmse_tr, rmse_te = compute_mf_SGD(r_demeaned, nz_train, test_r_demeaned, nz_test,\n",
    "            verbose=True, #init_i_features=i_f, init_u_features=u_f,\n",
    "            k=k, i_lambda=i_lambda, u_lambda=u_lambda, gamma=gamma, gamma_dec=gamma_dec)\n",
    "\n",
    "        results_dict[et]={'k':k, 'u_lambda':u_lambda, 'i_lambda':i_lambda, 'gamma':gamma, 'gamma_dec':gamma_dec,\n",
    "                        'rmse_tr':rmse_tr, 'rmse_te':rmse_te, 'i_f':i_f, 'u_f':u_f}\n",
    "        et += 1"
   ]
  },
  {
   "cell_type": "raw",
   "metadata": {
    "scrolled": false
   },
   "source": [
    "parameters = [{'k':20, 'u_l':1.6, 'i_l':0.7777777777777779, 'g':0.015, 'g_d':[2.5, 3.5, 5.0]},\n",
    "              {'k':31, 'u_l':1.4, 'i_l':0.6333333333333333, 'g':0.02, 'g_d':[3.0, 4.0, 5.0]},\n",
    "              {'k':53, 'u_l':0.2, 'i_l':0.6333333333333333, 'g':0.04, 'g_d':[3.0, 4.0, 5.0]},\n",
    "              {'k':53, 'u_l':0.2, 'i_l':0.48888888888888893,'g':0.065, 'g_d':[3.0, 4.0, 5.0]},\n",
    "              {'k':53, 'u_l':0.6, 'i_l':1.2111111111111112, 'g':0.011, 'g_d':[2.2, 3.0, 4.0]},\n",
    "              {'k':64, 'u_l':0.2, 'i_l':1.3555555555555556, 'g':0.011, 'g_d':[2.0, 3.0, 4.0]},\n",
    "              {'k':64, 'u_l':0.2, 'i_l':1.3555555555555556, 'g':0.011, 'g_d':[2.0, 3.0, 4.0]},\n",
    "              {'k':64, 'u_l':0.8, 'i_l':0.48888888888888893,'g':0.045,'g_d':[2.0, 3.0, 4.0]},\n",
    "              {'k':64, 'u_l':1.8, 'i_l':0.6333333333333333, 'g':0.04, 'g_d':[2.0, 3.0, 4.0]},\n",
    "              {'k':64, 'u_l':1.8, 'i_l':0.9222222222222223, 'g':0.025,  'g_d':[2.0, 3.0, 4.0]},\n",
    "              {'k':75, 'u_l':1.8, 'i_l':0.2, 'g':0.045,'g_d':[1.6, 1.8, 2.1]},\n",
    "              {'k':75, 'u_l':1.8, 'i_l':0.2, 'g':0.01,'g_d':[1.2, 1.2555555555555555]},\n",
    "              {'k':86, 'u_l':1.4, 'i_l':0.34444444444444444,'g':0.007,'g_d':[1.67, 1.7222222222222223]},\n",
    "              {'k':97, 'u_l':1.4, 'i_l':0.6333333333333333, 'g':0.04, 'g_d':[1.8, 2.5, 3.0]},\n",
    "              {'k':108,'u_l':1.4, 'i_l':0.48888888888888893,'g':0.05, 'g_d':[1.8, 2.5, 3.0]},\n",
    "              {'k':108,'u_l':1.4, 'i_l':0.48888888888888893,'g':0.052, 'g_d':[1.8, 2.5, 3.0]},\n",
    "              {'k':108,'u_l':0.4, 'i_l':1.0666666666666667, 'g':0.022, 'g_d':[1.8, 2.5, 3.0]},\n",
    "              {'k':120,'u_l':0.8, 'i_l':1.5, 'g':0.014, 'g_d':[1.75, 1.9, 2.5]}]\n",
    "\n",
    "results_dict = {}\n",
    "et=0\n",
    "i_f = None\n",
    "u_f = None\n",
    "np.random.seed(60)\n",
    "\n",
    "for param_dict in parameters:\n",
    "    i_f = None\n",
    "    u_f = None\n",
    "    k = param_dict['k']\n",
    "    u_lambda = param_dict['u_l']\n",
    "    i_lambda = param_dict['i_l']\n",
    "    gamma = param_dict['g']\n",
    "\n",
    "    for gamma_dec in param_dict['g_d']:\n",
    "        print('----------------------')\n",
    "        print('k:{}  u_l:{}  i_l:{}'.format(k, u_lambda, i_lambda))\n",
    "        print('g:{}  g_d:{}'.format(gamma, gamma_dec))\n",
    "        print('----------------------')\n",
    "        i_f, u_f, rmse_tr, rmse_te = compute_mf_SGD(r_demeaned, nz_train, test_r_demeaned, nz_test,\n",
    "            verbose=True, #init_i_features=i_f, init_u_features=u_f,\n",
    "            k=k, i_lambda=i_lambda, u_lambda=u_lambda, gamma=gamma, gamma_dec=gamma_dec)\n",
    "\n",
    "        results_dict[et]={'k':k, 'u_lambda':u_lambda, 'i_lambda':i_lambda, 'gamma':gamma, 'gamma_dec':gamma_dec,\n",
    "                        'rmse_tr':rmse_tr, 'rmse_te':rmse_te, 'i_f':i_f, 'u_f':u_f}\n",
    "        et += 1"
   ]
  },
  {
   "cell_type": "code",
   "execution_count": null,
   "metadata": {
    "scrolled": false
   },
   "outputs": [
    {
     "name": "stdout",
     "output_type": "stream",
     "text": [
      "----------------------\n",
      "k:20  u_l:1.6  i_l:0.8\n",
      "g:0.01  g_d:2.2\n",
      "----------------------\n",
      "0 - train_RMSE: 0.995245276060404.\n",
      "test RMSE: 1.0009318148881974.\n",
      "1 - train_RMSE: 0.9946764917990806.\n",
      "test RMSE: 1.0001412785857013.\n"
     ]
    }
   ],
   "source": [
    "parameters = [{'k':20, 'u_l':1.6, 'i_l':0.8, 'g':0.01, 'g_d':[2.2, 3.0, 3.5]},\n",
    "              {'k':31, 'u_l':1.4, 'i_l':0.6, 'g':0.015, 'g_d':[2.2, 3.0, 3.5]},\n",
    "              {'k':53, 'u_l':0.6, 'i_l':1.2, 'g':0.008, 'g_d':[2.2, 3.0, 3.5]},\n",
    "              {'k':64, 'u_l':0.2, 'i_l':1.35, 'g':0.008, 'g_d':[2.2, 3.0, 3.5]},\n",
    "              {'k':75, 'u_l':1.8, 'i_l':0.2, 'g':0.01,'g_d':[1.18, 1.2, 1.3]},\n",
    "              {'k':86, 'u_l':1.4, 'i_l':0.35,'g':0.007,'g_d':[1.72, 1.75]},\n",
    "              {'k':97, 'u_l':1.4, 'i_l':0.63, 'g':0.015, 'g_d':[2.2, 3.0, 3.5]},\n",
    "              {'k':108,'u_l':0.4, 'i_l':1.07, 'g':0.015, 'g_d':[1.8, 2.5, 3.2]},\n",
    "              {'k':120,'u_l':0.8, 'i_l':1.5, 'g':0.014, 'g_d':[1.75, 1.9, 2.5]}]\n",
    "\n",
    "results_dict = {}\n",
    "et=0\n",
    "i_f = None\n",
    "u_f = None\n",
    "np.random.seed(60)\n",
    "\n",
    "for param_dict in parameters:\n",
    "    i_f = None\n",
    "    u_f = None\n",
    "    k = param_dict['k']\n",
    "    u_lambda = param_dict['u_l']\n",
    "    i_lambda = param_dict['i_l']\n",
    "    gamma = param_dict['g']\n",
    "\n",
    "    for gamma_dec in param_dict['g_d']:\n",
    "        print('----------------------')\n",
    "        print('k:{}  u_l:{}  i_l:{}'.format(k, u_lambda, i_lambda))\n",
    "        print('g:{}  g_d:{}'.format(gamma, gamma_dec))\n",
    "        print('----------------------')\n",
    "        i_f, u_f, rmse_tr, rmse_te = compute_mf_SGD(r_demeaned, nz_train, test_r_demeaned, nz_test,\n",
    "            verbose=True, #init_i_features=i_f, init_u_features=u_f,\n",
    "            k=k, i_lambda=i_lambda, u_lambda=u_lambda, gamma=gamma, gamma_dec=gamma_dec)\n",
    "\n",
    "        results_dict[et]={'k':k, 'u_lambda':u_lambda, 'i_lambda':i_lambda, 'gamma':gamma, 'gamma_dec':gamma_dec,\n",
    "                        'rmse_tr':rmse_tr, 'rmse_te':rmse_te, 'i_f':i_f, 'u_f':u_f}\n",
    "        et += 1"
   ]
  },
  {
   "cell_type": "markdown",
   "metadata": {},
   "source": [
    "### Generate a submission file"
   ]
  },
  {
   "cell_type": "raw",
   "metadata": {
    "collapsed": true
   },
   "source": [
    "# Demean matrix and get feature vectors\n",
    "r_demeaned, global_mean, user_means, item_means = demean_matrix(ratings_csr, verbose=False)\n",
    "\n",
    "# Get non-zero elements\n",
    "nz_row, nz_col = ratings_csr.nonzero()\n",
    "nz_train = list(zip(nz_row, nz_col))"
   ]
  },
  {
   "cell_type": "raw",
   "metadata": {},
   "source": [
    "def compute_mf_SGD(r_demeaned, nz_train, k=20, gamma=0.01, gamma_dec=1.2,\n",
    "    u_lambda=0.5, i_lambda=0.5, max_iter=None, verbose=False, tol=5e-6,\n",
    "    init_u_features=None, init_i_features=None):\n",
    "    \"\"\"Compute matrix factorization by SGD.\n",
    "    Both 'data' and 'test_data' should be csr sparse matrices.\n",
    "    gamma_dec should be >=1\n",
    "    \"\"\"\n",
    "    if (max_iter is None):\n",
    "        steps = 50\n",
    "    else:\n",
    "        steps = max_iter\n",
    "    # Set seed\n",
    "    np.random.seed(988)\n",
    "    rand_u_features, rand_i_features = init_MF(r_demeaned, k)    \n",
    "    if (init_u_features is None):\n",
    "        u_features = rand_u_features\n",
    "    else:\n",
    "        u_features = init_u_features\n",
    "    if (init_i_features is None):\n",
    "        i_features = rand_i_features\n",
    "    else:\n",
    "        i_features = init_i_features\n",
    "    if verbose:\n",
    "        print(\"Starting matrix factorization with SGD...\")\n",
    "    rmse = 0\n",
    "    for step in range(steps):\n",
    "        # shuffle the training rating indices\n",
    "        #np.random.seed(988)\n",
    "        #np.random.shuffle(nz_train)\n",
    "        # Reduce learning rate\n",
    "        gamma /= gamma_dec\n",
    "        # Update item and user features\n",
    "        for i, u in nz_train:\n",
    "            i_f = i_features[i,:]\n",
    "            u_f = u_features[u,:]\n",
    "            e = r_demeaned[i, u] - np.dot(u_f,i_f)\n",
    "            # Obtain gradient\n",
    "            i_grad = e * u_f - i_lambda * i_f\n",
    "            u_grad = e * i_f - u_lambda * u_f\n",
    "            # Update user and item features\n",
    "            i_features[i,:] += gamma * i_grad\n",
    "            u_features[u,:] += gamma * u_grad\n",
    "        rmse_old = rmse\n",
    "        rmse = compute_error(r_demeaned, u_features, i_features, nz_train)\n",
    "        print(\"{} - train_RMSE: {}.\".format(step, rmse))\n",
    "        if(rmse_old - rmse < 0):\n",
    "            gamma_dec += .15\n",
    "            gamma /= gamma_dec\n",
    "        if(abs(rmse_old - rmse) < tol):\n",
    "            break\n",
    "    return i_features, u_features, rmse"
   ]
  },
  {
   "cell_type": "raw",
   "metadata": {},
   "source": [
    "(best_i_lambda, best_u_lambda, best_i_features, best_u_features, best_rmse) = results_lambda[0]\n",
    "for (i_lambda, u_lambda, i_features, u_features, rmse) in results_lambda:\n",
    "    if(rmse < best_rmse):\n",
    "        print('New best: {}'.format(rmse))\n",
    "        best_i_lambda = i_lambda\n",
    "        best_u_lambda = u_lambda\n",
    "        best_i_features = i_features\n",
    "        best_u_features = u_features\n",
    "        best_rmse = rmse"
   ]
  },
  {
   "cell_type": "markdown",
   "metadata": {},
   "source": [
    "Compute feature vectors over all training dataset:"
   ]
  },
  {
   "cell_type": "raw",
   "metadata": {},
   "source": [
    "i_features=None\n",
    "u_features=None\n",
    "best_rmse=90\n",
    "print('i_lambda={}  u_lambda={}  '.format(best_i_lambda, best_u_lambda))\n",
    "for gamma in np.logspace(-4,-1,4)[::-1]:\n",
    "    for gamma_dec in np.linspace(1.1,2.6,5)[::-1]:\n",
    "        print('----------------------------')\n",
    "        print('gamma={}  gamma_dec={}  '.format(gamma, gamma_dec))\n",
    "        print('----------------------------')\n",
    "        i_features, u_features, rmse = compute_mf_SGD(r_demeaned, nz_train, i_lambda=best_i_lambda,\n",
    "            u_lambda=best_u_lambda, verbose=True, init_i_features=i_features,\n",
    "            init_u_features=u_features, gamma=gamma, gamma_dec=gamma_dec)\n",
    "        if(rmse < best_rmse):\n",
    "            best_rmse = rmse\n",
    "            best_i_features_2 = i_features\n",
    "            best_u_features_2 = u_features"
   ]
  },
  {
   "cell_type": "raw",
   "metadata": {
    "collapsed": true
   },
   "source": [
    "(test_rows, test_cols, test_vals) = sp.find(sample_submission_csr)"
   ]
  },
  {
   "cell_type": "raw",
   "metadata": {
    "collapsed": true
   },
   "source": [
    "with open('{dp}{fn}.csv'.format(dp=PREDICTION_PATH, fn='test_sgd_1'), 'w') as csvfile:\n",
    "    fieldnames = ['Id', 'Prediction']\n",
    "    writer = csv.DictWriter(csvfile, delimiter=\",\", fieldnames=fieldnames)\n",
    "    writer.writeheader()\n",
    "    for (i, u) in zip(test_rows, test_cols):\n",
    "        interaction = np.array([(best_u_features[u,:].dot(best_i_features[i,:]))\n",
    "        baseline = global_mean + user_means[u] + item_means[i]\n",
    "        pred_i_u = interaction + baseline\n",
    "        writer.writerow({'Id':'r{r}_c{c}'.format(r=i+1,c=u+1),'Prediction':pred_i_u})"
   ]
  },
  {
   "cell_type": "raw",
   "metadata": {},
   "source": [
    "with open('{dp}{fn}.csv'.format(dp=PREDICTION_PATH, fn='test_sgd_2'), 'w') as csvfile:\n",
    "    fieldnames = ['Id', 'Prediction']\n",
    "    writer = csv.DictWriter(csvfile, delimiter=\",\", fieldnames=fieldnames)\n",
    "    writer.writeheader()\n",
    "    for (i, u) in zip(test_rows, test_cols):\n",
    "        interaction = np.array([(best_u_features_2[u,:].dot(best_i_features_2[i,:]))\n",
    "        baseline = global_mean + user_means[u] + item_means[i]\n",
    "        pred_i_u = interaction + baseline\n",
    "        writer.writerow({'Id':'r{r}_c{c}'.format(r=i+1,c=u+1),'Prediction':pred_i_u})"
   ]
  },
  {
   "cell_type": "code",
   "execution_count": null,
   "metadata": {},
   "outputs": [],
   "source": []
  }
 ],
 "metadata": {
  "kernelspec": {
   "display_name": "Python [default]",
   "language": "python",
   "name": "python3"
  },
  "language_info": {
   "codemirror_mode": {
    "name": "ipython",
    "version": 3
   },
   "file_extension": ".py",
   "mimetype": "text/x-python",
   "name": "python",
   "nbconvert_exporter": "python",
   "pygments_lexer": "ipython3",
   "version": "3.6.1"
  }
 },
 "nbformat": 4,
 "nbformat_minor": 1
}
