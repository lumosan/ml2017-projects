{
 "cells": [
  {
   "cell_type": "code",
   "execution_count": 1,
   "metadata": {},
   "outputs": [],
   "source": [
    "#import numpy as np\n",
    "#import scipy\n",
    "#import scipy.io\n",
    "#import scipy.sparse as sp\n",
    "#import csv\n",
    "\n",
    "#import matplotlib.pyplot as plt\n",
    "#import seaborn as sns\n",
    "#sns.set_style(\"whitegrid\")\n",
    "\n",
    "import os\n",
    "import random\n",
    "\n",
    "from surprise.dataset import Reader\n",
    "from surprise import SVD\n",
    "from surprise import SVDpp\n",
    "from surprise import Dataset\n",
    "from surprise import evaluate, print_perf\n",
    "from surprise import GridSearch\n",
    "from surprise import BaselineOnly\n",
    "\n",
    "from numpy.random import RandomState\n",
    "\n",
    "%load_ext autoreload\n",
    "%autoreload 2\n",
    "%matplotlib inline"
   ]
  },
  {
   "cell_type": "markdown",
   "metadata": {},
   "source": [
    "# Load and prepare data"
   ]
  },
  {
   "cell_type": "markdown",
   "metadata": {},
   "source": [
    "### Training and testing data"
   ]
  },
  {
   "cell_type": "markdown",
   "metadata": {},
   "source": [
    "#### Load the Data"
   ]
  },
  {
   "cell_type": "code",
   "execution_count": 2,
   "metadata": {},
   "outputs": [],
   "source": [
    "DATA_PATH = '../data/surprise/'\n",
    "OUTPUT_DATA_PATH = '../data/surprise/'\n",
    "\n",
    "SAMPLE_DATA_FILE = 'movielens100k.csv'\n",
    "TRAIN_DATA_FILE = 'data_train.csv'\n",
    "SUBMISSION_DATA_FILE = 'sample_submission.csv'"
   ]
  },
  {
   "cell_type": "code",
   "execution_count": 3,
   "metadata": {},
   "outputs": [],
   "source": [
    "# Define paths to dataset files\n",
    "sample_file_path = os.path.expanduser('{}{}'.format(DATA_PATH, SAMPLE_DATA_FILE))\n",
    "train_file_path = os.path.expanduser('{}{}'.format(DATA_PATH, TRAIN_DATA_FILE))\n",
    "submission_file_path = os.path.expanduser('{}{}'.format(DATA_PATH, SUBMISSION_DATA_FILE))\n",
    "\n",
    "# Define a reader\n",
    "reader = Reader(line_format='item user rating', sep=',')\n",
    "\n",
    "# Load datasets\n",
    "sample_data = Dataset.load_from_file(sample_file_path, reader=reader)\n",
    "train_data = Dataset.load_from_file(train_file_path, reader=reader)\n",
    "submission_data = Dataset.load_from_file(submission_file_path, reader=reader)"
   ]
  },
  {
   "cell_type": "code",
   "execution_count": 4,
   "metadata": {},
   "outputs": [],
   "source": [
    "# Define folds for cross-validation\n",
    "random.seed(50)\n",
    "sample_data.split(n_folds=5)\n",
    "sample_trainset = sample_data.build_full_trainset()\n",
    "\n",
    "random.seed(50)\n",
    "train_data.split(n_folds=5)"
   ]
  },
  {
   "cell_type": "markdown",
   "metadata": {},
   "source": [
    "Example:"
   ]
  },
  {
   "cell_type": "raw",
   "metadata": {},
   "source": [
    "rand_state = RandomState(0)\n",
    "svd_alg = SVD()\n",
    "svd_perf = evaluate(svd_alg, sample_data, measures=['RMSE'])"
   ]
  },
  {
   "cell_type": "markdown",
   "metadata": {},
   "source": [
    "### Slope One"
   ]
  },
  {
   "cell_type": "code",
   "execution_count": 8,
   "metadata": {},
   "outputs": [],
   "source": [
    "from surprise import SlopeOne"
   ]
  },
  {
   "cell_type": "code",
   "execution_count": 9,
   "metadata": {},
   "outputs": [
    {
     "name": "stdout",
     "output_type": "stream",
     "text": [
      "Evaluating RMSE of algorithm SlopeOne.\n",
      "\n",
      "------------\n",
      "Fold 1\n",
      "RMSE: 1.0028\n",
      "------------\n",
      "Fold 2\n",
      "RMSE: 1.0027\n",
      "------------\n",
      "Fold 3\n",
      "RMSE: 1.0000\n",
      "------------\n",
      "Fold 4\n",
      "RMSE: 1.0029\n",
      "------------\n",
      "Fold 5\n",
      "RMSE: 0.9990\n",
      "------------\n",
      "------------\n",
      "Mean RMSE: 1.0015\n",
      "------------\n",
      "------------\n"
     ]
    }
   ],
   "source": [
    "rand_state = RandomState(0)\n",
    "so_alg = SlopeOne()\n",
    "so_perf = evaluate(so_alg, train_data, measures=['RMSE'])"
   ]
  },
  {
   "cell_type": "markdown",
   "metadata": {},
   "source": [
    "### CoClustering"
   ]
  },
  {
   "cell_type": "code",
   "execution_count": 10,
   "metadata": {},
   "outputs": [],
   "source": [
    "from surprise import CoClustering"
   ]
  },
  {
   "cell_type": "code",
   "execution_count": 11,
   "metadata": {},
   "outputs": [
    {
     "name": "stdout",
     "output_type": "stream",
     "text": [
      "Evaluating RMSE of algorithm CoClustering.\n",
      "\n",
      "------------\n",
      "Fold 1\n",
      "RMSE: 1.0126\n",
      "------------\n",
      "Fold 2\n",
      "RMSE: 1.0131\n",
      "------------\n",
      "Fold 3\n",
      "RMSE: 1.0094\n",
      "------------\n",
      "Fold 4\n",
      "RMSE: 1.0126\n",
      "------------\n",
      "Fold 5\n",
      "RMSE: 1.0092\n",
      "------------\n",
      "------------\n",
      "Mean RMSE: 1.0114\n",
      "------------\n",
      "------------\n"
     ]
    }
   ],
   "source": [
    "rand_state = RandomState(0)\n",
    "cc_alg = CoClustering()\n",
    "cc_perf = evaluate(cc_alg, train_data, measures=['RMSE'])"
   ]
  },
  {
   "cell_type": "code",
   "execution_count": null,
   "metadata": {},
   "outputs": [],
   "source": [
    "param_grid = {'n_cltr_u': [2,3,4,6,10,20,30,40],\n",
    "              'n_cltr_i': [2,3,4,6,10,20,30,40],\n",
    "              'n_epochs': [30]\n",
    "             }\n",
    "\n",
    "grid_search = GridSearch(CoClustering, param_grid, measures=['RMSE'])\n",
    "\n",
    "grid_search.evaluate(train_data)"
   ]
  },
  {
   "cell_type": "code",
   "execution_count": null,
   "metadata": {},
   "outputs": [],
   "source": [
    "param_grid = {'n_cltr_u': [25,30,35],\n",
    "              'n_cltr_i': [3],\n",
    "              'n_epochs': [30]\n",
    "             }\n",
    "\n",
    "grid_search = GridSearch(CoClustering, param_grid, measures=['RMSE'])\n",
    "\n",
    "grid_search.evaluate(train_data)"
   ]
  },
  {
   "cell_type": "code",
   "execution_count": null,
   "metadata": {},
   "outputs": [],
   "source": [
    "param_grid = {'n_cltr_u': [60, 75, 90],\n",
    "              'n_cltr_i': [3, 2],\n",
    "              'n_epochs': [100]\n",
    "             }\n",
    "\n",
    "grid_search = GridSearch(CoClustering, param_grid, measures=['RMSE'])\n",
    "\n",
    "grid_search.evaluate(train_data)"
   ]
  },
  {
   "cell_type": "markdown",
   "metadata": {},
   "source": [
    "### kNN with Baseline"
   ]
  },
  {
   "cell_type": "code",
   "execution_count": 14,
   "metadata": {},
   "outputs": [],
   "source": [
    "from surprise import KNNBaseline"
   ]
  },
  {
   "cell_type": "code",
   "execution_count": null,
   "metadata": {},
   "outputs": [],
   "source": [
    "rand_state = RandomState(0)\n",
    "knnb_alg = KNNBaseline()\n",
    "knnb_perf = evaluate(knnb_alg, train_data, measures=['RMSE'])"
   ]
  },
  {
   "cell_type": "raw",
   "metadata": {},
   "source": [
    "param_grid = {'k': [10,20,30,40,60],\n",
    "              'min_k': [0,1,5],\n",
    "              'sim_options': [{'name': 'pearson_baseline',\n",
    "                              'user_based': True},\n",
    "                             {'name': 'pearson_baseline',\n",
    "                              'user_based': False}],\n",
    "              'bsl_options': [{'method': 'als'},\n",
    "                             {'method': 'sgd'}]\n",
    "             }\n",
    "\n",
    "grid_search = GridSearch(KNNBaseline, param_grid, measures=['RMSE'])"
   ]
  },
  {
   "cell_type": "code",
   "execution_count": 33,
   "metadata": {
    "scrolled": false
   },
   "outputs": [],
   "source": [
    "param_grid = {'k': [10,20,30,40,60],\n",
    "              'min_k': [0,1,5],\n",
    "              'sim_options': {'name': ['pearson_baseline'],\n",
    "                              'user_based': [True, False]}\n",
    "             }\n",
    "\n",
    "grid_search = GridSearch(KNNBaseline, param_grid, measures=['RMSE'])\n",
    "\n",
    "grid_search.evaluate(train_data)"
   ]
  },
  {
   "cell_type": "code",
   "execution_count": null,
   "metadata": {
    "scrolled": false
   },
   "outputs": [],
   "source": [
    "param_grid = {'k': [60],\n",
    "              'min_k': [10,15],\n",
    "              'sim_options': {'name': ['pearson_baseline'],\n",
    "                              'user_based': [True, False]}\n",
    "             }\n",
    "\n",
    "grid_search = GridSearch(KNNBaseline, param_grid, measures=['RMSE'])\n",
    "\n",
    "grid_search.evaluate(train_data)"
   ]
  },
  {
   "cell_type": "code",
   "execution_count": null,
   "metadata": {
    "scrolled": false
   },
   "outputs": [],
   "source": [
    "param_grid = {'k': [60],\n",
    "              'min_k': [20, 25],\n",
    "              'sim_options': {'name': ['pearson_baseline'],\n",
    "                              'user_based': [True, False]}\n",
    "             }\n",
    "\n",
    "grid_search = GridSearch(KNNBaseline, param_grid, measures=['RMSE'])\n",
    "\n",
    "grid_search.evaluate(train_data)"
   ]
  },
  {
   "cell_type": "code",
   "execution_count": 45,
   "metadata": {
    "scrolled": false
   },
   "outputs": [
    {
     "name": "stdout",
     "output_type": "stream",
     "text": [
      "[{'k': 120, 'min_k': 20, 'sim_options': {'name': 'pearson_baseline', 'user_based': False}}, {'k': 100, 'min_k': 20, 'sim_options': {'name': 'pearson_baseline', 'user_based': False}}]\n",
      "------------\n",
      "Parameters combination 1 of 2\n",
      "params:  {'k': 120, 'min_k': 20, 'sim_options': {'name': 'pearson_baseline', 'user_based': False}}\n",
      "Estimating biases using als...\n",
      "Computing the pearson_baseline similarity matrix...\n",
      "Done computing similarity matrix.\n",
      "Estimating biases using als...\n",
      "Computing the pearson_baseline similarity matrix...\n",
      "Done computing similarity matrix.\n",
      "Estimating biases using als...\n",
      "Computing the pearson_baseline similarity matrix...\n",
      "Done computing similarity matrix.\n",
      "Estimating biases using als...\n",
      "Computing the pearson_baseline similarity matrix...\n",
      "Done computing similarity matrix.\n",
      "Estimating biases using als...\n",
      "Computing the pearson_baseline similarity matrix...\n",
      "Done computing similarity matrix.\n",
      "------------\n",
      "Mean RMSE: 0.9935\n",
      "------------\n",
      "------------\n",
      "Parameters combination 2 of 2\n",
      "params:  {'k': 100, 'min_k': 20, 'sim_options': {'name': 'pearson_baseline', 'user_based': False}}\n",
      "Estimating biases using als...\n",
      "Computing the pearson_baseline similarity matrix...\n",
      "Done computing similarity matrix.\n",
      "Estimating biases using als...\n",
      "Computing the pearson_baseline similarity matrix...\n",
      "Done computing similarity matrix.\n",
      "Estimating biases using als...\n",
      "Computing the pearson_baseline similarity matrix...\n",
      "Done computing similarity matrix.\n",
      "Estimating biases using als...\n",
      "Computing the pearson_baseline similarity matrix...\n",
      "Done computing similarity matrix.\n",
      "Estimating biases using als...\n",
      "Computing the pearson_baseline similarity matrix...\n",
      "Done computing similarity matrix.\n",
      "------------\n",
      "Mean RMSE: 0.9939\n",
      "------------\n"
     ]
    }
   ],
   "source": [
    "param_grid = {'k': [120, 100],\n",
    "              'min_k': [20],\n",
    "              'sim_options': {'name': ['pearson_baseline'],\n",
    "                              'user_based': [False]}\n",
    "             }\n",
    "\n",
    "grid_search = GridSearch(KNNBaseline, param_grid, measures=['RMSE'])\n",
    "\n",
    "grid_search.evaluate(train_data)"
   ]
  },
  {
   "cell_type": "code",
   "execution_count": 46,
   "metadata": {
    "scrolled": false
   },
   "outputs": [
    {
     "name": "stdout",
     "output_type": "stream",
     "text": [
      "[{'k': 300, 'min_k': 20, 'sim_options': {'name': 'pearson_baseline', 'user_based': True}}, {'k': 400, 'min_k': 20, 'sim_options': {'name': 'pearson_baseline', 'user_based': True}}, {'k': 500, 'min_k': 20, 'sim_options': {'name': 'pearson_baseline', 'user_based': True}}]\n",
      "------------\n",
      "Parameters combination 1 of 3\n",
      "params:  {'k': 300, 'min_k': 20, 'sim_options': {'name': 'pearson_baseline', 'user_based': True}}\n",
      "Estimating biases using als...\n",
      "Computing the pearson_baseline similarity matrix...\n",
      "Done computing similarity matrix.\n",
      "Estimating biases using als...\n",
      "Computing the pearson_baseline similarity matrix...\n",
      "Done computing similarity matrix.\n",
      "Estimating biases using als...\n",
      "Computing the pearson_baseline similarity matrix...\n",
      "Done computing similarity matrix.\n",
      "Estimating biases using als...\n",
      "Computing the pearson_baseline similarity matrix...\n",
      "Done computing similarity matrix.\n",
      "Estimating biases using als...\n",
      "Computing the pearson_baseline similarity matrix...\n",
      "Done computing similarity matrix.\n",
      "------------\n",
      "Mean RMSE: 0.9898\n",
      "------------\n",
      "------------\n",
      "Parameters combination 2 of 3\n",
      "params:  {'k': 400, 'min_k': 20, 'sim_options': {'name': 'pearson_baseline', 'user_based': True}}\n",
      "Estimating biases using als...\n",
      "Computing the pearson_baseline similarity matrix...\n",
      "Done computing similarity matrix.\n",
      "Estimating biases using als...\n",
      "Computing the pearson_baseline similarity matrix...\n",
      "Done computing similarity matrix.\n",
      "Estimating biases using als...\n",
      "Computing the pearson_baseline similarity matrix...\n",
      "Done computing similarity matrix.\n",
      "Estimating biases using als...\n",
      "Computing the pearson_baseline similarity matrix...\n",
      "Done computing similarity matrix.\n",
      "Estimating biases using als...\n",
      "Computing the pearson_baseline similarity matrix...\n",
      "Done computing similarity matrix.\n",
      "------------\n",
      "Mean RMSE: 0.9898\n",
      "------------\n",
      "------------\n",
      "Parameters combination 3 of 3\n",
      "params:  {'k': 500, 'min_k': 20, 'sim_options': {'name': 'pearson_baseline', 'user_based': True}}\n",
      "Estimating biases using als...\n",
      "Computing the pearson_baseline similarity matrix...\n",
      "Done computing similarity matrix.\n",
      "Estimating biases using als...\n",
      "Computing the pearson_baseline similarity matrix...\n",
      "Done computing similarity matrix.\n",
      "Estimating biases using als...\n",
      "Computing the pearson_baseline similarity matrix...\n",
      "Done computing similarity matrix.\n",
      "Estimating biases using als...\n",
      "Computing the pearson_baseline similarity matrix...\n",
      "Done computing similarity matrix.\n",
      "Estimating biases using als...\n",
      "Computing the pearson_baseline similarity matrix...\n",
      "Done computing similarity matrix.\n",
      "------------\n",
      "Mean RMSE: 0.9898\n",
      "------------\n"
     ]
    }
   ],
   "source": [
    "param_grid = {'k': [300, 400, 500],\n",
    "              'min_k': [20],\n",
    "              'sim_options': {'name': ['pearson_baseline'],\n",
    "                              'user_based': [True]}\n",
    "             }\n",
    "\n",
    "grid_search = GridSearch(KNNBaseline, param_grid, measures=['RMSE'])\n",
    "\n",
    "grid_search.evaluate(train_data)"
   ]
  },
  {
   "cell_type": "markdown",
   "metadata": {},
   "source": [
    "### Create submission"
   ]
  },
  {
   "cell_type": "raw",
   "metadata": {
    "collapsed": true
   },
   "source": [
    "# Retrieve the trainset\n",
    "trainset = sample_data.build_full_trainset()\n",
    "\n",
    "# Build an algorithm, and train it\n",
    "algo = SVD()\n",
    "algo.train(trainset)"
   ]
  },
  {
   "cell_type": "raw",
   "metadata": {
    "collapsed": true
   },
   "source": [
    "pred = algo.predict()"
   ]
  }
 ],
 "metadata": {
  "kernelspec": {
   "display_name": "Python [default]",
   "language": "python",
   "name": "python3"
  },
  "language_info": {
   "codemirror_mode": {
    "name": "ipython",
    "version": 3
   },
   "file_extension": ".py",
   "mimetype": "text/x-python",
   "name": "python",
   "nbconvert_exporter": "python",
   "pygments_lexer": "ipython3",
   "version": "3.6.1"
  }
 },
 "nbformat": 4,
 "nbformat_minor": 1
}
