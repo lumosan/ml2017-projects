{
 "cells": [
  {
   "cell_type": "code",
   "execution_count": null,
   "metadata": {
    "collapsed": true
   },
   "outputs": [],
   "source": [
    "from prediction_methods.als1_model import model_als1\n",
    "\n",
    "n_item, n_user = ratings.shape\n",
    "args = {'n_user': n_user,\n",
    "        'n_item': n_item,\n",
    "        'prediction_path': PREDICTION_PATH,\n",
    "        'k': 20,\n",
    "        'n_iter': 50,\n",
    "        'reg': 0.085}\n",
    "\n",
    "# 5-fold cross-validation\n",
    "train_rmse, test_rmse = cross_validation(folds, model_als1, args)\n",
    "# Train on entire training set. Predict for `submission` dataset\n",
    "model_als1(ratings, sample_submission, False, **args)"
   ]
  },
  {
   "cell_type": "code",
   "execution_count": 14,
   "metadata": {},
   "outputs": [
    {
     "name": "stdout",
     "output_type": "stream",
     "text": [
      "time: 4h 53min 9s\n"
     ]
    }
   ],
   "source": [
    "from prediction_methods.surprise_models import model_slope_one\n",
    "\n",
    "args = {'prediction_path': PREDICTION_PATH}\n",
    "\n",
    "# 5-fold cross-validation\n",
    "train_rmse, test_rmse = cross_validation_sur(folds_tr, folds_te, model_slope_one, args)\n",
    "# Train on entire training set. Predict for `submission` dataset\n",
    "model_slope_one(ratings_sur, sample_submission_sur, False, **args)"
   ]
  }
 ],
 "metadata": {
  "kernelspec": {
   "display_name": "Python 3",
   "language": "python",
   "name": "python3"
  },
  "language_info": {
   "codemirror_mode": {
    "name": "ipython",
    "version": 3
   },
   "file_extension": ".py",
   "mimetype": "text/x-python",
   "name": "python",
   "nbconvert_exporter": "python",
   "pygments_lexer": "ipython3",
   "version": "3.6.3"
  }
 },
 "nbformat": 4,
 "nbformat_minor": 2
}
