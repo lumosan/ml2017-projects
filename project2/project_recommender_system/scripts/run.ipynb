{
 "cells": [
  {
   "cell_type": "code",
   "execution_count": null,
   "metadata": {
    "collapsed": true
   },
   "outputs": [],
   "source": [
    "%load_ext autoreload\n",
    "%autoreload 2\n",
    "\n",
    "PREDICTION_PATH = '../data/predictions/'"
   ]
  },
  {
   "cell_type": "markdown",
   "metadata": {},
   "source": [
    "#### Load data"
   ]
  },
  {
   "cell_type": "code",
   "execution_count": null,
   "metadata": {},
   "outputs": [],
   "source": [
    "from datafile_methods.data_io import load_datasets, load_datasets_sur\n",
    "\n",
    "# Load datasets\n",
    "folds, ratings, sample_submission = load_datasets()\n",
    "folds_sur, ratings_sur, sample_submission_sur = load_datasets_sur()"
   ]
  },
  {
   "cell_type": "markdown",
   "metadata": {},
   "source": [
    "#### This should be moved to a different file!\n",
    "Function to carry out the cross-validation"
   ]
  },
  {
   "cell_type": "code",
   "execution_count": null,
   "metadata": {
    "collapsed": true
   },
   "outputs": [],
   "source": [
    "import numpy as np\n",
    "from functools import reduce\n",
    "\n",
    "def cross_validation(folds, prediction_model, args):\n",
    "    \"\"\"Gets the training and test errors for all the folds.\n",
    "    Returns two lists including train and test errors respectively\n",
    "    \"\"\"\n",
    "    train_rmse = np.zeros(len(folds))\n",
    "    test_rmse = np.zeros(len(folds))\n",
    "    for i in range(len(folds)):\n",
    "        folds_copy = folds.copy()\n",
    "        test = folds_copy.pop(i)\n",
    "        train = reduce(lambda x, y: x + y, [m for m in folds_copy])\n",
    "        train_rmse[i], test_rmse[i] = prediction_model(train, test, True, **args)\n",
    "    return train_rmse, test_rmse"
   ]
  },
  {
   "cell_type": "markdown",
   "metadata": {},
   "source": [
    "#### Define dictionaries to keep the train and test errors"
   ]
  },
  {
   "cell_type": "code",
   "execution_count": null,
   "metadata": {
    "collapsed": true
   },
   "outputs": [],
   "source": [
    "errors = {}"
   ]
  },
  {
   "cell_type": "markdown",
   "metadata": {},
   "source": [
    "#### Train models"
   ]
  },
  {
   "cell_type": "markdown",
   "metadata": {},
   "source": [
    "Baselines"
   ]
  },
  {
   "cell_type": "code",
   "execution_count": null,
   "metadata": {
    "collapsed": true
   },
   "outputs": [],
   "source": [
    "from prediction_methods.baseline_model import model_baseline"
   ]
  },
  {
   "cell_type": "code",
   "execution_count": null,
   "metadata": {},
   "outputs": [],
   "source": [
    "# 5-fold cross-validation\n",
    "train_rmse, test_rmse = cross_validation(folds, model_baseline, {'prediction_path': PREDICTION_PATH})\n",
    "errors['baseline'] = [train_rmse, test_rmse]"
   ]
  },
  {
   "cell_type": "code",
   "execution_count": null,
   "metadata": {
    "collapsed": true
   },
   "outputs": [],
   "source": [
    "# Train on entire training set. Predict for `submission` dataset\n",
    "model_baseline(ratings, sample_submission, False, prediction_path=PREDICTION_PATH)"
   ]
  },
  {
   "cell_type": "markdown",
   "metadata": {},
   "source": [
    "Matrix factorization with ALS"
   ]
  },
  {
   "cell_type": "code",
   "execution_count": null,
   "metadata": {},
   "outputs": [],
   "source": [
    "from prediction_methods.mf_als_model import model_mf_als\n",
    "\n",
    "args = {'prediction_path': PREDICTION_PATH,\n",
    "        'k': 20,\n",
    "        'lambda_u': .1,\n",
    "        'lambda_i': .1,\n",
    "        'tol': 1e-6,\n",
    "        'max_iter': 100}\n",
    "\n",
    "# 5-fold cross-validation\n",
    "train_rmse, test_rmse = cross_validation(folds, model_mf_als, args)\n",
    "errors['mf_als'] = [train_rmse, test_rmse]"
   ]
  },
  {
   "cell_type": "code",
   "execution_count": null,
   "metadata": {
    "collapsed": true
   },
   "outputs": [],
   "source": [
    "# Train on entire training set. Predict for `submission` dataset\n",
    "model_mf_als(ratings, sample_submission, False, **args)\n",
    "\n",
    "## Before refactoring achieved 0.9878 in training\n",
    "## Other good param_combs are (k20, lambdas 0.095) and (k30, lambdas 0.095)"
   ]
  },
  {
   "cell_type": "markdown",
   "metadata": {},
   "source": [
    "Matrix factorization with SVD (scipy)"
   ]
  },
  {
   "cell_type": "code",
   "execution_count": null,
   "metadata": {
    "collapsed": true
   },
   "outputs": [],
   "source": [
    "from prediction_methods.mf_svd_model import model_mf_svd\n",
    "\n",
    "args = {'prediction_path': PREDICTION_PATH,\n",
    "        'k': 16,\n",
    "        'library': 'scipy',\n",
    "        'fn_suffix': 'sci_'}\n",
    "\n",
    "# 5-fold cross-validation\n",
    "train_rmse, test_rmse = cross_validation(folds, model_mf_svd, args)\n",
    "errors['mf_svd_sci'] = [train_rmse, test_rmse]"
   ]
  },
  {
   "cell_type": "code",
   "execution_count": null,
   "metadata": {
    "collapsed": true
   },
   "outputs": [],
   "source": [
    "# Train on entire training set. Predict for `submission` dataset\n",
    "model_mf_svd(ratings, sample_submission, False, **args)\n",
    "\n",
    "## Before ref. achieved 0.99385 on test. It's better to average it with the next ones!"
   ]
  },
  {
   "cell_type": "markdown",
   "metadata": {},
   "source": [
    "Matrix factorization with SVD (sklearn)"
   ]
  },
  {
   "cell_type": "code",
   "execution_count": null,
   "metadata": {
    "collapsed": true
   },
   "outputs": [],
   "source": [
    "args = {'prediction_path': PREDICTION_PATH,\n",
    "        'k': 12,\n",
    "        'n_iter': 50,\n",
    "        'library': 'sklearn',\n",
    "        'random_state': 70,\n",
    "        'fn_suffix': 'skl_'}\n",
    "\n",
    "# 5-fold cross-validation\n",
    "train_rmse, test_rmse = cross_validation(folds, model_mf_svd, args)\n",
    "errors['mf_svd_skl'] = [train_rmse, test_rmse]"
   ]
  },
  {
   "cell_type": "code",
   "execution_count": null,
   "metadata": {
    "collapsed": true
   },
   "outputs": [],
   "source": [
    "# Train on entire training set. Predict for `submission` dataset\n",
    "model_mf_svd(ratings, sample_submission, False, **args)\n",
    "\n",
    "### Bef ref. achieved 0.99386 (approx) on test\n",
    "# Achieves 0.99082 in Kaggle"
   ]
  },
  {
   "cell_type": "markdown",
   "metadata": {},
   "source": [
    "Recommend's ALS model"
   ]
  },
  {
   "cell_type": "code",
   "execution_count": null,
   "metadata": {},
   "outputs": [],
   "source": [
    "from prediction_methods.recommend_model import model_mf_als_recommend\n",
    "\n",
    "n_item, n_user = ratings.shape\n",
    "args = {'n_user': n_user,\n",
    "        'n_item': n_item,\n",
    "        'prediction_path': PREDICTION_PATH,\n",
    "        'k': 20,\n",
    "        'n_iter': 50,\n",
    "        'reg': 85e-3}\n",
    "\n",
    "# 5-fold cross-validation\n",
    "train_rmse, test_rmse = cross_validation(folds, model_mf_als_recommend, args)\n",
    "errors['mf_als_recommend'] = [train_rmse, test_rmse]"
   ]
  },
  {
   "cell_type": "code",
   "execution_count": null,
   "metadata": {
    "collapsed": true
   },
   "outputs": [],
   "source": [
    "# Train on entire training set. Predict for `submission` dataset\n",
    "model_mf_als_recommend(ratings, sample_submission, False, **args)\n",
    "\n",
    "#Test RMSE of model_mf_als_recommend: 0.9975413590062877\n",
    "#0.98585 on Kaggle"
   ]
  },
  {
   "cell_type": "markdown",
   "metadata": {},
   "source": [
    "Surprise models"
   ]
  },
  {
   "cell_type": "markdown",
   "metadata": {},
   "source": [
    "* SlopeOne"
   ]
  },
  {
   "cell_type": "code",
   "execution_count": null,
   "metadata": {
    "collapsed": true
   },
   "outputs": [],
   "source": [
    "from prediction_methods.surprise_models import model_slope_one\n",
    "\n",
    "model_slope_one(train_sur, test_sur, True,\n",
    "    prediction_path=PREDICTION_PATH, validation_data=validation_sur)\n",
    "\n",
    "model_slope_one(ratings_sur, sample_submission_sur, False,\n",
    "    prediction_path=PREDICTION_PATH)"
   ]
  },
  {
   "cell_type": "markdown",
   "metadata": {},
   "source": [
    "* CoClustering"
   ]
  },
  {
   "cell_type": "code",
   "execution_count": null,
   "metadata": {
    "collapsed": true
   },
   "outputs": [],
   "source": [
    "from prediction_methods.surprise_models import model_co_clustering\n",
    "model_co_clustering(train_sur, test_sur, True,\n",
    "    prediction_path=PREDICTION_PATH, validation_data=validation_sur,\n",
    "    n_cltr_u=75, n_cltr_i=3, n_epochs=100)\n",
    "\n",
    "model_co_clustering(ratings_sur, sample_submission_sur, False,\n",
    "    prediction_path=PREDICTION_PATH,\n",
    "    n_cltr_u=75, n_cltr_i=3, n_epochs=100)"
   ]
  },
  {
   "cell_type": "markdown",
   "metadata": {},
   "source": [
    "* KNN Baseline (user based)"
   ]
  },
  {
   "cell_type": "code",
   "execution_count": null,
   "metadata": {
    "collapsed": true
   },
   "outputs": [],
   "source": [
    "from prediction_methods.surprise_models import model_knn_baseline\n",
    "model_knn_baseline(train_sur, test_sur, True,\n",
    "    prediction_path=PREDICTION_PATH, validation_data=validation_sur,\n",
    "    k=300, min_k=20, name='pearson_baseline', user_based=True,\n",
    "    fn_suffix='u_')\n",
    "\n",
    "model_knn_baseline(ratings_sur, sample_submission_sur, False,\n",
    "    prediction_path=PREDICTION_PATH,\n",
    "    k=300, min_k=20, name='pearson_baseline', user_based=True,\n",
    "    fn_suffix='u_')"
   ]
  },
  {
   "cell_type": "markdown",
   "metadata": {},
   "source": [
    "* KNN Baseline (item based)"
   ]
  },
  {
   "cell_type": "code",
   "execution_count": null,
   "metadata": {
    "collapsed": true
   },
   "outputs": [],
   "source": [
    "model_knn_baseline(train_sur, test_sur, True,\n",
    "    prediction_path=PREDICTION_PATH, validation_data=validation_sur,\n",
    "    k=120, min_k=20, name='pearson_baseline', user_based=False,\n",
    "    fn_suffix='i_')\n",
    "\n",
    "model_knn_baseline(ratings_sur, sample_submission_sur, False,\n",
    "    prediction_path=PREDICTION_PATH,\n",
    "    k=120, min_k=20, name='pearson_baseline', user_based=False,\n",
    "    fn_suffix='i_')"
   ]
  },
  {
   "cell_type": "markdown",
   "metadata": {},
   "source": [
    "* NMF"
   ]
  },
  {
   "cell_type": "code",
   "execution_count": null,
   "metadata": {
    "collapsed": true
   },
   "outputs": [],
   "source": [
    "from prediction_methods.surprise_models import model_nmf\n",
    "model_nmf(train_sur, test_sur, True, prediction_path=PREDICTION_PATH,\n",
    "    validation_data=validation_sur, biased=True, k=18, reg_pu=0.08,\n",
    "    reg_qi=0.08, reg_bu=0.055, reg_bi=0.055, n_epochs=150)\n",
    "\n",
    "model_nmf(ratings_sur, sample_submission_sur, False,\n",
    "    prediction_path=PREDICTION_PATH, biased=True, k=18, reg_pu=0.08,\n",
    "    reg_qi=0.08, reg_bu=0.055, reg_bi=0.055, n_epochs=150)"
   ]
  },
  {
   "cell_type": "markdown",
   "metadata": {},
   "source": [
    "* SVD"
   ]
  },
  {
   "cell_type": "code",
   "execution_count": null,
   "metadata": {
    "collapsed": true
   },
   "outputs": [],
   "source": [
    "from prediction_methods.surprise_models import model_svd\n",
    "model_svd(train_sur, test_sur, True, prediction_path=PREDICTION_PATH,\n",
    "    validation_data=validation_sur, biased=True, k=130, reg_all=0.065,\n",
    "    n_epochs=50)\n",
    "\n",
    "model_svd(ratings_sur, sample_submission_sur, False,\n",
    "    prediction_path=PREDICTION_PATH, biased=True, k=130, reg_all=0.065,\n",
    "    n_epochs=50)"
   ]
  },
  {
   "cell_type": "markdown",
   "metadata": {},
   "source": [
    "#### Combine ratings"
   ]
  },
  {
   "cell_type": "markdown",
   "metadata": {},
   "source": [
    "Load ratings for test and validation files"
   ]
  },
  {
   "cell_type": "code",
   "execution_count": null,
   "metadata": {
    "collapsed": true
   },
   "outputs": [],
   "source": [
    "#TODO"
   ]
  },
  {
   "cell_type": "markdown",
   "metadata": {},
   "source": [
    "Do (regularized?) linear regression on the test rating predictions to obtain best weights"
   ]
  },
  {
   "cell_type": "code",
   "execution_count": null,
   "metadata": {
    "collapsed": true
   },
   "outputs": [],
   "source": [
    "#TODO"
   ]
  },
  {
   "cell_type": "markdown",
   "metadata": {},
   "source": [
    "Adjust regularization for getting similar errors in test and validation"
   ]
  },
  {
   "cell_type": "code",
   "execution_count": null,
   "metadata": {
    "collapsed": true
   },
   "outputs": [],
   "source": [
    "#TODO\n",
    "#Also ask a TA if this is ok. Also, maybe I should not be calling the sets `test` and `validation`"
   ]
  },
  {
   "cell_type": "markdown",
   "metadata": {},
   "source": [
    "Load ratings for submission files"
   ]
  },
  {
   "cell_type": "code",
   "execution_count": null,
   "metadata": {
    "collapsed": true
   },
   "outputs": [],
   "source": [
    "#TODO"
   ]
  },
  {
   "cell_type": "markdown",
   "metadata": {},
   "source": [
    "Apply previous weights to obtain a final submission"
   ]
  },
  {
   "cell_type": "code",
   "execution_count": null,
   "metadata": {
    "collapsed": true
   },
   "outputs": [],
   "source": [
    "#TODO"
   ]
  }
 ],
 "metadata": {
  "kernelspec": {
   "display_name": "Python 3",
   "language": "python",
   "name": "python3"
  },
  "language_info": {
   "codemirror_mode": {
    "name": "ipython",
    "version": 3
   },
   "file_extension": ".py",
   "mimetype": "text/x-python",
   "name": "python",
   "nbconvert_exporter": "python",
   "pygments_lexer": "ipython3",
   "version": "3.6.3"
  }
 },
 "nbformat": 4,
 "nbformat_minor": 2
}
