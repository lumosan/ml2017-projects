{
 "cells": [
  {
   "cell_type": "code",
   "execution_count": null,
   "metadata": {
    "collapsed": true
   },
   "outputs": [],
   "source": [
    "%load_ext autotime"
   ]
  },
  {
   "cell_type": "code",
   "execution_count": null,
   "metadata": {
    "collapsed": true
   },
   "outputs": [],
   "source": [
    "%load_ext autoreload\n",
    "%autoreload 2\n",
    "\n",
    "PREDICTION_PATH = '../data/predictions/'"
   ]
  },
  {
   "cell_type": "markdown",
   "metadata": {},
   "source": [
    "#### Load data"
   ]
  },
  {
   "cell_type": "code",
   "execution_count": null,
   "metadata": {
    "collapsed": true
   },
   "outputs": [],
   "source": [
    "from datafile_methods.data_io import load_datasets, load_datasets_sur\n",
    "\n",
    "# Load datasets\n",
    "folds, ratings, sample_submission = load_datasets()\n",
    "\n",
    "folds_tr, folds_te, ratings_sur, sample_submission_sur = load_datasets_sur()"
   ]
  },
  {
   "cell_type": "markdown",
   "metadata": {},
   "source": [
    "#### This should be moved to a different file!\n",
    "Function to carry out the cross-validation"
   ]
  },
  {
   "cell_type": "code",
   "execution_count": null,
   "metadata": {
    "collapsed": true
   },
   "outputs": [],
   "source": [
    "import numpy as np\n",
    "from functools import reduce\n",
    "\n",
    "def cross_validation(folds, prediction_model, args):\n",
    "    \"\"\"Gets the training and test errors for all the folds.\n",
    "    Returns two lists including train and test errors respectively\n",
    "    \"\"\"\n",
    "    train_rmse = np.zeros(len(folds))\n",
    "    test_rmse = np.zeros(len(folds))\n",
    "    for i in range(len(folds)):\n",
    "        folds_copy = folds.copy()\n",
    "        test = folds_copy.pop(i)\n",
    "        train = reduce(lambda x, y: x + y, [m for m in folds_copy])\n",
    "        train_rmse[i], test_rmse[i] = prediction_model(train, test, True, **args)\n",
    "    return train_rmse, test_rmse"
   ]
  },
  {
   "cell_type": "code",
   "execution_count": null,
   "metadata": {
    "collapsed": true
   },
   "outputs": [],
   "source": [
    "def cross_validation_sur(folds_tr, folds_te, prediction_model, args):\n",
    "    \"\"\"Gets the training and test errors for all the folds.\n",
    "    Returns two lists including train and test errors respectively\n",
    "    \"\"\"\n",
    "    train_rmse = np.zeros(len(folds_tr))\n",
    "    test_rmse = np.zeros(len(folds_tr))\n",
    "    for i in range(len(folds_tr)):\n",
    "        train = folds_tr[i]\n",
    "        test = folds_te[i]\n",
    "        train_rmse[i], test_rmse[i] = prediction_model(train, test, True, **args)\n",
    "    return train_rmse, test_rmse"
   ]
  },
  {
   "cell_type": "markdown",
   "metadata": {},
   "source": [
    "#### Define dictionaries to keep the train and test errors"
   ]
  },
  {
   "cell_type": "code",
   "execution_count": null,
   "metadata": {
    "collapsed": true
   },
   "outputs": [],
   "source": [
    "errors = {}"
   ]
  },
  {
   "cell_type": "markdown",
   "metadata": {},
   "source": [
    "#### Train models"
   ]
  },
  {
   "cell_type": "markdown",
   "metadata": {},
   "source": [
    "Baselines"
   ]
  },
  {
   "cell_type": "code",
   "execution_count": null,
   "metadata": {
    "collapsed": true
   },
   "outputs": [],
   "source": [
    "from prediction_methods.baseline_model import model_baseline\n",
    "\n",
    "# 5-fold cross-validation\n",
    "train_rmse, test_rmse = cross_validation(folds, model_baseline, {'prediction_path': PREDICTION_PATH})\n",
    "errors['baseline'] = [train_rmse, test_rmse]\n",
    "\n",
    "# Train on entire training set. Predict for `submission` dataset\n",
    "model_baseline(ratings, sample_submission, False, prediction_path=PREDICTION_PATH)"
   ]
  },
  {
   "cell_type": "markdown",
   "metadata": {},
   "source": [
    "Matrix factorization with ALS"
   ]
  },
  {
   "cell_type": "code",
   "execution_count": null,
   "metadata": {
    "collapsed": true
   },
   "outputs": [],
   "source": [
    "from prediction_methods.mf_als_model import model_mf_als\n",
    "\n",
    "args = {'prediction_path': PREDICTION_PATH,\n",
    "        'k': 20,\n",
    "        'lambda_u': .1,\n",
    "        'lambda_i': .1,\n",
    "        'tol': 1e-6,\n",
    "        'max_iter': 100}\n",
    "\n",
    "# 5-fold cross-validation\n",
    "train_rmse, test_rmse = cross_validation(folds, model_mf_als, args)\n",
    "errors['mf_als'] = [train_rmse, test_rmse]\n",
    "\n",
    "# Train on entire training set. Predict for `submission` dataset\n",
    "model_mf_als(ratings, sample_submission, False, **args)\n",
    "\n",
    "## Before refactoring achieved 0.9878 in training\n",
    "## Other good param_combs are (k20, lambdas 0.095) and (k30, lambdas 0.095)"
   ]
  },
  {
   "cell_type": "markdown",
   "metadata": {},
   "source": [
    "Matrix factorization with SVD (scipy)"
   ]
  },
  {
   "cell_type": "code",
   "execution_count": null,
   "metadata": {
    "collapsed": true
   },
   "outputs": [],
   "source": [
    "from prediction_methods.mf_svd_model import model_mf_svd\n",
    "\n",
    "args = {'prediction_path': PREDICTION_PATH,\n",
    "        'k': 13,\n",
    "        'library': 'scipy',\n",
    "        'fn_suffix': 'sci_'}\n",
    "\n",
    "# 5-fold cross-validation\n",
    "train_rmse, test_rmse = cross_validation(folds, model_mf_svd, args)\n",
    "errors['mf_svd'] = [train_rmse, test_rmse]\n",
    "\n",
    "# Train on entire training set. Predict for `submission` dataset\n",
    "model_mf_svd(ratings, sample_submission, False, **args)\n",
    "\n",
    "## Before ref. achieved 0.99385 on test. It's better to average it with the next ones!"
   ]
  },
  {
   "cell_type": "markdown",
   "metadata": {},
   "source": [
    "Matrix factorization with SVD (sklearn)"
   ]
  },
  {
   "cell_type": "code",
   "execution_count": null,
   "metadata": {
    "collapsed": true
   },
   "outputs": [],
   "source": [
    "args = {'prediction_path': PREDICTION_PATH,\n",
    "        'k': 13,\n",
    "        'n_iter': 50,\n",
    "        'library': 'sklearn',\n",
    "        'random_state': 70,\n",
    "        'fn_suffix': 'skl_'}\n",
    "\n",
    "# 5-fold cross-validation\n",
    "train_rmse, test_rmse = cross_validation(folds, model_mf_svd, args)\n",
    "errors['mf_svd_skl'] = [train_rmse, test_rmse]\n",
    "\n",
    "# Train on entire training set. Predict for `submission` dataset\n",
    "model_mf_svd(ratings, sample_submission, False, **args)\n",
    "\n",
    "### Bef ref. achieved 0.99386 (approx) on test\n",
    "# Achieves 0.99082 in Kaggle"
   ]
  },
  {
   "cell_type": "markdown",
   "metadata": {},
   "source": [
    "Recommend's ALS model"
   ]
  },
  {
   "cell_type": "code",
   "execution_count": null,
   "metadata": {
    "collapsed": true
   },
   "outputs": [],
   "source": [
    "from prediction_methods.recommend_model import model_mf_als_recommend\n",
    "\n",
    "n_item, n_user = ratings.shape\n",
    "args = {'n_user': n_user,\n",
    "        'n_item': n_item,\n",
    "        'prediction_path': PREDICTION_PATH,\n",
    "        'k': 20,\n",
    "        'n_iter': 50,\n",
    "        'reg': 0.085}\n",
    "\n",
    "# 5-fold cross-validation\n",
    "train_rmse, test_rmse = cross_validation(folds, model_mf_als_recommend, args)\n",
    "errors['mf_als_recommend'] = [train_rmse, test_rmse]\n",
    "# time 20 min approx\n",
    "\n",
    "# Train on entire training set. Predict for `submission` dataset\n",
    "model_mf_als_recommend(ratings, sample_submission, False, **args)\n",
    "\n",
    "#Test RMSE of model_mf_als_recommend: 0.9975413590062877\n",
    "#0.98585 on Kaggle"
   ]
  },
  {
   "cell_type": "markdown",
   "metadata": {},
   "source": [
    "Surprise models"
   ]
  },
  {
   "cell_type": "markdown",
   "metadata": {},
   "source": [
    "* SlopeOne"
   ]
  },
  {
   "cell_type": "code",
   "execution_count": null,
   "metadata": {
    "collapsed": true
   },
   "outputs": [],
   "source": [
    "from prediction_methods.surprise_models import model_slope_one\n",
    "\n",
    "args = {'prediction_path': PREDICTION_PATH}\n",
    "\n",
    "# 5-fold cross-validation\n",
    "train_rmse, test_rmse = cross_validation_sur(folds_tr, folds_te, model_slope_one, args)\n",
    "errors['slope_one'] = [train_rmse, test_rmse]\n",
    "\n",
    "model_slope_one(ratings_sur, sample_submission_sur, False, **args)"
   ]
  },
  {
   "cell_type": "markdown",
   "metadata": {},
   "source": [
    "* KNN Baseline (user based) - Verbose"
   ]
  },
  {
   "cell_type": "code",
   "execution_count": null,
   "metadata": {
    "collapsed": true
   },
   "outputs": [],
   "source": [
    "from prediction_methods.surprise_models import model_knn_baseline\n",
    "\n",
    "args = {'prediction_path': PREDICTION_PATH,\n",
    "        'k': 300,\n",
    "        'min_k': 20,\n",
    "        'name': 'pearson_baseline',\n",
    "        'user_based': True,\n",
    "        'fn_suffix': 'u_'}\n",
    "\n",
    "# 5-fold cross-validation\n",
    "train_rmse, test_rmse = cross_validation_sur(folds_tr, folds_te, model_knn_baseline, args)\n",
    "errors['knn_baseline_u'] = [train_rmse, test_rmse]\n",
    "# time: 20min 56s\n",
    "\n",
    "model_knn_baseline(ratings_sur, sample_submission_sur, False, **args)\n",
    "# time: 10min 7s"
   ]
  },
  {
   "cell_type": "markdown",
   "metadata": {},
   "source": [
    "* KNN Baseline (item based) - Verbose"
   ]
  },
  {
   "cell_type": "code",
   "execution_count": null,
   "metadata": {
    "collapsed": true
   },
   "outputs": [],
   "source": [
    "args = {'prediction_path': PREDICTION_PATH,\n",
    "        'k': 60,\n",
    "        'min_k': 20,\n",
    "        'name': 'pearson_baseline',\n",
    "        'user_based': False,\n",
    "        'fn_suffix': 'i_'}\n",
    "\n",
    "# 5-fold cross-validation\n",
    "train_rmse, test_rmse = cross_validation_sur(folds_tr, folds_te, model_knn_baseline, args)\n",
    "errors['knn_baseline_i'] = [train_rmse, test_rmse]\n",
    "# time: 21min 22s\n",
    "\n",
    "model_knn_baseline(ratings_sur, sample_submission_sur, False, **args)\n",
    "# time: 9min 49s"
   ]
  },
  {
   "cell_type": "markdown",
   "metadata": {},
   "source": [
    "* NMF"
   ]
  },
  {
   "cell_type": "code",
   "execution_count": null,
   "metadata": {
    "collapsed": true
   },
   "outputs": [],
   "source": [
    "from prediction_methods.surprise_models import model_nmf\n",
    "\n",
    "args = {'prediction_path': PREDICTION_PATH,\n",
    "        'biased': True,\n",
    "        'k': 22,\n",
    "        'reg_pu': 0.05,\n",
    "        'reg_qi': 0.05,\n",
    "        'reg_bu': 0.055,\n",
    "        'reg_bi': 0.055,\n",
    "        'n_epochs': 150}\n",
    "\n",
    "# 5-fold cross-validation\n",
    "train_rmse, test_rmse = cross_validation_sur(folds_tr, folds_te, model_nmf, args)\n",
    "errors['nmf'] = [train_rmse, test_rmse]\n",
    "# time: 12min 57s\n",
    "\n",
    "model_nmf(ratings_sur, sample_submission_sur, False, **args)\n",
    "# time: 3min 24s"
   ]
  },
  {
   "cell_type": "markdown",
   "metadata": {},
   "source": [
    "* SVD"
   ]
  },
  {
   "cell_type": "code",
   "execution_count": null,
   "metadata": {
    "collapsed": true
   },
   "outputs": [],
   "source": [
    "from prediction_methods.surprise_models import model_svd\n",
    "\n",
    "args = {'prediction_path': PREDICTION_PATH,\n",
    "        'biased': True,\n",
    "        'k': 130,\n",
    "        'reg_all': 0.08,\n",
    "        'n_epochs': 50}\n",
    "\n",
    "# 5-fold cross-validation\n",
    "train_rmse, test_rmse = cross_validation_sur(folds_tr, folds_te, model_svd, args)\n",
    "errors['svd'] = [train_rmse, test_rmse]\n",
    "# time: 11min 16s\n",
    "\n",
    "model_svd(ratings_sur, sample_submission_sur, False, **args)\n",
    "# time: 3min 2s"
   ]
  },
  {
   "cell_type": "markdown",
   "metadata": {},
   "source": [
    "#### Combine ratings"
   ]
  },
  {
   "cell_type": "markdown",
   "metadata": {},
   "source": [
    "Load ratings for test and validation files"
   ]
  },
  {
   "cell_type": "code",
   "execution_count": null,
   "metadata": {
    "collapsed": true
   },
   "outputs": [],
   "source": [
    "#TODO"
   ]
  },
  {
   "cell_type": "markdown",
   "metadata": {},
   "source": [
    "Load ratings for submission files"
   ]
  },
  {
   "cell_type": "code",
   "execution_count": null,
   "metadata": {
    "collapsed": true
   },
   "outputs": [],
   "source": [
    "#TODO"
   ]
  },
  {
   "cell_type": "markdown",
   "metadata": {},
   "source": [
    "Define ensembling method"
   ]
  },
  {
   "cell_type": "code",
   "execution_count": null,
   "metadata": {
    "collapsed": true
   },
   "outputs": [],
   "source": [
    "#TODO"
   ]
  },
  {
   "cell_type": "markdown",
   "metadata": {},
   "source": [
    "Apply previous weights to obtain a final submission"
   ]
  },
  {
   "cell_type": "code",
   "execution_count": null,
   "metadata": {
    "collapsed": true
   },
   "outputs": [],
   "source": [
    "#TODO"
   ]
  }
 ],
 "metadata": {
  "kernelspec": {
   "display_name": "Python 3",
   "language": "python",
   "name": "python3"
  },
  "language_info": {
   "codemirror_mode": {
    "name": "ipython",
    "version": 3
   },
   "file_extension": ".py",
   "mimetype": "text/x-python",
   "name": "python",
   "nbconvert_exporter": "python",
   "pygments_lexer": "ipython3",
   "version": "3.6.3"
  }
 },
 "nbformat": 4,
 "nbformat_minor": 2
}
