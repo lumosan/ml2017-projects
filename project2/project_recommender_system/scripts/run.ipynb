{
 "cells": [
  {
   "cell_type": "code",
   "execution_count": 1,
   "metadata": {
    "collapsed": true
   },
   "outputs": [],
   "source": [
    "%load_ext autotime"
   ]
  },
  {
   "cell_type": "code",
   "execution_count": 2,
   "metadata": {},
   "outputs": [
    {
     "name": "stdout",
     "output_type": "stream",
     "text": [
      "time: 48.7 ms\n"
     ]
    }
   ],
   "source": [
    "%load_ext autoreload\n",
    "%autoreload 2\n",
    "\n",
    "PREDICTION_PATH = '../data/predictions/'"
   ]
  },
  {
   "cell_type": "markdown",
   "metadata": {},
   "source": [
    "#### Load data"
   ]
  },
  {
   "cell_type": "code",
   "execution_count": 3,
   "metadata": {},
   "outputs": [
    {
     "name": "stdout",
     "output_type": "stream",
     "text": [
      "time: 318 ms\n"
     ]
    }
   ],
   "source": [
    "from datafile_methods.data_io import load_datasets, load_datasets_sur"
   ]
  },
  {
   "cell_type": "code",
   "execution_count": 4,
   "metadata": {},
   "outputs": [
    {
     "name": "stdout",
     "output_type": "stream",
     "text": [
      "time: 20.5 s\n"
     ]
    }
   ],
   "source": [
    "# Load datasets\n",
    "folds, ratings, sample_submission = load_datasets()"
   ]
  },
  {
   "cell_type": "code",
   "execution_count": 5,
   "metadata": {},
   "outputs": [
    {
     "name": "stdout",
     "output_type": "stream",
     "text": [
      "time: 23.9 s\n"
     ]
    }
   ],
   "source": [
    "folds_tr, folds_te, ratings_sur, sample_submission_sur = load_datasets_sur()"
   ]
  },
  {
   "cell_type": "markdown",
   "metadata": {},
   "source": [
    "#### This should be moved to a different file!\n",
    "Function to carry out the cross-validation"
   ]
  },
  {
   "cell_type": "code",
   "execution_count": 6,
   "metadata": {},
   "outputs": [
    {
     "name": "stdout",
     "output_type": "stream",
     "text": [
      "time: 20.4 ms\n"
     ]
    }
   ],
   "source": [
    "import numpy as np\n",
    "from functools import reduce\n",
    "\n",
    "def cross_validation(folds, prediction_model, args):\n",
    "    \"\"\"Gets the training and test errors for all the folds.\n",
    "    Returns two lists including train and test errors respectively\n",
    "    \"\"\"\n",
    "    train_rmse = np.zeros(len(folds))\n",
    "    test_rmse = np.zeros(len(folds))\n",
    "    for i in range(len(folds)):\n",
    "        folds_copy = folds.copy()\n",
    "        test = folds_copy.pop(i)\n",
    "        train = reduce(lambda x, y: x + y, [m for m in folds_copy])\n",
    "        train_rmse[i], test_rmse[i] = prediction_model(train, test, True, **args)\n",
    "    return train_rmse, test_rmse"
   ]
  },
  {
   "cell_type": "code",
   "execution_count": 7,
   "metadata": {},
   "outputs": [
    {
     "name": "stdout",
     "output_type": "stream",
     "text": [
      "time: 33.9 ms\n"
     ]
    }
   ],
   "source": [
    "def cross_validation_sur(folds_tr, folds_te, prediction_model, args):\n",
    "    \"\"\"Gets the training and test errors for all the folds.\n",
    "    Returns two lists including train and test errors respectively\n",
    "    \"\"\"\n",
    "    train_rmse = np.zeros(len(folds_tr))\n",
    "    test_rmse = np.zeros(len(folds_tr))\n",
    "    for i in range(len(folds_tr)):\n",
    "        train = folds_tr[i]\n",
    "        test = folds_te[i]\n",
    "        train_rmse[i], test_rmse[i] = prediction_model(train, test, True, **args)\n",
    "    return train_rmse, test_rmse"
   ]
  },
  {
   "cell_type": "markdown",
   "metadata": {},
   "source": [
    "#### Define dictionaries to keep the train and test errors"
   ]
  },
  {
   "cell_type": "code",
   "execution_count": 81,
   "metadata": {},
   "outputs": [
    {
     "name": "stdout",
     "output_type": "stream",
     "text": [
      "time: 30 ms\n"
     ]
    }
   ],
   "source": [
    "errors = {}"
   ]
  },
  {
   "cell_type": "raw",
   "metadata": {},
   "source": [
    "errors = {'baseline': [array([ 0.99425462,  0.99468217,  0.99438628,  0.99377059,  0.99424295]),\n",
    "  array([ 1.00601127,  1.00459408,  1.00499478,  1.00810896,  1.00620091])],\n",
    " 'mf_als_recommend': [array([ 0.88712575,  0.88734776,  0.88697049,  0.88671749,  0.88695225]),\n",
    "  array([ 0.99485903,  0.99279848,  0.99421156,  0.99677274,  0.99500636])],\n",
    " 'mf_svd_sci': [array([ 0.94425527,  0.94475345,  0.94450673,  0.94360606,  0.94392763]),\n",
    "  array([ 0.99638552,  0.9944817 ,  0.99543418,  0.99831226,  0.99661938])],\n",
    " 'mf_svd_skl': [array([ 0.95359693,  0.9542387 ,  0.95362805,  0.95351571,  0.95366641]),\n",
    "  array([ 0.99593991,  0.99455596,  0.99519758,  0.9983749 ,  0.9965133 ])],\n",
    " 'slope_one': [array([ 0.93905529,  0.93943099,  0.93922088,  0.93864486,  0.93895883]),\n",
    "  array([ 1.00153839,  1.00012637,  1.00086173,  1.003991  ,  1.00150891])],\n",
    " 'co_clustering': [array([ 0.97690452,  0.97837862,  0.9773867 ,  0.97755343,  0.97704166]),\n",
    "  array([ 1.00326364,  1.00164185,  1.00312846,  1.005973  ,  1.0037095 ])],\n",
    " 'knn_baseline_i': [array([ 0.94654128,  0.94697197,  0.94658684,  0.94601615,  0.94647668]),\n",
    "  array([ 0.99630403,  0.99446918,  0.99561056,  0.99819283,  0.99635748])],\n",
    " 'knn_baseline_u': [array([ 0.95829473,  0.95866049,  0.95840947,  0.95780609,  0.95822906]),\n",
    "  array([ 0.99762091,  0.99615513,  0.99711687,  0.99980506,  0.99795458])],\n",
    " 'nmf': [array([ 0.98747149,  0.98797977,  0.98768374,  0.98707014,  0.98764229]),\n",
    "  array([ 0.99998649,  0.99855507,  0.99939229,  1.00186393,  1.00029995])],\n",
    " 'sur_svd': [array([ 0.785207  ,  0.78505567,  0.78511465,  0.78539203,  0.78555635]),\n",
    "  array([ 0.99009985,  0.98788137,  0.98995628,  0.99210459,  0.99018139])]}"
   ]
  },
  {
   "cell_type": "markdown",
   "metadata": {},
   "source": [
    "#### Train models"
   ]
  },
  {
   "cell_type": "markdown",
   "metadata": {},
   "source": [
    "Baselines"
   ]
  },
  {
   "cell_type": "code",
   "execution_count": null,
   "metadata": {
    "collapsed": true
   },
   "outputs": [],
   "source": [
    "from prediction_methods.baseline_model import model_baseline"
   ]
  },
  {
   "cell_type": "code",
   "execution_count": null,
   "metadata": {
    "collapsed": true
   },
   "outputs": [],
   "source": [
    "# 5-fold cross-validation\n",
    "train_rmse, test_rmse = cross_validation(folds, model_baseline, {'prediction_path': PREDICTION_PATH})\n",
    "errors['baseline'] = [train_rmse, test_rmse]"
   ]
  },
  {
   "cell_type": "code",
   "execution_count": null,
   "metadata": {
    "collapsed": true
   },
   "outputs": [],
   "source": [
    "# Train on entire training set. Predict for `submission` dataset\n",
    "model_baseline(ratings, sample_submission, False, prediction_path=PREDICTION_PATH)"
   ]
  },
  {
   "cell_type": "markdown",
   "metadata": {},
   "source": [
    "Matrix factorization with ALS"
   ]
  },
  {
   "cell_type": "code",
   "execution_count": null,
   "metadata": {
    "collapsed": true
   },
   "outputs": [],
   "source": [
    "from prediction_methods.mf_als_model import model_mf_als\n",
    "\n",
    "args = {'prediction_path': PREDICTION_PATH,\n",
    "        'k': 20,\n",
    "        'lambda_u': .1,\n",
    "        'lambda_i': .1,\n",
    "        'tol': 1e-6,\n",
    "        'max_iter': 100}\n",
    "\n",
    "# 5-fold cross-validation\n",
    "train_rmse, test_rmse = cross_validation(folds, model_mf_als, args)\n",
    "errors['mf_als'] = [train_rmse, test_rmse]"
   ]
  },
  {
   "cell_type": "code",
   "execution_count": null,
   "metadata": {
    "collapsed": true
   },
   "outputs": [],
   "source": [
    "# Train on entire training set. Predict for `submission` dataset\n",
    "model_mf_als(ratings, sample_submission, False, **args)\n",
    "\n",
    "## Before refactoring achieved 0.9878 in training\n",
    "## Other good param_combs are (k20, lambdas 0.095) and (k30, lambdas 0.095)"
   ]
  },
  {
   "cell_type": "markdown",
   "metadata": {},
   "source": [
    "Matrix factorization with SVD (scipy)"
   ]
  },
  {
   "cell_type": "code",
   "execution_count": null,
   "metadata": {},
   "outputs": [],
   "source": [
    "from prediction_methods.mf_svd_model import model_mf_svd\n",
    "\n",
    "args = {'prediction_path': PREDICTION_PATH,\n",
    "        'k': 13,\n",
    "        'library': 'scipy',\n",
    "        'fn_suffix': 'sci_'}\n",
    "\n",
    "# 5-fold cross-validation\n",
    "train_rmse, test_rmse = cross_validation(folds, model_mf_svd, args)\n",
    "errors['mf_svd'] = [train_rmse, test_rmse]"
   ]
  },
  {
   "cell_type": "code",
   "execution_count": null,
   "metadata": {},
   "outputs": [],
   "source": [
    "# Train on entire training set. Predict for `submission` dataset\n",
    "model_mf_svd(ratings, sample_submission, False, **args)\n",
    "\n",
    "## Before ref. achieved 0.99385 on test. It's better to average it with the next ones!"
   ]
  },
  {
   "cell_type": "markdown",
   "metadata": {},
   "source": [
    "Matrix factorization with SVD (sklearn)"
   ]
  },
  {
   "cell_type": "code",
   "execution_count": null,
   "metadata": {
    "collapsed": true
   },
   "outputs": [],
   "source": [
    "args = {'prediction_path': PREDICTION_PATH,\n",
    "        'k': 13,\n",
    "        'n_iter': 50,\n",
    "        'library': 'sklearn',\n",
    "        'random_state': 70,\n",
    "        'fn_suffix': 'skl_'}\n",
    "\n",
    "# 5-fold cross-validation\n",
    "train_rmse, test_rmse = cross_validation(folds, model_mf_svd, args)\n",
    "errors['mf_svd_skl'] = [train_rmse, test_rmse]"
   ]
  },
  {
   "cell_type": "code",
   "execution_count": null,
   "metadata": {
    "collapsed": true
   },
   "outputs": [],
   "source": [
    "# Train on entire training set. Predict for `submission` dataset\n",
    "model_mf_svd(ratings, sample_submission, False, **args)\n",
    "\n",
    "### Bef ref. achieved 0.99386 (approx) on test\n",
    "# Achieves 0.99082 in Kaggle"
   ]
  },
  {
   "cell_type": "markdown",
   "metadata": {},
   "source": [
    "Recommend's ALS model"
   ]
  },
  {
   "cell_type": "code",
   "execution_count": null,
   "metadata": {
    "collapsed": true
   },
   "outputs": [],
   "source": [
    "from prediction_methods.recommend_model import model_mf_als_recommend\n",
    "\n",
    "n_item, n_user = ratings.shape\n",
    "args = {'n_user': n_user,\n",
    "        'n_item': n_item,\n",
    "        'prediction_path': PREDICTION_PATH,\n",
    "        'k': 20,\n",
    "        'n_iter': 50,\n",
    "        'reg': 85e-3}\n",
    "\n",
    "# 5-fold cross-validation\n",
    "train_rmse, test_rmse = cross_validation(folds, model_mf_als_recommend, args)\n",
    "errors['mf_als_recommend'] = [train_rmse, test_rmse]"
   ]
  },
  {
   "cell_type": "code",
   "execution_count": null,
   "metadata": {
    "collapsed": true
   },
   "outputs": [],
   "source": [
    "# Train on entire training set. Predict for `submission` dataset\n",
    "model_mf_als_recommend(ratings, sample_submission, False, **args)\n",
    "\n",
    "#Test RMSE of model_mf_als_recommend: 0.9975413590062877\n",
    "#0.98585 on Kaggle"
   ]
  },
  {
   "cell_type": "code",
   "execution_count": null,
   "metadata": {
    "collapsed": true
   },
   "outputs": [],
   "source": [
    "from prediction_methods.recommend_model import model_mf_als_recommend\n",
    "\n",
    "n_item, n_user = ratings.shape\n",
    "args = {'n_user': n_user,\n",
    "        'n_item': n_item,\n",
    "        'prediction_path': PREDICTION_PATH,\n",
    "        'k': 20,\n",
    "        'n_iter': 50,\n",
    "        'reg': 0.085}\n",
    "\n",
    "# 5-fold cross-validation\n",
    "train_rmse, test_rmse = cross_validation(folds, model_mf_als_recommend, args)\n",
    "errors['0.085'] = [train_rmse, test_rmse]"
   ]
  },
  {
   "cell_type": "code",
   "execution_count": null,
   "metadata": {
    "collapsed": true
   },
   "outputs": [],
   "source": [
    "n_item, n_user = ratings.shape\n",
    "args = {'n_user': n_user,\n",
    "        'n_item': n_item,\n",
    "        'prediction_path': PREDICTION_PATH,\n",
    "        'k': 20,\n",
    "        'n_iter': 50,\n",
    "        'reg': 0.08}\n",
    "\n",
    "# 5-fold cross-validation\n",
    "train_rmse, test_rmse = cross_validation(folds, model_mf_als_recommend, args)\n",
    "errors['0.08'] = [train_rmse, test_rmse]"
   ]
  },
  {
   "cell_type": "code",
   "execution_count": null,
   "metadata": {
    "collapsed": true
   },
   "outputs": [],
   "source": [
    "n_item, n_user = ratings.shape\n",
    "args = {'n_user': n_user,\n",
    "        'n_item': n_item,\n",
    "        'prediction_path': PREDICTION_PATH,\n",
    "        'k': 20,\n",
    "        'n_iter': 50,\n",
    "        'reg': 0.075}\n",
    "\n",
    "# 5-fold cross-validation\n",
    "train_rmse, test_rmse = cross_validation(folds, model_mf_als_recommend, args)\n",
    "errors['0.075'] = [train_rmse, test_rmse]"
   ]
  },
  {
   "cell_type": "code",
   "execution_count": null,
   "metadata": {
    "collapsed": true
   },
   "outputs": [],
   "source": [
    "n_item, n_user = ratings.shape\n",
    "args = {'n_user': n_user,\n",
    "        'n_item': n_item,\n",
    "        'prediction_path': PREDICTION_PATH,\n",
    "        'k': 20,\n",
    "        'n_iter': 50,\n",
    "        'reg': 0.07}\n",
    "\n",
    "# 5-fold cross-validation\n",
    "train_rmse, test_rmse = cross_validation(folds, model_mf_als_recommend, args)\n",
    "errors['0.07'] = [train_rmse, test_rmse]"
   ]
  },
  {
   "cell_type": "code",
   "execution_count": null,
   "metadata": {
    "collapsed": true
   },
   "outputs": [],
   "source": [
    "n_item, n_user = ratings.shape\n",
    "args = {'n_user': n_user,\n",
    "        'n_item': n_item,\n",
    "        'prediction_path': PREDICTION_PATH,\n",
    "        'k': 20,\n",
    "        'n_iter': 50,\n",
    "        'reg': 0.065}\n",
    "\n",
    "# 5-fold cross-validation\n",
    "train_rmse, test_rmse = cross_validation(folds, model_mf_als_recommend, args)\n",
    "errors['0.065'] = [train_rmse, test_rmse]"
   ]
  },
  {
   "cell_type": "code",
   "execution_count": null,
   "metadata": {
    "collapsed": true
   },
   "outputs": [],
   "source": [
    "n_item, n_user = ratings.shape\n",
    "args = {'n_user': n_user,\n",
    "        'n_item': n_item,\n",
    "        'prediction_path': PREDICTION_PATH,\n",
    "        'k': 20,\n",
    "        'n_iter': 50,\n",
    "        'reg': 0.06}\n",
    "\n",
    "# 5-fold cross-validation\n",
    "train_rmse, test_rmse = cross_validation(folds, model_mf_als_recommend, args)\n",
    "errors['0.06'] = [train_rmse, test_rmse]"
   ]
  },
  {
   "cell_type": "code",
   "execution_count": null,
   "metadata": {
    "collapsed": true
   },
   "outputs": [],
   "source": [
    "n_item, n_user = ratings.shape\n",
    "args = {'n_user': n_user,\n",
    "        'n_item': n_item,\n",
    "        'prediction_path': PREDICTION_PATH,\n",
    "        'k': 20,\n",
    "        'n_iter': 50,\n",
    "        'reg': 0.055}\n",
    "\n",
    "# 5-fold cross-validation\n",
    "train_rmse, test_rmse = cross_validation(folds, model_mf_als_recommend, args)\n",
    "errors['0.055'] = [train_rmse, test_rmse]"
   ]
  },
  {
   "cell_type": "code",
   "execution_count": null,
   "metadata": {
    "collapsed": true
   },
   "outputs": [],
   "source": [
    "n_item, n_user = ratings.shape\n",
    "args = {'n_user': n_user,\n",
    "        'n_item': n_item,\n",
    "        'prediction_path': PREDICTION_PATH,\n",
    "        'k': 20,\n",
    "        'n_iter': 50,\n",
    "        'reg': 0.09}\n",
    "\n",
    "# 5-fold cross-validation\n",
    "train_rmse, test_rmse = cross_validation(folds, model_mf_als_recommend, args)\n",
    "errors['0.09'] = [train_rmse, test_rmse]"
   ]
  },
  {
   "cell_type": "code",
   "execution_count": null,
   "metadata": {
    "collapsed": true
   },
   "outputs": [],
   "source": [
    "n_item, n_user = ratings.shape\n",
    "args = {'n_user': n_user,\n",
    "        'n_item': n_item,\n",
    "        'prediction_path': PREDICTION_PATH,\n",
    "        'k': 20,\n",
    "        'n_iter': 50,\n",
    "        'reg': 0.095}\n",
    "\n",
    "# 5-fold cross-validation\n",
    "train_rmse, test_rmse = cross_validation(folds, model_mf_als_recommend, args)\n",
    "errors['0.095'] = [train_rmse, test_rmse]"
   ]
  },
  {
   "cell_type": "code",
   "execution_count": null,
   "metadata": {
    "collapsed": true
   },
   "outputs": [],
   "source": [
    "n_item, n_user = ratings.shape\n",
    "args = {'n_user': n_user,\n",
    "        'n_item': n_item,\n",
    "        'prediction_path': PREDICTION_PATH,\n",
    "        'k': 20,\n",
    "        'n_iter': 50,\n",
    "        'reg': 0.1}\n",
    "\n",
    "# 5-fold cross-validation\n",
    "train_rmse, test_rmse = cross_validation(folds, model_mf_als_recommend, args)\n",
    "errors['0.1'] = [train_rmse, test_rmse]"
   ]
  },
  {
   "cell_type": "code",
   "execution_count": null,
   "metadata": {
    "collapsed": true
   },
   "outputs": [],
   "source": [
    "errors"
   ]
  },
  {
   "cell_type": "markdown",
   "metadata": {},
   "source": [
    "Surprise models"
   ]
  },
  {
   "cell_type": "markdown",
   "metadata": {},
   "source": [
    "* SlopeOne"
   ]
  },
  {
   "cell_type": "code",
   "execution_count": null,
   "metadata": {
    "collapsed": true
   },
   "outputs": [],
   "source": [
    "from prediction_methods.surprise_models import model_slope_one"
   ]
  },
  {
   "cell_type": "code",
   "execution_count": null,
   "metadata": {
    "collapsed": true
   },
   "outputs": [],
   "source": [
    "args = {'prediction_path': PREDICTION_PATH}\n",
    "\n",
    "# 5-fold cross-validation\n",
    "train_rmse, test_rmse = cross_validation_sur(folds_tr, folds_te, model_slope_one, args)\n",
    "errors['slope_one'] = [train_rmse, test_rmse]"
   ]
  },
  {
   "cell_type": "code",
   "execution_count": null,
   "metadata": {
    "collapsed": true
   },
   "outputs": [],
   "source": [
    "model_slope_one(ratings_sur, sample_submission_sur, False, **args)"
   ]
  },
  {
   "cell_type": "markdown",
   "metadata": {},
   "source": [
    "* CoClustering"
   ]
  },
  {
   "cell_type": "code",
   "execution_count": null,
   "metadata": {
    "collapsed": true
   },
   "outputs": [],
   "source": [
    "from prediction_methods.surprise_models import model_co_clustering\n",
    "\n",
    "args = {'prediction_path': PREDICTION_PATH,\n",
    "        'n_cltr_u': 75,\n",
    "        'n_cltr_i': 3,\n",
    "        'n_epochs': 100}\n",
    "\n",
    "# 5-fold cross-validation\n",
    "train_rmse, test_rmse = cross_validation_sur(folds_tr, folds_te, model_co_clustering, args)\n",
    "errors['co_clustering'] = [train_rmse, test_rmse]\n",
    "# time: 21min 8s\n",
    "\n",
    "model_co_clustering(ratings_sur, sample_submission_sur, False, **args)\n",
    "# time: 5min 2s"
   ]
  },
  {
   "cell_type": "markdown",
   "metadata": {},
   "source": [
    "* KNN Baseline (user based) - Verbose"
   ]
  },
  {
   "cell_type": "code",
   "execution_count": null,
   "metadata": {
    "collapsed": true
   },
   "outputs": [],
   "source": [
    "from prediction_methods.surprise_models import model_knn_baseline\n",
    "\n",
    "args = {'prediction_path': PREDICTION_PATH,\n",
    "        'k': 300,\n",
    "        'min_k': 20,\n",
    "        'name': 'pearson_baseline',\n",
    "        'user_based': True,\n",
    "        'fn_suffix': 'u_'}\n",
    "\n",
    "# 5-fold cross-validation\n",
    "train_rmse, test_rmse = cross_validation_sur(folds_tr, folds_te, model_knn_baseline, args)\n",
    "errors['knn_baseline_u'] = [train_rmse, test_rmse]\n",
    "# time: 20min 56s\n",
    "\n",
    "model_knn_baseline(ratings_sur, sample_submission_sur, False, **args)\n",
    "# time: 10min 7s"
   ]
  },
  {
   "cell_type": "markdown",
   "metadata": {},
   "source": [
    "* KNN Baseline (item based) - Verbose"
   ]
  },
  {
   "cell_type": "code",
   "execution_count": null,
   "metadata": {
    "collapsed": true
   },
   "outputs": [],
   "source": [
    "args = {'prediction_path': PREDICTION_PATH,\n",
    "        'k': 120,\n",
    "        'min_k': 20,\n",
    "        'name': 'pearson_baseline',\n",
    "        'user_based': False,\n",
    "        'fn_suffix': 'i_'}\n",
    "\n",
    "# 5-fold cross-validation\n",
    "train_rmse, test_rmse = cross_validation_sur(folds_tr, folds_te, model_knn_baseline, args)\n",
    "errors['knn_baseline_i'] = [train_rmse, test_rmse]\n",
    "# time: 21min 22s\n",
    "\n",
    "model_knn_baseline(ratings_sur, sample_submission_sur, False, **args)\n",
    "# time: 9min 49s"
   ]
  },
  {
   "cell_type": "markdown",
   "metadata": {},
   "source": [
    "* NMF"
   ]
  },
  {
   "cell_type": "code",
   "execution_count": null,
   "metadata": {},
   "outputs": [],
   "source": [
    "from prediction_methods.surprise_models import model_nmf\n",
    "\n",
    "args = {'prediction_path': PREDICTION_PATH,\n",
    "        'biased': True,\n",
    "        'k': 18,\n",
    "        'reg_pu': 0.08,\n",
    "        'reg_qi': 0.08,\n",
    "        'reg_bu': 0.055,\n",
    "        'reg_bi': 0.055,\n",
    "        'n_epochs': 150}\n",
    "\n",
    "# 5-fold cross-validation\n",
    "train_rmse, test_rmse = cross_validation_sur(folds_tr, folds_te, model_nmf, args)\n",
    "errors['nmf'] = [train_rmse, test_rmse]\n",
    "# time: 12min 57s\n",
    "\n",
    "model_nmf(ratings_sur, sample_submission_sur, False, **args)\n",
    "# time: 3min 24s"
   ]
  },
  {
   "cell_type": "markdown",
   "metadata": {},
   "source": [
    "* SVD"
   ]
  },
  {
   "cell_type": "code",
   "execution_count": 29,
   "metadata": {},
   "outputs": [
    {
     "name": "stdout",
     "output_type": "stream",
     "text": [
      "time: 12min 37s\n"
     ]
    }
   ],
   "source": [
    "from prediction_methods.surprise_models import model_svd\n",
    "\n",
    "args = {'prediction_path': PREDICTION_PATH,\n",
    "        'biased': True,\n",
    "        'k': 130,\n",
    "        'reg_all': 0.08,\n",
    "        'n_epochs': 50}\n",
    "\n",
    "# 5-fold cross-validation\n",
    "train_rmse, test_rmse = cross_validation_sur(folds_tr, folds_te, model_svd, args)\n",
    "errors['svd'] = [train_rmse, test_rmse]\n",
    "# time: 11min 16s\n",
    "\n",
    "#model_svd(ratings_sur, sample_submission_sur, False, **args)\n",
    "# time: 3min 2s"
   ]
  },
  {
   "cell_type": "markdown",
   "metadata": {},
   "source": [
    "#### Combine ratings"
   ]
  },
  {
   "cell_type": "markdown",
   "metadata": {},
   "source": [
    "Load ratings for test and validation files"
   ]
  },
  {
   "cell_type": "code",
   "execution_count": null,
   "metadata": {
    "collapsed": true
   },
   "outputs": [],
   "source": [
    "#TODO"
   ]
  },
  {
   "cell_type": "markdown",
   "metadata": {},
   "source": [
    "Load ratings for submission files"
   ]
  },
  {
   "cell_type": "code",
   "execution_count": null,
   "metadata": {
    "collapsed": true
   },
   "outputs": [],
   "source": [
    "#TODO"
   ]
  },
  {
   "cell_type": "markdown",
   "metadata": {},
   "source": [
    "Define ensembling method"
   ]
  },
  {
   "cell_type": "code",
   "execution_count": null,
   "metadata": {
    "collapsed": true
   },
   "outputs": [],
   "source": [
    "#TODO"
   ]
  },
  {
   "cell_type": "markdown",
   "metadata": {},
   "source": [
    "Apply previous weights to obtain a final submission"
   ]
  },
  {
   "cell_type": "code",
   "execution_count": null,
   "metadata": {
    "collapsed": true
   },
   "outputs": [],
   "source": [
    "#TODO"
   ]
  }
 ],
 "metadata": {
  "kernelspec": {
   "display_name": "Python 3",
   "language": "python",
   "name": "python3"
  },
  "language_info": {
   "codemirror_mode": {
    "name": "ipython",
    "version": 3
   },
   "file_extension": ".py",
   "mimetype": "text/x-python",
   "name": "python",
   "nbconvert_exporter": "python",
   "pygments_lexer": "ipython3",
   "version": "3.6.3"
  }
 },
 "nbformat": 4,
 "nbformat_minor": 2
}
