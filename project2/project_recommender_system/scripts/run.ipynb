{
 "cells": [
  {
   "cell_type": "code",
   "execution_count": null,
   "metadata": {},
   "outputs": [],
   "source": [
    "%load_ext autoreload\n",
    "%autoreload 2\n",
    "\n",
    "PREDICTION_PATH = '../data/predictions/'"
   ]
  },
  {
   "cell_type": "markdown",
   "metadata": {},
   "source": [
    "#### Load data"
   ]
  },
  {
   "cell_type": "code",
   "execution_count": null,
   "metadata": {
    "collapsed": true
   },
   "outputs": [],
   "source": [
    "from datafile_methods.data_io import load_datasets, load_datasets_sur"
   ]
  },
  {
   "cell_type": "code",
   "execution_count": null,
   "metadata": {},
   "outputs": [],
   "source": [
    "# Load datasets\n",
    "folds, ratings, sample_submission = load_datasets()"
   ]
  },
  {
   "cell_type": "code",
   "execution_count": null,
   "metadata": {
    "collapsed": true
   },
   "outputs": [],
   "source": [
    "folds_tr, folds_te, ratings_sur, sample_submission_sur = load_datasets_sur()"
   ]
  },
  {
   "cell_type": "markdown",
   "metadata": {},
   "source": [
    "#### This should be moved to a different file!\n",
    "Function to carry out the cross-validation"
   ]
  },
  {
   "cell_type": "code",
   "execution_count": null,
   "metadata": {
    "collapsed": true
   },
   "outputs": [],
   "source": [
    "import numpy as np\n",
    "from functools import reduce\n",
    "\n",
    "def cross_validation(folds, prediction_model, args):\n",
    "    \"\"\"Gets the training and test errors for all the folds.\n",
    "    Returns two lists including train and test errors respectively\n",
    "    \"\"\"\n",
    "    train_rmse = np.zeros(len(folds))\n",
    "    test_rmse = np.zeros(len(folds))\n",
    "    for i in range(len(folds)):\n",
    "        folds_copy = folds.copy()\n",
    "        test = folds_copy.pop(i)\n",
    "        train = reduce(lambda x, y: x + y, [m for m in folds_copy])\n",
    "        train_rmse[i], test_rmse[i] = prediction_model(train, test, True, **args)\n",
    "    return train_rmse, test_rmse"
   ]
  },
  {
   "cell_type": "code",
   "execution_count": null,
   "metadata": {
    "collapsed": true
   },
   "outputs": [],
   "source": [
    "def cross_validation_sur(folds_tr, folds_te, prediction_model, args):\n",
    "    \"\"\"Gets the training and test errors for all the folds.\n",
    "    Returns two lists including train and test errors respectively\n",
    "    \"\"\"\n",
    "    train_rmse = np.zeros(len(folds_tr))\n",
    "    test_rmse = np.zeros(len(folds_tr))\n",
    "    for i in range(len(folds_tr)):\n",
    "        train = folds_tr[i]\n",
    "        test = folds_te[i]\n",
    "        train_rmse[i], test_rmse[i] = prediction_model(train, test, True, **args)\n",
    "    return train_rmse, test_rmse"
   ]
  },
  {
   "cell_type": "markdown",
   "metadata": {},
   "source": [
    "#### Define dictionaries to keep the train and test errors"
   ]
  },
  {
   "cell_type": "code",
   "execution_count": null,
   "metadata": {
    "collapsed": true
   },
   "outputs": [],
   "source": [
    "errors = {}"
   ]
  },
  {
   "cell_type": "raw",
   "metadata": {},
   "source": [
    "{'baseline': [array([ 0.99425462,  0.99468217,  0.99438628,  0.99377059,  0.99424295]),\n",
    "  array([ 1.00601127,  1.00459408,  1.00499478,  1.00810896,  1.00620091])],\n",
    " 'mf_als_recommend': [array([ 0.88712575,  0.88734776,  0.88697049,  0.88671749,  0.88695225]),\n",
    "  array([ 0.99485903,  0.99279848,  0.99421156,  0.99677274,  0.99500636])],\n",
    " 'mf_svd_sci': [array([ 0.94425527,  0.94475345,  0.94450673,  0.94360606,  0.94392763]),\n",
    "  array([ 0.99638552,  0.9944817 ,  0.99543418,  0.99831226,  0.99661938])],\n",
    " 'mf_svd_skl': [array([ 0.95359693,  0.9542387 ,  0.95362805,  0.95351571,  0.95366641]),\n",
    "  array([ 0.99593991,  0.99455596,  0.99519758,  0.9983749 ,  0.9965133 ])],\n",
    " 'slope_one': [array([ 0.93905529,  0.93943099,  0.93922088,  0.93864486,  0.93895883]),\n",
    "  array([ 1.00153839,  1.00012637,  1.00086173,  1.003991  ,  1.00150891])]}"
   ]
  },
  {
   "cell_type": "markdown",
   "metadata": {},
   "source": [
    "#### Train models"
   ]
  },
  {
   "cell_type": "markdown",
   "metadata": {},
   "source": [
    "Baselines"
   ]
  },
  {
   "cell_type": "code",
   "execution_count": null,
   "metadata": {
    "collapsed": true
   },
   "outputs": [],
   "source": [
    "from prediction_methods.baseline_model import model_baseline"
   ]
  },
  {
   "cell_type": "code",
   "execution_count": null,
   "metadata": {},
   "outputs": [],
   "source": [
    "# 5-fold cross-validation\n",
    "train_rmse, test_rmse = cross_validation(folds, model_baseline, {'prediction_path': PREDICTION_PATH})\n",
    "errors['baseline'] = [train_rmse, test_rmse]"
   ]
  },
  {
   "cell_type": "code",
   "execution_count": null,
   "metadata": {
    "collapsed": true
   },
   "outputs": [],
   "source": [
    "# Train on entire training set. Predict for `submission` dataset\n",
    "model_baseline(ratings, sample_submission, False, prediction_path=PREDICTION_PATH)"
   ]
  },
  {
   "cell_type": "markdown",
   "metadata": {},
   "source": [
    "Matrix factorization with ALS"
   ]
  },
  {
   "cell_type": "code",
   "execution_count": null,
   "metadata": {},
   "outputs": [],
   "source": [
    "from prediction_methods.mf_als_model import model_mf_als\n",
    "\n",
    "args = {'prediction_path': PREDICTION_PATH,\n",
    "        'k': 20,\n",
    "        'lambda_u': .1,\n",
    "        'lambda_i': .1,\n",
    "        'tol': 1e-6,\n",
    "        'max_iter': 100}\n",
    "\n",
    "# 5-fold cross-validation\n",
    "train_rmse, test_rmse = cross_validation(folds, model_mf_als, args)\n",
    "errors['mf_als'] = [train_rmse, test_rmse]"
   ]
  },
  {
   "cell_type": "code",
   "execution_count": null,
   "metadata": {
    "collapsed": true
   },
   "outputs": [],
   "source": [
    "# Train on entire training set. Predict for `submission` dataset\n",
    "model_mf_als(ratings, sample_submission, False, **args)\n",
    "\n",
    "## Before refactoring achieved 0.9878 in training\n",
    "## Other good param_combs are (k20, lambdas 0.095) and (k30, lambdas 0.095)"
   ]
  },
  {
   "cell_type": "markdown",
   "metadata": {},
   "source": [
    "Matrix factorization with SVD (scipy)"
   ]
  },
  {
   "cell_type": "code",
   "execution_count": null,
   "metadata": {
    "collapsed": true
   },
   "outputs": [],
   "source": [
    "from prediction_methods.mf_svd_model import model_mf_svd\n",
    "\n",
    "args = {'prediction_path': PREDICTION_PATH,\n",
    "        'k': 16,\n",
    "        'library': 'scipy',\n",
    "        'fn_suffix': 'sci_'}\n",
    "\n",
    "# 5-fold cross-validation\n",
    "train_rmse, test_rmse = cross_validation(folds, model_mf_svd, args)\n",
    "errors['mf_svd_sci'] = [train_rmse, test_rmse]"
   ]
  },
  {
   "cell_type": "code",
   "execution_count": null,
   "metadata": {
    "collapsed": true
   },
   "outputs": [],
   "source": [
    "# Train on entire training set. Predict for `submission` dataset\n",
    "model_mf_svd(ratings, sample_submission, False, **args)\n",
    "\n",
    "## Before ref. achieved 0.99385 on test. It's better to average it with the next ones!"
   ]
  },
  {
   "cell_type": "markdown",
   "metadata": {},
   "source": [
    "Matrix factorization with SVD (sklearn)"
   ]
  },
  {
   "cell_type": "code",
   "execution_count": null,
   "metadata": {
    "collapsed": true
   },
   "outputs": [],
   "source": [
    "args = {'prediction_path': PREDICTION_PATH,\n",
    "        'k': 12,\n",
    "        'n_iter': 50,\n",
    "        'library': 'sklearn',\n",
    "        'random_state': 70,\n",
    "        'fn_suffix': 'skl_'}\n",
    "\n",
    "# 5-fold cross-validation\n",
    "train_rmse, test_rmse = cross_validation(folds, model_mf_svd, args)\n",
    "errors['mf_svd_skl'] = [train_rmse, test_rmse]"
   ]
  },
  {
   "cell_type": "code",
   "execution_count": null,
   "metadata": {
    "collapsed": true
   },
   "outputs": [],
   "source": [
    "# Train on entire training set. Predict for `submission` dataset\n",
    "model_mf_svd(ratings, sample_submission, False, **args)\n",
    "\n",
    "### Bef ref. achieved 0.99386 (approx) on test\n",
    "# Achieves 0.99082 in Kaggle"
   ]
  },
  {
   "cell_type": "markdown",
   "metadata": {},
   "source": [
    "Recommend's ALS model"
   ]
  },
  {
   "cell_type": "code",
   "execution_count": null,
   "metadata": {},
   "outputs": [],
   "source": [
    "from prediction_methods.recommend_model import model_mf_als_recommend\n",
    "\n",
    "n_item, n_user = ratings.shape\n",
    "args = {'n_user': n_user,\n",
    "        'n_item': n_item,\n",
    "        'prediction_path': PREDICTION_PATH,\n",
    "        'k': 20,\n",
    "        'n_iter': 50,\n",
    "        'reg': 85e-3}\n",
    "\n",
    "# 5-fold cross-validation\n",
    "train_rmse, test_rmse = cross_validation(folds, model_mf_als_recommend, args)\n",
    "errors['mf_als_recommend'] = [train_rmse, test_rmse]"
   ]
  },
  {
   "cell_type": "code",
   "execution_count": null,
   "metadata": {
    "collapsed": true
   },
   "outputs": [],
   "source": [
    "# Train on entire training set. Predict for `submission` dataset\n",
    "model_mf_als_recommend(ratings, sample_submission, False, **args)\n",
    "\n",
    "#Test RMSE of model_mf_als_recommend: 0.9975413590062877\n",
    "#0.98585 on Kaggle"
   ]
  },
  {
   "cell_type": "markdown",
   "metadata": {},
   "source": [
    "Surprise models"
   ]
  },
  {
   "cell_type": "markdown",
   "metadata": {},
   "source": [
    "* SlopeOne"
   ]
  },
  {
   "cell_type": "code",
   "execution_count": null,
   "metadata": {
    "collapsed": true
   },
   "outputs": [],
   "source": [
    "from prediction_methods.surprise_models import model_slope_one"
   ]
  },
  {
   "cell_type": "code",
   "execution_count": null,
   "metadata": {},
   "outputs": [],
   "source": [
    "args = {'prediction_path': PREDICTION_PATH}\n",
    "\n",
    "# 5-fold cross-validation\n",
    "train_rmse, test_rmse = cross_validation_sur(folds_tr, folds_te, model_slope_one, args)\n",
    "errors['slope_one'] = [train_rmse, test_rmse]"
   ]
  },
  {
   "cell_type": "code",
   "execution_count": null,
   "metadata": {},
   "outputs": [],
   "source": [
    "model_slope_one(ratings_sur, sample_submission_sur, False, **args)"
   ]
  },
  {
   "cell_type": "markdown",
   "metadata": {},
   "source": [
    "* CoClustering"
   ]
  },
  {
   "cell_type": "code",
   "execution_count": null,
   "metadata": {
    "collapsed": true
   },
   "outputs": [],
   "source": [
    "from prediction_methods.surprise_models import model_co_clustering"
   ]
  },
  {
   "cell_type": "code",
   "execution_count": null,
   "metadata": {
    "collapsed": true
   },
   "outputs": [],
   "source": [
    "args = {'prediction_path': PREDICTION_PATH,\n",
    "        'n_cltr_ud': 75,\n",
    "        'n_cltr_id': 3,\n",
    "        'n_epochsd': 100}\n",
    "\n",
    "# 5-fold cross-validation\n",
    "train_rmse, test_rmse = cross_validation_sur(folds_sur, model_co_clustering, args)\n",
    "errors['co_clustering'] = [train_rmse, test_rmse]"
   ]
  },
  {
   "cell_type": "code",
   "execution_count": null,
   "metadata": {
    "collapsed": true
   },
   "outputs": [],
   "source": [
    "model_co_clustering(ratings_sur, sample_submission_sur, False, **args)"
   ]
  },
  {
   "cell_type": "markdown",
   "metadata": {},
   "source": [
    "* KNN Baseline (user based)"
   ]
  },
  {
   "cell_type": "code",
   "execution_count": null,
   "metadata": {
    "collapsed": true
   },
   "outputs": [],
   "source": [
    "from prediction_methods.surprise_models import model_knn_baseline"
   ]
  },
  {
   "cell_type": "code",
   "execution_count": null,
   "metadata": {
    "collapsed": true
   },
   "outputs": [],
   "source": [
    "args = {'prediction_path': PREDICTION_PATH,\n",
    "        'k': 300,\n",
    "        'min_k': 20,\n",
    "        'name': 'pearson_baseline',\n",
    "        'user_based': True,\n",
    "        'fn_suffix': 'u_'}\n",
    "\n",
    "# 5-fold cross-validation\n",
    "train_rmse, test_rmse = cross_validation_sur(folds_sur, model_knn_baseline, args)\n",
    "errors['knn_baseline_u'] = [train_rmse, test_rmse]"
   ]
  },
  {
   "cell_type": "code",
   "execution_count": null,
   "metadata": {
    "collapsed": true
   },
   "outputs": [],
   "source": [
    "model_knn_baseline(ratings_sur, sample_submission_sur, False, **args)"
   ]
  },
  {
   "cell_type": "markdown",
   "metadata": {},
   "source": [
    "* KNN Baseline (item based)"
   ]
  },
  {
   "cell_type": "code",
   "execution_count": null,
   "metadata": {
    "collapsed": true
   },
   "outputs": [],
   "source": [
    "args = {'prediction_path': PREDICTION_PATH,\n",
    "        'k': 120,\n",
    "        'min_k': 20,\n",
    "        'name': 'pearson_baseline',\n",
    "        'user_based': False,\n",
    "        'fn_suffix': 'i_'}\n",
    "\n",
    "# 5-fold cross-validation\n",
    "train_rmse, test_rmse = cross_validation_sur(folds_sur, model_knn_baseline, args)\n",
    "errors['knn_baseline_i'] = [train_rmse, test_rmse]"
   ]
  },
  {
   "cell_type": "code",
   "execution_count": null,
   "metadata": {
    "collapsed": true
   },
   "outputs": [],
   "source": [
    "model_knn_baseline(ratings_sur, sample_submission_sur, False, **args)"
   ]
  },
  {
   "cell_type": "markdown",
   "metadata": {},
   "source": [
    "* NMF"
   ]
  },
  {
   "cell_type": "code",
   "execution_count": null,
   "metadata": {
    "collapsed": true
   },
   "outputs": [],
   "source": [
    "from prediction_methods.surprise_models import model_nmf"
   ]
  },
  {
   "cell_type": "code",
   "execution_count": null,
   "metadata": {
    "collapsed": true
   },
   "outputs": [],
   "source": [
    "args = {'prediction_path': PREDICTION_PATH,\n",
    "        'biased': True,\n",
    "        'k': 18,\n",
    "        'reg_pu': 0.08,\n",
    "        'reg_qi': 0.08,\n",
    "        'reg_bu': 0.055,\n",
    "        'reg_bi': 0.055,\n",
    "        'n_epochs': 150}\n",
    "\n",
    "# 5-fold cross-validation\n",
    "train_rmse, test_rmse = cross_validation_sur(folds_sur, model_nmf, args)\n",
    "errors['nmf'] = [train_rmse, test_rmse]"
   ]
  },
  {
   "cell_type": "code",
   "execution_count": null,
   "metadata": {
    "collapsed": true
   },
   "outputs": [],
   "source": [
    "model_nmf(ratings_sur, sample_submission_sur, False, **args)"
   ]
  },
  {
   "cell_type": "markdown",
   "metadata": {},
   "source": [
    "* SVD"
   ]
  },
  {
   "cell_type": "code",
   "execution_count": null,
   "metadata": {
    "collapsed": true
   },
   "outputs": [],
   "source": [
    "from prediction_methods.surprise_models import model_svd"
   ]
  },
  {
   "cell_type": "code",
   "execution_count": null,
   "metadata": {
    "collapsed": true
   },
   "outputs": [],
   "source": [
    "args = {'prediction_path': PREDICTION_PATH,\n",
    "        'biased': True,\n",
    "        'k': 130,\n",
    "        'reg_all': 0.065,\n",
    "        'n_epochs': 50}\n",
    "\n",
    "# 5-fold cross-validation\n",
    "train_rmse, test_rmse = cross_validation_sur(folds_sur, model_svd, args)\n",
    "errors['sur_svd'] = [train_rmse, test_rmse]"
   ]
  },
  {
   "cell_type": "code",
   "execution_count": null,
   "metadata": {
    "collapsed": true
   },
   "outputs": [],
   "source": [
    "model_svd(ratings_sur, sample_submission_sur, False, **args)"
   ]
  },
  {
   "cell_type": "markdown",
   "metadata": {},
   "source": [
    "#### Combine ratings"
   ]
  },
  {
   "cell_type": "markdown",
   "metadata": {},
   "source": [
    "Load ratings for test and validation files"
   ]
  },
  {
   "cell_type": "code",
   "execution_count": null,
   "metadata": {
    "collapsed": true
   },
   "outputs": [],
   "source": [
    "#TODO"
   ]
  },
  {
   "cell_type": "markdown",
   "metadata": {},
   "source": [
    "Do (regularized?) linear regression on the test rating predictions to obtain best weights"
   ]
  },
  {
   "cell_type": "code",
   "execution_count": null,
   "metadata": {
    "collapsed": true
   },
   "outputs": [],
   "source": [
    "#TODO"
   ]
  },
  {
   "cell_type": "markdown",
   "metadata": {},
   "source": [
    "Adjust regularization for getting similar errors in test and validation"
   ]
  },
  {
   "cell_type": "code",
   "execution_count": null,
   "metadata": {
    "collapsed": true
   },
   "outputs": [],
   "source": [
    "#TODO\n",
    "#Also ask a TA if this is ok. Also, maybe I should not be calling the sets `test` and `validation`"
   ]
  },
  {
   "cell_type": "markdown",
   "metadata": {},
   "source": [
    "Load ratings for submission files"
   ]
  },
  {
   "cell_type": "code",
   "execution_count": null,
   "metadata": {
    "collapsed": true
   },
   "outputs": [],
   "source": [
    "#TODO"
   ]
  },
  {
   "cell_type": "markdown",
   "metadata": {},
   "source": [
    "Apply previous weights to obtain a final submission"
   ]
  },
  {
   "cell_type": "code",
   "execution_count": null,
   "metadata": {
    "collapsed": true
   },
   "outputs": [],
   "source": [
    "#TODO"
   ]
  }
 ],
 "metadata": {
  "kernelspec": {
   "display_name": "Python 3",
   "language": "python",
   "name": "python3"
  },
  "language_info": {
   "codemirror_mode": {
    "name": "ipython",
    "version": 3
   },
   "file_extension": ".py",
   "mimetype": "text/x-python",
   "name": "python",
   "nbconvert_exporter": "python",
   "pygments_lexer": "ipython3",
   "version": "3.6.3"
  }
 },
 "nbformat": 4,
 "nbformat_minor": 2
}
