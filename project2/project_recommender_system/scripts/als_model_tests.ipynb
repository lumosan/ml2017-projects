{
 "cells": [
  {
   "cell_type": "code",
   "execution_count": 41,
   "metadata": {},
   "outputs": [
    {
     "name": "stdout",
     "output_type": "stream",
     "text": [
      "The autoreload extension is already loaded. To reload it, use:\n",
      "  %reload_ext autoreload\n"
     ]
    }
   ],
   "source": [
    "import numpy as np\n",
    "import scipy\n",
    "import scipy.io\n",
    "import scipy.sparse as sp\n",
    "import csv\n",
    "\n",
    "import matplotlib.pyplot as plt\n",
    "import seaborn as sns\n",
    "sns.set_style(\"whitegrid\")\n",
    "\n",
    "%load_ext autoreload\n",
    "%autoreload 2\n",
    "%matplotlib inline\n",
    "\n",
    "from helpers import calculate_mse"
   ]
  },
  {
   "cell_type": "markdown",
   "metadata": {},
   "source": [
    "# 0.1 Load and prepare data"
   ]
  },
  {
   "cell_type": "markdown",
   "metadata": {},
   "source": [
    "### Training and testing data"
   ]
  },
  {
   "cell_type": "markdown",
   "metadata": {},
   "source": [
    "#### Load the Data\n",
    "`ratings` is a sparse matrix in the shape of (num_items, num_users)"
   ]
  },
  {
   "cell_type": "code",
   "execution_count": 42,
   "metadata": {},
   "outputs": [
    {
     "name": "stdout",
     "output_type": "stream",
     "text": [
      "number of items: 10000, number of users: 1000\n"
     ]
    }
   ],
   "source": [
    "from helpers import load_data, preprocess_data\n",
    "\n",
    "DATA_PATH = '../data/'\n",
    "PREDICTION_PATH = '../data/predictions/'\n",
    "ratings = load_data('{dp}data_train.csv'.format(dp=DATA_PATH))\n",
    "#ratings = load_data('{dp}movielens100k.csv'.format(dp=DATA_PATH))"
   ]
  },
  {
   "cell_type": "markdown",
   "metadata": {},
   "source": [
    "#### Plot the number of ratings per movie and user"
   ]
  },
  {
   "cell_type": "code",
   "execution_count": 43,
   "metadata": {
    "scrolled": true
   },
   "outputs": [
    {
     "data": {
      "image/png": "[encoded data removed]",
      "text/plain": [
       "<matplotlib.figure.Figure at 0x7f7f78812390>"
      ]
     },
     "metadata": {},
     "output_type": "display_data"
    },
    {
     "name": "stdout",
     "output_type": "stream",
     "text": [
      "min # of items per user = 8, min # of users per item = 3.\n"
     ]
    }
   ],
   "source": [
    "from plots import plot_raw_data\n",
    "\n",
    "num_items_per_user, num_users_per_item = plot_raw_data(ratings)\n",
    "\n",
    "print(\"min # of items per user = {}, min # of users per item = {}.\".format(\n",
    "        min(num_items_per_user), min(num_users_per_item)))"
   ]
  },
  {
   "cell_type": "markdown",
   "metadata": {},
   "source": [
    "#### Split the data into a train and test set"
   ]
  },
  {
   "cell_type": "code",
   "execution_count": 44,
   "metadata": {
    "collapsed": true
   },
   "outputs": [],
   "source": [
    "def split_data(ratings, num_items_per_user, num_users_per_item,\n",
    "               min_num_ratings, p_test=0.1, verbose=False):\n",
    "    \"\"\"split the ratings to training data and test data.\n",
    "    Args:\n",
    "        min_num_ratings: \n",
    "            all users and items we keep must have at least min_num_ratings per user and per item. \n",
    "    \"\"\"\n",
    "    # set seed\n",
    "    np.random.seed(988)\n",
    "    \n",
    "    # select user and item based on the condition.\n",
    "    valid_users = np.where(num_items_per_user >= min_num_ratings)[0]\n",
    "    valid_items = np.where(num_users_per_item >= min_num_ratings)[0]\n",
    "    valid_ratings = ratings[valid_items, :][:, valid_users]\n",
    "    \n",
    "    # LIL is a convenient format for constructing sparse matrices\n",
    "    train = sp.lil_matrix(valid_ratings.shape)\n",
    "    test = sp.lil_matrix(valid_ratings.shape)\n",
    "    \n",
    "    valid_ratings_i, valid_ratings_u, valid_ratings_v = sp.find(valid_ratings)\n",
    "    valid_ratings_p_idx = np.random.permutation(range(len(valid_ratings_i)))\n",
    "    \n",
    "    n_test = int(p_test*len(valid_ratings_i))\n",
    "    \n",
    "    for idx in valid_ratings_p_idx[:n_test]:\n",
    "        test[valid_ratings_i[idx], valid_ratings_u[idx]] = valid_ratings_v[idx]\n",
    "        \n",
    "    for idx in valid_ratings_p_idx[n_test:]:\n",
    "        train[valid_ratings_i[idx], valid_ratings_u[idx]] = valid_ratings_v[idx]\n",
    "\n",
    "    if verbose:\n",
    "        print(\"Total number of nonzero elements in original data:{v}\".format(v=ratings.nnz))\n",
    "        print(\"Total number of nonzero elements in train data:{v}\".format(v=train.nnz))\n",
    "        print(\"Total number of nonzero elements in test data:{v}\".format(v=test.nnz))\n",
    "    \n",
    "    # convert to CSR for faster operations\n",
    "    return valid_ratings, train.tocsr(), test.tocsr()"
   ]
  },
  {
   "cell_type": "code",
   "execution_count": 66,
   "metadata": {},
   "outputs": [
    {
     "name": "stdout",
     "output_type": "stream",
     "text": [
      "Total number of nonzero elements in original data:1176952\n",
      "Total number of nonzero elements in train data:1059186\n",
      "Total number of nonzero elements in test data:117687\n"
     ]
    }
   ],
   "source": [
    "valid_ratings, train, test = split_data(ratings, num_items_per_user,\n",
    "    num_users_per_item, min_num_ratings=10, p_test=0.1, verbose=True)"
   ]
  },
  {
   "cell_type": "markdown",
   "metadata": {},
   "source": [
    "### Read submission creation data"
   ]
  },
  {
   "cell_type": "code",
   "execution_count": 67,
   "metadata": {},
   "outputs": [
    {
     "name": "stdout",
     "output_type": "stream",
     "text": [
      "number of items: 10000, number of users: 1000\n"
     ]
    }
   ],
   "source": [
    "ratings_csr = ratings.tocsr()\n",
    "sample_submission = load_data('{dp}sample_submission.csv'.format(dp=DATA_PATH))\n",
    "sample_submission_csr = sample_submission.tocsr()"
   ]
  },
  {
   "cell_type": "markdown",
   "metadata": {},
   "source": [
    "# 0.2 Auxiliary functions"
   ]
  },
  {
   "cell_type": "code",
   "execution_count": 68,
   "metadata": {
    "collapsed": true
   },
   "outputs": [],
   "source": [
    "def compute_division(a, b):\n",
    "    \"\"\"Computes element by element division.\n",
    "    If x/0 returns 0.\n",
    "    \"\"\"\n",
    "    # Raises error if vectors have different lengths\n",
    "    assert(len(a) == len(b))\n",
    "    \n",
    "    # Computes division\n",
    "    res = a.copy()\n",
    "    for i in range(len(a)):\n",
    "        if b[i] == 0:\n",
    "            res[i] = 0\n",
    "        else:\n",
    "            res[i] = a[i] / b[i]\n",
    "\n",
    "    return res"
   ]
  },
  {
   "cell_type": "markdown",
   "metadata": {},
   "source": [
    "# 1 Baselines"
   ]
  },
  {
   "cell_type": "code",
   "execution_count": 69,
   "metadata": {
    "collapsed": true,
    "scrolled": true
   },
   "outputs": [],
   "source": [
    "# Baseline rating\n",
    "def baseline_rating(data):\n",
    "    \"\"\"Implements baseline method for a ratings matrix\n",
    "    using the global mean.\n",
    "    \"\"\"\n",
    "    # Compute global mean using training data\n",
    "    r_mean = data.sum() / data.getnnz()\n",
    "    return r_mean\n",
    "\n",
    "\n",
    "# User or item specific effect\n",
    "def baseline_user_item_specific(data, mean, set_num=0):\n",
    "    \"\"\"Implements baseline method for a ratings matrix\n",
    "    using either the user or the item mean,\n",
    "    as indicated in parameter mean.\n",
    "    \"\"\"\n",
    "    if mean==\"user\":\n",
    "        flag = 1\n",
    "        inv_flag = 0\n",
    "    else:\n",
    "        flag = 0\n",
    "        inv_flag = 1\n",
    "\n",
    "    num = max(set_num, data.shape[flag])\n",
    "    \n",
    "    # Obtain r_demeaned (ratings minus global avg)\n",
    "    global_mean = baseline_rating(data)\n",
    "    r_demeaned = data.copy()\n",
    "    r_demeaned.data = (1.0 * r_demeaned.data) - global_mean\n",
    "    \n",
    "    # Compute means using training data\n",
    "    # get rows, columns and values for elements in r_demeaned\n",
    "    data_rcv = sp.find(r_demeaned)\n",
    "    # compute means\n",
    "    counts = np.bincount(data_rcv[flag], minlength=num)\n",
    "    sums = np.bincount(data_rcv[flag], weights=data_rcv[2], minlength=num)\n",
    "    means = compute_division(sums, counts)\n",
    "\n",
    "    return means"
   ]
  },
  {
   "cell_type": "code",
   "execution_count": 70,
   "metadata": {
    "collapsed": true
   },
   "outputs": [],
   "source": [
    "def demean_matrix(data, verbose=False):\n",
    "    \"\"\"Removes the global, user and item means from a matrix.\n",
    "    Returns the matrix and the computed means.\n",
    "    \"\"\"\n",
    "    num_rows, num_cols = data.shape\n",
    "    (rows, cols, vals) = sp.find(data)\n",
    "    \n",
    "    # Compute global, user and item means    \n",
    "    global_mean = baseline_rating(data)\n",
    "    item_means = baseline_user_item_specific(data, 'item')\n",
    "    user_means = baseline_user_item_specific(data, 'user')\n",
    "    \n",
    "    # Substract the baseline of each element in 'data'\n",
    "    train_vals = vals.copy()\n",
    "    train_vals = 1.0 * train_vals\n",
    "    \n",
    "    baselines = np.array([(global_mean + item_means[i] + user_means[u])\n",
    "        for (i, u) in zip(rows, cols)])\n",
    "    train_vals = train_vals - baselines\n",
    "    \n",
    "    # Get matrix\n",
    "    r_demeaned = sp.csr_matrix((train_vals, (rows, cols)),\n",
    "        shape=(num_rows, num_cols))\n",
    "    \n",
    "    if verbose:\n",
    "        print('---------------------------------------------')\n",
    "        print('          Completed demean_matrix!           ')\n",
    "        print('---------------------------------------------')\n",
    "    \n",
    "    return r_demeaned, global_mean, user_means, item_means"
   ]
  },
  {
   "cell_type": "code",
   "execution_count": 71,
   "metadata": {
    "collapsed": true
   },
   "outputs": [],
   "source": [
    "def demean_test_matrix(data, global_mean, item_means, user_means,\n",
    "    verbose=False):\n",
    "    \"\"\"Removes the global, user and item means from a matrix.\n",
    "    Returns the matrix and the computed means.\n",
    "    \"\"\"\n",
    "    num_items, num_users = data.shape\n",
    "    (rows, cols, vals) = sp.find(data)\n",
    "    \n",
    "    # Substract the baseline of each element in 'data'\n",
    "    train_vals = vals.copy()\n",
    "    train_vals = 1.0 * train_vals\n",
    "    \n",
    "    baselines = np.array([(global_mean + item_means[i] + user_means[u])\n",
    "        for (i, u) in zip(rows, cols)])\n",
    "    train_vals -= baselines\n",
    "\n",
    "    # Get matrix\n",
    "    r_demeaned = sp.csr_matrix((train_vals, (rows, cols)),\n",
    "        shape=(num_items, num_users))\n",
    "    \n",
    "    if verbose:\n",
    "        print('---------------------------------------------')\n",
    "        print('          Completed demean_matrix!           ')\n",
    "        print('---------------------------------------------')\n",
    "    return r_demeaned"
   ]
  },
  {
   "cell_type": "markdown",
   "metadata": {},
   "source": [
    "# 2 Matrix Factorization"
   ]
  },
  {
   "cell_type": "code",
   "execution_count": 72,
   "metadata": {
    "collapsed": true
   },
   "outputs": [],
   "source": [
    "def init_MF(data, k):\n",
    "    \"\"\"Initializes parameters for Matrix Factorization.\n",
    "    Assumes 'data' matrix is already demeaned.\n",
    "    \"\"\"      \n",
    "    np.random.seed(988)\n",
    "    num_items, num_users = data.shape\n",
    "    u_features = np.random.rand(k, num_users)\n",
    "    i_features = np.random.rand(k, num_items)\n",
    "    return u_features, i_features"
   ]
  },
  {
   "cell_type": "code",
   "execution_count": 73,
   "metadata": {
    "collapsed": true
   },
   "outputs": [],
   "source": [
    "def compute_error(data, u_features, i_features, nz):\n",
    "    \"\"\"Compute RMSE for prediction of nonzero elements.\"\"\"\n",
    "    preds = np.array([(u_features[:,u].dot(i_features[:,i]))\n",
    "        for (i, u) in nz])\n",
    "    vals = np.array([data[i,u] for (i,u) in nz])\n",
    "    mse = calculate_mse(vals, preds)  \n",
    "    rmse = np.sqrt(mse / len(vals))\n",
    "    return rmse"
   ]
  },
  {
   "cell_type": "markdown",
   "metadata": {},
   "source": [
    "Test these two functions:"
   ]
  },
  {
   "cell_type": "code",
   "execution_count": 74,
   "metadata": {
    "collapsed": true
   },
   "outputs": [],
   "source": [
    "def update_user_features(train, i_features, lambda_u,\n",
    "    n_i_per_user, nz_i_per_user):\n",
    "    \"\"\"Updates user feature matrix.\"\"\"\n",
    "    n_u = len(nz_i_per_user)\n",
    "    k = i_features.shape[0]\n",
    "    lambda_u_I = lambda_u * sp.eye(k)\n",
    "    new_u_features = np.zeros((k, n_u))\n",
    "    for u, i in nz_i_per_user:\n",
    "        M = i_features[:,i]\n",
    "        V = train[i,u].T.dot(M.T)\n",
    "        A = M.dot(M.T) + n_i_per_user[u] * lambda_u_I\n",
    "        new_u_features[:,u] = np.linalg.solve(A, V.T).T\n",
    "    return new_u_features"
   ]
  },
  {
   "cell_type": "code",
   "execution_count": 75,
   "metadata": {},
   "outputs": [],
   "source": [
    "def update_item_features(train, u_features, lambda_i,\n",
    "    n_u_per_item, nz_u_per_item):\n",
    "    \"\"\"Updates item feature matrix.\"\"\"\n",
    "    n_i = len(nz_u_per_item)\n",
    "    k = u_features.shape[0]\n",
    "    lambda_i_I = lambda_i * sp.eye(k)\n",
    "    new_i_features = np.zeros((k, n_i))\n",
    "    for i, u in nz_u_per_item:\n",
    "        M = u_features[:,u]\n",
    "        V = train[i,u].dot(M.T)\n",
    "        A = M.dot(M.T) + n_u_per_item[i] * lambda_i_I\n",
    "        new_i_features[:,i] = np.linalg.solve(A, V.T).T\n",
    "    return new_i_features"
   ]
  },
  {
   "cell_type": "code",
   "execution_count": 76,
   "metadata": {
    "collapsed": true
   },
   "outputs": [],
   "source": [
    "from helpers import build_index_groups"
   ]
  },
  {
   "cell_type": "code",
   "execution_count": 121,
   "metadata": {
    "collapsed": true
   },
   "outputs": [],
   "source": [
    "def matrix_factorization_ALS(data_demeaned, test_demeaned, \n",
    "    k=20, lambda_u=.1, lambda_i=.7, tol=1e-4, max_iter=50,\n",
    "    init_u_features=None, init_i_features=None):\n",
    "    \"\"\"Matrix factorization by ALS\"\"\"\n",
    "    assert k <= min(data_demeaned.shape), \"k must be smaller than the min dimension of 'data'\"\n",
    "    \n",
    "    # Get non-zero elements\n",
    "    (rows, cols, vals) = sp.find(data_demeaned)\n",
    "    (test_rows, test_cols, test_vals) = sp.find(test_demeaned)\n",
    "\n",
    "    # Set seed\n",
    "    np.random.seed(988)\n",
    "    \n",
    "    # Initialize feature vectors for users and items\n",
    "    rand_u_features, rand_i_features = init_MF(data_demeaned, k)\n",
    "    if init_u_features is None:\n",
    "        u_features = rand_u_features\n",
    "    else:\n",
    "        u_features = init_u_features\n",
    "\n",
    "    if init_i_features is None:\n",
    "        i_features = rand_i_features\n",
    "    else:\n",
    "        i_features = init_i_features\n",
    "\n",
    "    # Get number of non-zero ratings per user and item\n",
    "    n_i_per_user = data_demeaned.getnnz(axis=0)\n",
    "    n_u_per_item = data_demeaned.getnnz(axis=1)\n",
    "    \n",
    "    # Get non-zero ratings per user and item\n",
    "    nz_train, nz_u_per_item, nz_i_per_user = build_index_groups(data_demeaned)\n",
    "\n",
    "    e = 1000\n",
    "    \n",
    "    # ALS-WR algorithm\n",
    "    for it in range(max_iter):\n",
    "        u_features = update_user_features(data_demeaned, i_features, lambda_u,\n",
    "            n_i_per_user, nz_i_per_user)\n",
    "        i_features = update_item_features(data_demeaned, u_features, lambda_i,\n",
    "            n_u_per_item, nz_u_per_item)\n",
    "        # compute and print new training error\n",
    "        old_e = e\n",
    "        e = compute_error(data_demeaned, u_features, i_features, nz_train)\n",
    "        print(\"training RMSE: {}.\".format(e))\n",
    "        if(abs(old_e - e) < tol):\n",
    "            print('Finished estimating features')\n",
    "            break\n",
    "        if(old_e - e < -tol):\n",
    "            print('Whoops!')\n",
    "            break\n",
    "    # Do predictions        \n",
    "    baselines = np.array([(global_mean + item_means[i] + user_means[u])\n",
    "        for (i, u) in zip(test_rows, test_cols)])\n",
    "    interactions = np.array([u_features[:,u].dot(i_features[:,i].T)\n",
    "        for (i, u) in zip(test_rows, test_cols)])\n",
    "    pred_test = baselines + interactions\n",
    "\n",
    "    # Compute and print test error\n",
    "    nnz_row, nnz_col = test.nonzero()\n",
    "    nnz_test = list(zip(nnz_row, nnz_col))\n",
    "    rmse = compute_error(test_demeaned, u_features, i_features, nnz_test)\n",
    "    print(\"test RMSE after running ALS: {v}.\".format(v=rmse))\n",
    "\n",
    "    return u_features, i_features"
   ]
  },
  {
   "cell_type": "markdown",
   "metadata": {},
   "source": [
    "tests"
   ]
  },
  {
   "cell_type": "code",
   "execution_count": 78,
   "metadata": {},
   "outputs": [],
   "source": [
    "# Demean matrix and get feature vectors\n",
    "r_demeaned, global_mean, user_means, item_means = demean_matrix(train, verbose=False)\n",
    "test_r_demeaned = demean_test_matrix(test, global_mean, item_means,\n",
    "    user_means, verbose=False)"
   ]
  },
  {
   "cell_type": "code",
   "execution_count": 79,
   "metadata": {},
   "outputs": [
    {
     "name": "stdout",
     "output_type": "stream",
     "text": [
      "training RMSE: 0.8777862258178835.\n",
      "training RMSE: 0.8609852732733557.\n",
      "training RMSE: 0.8494242541625361.\n",
      "training RMSE: 0.8414352305467109.\n",
      "training RMSE: 0.8355475624432326.\n",
      "training RMSE: 0.8309952836855966.\n",
      "training RMSE: 0.8273675851466326.\n",
      "training RMSE: 0.8244777626958406.\n",
      "training RMSE: 0.8221390154538166.\n",
      "training RMSE: 0.8202211401359562.\n",
      "training RMSE: 0.8185933833674747.\n",
      "training RMSE: 0.8172179375038617.\n",
      "training RMSE: 0.8160185127237288.\n",
      "training RMSE: 0.8149958845960243.\n",
      "training RMSE: 0.8140796074315819.\n",
      "training RMSE: 0.813272852105327.\n",
      "training RMSE: 0.8125509141310915.\n",
      "training RMSE: 0.8119033624186827.\n",
      "training RMSE: 0.811321271454323.\n",
      "training RMSE: 0.8107961328573489.\n",
      "training RMSE: 0.8103140591436243.\n",
      "training RMSE: 0.8098739035279681.\n",
      "training RMSE: 0.8094649221133756.\n",
      "training RMSE: 0.8090866257653035.\n",
      "training RMSE: 0.808732652574688.\n",
      "training RMSE: 0.808408715765256.\n",
      "training RMSE: 0.8081055632920267.\n",
      "training RMSE: 0.8078251981609506.\n",
      "training RMSE: 0.8075565231516673.\n",
      "training RMSE: 0.8072977871617737.\n",
      "training RMSE: 0.8070587278820082.\n",
      "training RMSE: 0.8068314783943424.\n",
      "training RMSE: 0.8066162223369489.\n",
      "training RMSE: 0.8064150784389239.\n",
      "training RMSE: 0.8062223535417181.\n",
      "training RMSE: 0.8060433275158122.\n",
      "training RMSE: 0.8058693172828874.\n",
      "training RMSE: 0.8057011453387364.\n",
      "training RMSE: 0.8055424157999247.\n",
      "training RMSE: 0.805391519064551.\n",
      "training RMSE: 0.8052495203311993.\n",
      "training RMSE: 0.8051116972052619.\n",
      "training RMSE: 0.8049793981301401.\n",
      "training RMSE: 0.8048495535414537.\n",
      "training RMSE: 0.804725951664903.\n",
      "training RMSE: 0.8046069922771268.\n",
      "training RMSE: 0.8044906316451488.\n",
      "training RMSE: 0.8043798653400459.\n",
      "training RMSE: 0.8042716449081555.\n",
      "training RMSE: 0.804168170723629.\n",
      "test RMSE after running ALS: 15.24487597856167.\n"
     ]
    }
   ],
   "source": [
    "u_features_0, i_features_0 = matrix_factorization_ALS(r_demeaned, test_r_demeaned,\n",
    "    lambda_u=0, lambda_i=0)"
   ]
  },
  {
   "cell_type": "code",
   "execution_count": 81,
   "metadata": {},
   "outputs": [
    {
     "name": "stdout",
     "output_type": "stream",
     "text": [
      "training RMSE: 0.8040678715167391.\n",
      "training RMSE: 0.8039719579781739.\n",
      "Finished estimating features\n",
      "test RMSE after running ALS: 15.542746325402772.\n"
     ]
    }
   ],
   "source": [
    "u_features_1, i_features_1 = matrix_factorization_ALS(r_demeaned, test_r_demeaned,\n",
    "    lambda_u=0, lambda_i=0, init_u_features=u_features_0,\n",
    "    init_i_features=i_features_0)"
   ]
  },
  {
   "cell_type": "code",
   "execution_count": 100,
   "metadata": {},
   "outputs": [
    {
     "name": "stdout",
     "output_type": "stream",
     "text": [
      "training RMSE: 0.9237322846626974.\n",
      "training RMSE: 0.8377009792170633.\n",
      "training RMSE: 0.8294620803704968.\n",
      "training RMSE: 0.8268916018781186.\n",
      "training RMSE: 0.8256684789034854.\n",
      "training RMSE: 0.8249008040169914.\n",
      "training RMSE: 0.8243289815749132.\n",
      "training RMSE: 0.8238632685956975.\n",
      "training RMSE: 0.8234666760808166.\n",
      "training RMSE: 0.8231206627287084.\n",
      "training RMSE: 0.8228140956003854.\n",
      "training RMSE: 0.8225393928546721.\n",
      "training RMSE: 0.8222910263880261.\n",
      "training RMSE: 0.8220648361798045.\n",
      "training RMSE: 0.82185764338269.\n",
      "training RMSE: 0.8216669915377129.\n",
      "training RMSE: 0.8214909578679074.\n",
      "training RMSE: 0.8213280120437985.\n",
      "training RMSE: 0.8211769105248491.\n",
      "training RMSE: 0.8210366180697286.\n",
      "training RMSE: 0.820906249788166.\n",
      "training RMSE: 0.8207850286920341.\n",
      "training RMSE: 0.8206722551758153.\n",
      "training RMSE: 0.8205672859272846.\n",
      "training RMSE: 0.8204695203388169.\n",
      "Finished estimating features\n",
      "test RMSE after running ALS: 1.040108102927818.\n"
     ]
    }
   ],
   "source": [
    "u_features_003, i_features_003 = matrix_factorization_ALS(r_demeaned, test_r_demeaned,\n",
    "    lambda_u=.03, lambda_i=.03, init_u_features=u_features_1,\n",
    "    init_i_features=i_features_1)"
   ]
  },
  {
   "cell_type": "code",
   "execution_count": 97,
   "metadata": {},
   "outputs": [
    {
     "name": "stdout",
     "output_type": "stream",
     "text": [
      "training RMSE: 0.9440056863643365.\n",
      "training RMSE: 0.8674954695546094.\n",
      "training RMSE: 0.8527756072753845.\n",
      "training RMSE: 0.8505934876576436.\n",
      "training RMSE: 0.8494880935771318.\n",
      "training RMSE: 0.848720736941489.\n",
      "training RMSE: 0.8481214730423818.\n",
      "training RMSE: 0.8476289975565953.\n",
      "training RMSE: 0.8472131159422965.\n",
      "training RMSE: 0.8468558521185766.\n",
      "training RMSE: 0.8465452059838438.\n",
      "training RMSE: 0.8462725930422873.\n",
      "training RMSE: 0.84603159727241.\n",
      "training RMSE: 0.8458172731311977.\n",
      "training RMSE: 0.8456257147323165.\n",
      "training RMSE: 0.8454537725199528.\n",
      "training RMSE: 0.8452988593418155.\n",
      "training RMSE: 0.8451588147997082.\n",
      "training RMSE: 0.8450318094823973.\n",
      "training RMSE: 0.8449162768709559.\n",
      "training RMSE: 0.8448108642218617.\n",
      "training RMSE: 0.8447143962935917.\n",
      "Finished estimating features\n",
      "test RMSE after running ALS: 1.0080531665669978.\n"
     ]
    }
   ],
   "source": [
    "u_features_005, i_features_005 = matrix_factorization_ALS(r_demeaned, test_r_demeaned,\n",
    "    lambda_u=.05, lambda_i=.05, init_u_features=u_features_1,\n",
    "    init_i_features=i_features_1)"
   ]
  },
  {
   "cell_type": "code",
   "execution_count": 98,
   "metadata": {},
   "outputs": [
    {
     "name": "stdout",
     "output_type": "stream",
     "text": [
      "training RMSE: 0.9641700419931245.\n",
      "training RMSE: 0.9099997469053797.\n",
      "training RMSE: 0.8887662061230855.\n",
      "training RMSE: 0.8818756783694464.\n",
      "training RMSE: 0.88007661343303.\n",
      "training RMSE: 0.8791076687083005.\n",
      "training RMSE: 0.8784200166669982.\n",
      "training RMSE: 0.8778861494602218.\n",
      "training RMSE: 0.8774535573502504.\n",
      "training RMSE: 0.8770941181734742.\n",
      "training RMSE: 0.8767904125917425.\n",
      "training RMSE: 0.8765305723990653.\n",
      "training RMSE: 0.8763059833829042.\n",
      "training RMSE: 0.876110130288836.\n",
      "training RMSE: 0.8759379524566021.\n",
      "training RMSE: 0.8757854497925661.\n",
      "training RMSE: 0.875649422955707.\n",
      "training RMSE: 0.8755272919783184.\n",
      "training RMSE: 0.8754169642133055.\n",
      "training RMSE: 0.8753167350773614.\n",
      "training RMSE: 0.8752252115252053.\n",
      "Finished estimating features\n",
      "test RMSE after running ALS: 0.9924255556022445.\n"
     ]
    }
   ],
   "source": [
    "u_features_005b, i_features_005b = matrix_factorization_ALS(r_demeaned, test_r_demeaned,\n",
    "    lambda_u=.05, lambda_i=.1, init_u_features=u_features_1,\n",
    "    init_i_features=i_features_1)"
   ]
  },
  {
   "cell_type": "code",
   "execution_count": 99,
   "metadata": {},
   "outputs": [
    {
     "name": "stdout",
     "output_type": "stream",
     "text": [
      "training RMSE: 0.9471055893681931.\n",
      "training RMSE: 0.9017959436917476.\n",
      "training RMSE: 0.8862266980295657.\n",
      "training RMSE: 0.8813930763595111.\n",
      "training RMSE: 0.8799239460953054.\n",
      "training RMSE: 0.8790337780995346.\n",
      "training RMSE: 0.8783794213359105.\n",
      "training RMSE: 0.8778634555244905.\n",
      "training RMSE: 0.8774416351894632.\n",
      "training RMSE: 0.8770891129131911.\n",
      "training RMSE: 0.8767900401426214.\n",
      "training RMSE: 0.8765333996259413.\n",
      "training RMSE: 0.8763110782001142.\n",
      "training RMSE: 0.8761168723659957.\n",
      "training RMSE: 0.8759459220944804.\n",
      "training RMSE: 0.8757943586665514.\n",
      "training RMSE: 0.8756590691103389.\n",
      "training RMSE: 0.8755375297766786.\n",
      "training RMSE: 0.8754276839723851.\n",
      "training RMSE: 0.8753278492149178.\n",
      "Finished estimating features\n",
      "test RMSE after running ALS: 0.9924443605327473.\n"
     ]
    }
   ],
   "source": [
    "u_features_005c, i_features_005c = matrix_factorization_ALS(r_demeaned, test_r_demeaned,\n",
    "    lambda_u=.1, lambda_i=.05, init_u_features=u_features_1,\n",
    "    init_i_features=i_features_1)"
   ]
  },
  {
   "cell_type": "code",
   "execution_count": 109,
   "metadata": {},
   "outputs": [
    {
     "name": "stdout",
     "output_type": "stream",
     "text": [
      "training RMSE: 0.9600277350424331.\n",
      "training RMSE: 0.9222327630355288.\n",
      "training RMSE: 0.9048966995498046.\n",
      "training RMSE: 0.8975922966242754.\n",
      "training RMSE: 0.8952037310593314.\n",
      "training RMSE: 0.8941106937455304.\n",
      "training RMSE: 0.893386142533172.\n",
      "training RMSE: 0.8928393495253608.\n",
      "training RMSE: 0.8924038884398758.\n",
      "training RMSE: 0.8920466804840125.\n",
      "training RMSE: 0.8917479838686498.\n",
      "training RMSE: 0.8914946655055959.\n",
      "training RMSE: 0.8912773492931217.\n",
      "training RMSE: 0.891089029117208.\n",
      "training RMSE: 0.8909243170385202.\n",
      "training RMSE: 0.8907789945585042.\n",
      "training RMSE: 0.8906497215479667.\n",
      "training RMSE: 0.8905338345742426.\n",
      "training RMSE: 0.8904292002274201.\n",
      "training RMSE: 0.8903341046975557.\n",
      "Finished estimating features\n",
      "test RMSE after running ALS: 0.9891936059402625.\n"
     ]
    }
   ],
   "source": [
    "u_features_01_part, i_features_01_part = matrix_factorization_ALS(r_demeaned, test_r_demeaned,\n",
    "    lambda_u=.08, lambda_i=.08, init_u_features=u_features_1,\n",
    "    init_i_features=i_features_1, max_iter=70)"
   ]
  },
  {
   "cell_type": "code",
   "execution_count": 82,
   "metadata": {},
   "outputs": [
    {
     "name": "stdout",
     "output_type": "stream",
     "text": [
      "training RMSE: 0.9664856383101701.\n",
      "training RMSE: 0.9518009394617436.\n",
      "training RMSE: 0.940508321560623.\n",
      "training RMSE: 0.9344077573489507.\n",
      "training RMSE: 0.9309489496193133.\n",
      "training RMSE: 0.9289890089113081.\n",
      "training RMSE: 0.9278356364443863.\n",
      "training RMSE: 0.9270917039056633.\n",
      "training RMSE: 0.9265632906094825.\n",
      "training RMSE: 0.9261607690961122.\n",
      "training RMSE: 0.9258402188232969.\n",
      "training RMSE: 0.925577535108613.\n",
      "training RMSE: 0.9253579018294267.\n",
      "training RMSE: 0.9251713785840238.\n",
      "training RMSE: 0.925010887685777.\n",
      "training RMSE: 0.9248711931764648.\n",
      "training RMSE: 0.9247483248361132.\n",
      "training RMSE: 0.9246392221248814.\n",
      "training RMSE: 0.9245414982261824.\n",
      "Finished estimating features\n",
      "test RMSE after running ALS: 0.987794646682212.\n"
     ]
    }
   ],
   "source": [
    "u_features_01, i_features_01 = matrix_factorization_ALS(r_demeaned, test_r_demeaned,\n",
    "    lambda_u=.1, lambda_i=.1, init_u_features=u_features_1,\n",
    "    init_i_features=i_features_1)"
   ]
  },
  {
   "cell_type": "code",
   "execution_count": 133,
   "metadata": {},
   "outputs": [
    {
     "name": "stdout",
     "output_type": "stream",
     "text": [
      "training RMSE: 0.9685997756660341.\n",
      "training RMSE: 0.9579673096160713.\n",
      "training RMSE: 0.9483720642486728.\n",
      "training RMSE: 0.9429259898308623.\n",
      "training RMSE: 0.9397650530051787.\n",
      "training RMSE: 0.9378346905308949.\n",
      "training RMSE: 0.936598493760148.\n",
      "training RMSE: 0.9357690859666724.\n",
      "training RMSE: 0.9351813018252785.\n",
      "training RMSE: 0.9347416198590953.\n",
      "training RMSE: 0.9343980199865941.\n",
      "training RMSE: 0.9341207075531481.\n",
      "training RMSE: 0.9338915344316967.\n",
      "training RMSE: 0.9336986709744584.\n",
      "training RMSE: 0.9335339451350378.\n",
      "training RMSE: 0.933391459874835.\n",
      "training RMSE: 0.933266826567983.\n",
      "training RMSE: 0.933156707949649.\n",
      "training RMSE: 0.9330585267874412.\n",
      "training RMSE: 0.9329702698626089.\n",
      "training RMSE: 0.9328903505724515.\n",
      "training RMSE: 0.9328175096246134.\n",
      "training RMSE: 0.9327507415365298.\n",
      "training RMSE: 0.9326892391761074.\n",
      "training RMSE: 0.9326323512388698.\n",
      "training RMSE: 0.9325795492082329.\n",
      "training RMSE: 0.9325304014114097.\n",
      "training RMSE: 0.9324845524889898.\n",
      "training RMSE: 0.9324417070714576.\n",
      "training RMSE: 0.9324016167798059.\n",
      "training RMSE: 0.9323640698903436.\n",
      "training RMSE: 0.9323288831583354.\n",
      "training RMSE: 0.9322958954033499.\n",
      "training RMSE: 0.9322649625358569.\n",
      "training RMSE: 0.932235953760267.\n",
      "training RMSE: 0.9322087487313306.\n",
      "training RMSE: 0.9321832354737335.\n",
      "training RMSE: 0.9321593089021317.\n",
      "training RMSE: 0.9321368698028796.\n",
      "training RMSE: 0.9321158241604691.\n",
      "training RMSE: 0.9320960827317859.\n",
      "training RMSE: 0.9320775607897416.\n",
      "training RMSE: 0.9320601779745894.\n",
      "training RMSE: 0.9320438582060977.\n",
      "training RMSE: 0.9320285296225618.\n",
      "training RMSE: 0.9320141245233182.\n",
      "training RMSE: 0.9320005793000506.\n",
      "training RMSE: 0.9319878343488235.\n",
      "training RMSE: 0.931975833959728.\n",
      "training RMSE: 0.9319645261844143.\n",
      "test RMSE after running ALS: 0.988206637815687.\n"
     ]
    }
   ],
   "source": [
    "u_features_01, i_features_01 = matrix_factorization_ALS(r_demeaned, test_r_demeaned,\n",
    "    lambda_u=.1, lambda_i=.11, init_u_features=u_features_1,\n",
    "    init_i_features=i_features_1, tol=1e-6)"
   ]
  },
  {
   "cell_type": "code",
   "execution_count": 94,
   "metadata": {},
   "outputs": [
    {
     "name": "stdout",
     "output_type": "stream",
     "text": [
      "training RMSE: 0.9506675376578096.\n",
      "training RMSE: 0.9670304223697375.\n",
      "Whoops!\n",
      "test RMSE after running ALS: 0.9954312095537533.\n"
     ]
    }
   ],
   "source": [
    "u_features_02, i_features_02 = matrix_factorization_ALS(r_demeaned, test_r_demeaned,\n",
    "    lambda_u=.1, lambda_i=.2, init_u_features=u_features_01,\n",
    "    init_i_features=i_features_01)"
   ]
  },
  {
   "cell_type": "code",
   "execution_count": 96,
   "metadata": {},
   "outputs": [
    {
     "name": "stdout",
     "output_type": "stream",
     "text": [
      "training RMSE: 0.9791089571509457.\n",
      "training RMSE: 0.9841546392393206.\n",
      "Whoops!\n",
      "test RMSE after running ALS: 1.0026210568848657.\n"
     ]
    }
   ],
   "source": [
    "u_features_02, i_features_02 = matrix_factorization_ALS(r_demeaned, test_r_demeaned,\n",
    "    lambda_u=.1, lambda_i=.2, init_u_features=u_features_1,\n",
    "    init_i_features=i_features_1, tol=1e-6, max_iter=15)"
   ]
  },
  {
   "cell_type": "code",
   "execution_count": null,
   "metadata": {
    "collapsed": true
   },
   "outputs": [],
   "source": []
  },
  {
   "cell_type": "code",
   "execution_count": 102,
   "metadata": {},
   "outputs": [
    {
     "name": "stdout",
     "output_type": "stream",
     "text": [
      "training RMSE: 0.764079693732386.\n",
      "training RMSE: 0.7487370440355664.\n",
      "training RMSE: 0.7367960202706672.\n",
      "training RMSE: 0.7277611007095072.\n",
      "training RMSE: 0.7208526966769482.\n",
      "training RMSE: 0.7154968417729765.\n",
      "training RMSE: 0.7111754166452892.\n",
      "training RMSE: 0.7076865431408613.\n",
      "training RMSE: 0.704699234689281.\n",
      "training RMSE: 0.7021060690878047.\n",
      "training RMSE: 0.6998590462945328.\n",
      "training RMSE: 0.6979209453377244.\n",
      "training RMSE: 0.6961410618500861.\n",
      "training RMSE: 0.694559626538089.\n",
      "training RMSE: 0.6930833050041255.\n",
      "training RMSE: 0.6917270187892332.\n",
      "training RMSE: 0.6904966214487582.\n",
      "training RMSE: 0.6893671279734188.\n",
      "training RMSE: 0.6883076483311295.\n",
      "training RMSE: 0.6873107339225871.\n",
      "training RMSE: 0.6863843093995506.\n",
      "training RMSE: 0.685512344385891.\n",
      "training RMSE: 0.6846845872536762.\n",
      "training RMSE: 0.6838871751026376.\n",
      "training RMSE: 0.6831354320210377.\n",
      "training RMSE: 0.6824119004878529.\n",
      "training RMSE: 0.6817422747511901.\n",
      "training RMSE: 0.6810785577330692.\n",
      "training RMSE: 0.6804515713413287.\n",
      "training RMSE: 0.6798530103452062.\n",
      "training RMSE: 0.6792625150486901.\n",
      "training RMSE: 0.6787016912513951.\n",
      "training RMSE: 0.6781681661524621.\n",
      "training RMSE: 0.677644726329172.\n",
      "training RMSE: 0.6771517285760117.\n",
      "training RMSE: 0.6766766258435682.\n",
      "training RMSE: 0.6762093282518417.\n",
      "training RMSE: 0.6757644806524338.\n",
      "training RMSE: 0.6753337315342524.\n",
      "training RMSE: 0.6749172152175489.\n",
      "training RMSE: 0.6745148232000522.\n",
      "training RMSE: 0.6741222541431937.\n",
      "training RMSE: 0.6737423638336699.\n",
      "training RMSE: 0.6733838679244522.\n",
      "training RMSE: 0.6730263887715275.\n",
      "training RMSE: 0.6726856467858823.\n",
      "training RMSE: 0.6723495727601543.\n",
      "training RMSE: 0.672033669894543.\n",
      "training RMSE: 0.671710377795331.\n",
      "training RMSE: 0.6714037598579553.\n",
      "training RMSE: 0.6711021241869425.\n",
      "training RMSE: 0.6708066168972824.\n",
      "training RMSE: 0.6705200642916224.\n",
      "training RMSE: 0.6702460504328983.\n",
      "training RMSE: 0.6699792878991758.\n",
      "training RMSE: 0.6697136763948481.\n",
      "training RMSE: 0.6694542656526479.\n",
      "training RMSE: 0.6692074999289195.\n",
      "training RMSE: 0.6689611563957026.\n",
      "training RMSE: 0.6687265704965148.\n",
      "training RMSE: 0.6684936730405803.\n",
      "training RMSE: 0.6682644308287913.\n",
      "training RMSE: 0.6680466479979978.\n",
      "training RMSE: 0.6678294261719687.\n",
      "training RMSE: 0.6676100435534214.\n",
      "training RMSE: 0.6674043585680955.\n",
      "training RMSE: 0.6671974873418548.\n",
      "training RMSE: 0.6669910673242914.\n",
      "training RMSE: 0.6667872512441997.\n",
      "training RMSE: 0.6665891325166726.\n",
      "test RMSE after running ALS: 632.023283842641.\n"
     ]
    }
   ],
   "source": [
    "u_features_0_40, i_features_0_40 = matrix_factorization_ALS(r_demeaned, test_r_demeaned,\n",
    "    lambda_u=0, lambda_i=0, k=40, max_iter=70)"
   ]
  },
  {
   "cell_type": "code",
   "execution_count": 103,
   "metadata": {},
   "outputs": [
    {
     "name": "stdout",
     "output_type": "stream",
     "text": [
      "training RMSE: 0.9502352027002542.\n",
      "training RMSE: 0.9442463019939583.\n",
      "training RMSE: 0.9317874269516543.\n",
      "training RMSE: 0.9240640706412115.\n",
      "training RMSE: 0.9191567410712959.\n",
      "training RMSE: 0.915690869857496.\n",
      "training RMSE: 0.9131276180328665.\n",
      "training RMSE: 0.9111635865378096.\n",
      "training RMSE: 0.909617128227158.\n",
      "training RMSE: 0.9083764596865558.\n",
      "training RMSE: 0.9073694332858585.\n",
      "training RMSE: 0.9065461682002757.\n",
      "training RMSE: 0.905869340049313.\n",
      "training RMSE: 0.9053093996256297.\n",
      "training RMSE: 0.9048425801177487.\n",
      "training RMSE: 0.9044499832850232.\n",
      "training RMSE: 0.904116844496979.\n",
      "training RMSE: 0.9038317577078886.\n",
      "training RMSE: 0.903585925110162.\n",
      "training RMSE: 0.9033725164600377.\n",
      "training RMSE: 0.9031861686892968.\n",
      "training RMSE: 0.9030226147108737.\n",
      "training RMSE: 0.9028784143793848.\n",
      "training RMSE: 0.9027507602676852.\n",
      "training RMSE: 0.9026373363786178.\n",
      "training RMSE: 0.9025362139785529.\n",
      "training RMSE: 0.9024457736207165.\n",
      "Finished estimating features\n",
      "test RMSE after running ALS: 0.988198556651075.\n"
     ]
    }
   ],
   "source": [
    "u_features_01_40, i_features_01_40 = matrix_factorization_ALS(r_demeaned, test_r_demeaned,\n",
    "    lambda_u=.1, lambda_i=.1, init_u_features=u_features_0_40,\n",
    "    init_i_features=i_features_0_40, max_iter=70)"
   ]
  },
  {
   "cell_type": "code",
   "execution_count": 111,
   "metadata": {},
   "outputs": [
    {
     "name": "stdout",
     "output_type": "stream",
     "text": [
      "training RMSE: 0.902364645889504.\n",
      "training RMSE: 0.9022916657271381.\n",
      "Finished estimating features\n",
      "test RMSE after running ALS: 0.9881990898640572.\n"
     ]
    }
   ],
   "source": [
    "u_features_01_40, i_features_01_40 = matrix_factorization_ALS(r_demeaned, test_r_demeaned,\n",
    "    lambda_u=.1, lambda_i=.1, init_u_features=u_features_01_40,\n",
    "    init_i_features=i_features_01_40, max_iter=70)"
   ]
  },
  {
   "cell_type": "code",
   "execution_count": 122,
   "metadata": {},
   "outputs": [
    {
     "name": "stdout",
     "output_type": "stream",
     "text": [
      "training RMSE: 0.9128528648114087.\n",
      "training RMSE: 0.9210937166399196.\n",
      "Whoops!\n",
      "test RMSE after running ALS: 0.9894435954115074.\n"
     ]
    }
   ],
   "source": [
    "u_features_011_40, i_features_011_40 = matrix_factorization_ALS(r_demeaned, test_r_demeaned,\n",
    "    lambda_u=.1, lambda_i=.12, init_u_features=u_features_01_40,\n",
    "    init_i_features=i_features_01_40, max_iter=100)"
   ]
  },
  {
   "cell_type": "code",
   "execution_count": 123,
   "metadata": {},
   "outputs": [
    {
     "name": "stdout",
     "output_type": "stream",
     "text": [
      "training RMSE: 0.9038697832853849.\n",
      "training RMSE: 0.9092718046081801.\n",
      "Whoops!\n",
      "test RMSE after running ALS: 0.9886557944140847.\n"
     ]
    }
   ],
   "source": [
    "u_features_011_40, i_features_011_40 = matrix_factorization_ALS(r_demeaned, test_r_demeaned,\n",
    "    lambda_u=.09, lambda_i=.12, init_u_features=u_features_01_40,\n",
    "    init_i_features=i_features_01_40, max_iter=100)"
   ]
  },
  {
   "cell_type": "code",
   "execution_count": 124,
   "metadata": {},
   "outputs": [
    {
     "name": "stdout",
     "output_type": "stream",
     "text": [
      "training RMSE: 0.8933850328506282.\n",
      "training RMSE: 0.8954467443980143.\n",
      "Whoops!\n",
      "test RMSE after running ALS: 0.9882084317023953.\n"
     ]
    }
   ],
   "source": [
    "u_features_011_40, i_features_011_40 = matrix_factorization_ALS(r_demeaned, test_r_demeaned,\n",
    "    lambda_u=.08, lambda_i=.12, init_u_features=u_features_01_40,\n",
    "    init_i_features=i_features_01_40, max_iter=100)"
   ]
  },
  {
   "cell_type": "code",
   "execution_count": 130,
   "metadata": {},
   "outputs": [
    {
     "name": "stdout",
     "output_type": "stream",
     "text": [
      "training RMSE: 0.8810657605174731.\n",
      "training RMSE: 0.8793935512980934.\n",
      "training RMSE: 0.8785809539198273.\n",
      "training RMSE: 0.8781562734253077.\n",
      "training RMSE: 0.8779093952847788.\n",
      "training RMSE: 0.8777493039843631.\n",
      "training RMSE: 0.877635216534865.\n",
      "training RMSE: 0.8775477675807446.\n",
      "Finished estimating features\n",
      "test RMSE after running ALS: 0.9885774655054526.\n"
     ]
    }
   ],
   "source": [
    "u_features_011_40, i_features_011_40 = matrix_factorization_ALS(r_demeaned, test_r_demeaned,\n",
    "    lambda_u=.07, lambda_i=.12, init_u_features=u_features_01_40,\n",
    "    init_i_features=i_features_01_40, max_iter=100)"
   ]
  },
  {
   "cell_type": "code",
   "execution_count": 132,
   "metadata": {},
   "outputs": [
    {
     "name": "stdout",
     "output_type": "stream",
     "text": [
      "training RMSE: 0.8874785714241855.\n",
      "training RMSE: 0.8877111475985815.\n",
      "Whoops!\n",
      "test RMSE after running ALS: 0.9881828339262694.\n"
     ]
    }
   ],
   "source": [
    "u_features_011_40, i_features_011_40 = matrix_factorization_ALS(r_demeaned, test_r_demeaned,\n",
    "    lambda_u=.075, lambda_i=.12, init_u_features=u_features_01_40,\n",
    "    init_i_features=i_features_01_40, max_iter=100)"
   ]
  },
  {
   "cell_type": "code",
   "execution_count": null,
   "metadata": {},
   "outputs": [],
   "source": [
    "u_features_011_40, i_features_011_40 = matrix_factorization_ALS(r_demeaned, test_r_demeaned,\n",
    "    lambda_u=.07, lambda_i=.125, init_u_features=u_features_01_40,\n",
    "    init_i_features=i_features_01_40, max_iter=100)"
   ]
  },
  {
   "cell_type": "code",
   "execution_count": 131,
   "metadata": {},
   "outputs": [
    {
     "name": "stdout",
     "output_type": "stream",
     "text": [
      "training RMSE: 0.8750818340461232.\n",
      "training RMSE: 0.8695922561249994.\n",
      "training RMSE: 0.867707582231519.\n",
      "training RMSE: 0.8669284630621088.\n",
      "training RMSE: 0.8665385416222589.\n",
      "training RMSE: 0.8663071990811342.\n",
      "training RMSE: 0.8661504826331785.\n",
      "training RMSE: 0.8660338957824613.\n",
      "training RMSE: 0.8659415335224563.\n",
      "Finished estimating features\n",
      "test RMSE after running ALS: 0.9892708596057171.\n"
     ]
    }
   ],
   "source": [
    "u_features_011_40, i_features_011_40 = matrix_factorization_ALS(r_demeaned, test_r_demeaned,\n",
    "    lambda_u=.07, lambda_i=.11, init_u_features=u_features_01_40,\n",
    "    init_i_features=i_features_01_40, max_iter=100)"
   ]
  },
  {
   "cell_type": "code",
   "execution_count": null,
   "metadata": {},
   "outputs": [],
   "source": [
    "u_features_011_40, i_features_011_40 = matrix_factorization_ALS(r_demeaned, test_r_demeaned,\n",
    "    lambda_u=.08, lambda_i=.11, init_u_features=u_features_01_40,\n",
    "    init_i_features=i_features_01_40, max_iter=100, tol=1e-6)"
   ]
  },
  {
   "cell_type": "code",
   "execution_count": 128,
   "metadata": {},
   "outputs": [
    {
     "name": "stdout",
     "output_type": "stream",
     "text": [
      "training RMSE: 0.8985616420449941.\n",
      "training RMSE: 0.8999608562744604.\n",
      "Whoops!\n",
      "test RMSE after running ALS: 0.9882211047909539.\n"
     ]
    }
   ],
   "source": [
    "u_features_011_40, i_features_011_40 = matrix_factorization_ALS(r_demeaned, test_r_demeaned,\n",
    "    lambda_u=.09, lambda_i=.11, init_u_features=u_features_01_40,\n",
    "    init_i_features=i_features_01_40, max_iter=100)"
   ]
  },
  {
   "cell_type": "code",
   "execution_count": null,
   "metadata": {
    "collapsed": true
   },
   "outputs": [],
   "source": []
  },
  {
   "cell_type": "code",
   "execution_count": null,
   "metadata": {
    "collapsed": true
   },
   "outputs": [],
   "source": []
  },
  {
   "cell_type": "code",
   "execution_count": 107,
   "metadata": {},
   "outputs": [
    {
     "name": "stdout",
     "output_type": "stream",
     "text": [
      "training RMSE: 0.6534586137476438.\n",
      "training RMSE: 0.6422907295119796.\n",
      "training RMSE: 0.6331741478288732.\n",
      "training RMSE: 0.6256363782162372.\n",
      "training RMSE: 0.6194738245373587.\n",
      "training RMSE: 0.6143144050570912.\n",
      "training RMSE: 0.6100458734836691.\n",
      "training RMSE: 0.6064691141476916.\n",
      "training RMSE: 0.6033600154625663.\n",
      "training RMSE: 0.600653562124729.\n",
      "training RMSE: 0.5982701005116559.\n",
      "training RMSE: 0.5961304061334717.\n",
      "training RMSE: 0.5942677051762565.\n",
      "training RMSE: 0.5925809042310873.\n",
      "training RMSE: 0.5910473468706384.\n",
      "training RMSE: 0.589617763857291.\n",
      "training RMSE: 0.5883066092943257.\n",
      "training RMSE: 0.5871116203645589.\n",
      "training RMSE: 0.5859757307322169.\n",
      "training RMSE: 0.5849288592007581.\n",
      "training RMSE: 0.5839240494548217.\n",
      "training RMSE: 0.5829927950056296.\n",
      "training RMSE: 0.5821408631750924.\n",
      "training RMSE: 0.5813338361280506.\n",
      "training RMSE: 0.5805419732371625.\n",
      "training RMSE: 0.5797926055089133.\n",
      "training RMSE: 0.579082452475022.\n",
      "training RMSE: 0.5783974363822718.\n",
      "training RMSE: 0.5777575266681354.\n",
      "training RMSE: 0.5771447372233818.\n",
      "training RMSE: 0.5765449595347527.\n",
      "training RMSE: 0.5759745871076891.\n",
      "training RMSE: 0.575417614965102.\n",
      "training RMSE: 0.5748624962670471.\n",
      "training RMSE: 0.5743637873765679.\n",
      "training RMSE: 0.5738573227775781.\n",
      "training RMSE: 0.5733660560822494.\n",
      "training RMSE: 0.5728945798600406.\n",
      "training RMSE: 0.5724378308385504.\n",
      "training RMSE: 0.5719916122839357.\n",
      "training RMSE: 0.5715547234992865.\n",
      "training RMSE: 0.5711204998316235.\n",
      "training RMSE: 0.5706918536978337.\n",
      "training RMSE: 0.570290546277285.\n",
      "training RMSE: 0.5699111832607192.\n",
      "training RMSE: 0.5695325472714257.\n",
      "training RMSE: 0.5691683269842212.\n",
      "training RMSE: 0.5688040057558433.\n",
      "training RMSE: 0.568451564663975.\n",
      "training RMSE: 0.5681015896270001.\n",
      "training RMSE: 0.5677755861107601.\n",
      "training RMSE: 0.5674445854684553.\n",
      "training RMSE: 0.5671167483164263.\n",
      "training RMSE: 0.5668015636326791.\n",
      "training RMSE: 0.5664938757888565.\n",
      "training RMSE: 0.5661837578923234.\n",
      "training RMSE: 0.5658817214635778.\n",
      "training RMSE: 0.5655910657408925.\n",
      "training RMSE: 0.5653090031355055.\n",
      "training RMSE: 0.5650187594178038.\n",
      "training RMSE: 0.5647391928461917.\n",
      "training RMSE: 0.5644605220068927.\n",
      "training RMSE: 0.564190393892023.\n",
      "training RMSE: 0.5639293089714716.\n",
      "training RMSE: 0.5636629740061475.\n",
      "training RMSE: 0.5634059461438556.\n",
      "training RMSE: 0.5631519804289872.\n",
      "training RMSE: 0.5629080166125939.\n",
      "training RMSE: 0.5626620111126902.\n",
      "training RMSE: 0.562424285520604.\n",
      "training RMSE: 0.5621842125176252.\n",
      "training RMSE: 0.5619533888533649.\n",
      "training RMSE: 0.5617276221255256.\n",
      "training RMSE: 0.5614972402131538.\n",
      "training RMSE: 0.5612666621132686.\n",
      "training RMSE: 0.5610455461127859.\n",
      "training RMSE: 0.5608274680323516.\n",
      "training RMSE: 0.5606149271586196.\n",
      "training RMSE: 0.5604059661197762.\n",
      "training RMSE: 0.5601959688542303.\n",
      "training RMSE: 0.5599915589665565.\n",
      "training RMSE: 0.5597857823304574.\n",
      "training RMSE: 0.559575055532093.\n",
      "training RMSE: 0.5593681672843219.\n",
      "training RMSE: 0.5591721266604476.\n",
      "training RMSE: 0.5589697947874087.\n",
      "training RMSE: 0.5587748669412099.\n",
      "training RMSE: 0.5585780785653081.\n",
      "training RMSE: 0.5583876638937337.\n",
      "training RMSE: 0.558199736140647.\n",
      "training RMSE: 0.5580152132009029.\n",
      "training RMSE: 0.5578321070911956.\n",
      "training RMSE: 0.5576568062327466.\n",
      "training RMSE: 0.557478288596173.\n",
      "training RMSE: 0.557301942079389.\n",
      "training RMSE: 0.5571280669040877.\n",
      "training RMSE: 0.5569511361785526.\n",
      "training RMSE: 0.5567820049121789.\n",
      "training RMSE: 0.5566087463696167.\n",
      "training RMSE: 0.5564371566206583.\n",
      "test RMSE after running ALS: 630.0353780229399.\n"
     ]
    }
   ],
   "source": [
    "u_features_0_60, i_features_0_60 = matrix_factorization_ALS(r_demeaned, test_r_demeaned,\n",
    "    lambda_u=0, lambda_i=0, k=60, max_iter=100)"
   ]
  },
  {
   "cell_type": "code",
   "execution_count": 127,
   "metadata": {},
   "outputs": [
    {
     "name": "stdout",
     "output_type": "stream",
     "text": [
      "training RMSE: 0.9197684680709619.\n",
      "training RMSE: 0.8291455686658581.\n",
      "training RMSE: 0.7833544267088788.\n",
      "training RMSE: 0.7651973293076858.\n",
      "training RMSE: 0.7557495001054115.\n",
      "training RMSE: 0.7498590990256256.\n",
      "training RMSE: 0.7460607826657366.\n",
      "training RMSE: 0.7433918339936172.\n",
      "training RMSE: 0.741384133054206.\n",
      "training RMSE: 0.739817099579396.\n",
      "training RMSE: 0.7385638616161235.\n",
      "training RMSE: 0.7375422613834153.\n",
      "training RMSE: 0.7366959292507607.\n",
      "training RMSE: 0.7359848981412597.\n",
      "training RMSE: 0.7353801917791133.\n",
      "training RMSE: 0.7348604224019104.\n",
      "training RMSE: 0.7344095423182087.\n",
      "training RMSE: 0.7340153156117378.\n",
      "training RMSE: 0.7336682625625537.\n",
      "training RMSE: 0.7333609227514835.\n",
      "training RMSE: 0.7330873357602062.\n",
      "training RMSE: 0.7328426715639716.\n",
      "training RMSE: 0.7326229646833201.\n",
      "training RMSE: 0.7324249209054203.\n",
      "training RMSE: 0.7322457752369247.\n",
      "training RMSE: 0.7320831863170385.\n",
      "training RMSE: 0.7319351569362869.\n",
      "training RMSE: 0.7317999733341011.\n",
      "training RMSE: 0.7316761580685354.\n",
      "training RMSE: 0.7315624327603649.\n",
      "training RMSE: 0.7314576880951342.\n",
      "training RMSE: 0.7313609592399486.\n",
      "Finished estimating features\n",
      "test RMSE after running ALS: 1.0100878461530176.\n"
     ]
    }
   ],
   "source": [
    "u_features_02_60, i_features_02_60 = matrix_factorization_ALS(r_demeaned, test_r_demeaned,\n",
    "    lambda_u=.04, lambda_i=.09, init_u_features=u_features_0_60,\n",
    "    init_i_features=i_features_0_60, max_iter=100)"
   ]
  },
  {
   "cell_type": "code",
   "execution_count": 110,
   "metadata": {},
   "outputs": [
    {
     "name": "stdout",
     "output_type": "stream",
     "text": [
      "training RMSE: 0.937124945573667.\n",
      "training RMSE: 0.938213384019861.\n",
      "Whoops!\n",
      "test RMSE after running ALS: 1.0001283823013505.\n"
     ]
    }
   ],
   "source": [
    "u_features_02_60, i_features_02_60 = matrix_factorization_ALS(r_demeaned, test_r_demeaned,\n",
    "    lambda_u=.1, lambda_i=.1, init_u_features=u_features_0_60,\n",
    "    init_i_features=i_features_0_60, max_iter=100)"
   ]
  },
  {
   "cell_type": "code",
   "execution_count": 108,
   "metadata": {},
   "outputs": [
    {
     "name": "stdout",
     "output_type": "stream",
     "text": [
      "training RMSE: 0.9702491543325727.\n",
      "training RMSE: 0.9918356528055405.\n",
      "Whoops!\n",
      "test RMSE after running ALS: 1.0052750914530304.\n"
     ]
    }
   ],
   "source": [
    "u_features_02_60, i_features_02_60 = matrix_factorization_ALS(r_demeaned, test_r_demeaned,\n",
    "    lambda_u=.2, lambda_i=.2, init_u_features=u_features_0_60,\n",
    "    init_i_features=i_features_0_60, max_iter=70)"
   ]
  }
 ],
 "metadata": {
  "kernelspec": {
   "display_name": "Python 3",
   "language": "python",
   "name": "python3"
  },
  "language_info": {
   "codemirror_mode": {
    "name": "ipython",
    "version": 3
   },
   "file_extension": ".py",
   "mimetype": "text/x-python",
   "name": "python",
   "nbconvert_exporter": "python",
   "pygments_lexer": "ipython3",
   "version": "3.6.3"
  }
 },
 "nbformat": 4,
 "nbformat_minor": 1
}
