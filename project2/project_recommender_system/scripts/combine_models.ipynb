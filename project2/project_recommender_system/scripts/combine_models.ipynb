{
 "cells": [
  {
   "cell_type": "code",
   "execution_count": null,
   "metadata": {
    "collapsed": true
   },
   "outputs": [],
   "source": [
    "import numpy as np\n",
    "import scipy.sparse as sp\n",
    "from datafile_methods.data_processing import load_data\n",
    "from datafile_methods.data_io import save_csv\n",
    "PREDICTION_PATH = '../data/predictions/'"
   ]
  },
  {
   "cell_type": "markdown",
   "metadata": {},
   "source": [
    "#### Use some *random* weights"
   ]
  },
  {
   "cell_type": "code",
   "execution_count": null,
   "metadata": {
    "collapsed": true
   },
   "outputs": [],
   "source": [
    "models = ['baseline', 'co_clustering', 'knn_baseline_i',\n",
    "          'knn_baseline_u', 'mf_als_recommend',\n",
    "          'mf_als', 'mf_svd_sci', 'mf_svd_skl', 'nmf',\n",
    "          'slope_one', 'sur_svd']\n",
    "\n",
    "n_models = len(models)\n",
    "\n",
    "fn_te = [load_data('{}model_{}_te.csv'.format(PREDICTION_PATH, e))\n",
    "         for e in models]\n",
    "dict_te = dict(zip(models, fn_te))\n",
    "\n",
    "fn_val = [load_data('{}model_{}_val.csv'.format(PREDICTION_PATH, e))\n",
    "         for e in models]\n",
    "dict_val = dict(zip(models, fn_val))\n",
    "\n",
    "fn_sub = [load_data('{}model_{}_sub.csv'.format(PREDICTION_PATH, e))\n",
    "         for e in models]\n",
    "dict_sub = dict(zip(models, fn_sub))"
   ]
  },
  {
   "cell_type": "code",
   "execution_count": null,
   "metadata": {},
   "outputs": [],
   "source": [
    "weights = {'baseline': 0, 'co_clustering': 0, 'knn_baseline_i': 0,\n",
    "          'knn_baseline_u': 0, 'mf_als_recommend': 4,\n",
    "          'mf_als': 4, 'mf_svd_sci': 1, 'mf_svd_skl': 1, 'nmf': 0,\n",
    "          'slope_one': 0, 'sur_svd': 0}\n",
    "total_weights = np.sum(list(weights.values()))\n",
    "\n",
    "res_sub = np.sum([(weights[m] / total_weights * dict_sub[m]) for m in models])"
   ]
  },
  {
   "cell_type": "code",
   "execution_count": null,
   "metadata": {
    "collapsed": true
   },
   "outputs": [],
   "source": [
    "save_csv(res_sub, prediction_path=PREDICTION_PATH, filename='combination_rnd')"
   ]
  },
  {
   "cell_type": "markdown",
   "metadata": {},
   "source": [
    "#### Ridge regression to find the weights"
   ]
  },
  {
   "cell_type": "code",
   "execution_count": null,
   "metadata": {
    "collapsed": true
   },
   "outputs": [],
   "source": []
  }
 ],
 "metadata": {
  "kernelspec": {
   "display_name": "Python 3",
   "language": "python",
   "name": "python3"
  },
  "language_info": {
   "codemirror_mode": {
    "name": "ipython",
    "version": 3
   },
   "file_extension": ".py",
   "mimetype": "text/x-python",
   "name": "python",
   "nbconvert_exporter": "python",
   "pygments_lexer": "ipython3",
   "version": "3.6.3"
  }
 },
 "nbformat": 4,
 "nbformat_minor": 2
}
