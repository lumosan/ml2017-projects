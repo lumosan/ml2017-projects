{
 "cells": [
  {
   "cell_type": "markdown",
   "metadata": {},
   "source": [
    "I use a voting system, where each model only votes if they are sure about their value. If they are not sure, they do not vote.\n",
    "\n",
    "For now, all models vote the same number of times.\n",
    "\n",
    "The predictions were obtained without taking `te` and `val` into account."
   ]
  },
  {
   "cell_type": "code",
   "execution_count": 1,
   "metadata": {
    "collapsed": true
   },
   "outputs": [],
   "source": [
    "import numpy as np\n",
    "import scipy.sparse as sp\n",
    "from datafile_methods.data_processing import load_data\n",
    "from datafile_methods.data_io import save_csv\n",
    "DATA_PATH = '../data/'\n",
    "PREDICTION_PATH = '../data/predictions/'"
   ]
  },
  {
   "cell_type": "markdown",
   "metadata": {},
   "source": [
    "### Load data"
   ]
  },
  {
   "cell_type": "code",
   "execution_count": 2,
   "metadata": {},
   "outputs": [],
   "source": [
    "models = ['baseline', 'co_clustering', 'knn_baseline_i',\n",
    "          'knn_baseline_u', 'mf_als_recommend',\n",
    "          'mf_als', 'mf_svd_sci', 'mf_svd_skl', 'nmf',\n",
    "          'slope_one', 'sur_svd']\n",
    "\n",
    "n_models = len(models)\n",
    "\n",
    "# Load predictions\n",
    "sp_list_te = [load_data('{}model_{}_te.csv'.format(PREDICTION_PATH, e))\n",
    "         for e in models]\n",
    "sp_dict_te = dict(zip(models, sp_list_te))\n",
    "\n",
    "sp_list_val = [load_data('{}model_{}_val.csv'.format(PREDICTION_PATH, e))\n",
    "         for e in models]\n",
    "sp_dict_val = dict(zip(models, sp_list_val))\n",
    "\n",
    "sp_list_sub = [load_data('{}model_{}_sub.csv'.format(PREDICTION_PATH, e))\n",
    "         for e in models]\n",
    "sp_dict_sub = dict(zip(models, sp_list_sub))\n",
    "\n",
    "# Load observed ratings\n",
    "sp_obs_te = load_data('{}{}.csv'.format(DATA_PATH, 'test_set'))\n",
    "sp_obs_val = load_data('{}{}.csv'.format(DATA_PATH, 'validation_set'))"
   ]
  },
  {
   "cell_type": "markdown",
   "metadata": {},
   "source": [
    "### Get weights and a *mean* prediction"
   ]
  },
  {
   "cell_type": "markdown",
   "metadata": {},
   "source": [
    "#### Use some *random* weights that I like"
   ]
  },
  {
   "cell_type": "code",
   "execution_count": 3,
   "metadata": {
    "collapsed": true
   },
   "outputs": [],
   "source": [
    "weights = {'baseline': 0, 'co_clustering': 0, 'knn_baseline_i': 0,\n",
    "          'knn_baseline_u': 0, 'mf_als_recommend': 4,\n",
    "          'mf_als': 4, 'mf_svd_sci': 1, 'mf_svd_skl': 1, 'nmf': 0,\n",
    "          'slope_one': 0, 'sur_svd': 0}\n",
    "\n",
    "total_weights = np.sum(list(weights.values()))\n",
    "\n",
    "# Obtain weighted mean predictions\n",
    "sp_mean_te = np.sum([(weights[m] / total_weights * sp_dict_te[m]) for m in models])\n",
    "sp_mean_val = np.sum([(weights[m] / total_weights * sp_dict_val[m]) for m in models])\n",
    "sp_mean_sub = np.sum([(weights[m] / total_weights * sp_dict_sub[m]) for m in models])"
   ]
  },
  {
   "cell_type": "raw",
   "metadata": {},
   "source": [
    "save_csv(sp_mean_sub, prediction_path=PREDICTION_PATH, filename='combination_rnd')"
   ]
  },
  {
   "cell_type": "markdown",
   "metadata": {},
   "source": [
    "### Do some processing"
   ]
  },
  {
   "cell_type": "markdown",
   "metadata": {},
   "source": [
    "#### Create dataframes"
   ]
  },
  {
   "cell_type": "code",
   "execution_count": 5,
   "metadata": {
    "collapsed": true
   },
   "outputs": [],
   "source": [
    "import pandas as pd"
   ]
  },
  {
   "cell_type": "code",
   "execution_count": 6,
   "metadata": {},
   "outputs": [],
   "source": [
    "# Create dictionaries with predictions\n",
    "pred_dict_te = {k: sp.find(v)[2] for k,v in sp_dict_te.items()}\n",
    "pred_dict_val = {k: sp.find(v)[2] for k,v in sp_dict_val.items()}\n",
    "pred_dict_sub = {k: sp.find(v)[2] for k,v in sp_dict_sub.items()}\n",
    "\n",
    "# Create dataframes with predictions\n",
    "df_pred_te = pd.DataFrame(data=pred_dict_te)\n",
    "df_pred_val = pd.DataFrame(data=pred_dict_val)\n",
    "df_pred_sub = pd.DataFrame(data=pred_dict_sub)"
   ]
  },
  {
   "cell_type": "code",
   "execution_count": 7,
   "metadata": {
    "collapsed": true
   },
   "outputs": [],
   "source": [
    "# Create dataframes with observed values\n",
    "df_obs_te = pd.DataFrame(data={'Observed': sp.find(sp_obs_te)[2]})\n",
    "df_obs_val = pd.DataFrame(data={'Observed': sp.find(sp_obs_val)[2]})"
   ]
  },
  {
   "cell_type": "code",
   "execution_count": 8,
   "metadata": {
    "collapsed": true
   },
   "outputs": [],
   "source": [
    "# Create dataframes with mean values\n",
    "df_mean_te = pd.DataFrame(data={'Observed': sp.find(sp_mean_te)[2]})\n",
    "df_mean_val = pd.DataFrame(data={'Observed': sp.find(sp_mean_val)[2]})"
   ]
  },
  {
   "cell_type": "markdown",
   "metadata": {},
   "source": [
    "#### See if the predictions can be considered as *decisions* or not"
   ]
  },
  {
   "cell_type": "code",
   "execution_count": 9,
   "metadata": {},
   "outputs": [],
   "source": [
    "def decide_vote_gen(tol):\n",
    "    def decide_vote(pred):\n",
    "        \"\"\"Defines if a model gets to vote or not\"\"\"\n",
    "        vote = round(pred)\n",
    "        if (tol > abs(vote - pred)):\n",
    "            return vote\n",
    "        else:\n",
    "            return 0\n",
    "    return decide_vote"
   ]
  },
  {
   "cell_type": "code",
   "execution_count": 10,
   "metadata": {},
   "outputs": [],
   "source": [
    "df_votes_te = df_pred_te.applymap(decide_vote_gen(.15))"
   ]
  },
  {
   "cell_type": "markdown",
   "metadata": {},
   "source": [
    "combined_pred = majority_vote **if** exist_at_least_x_votes **else** weighted_mean"
   ]
  },
  {
   "cell_type": "code",
   "execution_count": null,
   "metadata": {
    "collapsed": true
   },
   "outputs": [],
   "source": []
  }
 ],
 "metadata": {
  "kernelspec": {
   "display_name": "Python 3",
   "language": "python",
   "name": "python3"
  },
  "language_info": {
   "codemirror_mode": {
    "name": "ipython",
    "version": 3
   },
   "file_extension": ".py",
   "mimetype": "text/x-python",
   "name": "python",
   "nbconvert_exporter": "python",
   "pygments_lexer": "ipython3",
   "version": "3.6.3"
  }
 },
 "nbformat": 4,
 "nbformat_minor": 2
}
