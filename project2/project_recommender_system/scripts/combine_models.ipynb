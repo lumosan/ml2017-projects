{
 "cells": [
  {
   "cell_type": "markdown",
   "metadata": {},
   "source": [
    "I use a voting system, where each model only votes if they are sure about their value. If they are not sure, they do not vote.\n",
    "\n",
    "For now, all models vote the same number of times.\n",
    "\n",
    "The predictions were obtained without taking `te` and `val` into account."
   ]
  },
  {
   "cell_type": "code",
   "execution_count": 1,
   "metadata": {
    "collapsed": true
   },
   "outputs": [],
   "source": [
    "%load_ext autotime"
   ]
  },
  {
   "cell_type": "code",
   "execution_count": 2,
   "metadata": {},
   "outputs": [
    {
     "name": "stdout",
     "output_type": "stream",
     "text": [
      "time: 33.3 ms\n"
     ]
    }
   ],
   "source": [
    "%load_ext autoreload\n",
    "%autoreload 2"
   ]
  },
  {
   "cell_type": "code",
   "execution_count": 3,
   "metadata": {},
   "outputs": [
    {
     "name": "stdout",
     "output_type": "stream",
     "text": [
      "time: 181 ms\n"
     ]
    }
   ],
   "source": [
    "import numpy as np\n",
    "import scipy.sparse as sp\n",
    "from datafile_methods.data_processing import load_data\n",
    "from datafile_methods.data_io import save_csv\n",
    "DATA_PATH = '../data/'\n",
    "PREDICTION_PATH = '../data/predictions/'"
   ]
  },
  {
   "cell_type": "markdown",
   "metadata": {},
   "source": [
    "### Load data"
   ]
  },
  {
   "cell_type": "code",
   "execution_count": 4,
   "metadata": {},
   "outputs": [
    {
     "name": "stdout",
     "output_type": "stream",
     "text": [
      "time: 15 s\n"
     ]
    }
   ],
   "source": [
    "from datafile_methods.data_io import load_datasets\n",
    "\n",
    "# Load datasets\n",
    "folds, ratings, sample_submission = load_datasets()"
   ]
  },
  {
   "cell_type": "markdown",
   "metadata": {},
   "source": [
    "Load predictions for each prediction model"
   ]
  },
  {
   "cell_type": "code",
   "execution_count": 5,
   "metadata": {},
   "outputs": [
    {
     "name": "stdout",
     "output_type": "stream",
     "text": [
      "time: 9.63 ms\n"
     ]
    }
   ],
   "source": [
    "models = ['baseline',\n",
    "          'knn_baseline_i',\n",
    "          'knn_baseline_u',\n",
    "          'mf_svd_sci',\n",
    "          'nmf',\n",
    "          'slope_one',\n",
    "          'sur_svd',\n",
    "          'mf_als_recommend',\n",
    "          'mf_als']"
   ]
  },
  {
   "cell_type": "code",
   "execution_count": 6,
   "metadata": {},
   "outputs": [
    {
     "name": "stdout",
     "output_type": "stream",
     "text": [
      "time: 45.7 s\n"
     ]
    }
   ],
   "source": [
    "# Load predictions for each fold and model\n",
    "predictions = [[load_data('{p}model_{m}_te_{i}.csv'.format(p=PREDICTION_PATH, m=model, i=i)) for i in range(5)] for model in models]\n",
    "predictions_dict = dict(zip(models, predictions))"
   ]
  },
  {
   "cell_type": "markdown",
   "metadata": {},
   "source": [
    "### Divide the set into B disjoint subsets"
   ]
  },
  {
   "cell_type": "markdown",
   "metadata": {},
   "source": [
    "#### Justification"
   ]
  },
  {
   "cell_type": "markdown",
   "metadata": {},
   "source": [
    "Support : The support of a data point (u, i) is the\n",
    "number of votes by user u. The blender can now base\n",
    "the weighting of predictors dependent on how many\n",
    "rating the user has given. RBMs are prone to receive\n",
    "high weight when the user has only a few votes in the\n",
    "data. SVDs are highly weighted when much information\n",
    "from a user is available.\n",
    "\n",
    "http://elf-project.sourceforge.net/CombiningPredictionsForAccurateRecommenderSystems.pdf"
   ]
  },
  {
   "cell_type": "code",
   "execution_count": 8,
   "metadata": {},
   "outputs": [
    {
     "data": {
      "image/png": "[encoded data removed]",
      "text/plain": [
       "<matplotlib.figure.Figure at 0x7fd917f4b9b0>"
      ]
     },
     "metadata": {},
     "output_type": "display_data"
    },
    {
     "name": "stdout",
     "output_type": "stream",
     "text": [
      "time: 259 ms\n"
     ]
    }
   ],
   "source": [
    "from plots import plot_raw_data\n",
    "num_items_per_user, num_users_per_item = plot_raw_data(ratings)"
   ]
  },
  {
   "cell_type": "markdown",
   "metadata": {},
   "source": [
    "#### Actual division of set"
   ]
  },
  {
   "cell_type": "code",
   "execution_count": 9,
   "metadata": {},
   "outputs": [
    {
     "name": "stdout",
     "output_type": "stream",
     "text": [
      "time: 10.1 ms\n"
     ]
    }
   ],
   "source": [
    "from datafile_methods.data_processing import disjoint_subsets_on_support, obtain_indices_high_support"
   ]
  },
  {
   "cell_type": "code",
   "execution_count": 10,
   "metadata": {},
   "outputs": [
    {
     "name": "stdout",
     "output_type": "stream",
     "text": [
      "time: 10.3 s\n"
     ]
    }
   ],
   "source": [
    "ind = obtain_indices_high_support(ratings)\n",
    "\n",
    "# Split predictions according to support level\n",
    "predictions_high = {k: [disjoint_subsets_on_support(v[i], ind)[0] for i in range(5)]\n",
    "    for k,v in predictions_dict.items()}\n",
    "predictions_low = {k: [disjoint_subsets_on_support(v[i], ind)[1] for i in range(5)]\n",
    "    for k,v in predictions_dict.items()}\n",
    "\n",
    "# Get the prediction values from the sparse matrices\n",
    "predictions_vals = {k: [sp.find(f)[2] for f in v] for k,v in predictions_dict.items()}\n",
    "predictions_high_vals = {k: [sp.find(f)[2] for f in v] for k,v in predictions_high.items()}\n",
    "predictions_low_vals = {k: [sp.find(f)[2] for f in v] for k,v in predictions_low.items()}"
   ]
  },
  {
   "cell_type": "code",
   "execution_count": 11,
   "metadata": {},
   "outputs": [
    {
     "name": "stdout",
     "output_type": "stream",
     "text": [
      "time: 1.15 s\n"
     ]
    }
   ],
   "source": [
    "# Split observed ratings according to support level\n",
    "observations_high = [disjoint_subsets_on_support(f, ind)[0] for f in folds]\n",
    "observations_low = [disjoint_subsets_on_support(f, ind)[1] for f in folds]\n",
    "\n",
    "# Get the prediction values from the sparse matrices\n",
    "observations_vals = [sp.find(f)[2] for f in folds]\n",
    "observations_high_vals = [sp.find(f)[2] for f in observations_high]\n",
    "observations_low_vals = [sp.find(f)[2] for f in observations_low]"
   ]
  },
  {
   "cell_type": "markdown",
   "metadata": {},
   "source": [
    "### Determine a separate blending for each subset"
   ]
  },
  {
   "cell_type": "code",
   "execution_count": 12,
   "metadata": {},
   "outputs": [
    {
     "name": "stdout",
     "output_type": "stream",
     "text": [
      "time: 207 ms\n"
     ]
    }
   ],
   "source": [
    "import pandas as pd"
   ]
  },
  {
   "cell_type": "markdown",
   "metadata": {},
   "source": [
    "#### Create dataframes"
   ]
  },
  {
   "cell_type": "code",
   "execution_count": 13,
   "metadata": {},
   "outputs": [
    {
     "name": "stdout",
     "output_type": "stream",
     "text": [
      "time: 46 ms\n"
     ]
    }
   ],
   "source": [
    "predictions_high_df = [pd.DataFrame({model: obs[i] for model, obs in predictions_high_vals.items()}) for i in range(5)]\n",
    "predictions_low_df = [pd.DataFrame({model: obs[i] for model, obs in predictions_low_vals.items()}) for i in range(5)]"
   ]
  },
  {
   "cell_type": "code",
   "execution_count": 14,
   "metadata": {},
   "outputs": [
    {
     "name": "stdout",
     "output_type": "stream",
     "text": [
      "time: 15.7 ms\n"
     ]
    }
   ],
   "source": [
    "# Create dataframes with observed values\n",
    "observations_high_df = [pd.DataFrame(f) for f in observations_high_vals]\n",
    "observations_low_df = [pd.DataFrame(f) for f in observations_low_vals]"
   ]
  },
  {
   "cell_type": "code",
   "execution_count": 15,
   "metadata": {},
   "outputs": [
    {
     "name": "stdout",
     "output_type": "stream",
     "text": [
      "time: 10.6 ms\n"
     ]
    }
   ],
   "source": [
    "def compute_mean_predictions(predictions_df, chosen_models):\n",
    "    return predictions_df[chosen_models].mean(axis=1)\n",
    "\n",
    "def compute_mean_fold_predictions(predictions_df_list, chosen_models):\n",
    "    return [compute_mean_predictions(f, chosen_models) for f in predictions_df_list]"
   ]
  },
  {
   "cell_type": "markdown",
   "metadata": {},
   "source": [
    "#### High support - generate data for possible plots"
   ]
  },
  {
   "cell_type": "raw",
   "metadata": {},
   "source": [
    "best_h_1 = [['baseline'],\n",
    "    ['knn_baseline_u'],\n",
    "    ['knn_baseline_i', 'mf_svd_sci'],\n",
    "    ['nmf', 'slope_one'],\n",
    "    ['mf_als_recommend'],\n",
    "    ['mf_als'],\n",
    "    ['sur_svd']]\n",
    "\n",
    "comb1 = compute_mean_fold_predictions(predictions_high_df, best_h_1[2])\n",
    "\n",
    "error_comb1 = np.zeros(5)\n",
    "for i in range(5):\n",
    "    # Get test error\n",
    "    error_comb1[i] = sqrt(mean_squared_error(observations_high_df[i],\n",
    "                                            comb1[i]))\n",
    "\n",
    "error_comb1\n",
    "\n",
    "best_h_2 = [['baseline'],\n",
    "    ['knn_baseline_u'],\n",
    "    ['knn_baseline_i', 'mf_svd_sci'],\n",
    "    ['nmf', 'slope_one'],\n",
    "    ['mf_als_recommend'],\n",
    "    ['mf_als'],\n",
    "    ['sur_svd']]\n",
    "\n",
    "comb2 = compute_mean_fold_predictions(predictions_high_df, best_h_2[3])\n",
    "3\n",
    "error_comb2 = np.zeros(5)\n",
    "for i in range(5):\n",
    "    # Get test error\n",
    "    error_comb2[i] = sqrt(mean_squared_error(observations_high_df[i],\n",
    "                                            comb2[i]))\n",
    "\n",
    "error_comb2\n",
    "\n",
    "best_h_3 = [['baseline'],\n",
    "    ['knn_baseline_u'],\n",
    "    ['mf_als_recommend', 'comb1', 'comb2', 'mf_als'],\n",
    "    ['sur_svd']]\n",
    "\n",
    "predictions_high_df_3 = predictions_high_df.copy()\n",
    "for i in range(5):\n",
    "    predictions_high_df_3[i]['comb1'] = pd.Series(comb1[i])\n",
    "    predictions_high_df_3[i]['comb2'] = pd.Series(comb2[i])\n",
    "\n",
    "comb3 = compute_mean_fold_predictions(predictions_high_df_3, best_h_3[2])\n",
    "\n",
    "error_comb3 = np.zeros(5)\n",
    "for i in range(5):\n",
    "    # Get test error\n",
    "    error_comb3[i] = sqrt(mean_squared_error(observations_high_df[i],\n",
    "                                            comb3[i]))\n",
    "\n",
    "error_comb3\n",
    "\n",
    "best_h_4 = [['baseline'],\n",
    "    ['knn_baseline_u'],\n",
    "    ['comb3', 'sur_svd']]\n",
    "\n",
    "predictions_high_df_4 = predictions_high_df.copy()\n",
    "for i in range(5):\n",
    "    predictions_high_df_4[i]['comb3'] = pd.Series(comb3[i])\n",
    "\n",
    "comb4 = compute_mean_fold_predictions(predictions_high_df_4, best_h_4[2])\n",
    "\n",
    "error_comb4 = np.zeros(5)\n",
    "for i in range(5):\n",
    "    # Get test error\n",
    "    error_comb4[i] = sqrt(mean_squared_error(observations_high_df[i],\n",
    "                                            comb4[i]))\n",
    "\n",
    "error_comb4"
   ]
  },
  {
   "cell_type": "markdown",
   "metadata": {},
   "source": [
    "#### Low support - generate data for possible plots"
   ]
  },
  {
   "cell_type": "raw",
   "metadata": {},
   "source": [
    "best_l_1 = [['slope_one'],\n",
    "    ['baseline'],\n",
    "    ['nmf', 'knn_baseline_u'],\n",
    "    ['mf_als_recommend', 'mf_svd_sci'],\n",
    "    ['knn_baseline_i'],\n",
    "    ['mf_als', 'sur_svd']]\n",
    "\n",
    "comb1 = compute_mean_fold_predictions(predictions_low_df, best_l_1[3])\n",
    "\n",
    "error_comb1 = np.zeros(5)\n",
    "for i in range(5):\n",
    "    # Get test error\n",
    "    error_comb1[i] = sqrt(mean_squared_error(observations_low_df[i],\n",
    "                                            comb1[i]))\n",
    "\n",
    "error_comb1\n",
    "\n",
    "best_l_2 = [['slope_one'],\n",
    "    ['baseline'],\n",
    "    ['nmf', 'knn_baseline_u'],\n",
    "    ['knn_baseline_i'],\n",
    "    ['mf_als', 'sur_svd', 'comb1']]\n",
    "\n",
    "predictions_low_df_2 = predictions_low_df.copy()\n",
    "for i in range(5):\n",
    "    predictions_low_df_2[i]['comb1'] = pd.Series(comb1[i])\n",
    "\n",
    "comb2 = compute_mean_fold_predictions(predictions_low_df_2, best_l_2[4])\n",
    "\n",
    "error_comb2 = np.zeros(5)\n",
    "for i in range(5):\n",
    "    # Get test error\n",
    "    error_comb2[i] = sqrt(mean_squared_error(observations_low_df[i],\n",
    "                                            comb2[i]))\n",
    "\n",
    "error_comb2"
   ]
  },
  {
   "cell_type": "markdown",
   "metadata": {},
   "source": [
    "#### Do weighted mean of predictions for previously estimated weights"
   ]
  },
  {
   "cell_type": "code",
   "execution_count": 16,
   "metadata": {},
   "outputs": [
    {
     "name": "stdout",
     "output_type": "stream",
     "text": [
      "time: 46.5 s\n"
     ]
    }
   ],
   "source": [
    "# Load predictions of submission entries with each model\n",
    "predictions_sub = [load_data('{p}model_{m}_sub.csv'.format(p=PREDICTION_PATH, m=model)) for model in models]\n",
    "predictions_sub_dict = dict(zip(models, predictions_sub))"
   ]
  },
  {
   "cell_type": "code",
   "execution_count": 17,
   "metadata": {},
   "outputs": [
    {
     "name": "stdout",
     "output_type": "stream",
     "text": [
      "time: 3.3 s\n"
     ]
    }
   ],
   "source": [
    "# Separate submission data into high and low support ratings\n",
    "predictions_sub_high = {k: disjoint_subsets_on_support(v, ind)[0] for k,v in predictions_sub_dict.items()}\n",
    "predictions_sub_low = {k: disjoint_subsets_on_support(v, ind)[1] for k,v in predictions_sub_dict.items()}"
   ]
  },
  {
   "cell_type": "code",
   "execution_count": 18,
   "metadata": {},
   "outputs": [
    {
     "name": "stdout",
     "output_type": "stream",
     "text": [
      "time: 19.5 ms\n"
     ]
    }
   ],
   "source": [
    "# Define weights as estimated\n",
    "high_w = {'baseline': 0,\n",
    "          'knn_baseline_u': 0,\n",
    "          'sur_svd': 1.0/2,\n",
    "          'mf_als_recommend': 1.0/8,\n",
    "          'mf_als': 1.0/8,\n",
    "          'knn_baseline_i': 1.0/16,\n",
    "          'mf_svd_sci': 1.0/16,\n",
    "          'nmf': 1.0/16,\n",
    "          'slope_one': 1.0/16}\n",
    "\n",
    "low_w = {'mf_als': 1.0/3,\n",
    "         'baseline': 0,\n",
    "         'knn_baseline_u': 0,\n",
    "         'nmf': 0,\n",
    "         'slope_one': 0,\n",
    "         'knn_baseline_i': 0,\n",
    "         'sur_svd': 1.0/3,\n",
    "         'mf_als_recommend': 1.0/6,\n",
    "         'mf_svd_sci': 1.0/6}"
   ]
  },
  {
   "cell_type": "code",
   "execution_count": 19,
   "metadata": {},
   "outputs": [
    {
     "name": "stdout",
     "output_type": "stream",
     "text": [
      "time: 6.05 s\n"
     ]
    }
   ],
   "source": [
    "# Obtain weighted mean predictions for submission file\n",
    "sp_mean_sub_high = np.sum([(high_w[m] * predictions_sub_high[m]) for m in models])\n",
    "sp_mean_sub_low = np.sum([(low_w[m] * predictions_sub_low[m]) for m in models])\n",
    "# Join predictions for high and low support\n",
    "sp_mean_sub = sp_mean_sub_high + sp_mean_sub_low"
   ]
  },
  {
   "cell_type": "code",
   "execution_count": 217,
   "metadata": {},
   "outputs": [
    {
     "name": "stdout",
     "output_type": "stream",
     "text": [
      "time: 12.9 s\n"
     ]
    }
   ],
   "source": [
    "# Export file\n",
    "save_csv(sp_mean_sub, prediction_path=PREDICTION_PATH, filename='combination_manual')"
   ]
  },
  {
   "cell_type": "markdown",
   "metadata": {},
   "source": [
    "# Other stuff"
   ]
  },
  {
   "cell_type": "code",
   "execution_count": 124,
   "metadata": {},
   "outputs": [
    {
     "data": {
      "image/png": "[encoded data removed]",
      "text/plain": [
       "<matplotlib.figure.Figure at 0x7f9e0c2ed908>"
      ]
     },
     "metadata": {},
     "output_type": "display_data"
    },
    {
     "name": "stdout",
     "output_type": "stream",
     "text": [
      "time: 433 ms\n"
     ]
    }
   ],
   "source": [
    "plt.figure(figsize=(12,5))\n",
    "pd.DataFrame(train_errors).boxplot()\n",
    "pd.DataFrame(test_errors).boxplot()\n",
    "plt.show()"
   ]
  },
  {
   "cell_type": "code",
   "execution_count": 125,
   "metadata": {},
   "outputs": [
    {
     "data": {
      "image/png": "[encoded data removed]",
      "text/plain": [
       "<matplotlib.figure.Figure at 0x7f9e0c330cc0>"
      ]
     },
     "metadata": {},
     "output_type": "display_data"
    },
    {
     "name": "stdout",
     "output_type": "stream",
     "text": [
      "time: 303 ms\n"
     ]
    }
   ],
   "source": [
    "plt.figure(figsize=(12,5))\n",
    "pd.DataFrame(train_errors).boxplot()\n",
    "plt.show()"
   ]
  },
  {
   "cell_type": "code",
   "execution_count": 126,
   "metadata": {},
   "outputs": [
    {
     "data": {
      "image/png": "[encoded data removed]",
      "text/plain": [
       "<matplotlib.figure.Figure at 0x7f9e07f09be0>"
      ]
     },
     "metadata": {},
     "output_type": "display_data"
    },
    {
     "name": "stdout",
     "output_type": "stream",
     "text": [
      "time: 503 ms\n"
     ]
    }
   ],
   "source": [
    "plt.figure(figsize=(12,5))\n",
    "pd.DataFrame(test_errors).boxplot()\n",
    "plt.show()"
   ]
  },
  {
   "cell_type": "markdown",
   "metadata": {},
   "source": [
    "#### Apply Ridge Regression (low support)"
   ]
  },
  {
   "cell_type": "code",
   "execution_count": 222,
   "metadata": {},
   "outputs": [
    {
     "data": {
      "text/plain": [
       "array([[ 0.45234053, -0.63754525,  3.01324681, -2.32361609, -0.06606462,\n",
       "        -0.83506026, -0.84061446, -1.12972476,  3.36504768]])"
      ]
     },
     "execution_count": 222,
     "metadata": {},
     "output_type": "execute_result"
    },
    {
     "name": "stdout",
     "output_type": "stream",
     "text": [
      "time: 119 ms\n"
     ]
    }
   ],
   "source": [
    "from sklearn.linear_model import Ridge\n",
    "\n",
    "y = df_obs_te_low.copy()\n",
    "X = df_pred_te_low.copy()\n",
    "test = df_pred_te_low.copy()\n",
    "\n",
    "clf = Ridge(alpha=10, fit_intercept=False)\n",
    "clf.fit(X, y)\n",
    "\n",
    "pred = pd.DataFrame(clf.predict(X))\n",
    "\n",
    "clf.coef_"
   ]
  },
  {
   "cell_type": "code",
   "execution_count": 224,
   "metadata": {},
   "outputs": [
    {
     "data": {
      "image/png": "[encoded data removed]",
      "text/plain": [
       "<matplotlib.figure.Figure at 0x7f9cd42c6240>"
      ]
     },
     "metadata": {},
     "output_type": "display_data"
    },
    {
     "name": "stdout",
     "output_type": "stream",
     "text": [
      "time: 167 ms\n"
     ]
    }
   ],
   "source": [
    "pred = np.clip(pred, 1.0, 5.0)\n",
    "\n",
    "pred.boxplot()\n",
    "plt.show()"
   ]
  },
  {
   "cell_type": "markdown",
   "metadata": {},
   "source": [
    "Save weights in DataFrame"
   ]
  },
  {
   "cell_type": "code",
   "execution_count": 28,
   "metadata": {},
   "outputs": [
    {
     "name": "stdout",
     "output_type": "stream",
     "text": [
      "time: 5.65 ms\n"
     ]
    }
   ],
   "source": [
    "model_weights = pd.Series(data=dict(zip(models, clf.coef_.flatten())), name='weights')"
   ]
  },
  {
   "cell_type": "code",
   "execution_count": 31,
   "metadata": {},
   "outputs": [
    {
     "name": "stdout",
     "output_type": "stream",
     "text": [
      "time: 1.87 ms\n"
     ]
    }
   ],
   "source": [
    "#TODO: Get test RMSE, for all alpha-fold combinations"
   ]
  },
  {
   "cell_type": "code",
   "execution_count": 32,
   "metadata": {},
   "outputs": [
    {
     "name": "stdout",
     "output_type": "stream",
     "text": [
      "time: 1.67 ms\n"
     ]
    }
   ],
   "source": [
    "# Choose best alpha"
   ]
  },
  {
   "cell_type": "code",
   "execution_count": 38,
   "metadata": {},
   "outputs": [
    {
     "name": "stdout",
     "output_type": "stream",
     "text": [
      "time: 1.84 ms\n"
     ]
    }
   ],
   "source": [
    "# Do a mean of the 5 weights (one per fold) for the best alpha"
   ]
  },
  {
   "cell_type": "markdown",
   "metadata": {},
   "source": [
    "### Get a *mean* prediction"
   ]
  },
  {
   "cell_type": "code",
   "execution_count": 30,
   "metadata": {},
   "outputs": [
    {
     "name": "stdout",
     "output_type": "stream",
     "text": [
      "time: 151 ms\n"
     ]
    }
   ],
   "source": [
    "# Obtain weighted mean predictions\n",
    "sp_mean_tr = np.sum([(model_weights[m] * sp_dict_tr[m]) for m in models])\n",
    "sp_mean_sub = np.sum([(model_weights[m] * sp_dict_sub[m]) for m in models])"
   ]
  },
  {
   "cell_type": "raw",
   "metadata": {},
   "source": [
    "save_csv(sp_mean_sub, prediction_path=PREDICTION_PATH, filename='combination_last')"
   ]
  },
  {
   "cell_type": "code",
   "execution_count": null,
   "metadata": {
    "collapsed": true
   },
   "outputs": [],
   "source": []
  },
  {
   "cell_type": "code",
   "execution_count": null,
   "metadata": {
    "collapsed": true
   },
   "outputs": [],
   "source": []
  },
  {
   "cell_type": "markdown",
   "metadata": {},
   "source": [
    "# From here on I don't think it's useful\n",
    "But I can comment on the report that the voting system didn't work :)"
   ]
  },
  {
   "cell_type": "markdown",
   "metadata": {},
   "source": [
    "### Do some processing"
   ]
  },
  {
   "cell_type": "code",
   "execution_count": 12,
   "metadata": {},
   "outputs": [
    {
     "name": "stdout",
     "output_type": "stream",
     "text": [
      "time: 1.09 ms\n"
     ]
    }
   ],
   "source": [
    "tol=0.01\n",
    "min_v=15"
   ]
  },
  {
   "cell_type": "markdown",
   "metadata": {},
   "source": [
    "#### Get valid votes"
   ]
  },
  {
   "cell_type": "code",
   "execution_count": 14,
   "metadata": {},
   "outputs": [
    {
     "name": "stdout",
     "output_type": "stream",
     "text": [
      "time: 5.22 ms\n"
     ]
    }
   ],
   "source": [
    "def decide_vote_gen(tol):\n",
    "    def decide_vote(pred):\n",
    "        \"\"\"Defines if a model gets to vote or not\"\"\"\n",
    "        vote = round(pred)\n",
    "        if (tol > abs(vote - pred)):\n",
    "            return vote\n",
    "        else:\n",
    "            return np.nan\n",
    "    return decide_vote"
   ]
  },
  {
   "cell_type": "code",
   "execution_count": 15,
   "metadata": {},
   "outputs": [
    {
     "name": "stdout",
     "output_type": "stream",
     "text": [
      "time: 13.1 s\n"
     ]
    }
   ],
   "source": [
    "# See if the predictions are valid votes or not\n",
    "df_votes_tr = df_pred_tr.applymap(decide_vote_gen(tol))\n",
    "df_votes_sub = df_pred_sub.applymap(decide_vote_gen(tol))"
   ]
  },
  {
   "cell_type": "code",
   "execution_count": 16,
   "metadata": {},
   "outputs": [
    {
     "name": "stderr",
     "output_type": "stream",
     "text": [
      "/home/lucia/anaconda3/lib/python3.6/site-packages/ipykernel_launcher.py:6: SettingWithCopyWarning: \n",
      "A value is trying to be set on a copy of a slice from a DataFrame.\n",
      "Try using .loc[row_indexer,col_indexer] = value instead\n",
      "\n",
      "See the caveats in the documentation: http://pandas.pydata.org/pandas-docs/stable/indexing.html#indexing-view-versus-copy\n",
      "  \n",
      "/home/lucia/anaconda3/lib/python3.6/site-packages/ipykernel_launcher.py:7: SettingWithCopyWarning: \n",
      "A value is trying to be set on a copy of a slice from a DataFrame.\n",
      "Try using .loc[row_indexer,col_indexer] = value instead\n",
      "\n",
      "See the caveats in the documentation: http://pandas.pydata.org/pandas-docs/stable/indexing.html#indexing-view-versus-copy\n",
      "  import sys\n"
     ]
    },
    {
     "name": "stdout",
     "output_type": "stream",
     "text": [
      "time: 1.12 s\n"
     ]
    }
   ],
   "source": [
    "# Have each model vote as many times as specified\n",
    "df_final_votes_tr = df_votes_tr[['nmf']]\n",
    "df_final_votes_sub = df_votes_sub[['nmf']]\n",
    "for m in df_votes_tr.columns:\n",
    "    for i in range(model_weights['n_votes'][m]):\n",
    "        df_final_votes_tr['{}_{}'.format(m,i)] = df_votes_tr[m]\n",
    "        df_final_votes_sub['{}_{}'.format(m,i)] = df_votes_sub[m]\n",
    "\n",
    "df_final_votes_tr = df_final_votes_tr.drop('nmf', axis=1)\n",
    "df_final_votes_sub = df_final_votes_sub.drop('nmf', axis=1)"
   ]
  },
  {
   "cell_type": "code",
   "execution_count": 17,
   "metadata": {},
   "outputs": [
    {
     "name": "stdout",
     "output_type": "stream",
     "text": [
      "time: 1.43 s\n"
     ]
    }
   ],
   "source": [
    "df_pred_tr['median_vote'] = df_final_votes_tr.median(axis=1)\n",
    "df_pred_sub['median_vote'] = df_final_votes_sub.median(axis=1)\n",
    "\n",
    "n_votes_tr = df_final_votes_tr.notnull().sum(axis=1)\n",
    "n_votes_sub = df_final_votes_sub.notnull().sum(axis=1)\n",
    "\n",
    "df_pred_tr['median_vote'][n_votes_tr < min_v] = np.nan\n",
    "df_pred_sub['median_vote'][n_votes_sub < min_v] = np.nan\n",
    "\n",
    "## Get weighted mean\n",
    "# Add column with mean values\n",
    "df_pred_tr['mean'] = pd.Series(sp.find(sp_mean_tr)[2])\n",
    "df_pred_sub['mean'] = pd.Series(sp.find(sp_mean_sub)[2])\n",
    "\n",
    "# Combine decisions and means\n",
    "df_pred_tr['final'] = df_pred_tr['median_vote'].combine_first(df_pred_tr['mean'])\n",
    "df_pred_sub['final'] = df_pred_sub['median_vote'].combine_first(df_pred_sub['mean'])\n",
    "\n",
    "## Look at the results\n",
    "e_round['{}_{}'.format(tol, min_v)] = np.sqrt(np.mean((df_obs_tr[0] - df_pred_tr['final'])**2))\n",
    "e_mean['{}_{}'.format(tol, min_v)] = np.sqrt(np.mean((df_obs_tr[0] - df_pred_tr['mean'])**2))"
   ]
  },
  {
   "cell_type": "code",
   "execution_count": 18,
   "metadata": {},
   "outputs": [
    {
     "data": {
      "text/plain": [
       "{'0.01_15': 0.9563223823375252}"
      ]
     },
     "execution_count": 18,
     "metadata": {},
     "output_type": "execute_result"
    },
    {
     "name": "stdout",
     "output_type": "stream",
     "text": [
      "time: 7.81 ms\n"
     ]
    }
   ],
   "source": [
    "e_round"
   ]
  },
  {
   "cell_type": "code",
   "execution_count": 19,
   "metadata": {},
   "outputs": [
    {
     "data": {
      "text/plain": [
       "{'0.01_15': 0.95631678161799194}"
      ]
     },
     "execution_count": 19,
     "metadata": {},
     "output_type": "execute_result"
    },
    {
     "name": "stdout",
     "output_type": "stream",
     "text": [
      "time: 5.56 ms\n"
     ]
    }
   ],
   "source": [
    "e_mean"
   ]
  },
  {
   "cell_type": "markdown",
   "metadata": {
    "collapsed": true
   },
   "source": [
    "#### Save..."
   ]
  },
  {
   "cell_type": "code",
   "execution_count": 29,
   "metadata": {},
   "outputs": [
    {
     "name": "stdout",
     "output_type": "stream",
     "text": [
      "time: 217 ms\n"
     ]
    }
   ],
   "source": [
    "(r, c, v) = sp.find(sp_mean_sub)"
   ]
  },
  {
   "cell_type": "code",
   "execution_count": 35,
   "metadata": {},
   "outputs": [
    {
     "name": "stdout",
     "output_type": "stream",
     "text": [
      "time: 240 ms\n"
     ]
    }
   ],
   "source": [
    "sp_final = sp.csr_matrix((df_pred_sub['final'], (r, c)), shape=sp_mean_sub.shape)"
   ]
  },
  {
   "cell_type": "code",
   "execution_count": 36,
   "metadata": {},
   "outputs": [
    {
     "name": "stdout",
     "output_type": "stream",
     "text": [
      "time: 14 s\n"
     ]
    }
   ],
   "source": [
    "save_csv(sp_final, prediction_path=PREDICTION_PATH, filename='combination_final')"
   ]
  },
  {
   "cell_type": "code",
   "execution_count": null,
   "metadata": {
    "collapsed": true
   },
   "outputs": [],
   "source": []
  }
 ],
 "metadata": {
  "kernelspec": {
   "display_name": "Python 3",
   "language": "python",
   "name": "python3"
  },
  "language_info": {
   "codemirror_mode": {
    "name": "ipython",
    "version": 3
   },
   "file_extension": ".py",
   "mimetype": "text/x-python",
   "name": "python",
   "nbconvert_exporter": "python",
   "pygments_lexer": "ipython3",
   "version": "3.6.3"
  }
 },
 "nbformat": 4,
 "nbformat_minor": 2
}
