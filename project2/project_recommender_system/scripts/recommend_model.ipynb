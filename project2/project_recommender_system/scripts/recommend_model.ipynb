{
 "cells": [
  {
   "cell_type": "markdown",
   "metadata": {},
   "source": [
    "### No baselines!!"
   ]
  },
  {
   "cell_type": "markdown",
   "metadata": {},
   "source": [
    "https://github.com/chyikwei/recommend"
   ]
  },
  {
   "cell_type": "code",
   "execution_count": null,
   "metadata": {
    "collapsed": true
   },
   "outputs": [],
   "source": [
    "import os\n",
    "import random\n",
    "\n",
    "import numpy as np\n",
    "from recommend.bpmf import BPMF\n",
    "from recommend.utils.evaluation import RMSE\n",
    "\n",
    "from numpy.random import RandomState\n",
    "from recommend.als import ALS\n",
    "from recommend.utils.evaluation import RMSE\n",
    "\n",
    "import scipy.sparse as sp"
   ]
  },
  {
   "cell_type": "markdown",
   "metadata": {},
   "source": [
    "# Load example data"
   ]
  },
  {
   "cell_type": "raw",
   "metadata": {},
   "source": [
    "from recommend.utils.datasets import load_movielens_1m_ratings\n",
    "# load user ratings\n",
    "ratings = load_movielens_1m_ratings('ml-1m/ratings.dat')\n",
    "n_user = max(ratings[:, 0])\n",
    "n_item = max(ratings[:, 1])\n",
    "# ratings is an array of ratings, each rating consisting on a list with [userID, movieID, rating]\n",
    "ratings[:, (0, 1)] -= 1 # shift ids by 1 to let user_id & movie_id start from 0"
   ]
  },
  {
   "cell_type": "markdown",
   "metadata": {},
   "source": [
    "### Fit a simple model on it"
   ]
  },
  {
   "cell_type": "raw",
   "metadata": {},
   "source": [
    "# fit model\n",
    "bpmf = BPMF(n_user=n_user, n_item=n_item, n_feature=10,\n",
    "                max_rating=5., min_rating=1., seed=0).fit(ratings, n_iters=20)\n",
    "\n",
    "RMSE(bpmf.predict(ratings[:, :2]), ratings[:,2]) # training RMSE\n",
    "\n",
    "# predict ratings for user 0 and item 0 to 9:\n",
    "bpmf.predict(np.array([[0, i] for i in range(10)]))"
   ]
  },
  {
   "cell_type": "markdown",
   "metadata": {},
   "source": [
    "### Now we try with regularized ALS"
   ]
  },
  {
   "cell_type": "raw",
   "metadata": {},
   "source": [
    "# split data to training & testing\n",
    "train_pct = 0.9\n",
    "rand_state = RandomState(0)\n",
    "rand_state.shuffle(ratings)\n",
    "train_size = int(train_pct * ratings.shape[0])\n",
    "train = ratings[:train_size]\n",
    "validation = ratings[train_size:]\n",
    "\n",
    "# models settings\n",
    "n_feature = 10\n",
    "eval_iters = 10\n",
    "print(\"n_user: %d, n_item: %d, n_feature: %d, training size: %d, validation size: %d\" % (\n",
    "    n_user, n_item, n_feature, train.shape[0], validation.shape[0]))"
   ]
  },
  {
   "cell_type": "raw",
   "metadata": {},
   "source": [
    "als = ALS(n_user=n_user, n_item=n_item, n_feature=n_feature,\n",
    "          reg=5e-2, max_rating=5., min_rating=1., seed=0)\n",
    "\n",
    "als.fit(train, n_iters=eval_iters)\n",
    "train_preds = als.predict(train[:, :2])\n",
    "train_rmse = RMSE(train_preds, train[:, 2])\n",
    "val_preds = als.predict(validation[:, :2])\n",
    "val_rmse = RMSE(val_preds, validation[:, 2])\n",
    "print(\"after %d iterations, train RMSE: %.6f, validation RMSE: %.6f\" % \\\n",
    "      (eval_iters, train_rmse, val_rmse))"
   ]
  },
  {
   "cell_type": "markdown",
   "metadata": {},
   "source": [
    "# Load project data"
   ]
  },
  {
   "cell_type": "markdown",
   "metadata": {},
   "source": [
    "Now I try this model on our project data. I first need to create the list of ratings"
   ]
  },
  {
   "cell_type": "code",
   "execution_count": null,
   "metadata": {},
   "outputs": [],
   "source": [
    "from helpers import load_data, preprocess_data\n",
    "\n",
    "DATA_PATH = '../data/'\n",
    "PREDICTION_PATH = '../data/predictions/'\n",
    "ratings_data = load_data('{dp}data_train.csv'.format(dp=DATA_PATH))\n",
    "ratings_csr = ratings_data.tocsr()\n",
    "sample_submission = load_data('{dp}sample_submission.csv'.format(dp=DATA_PATH))\n",
    "sample_submission_csr = sample_submission.tocsr()"
   ]
  },
  {
   "cell_type": "code",
   "execution_count": null,
   "metadata": {},
   "outputs": [],
   "source": [
    "# ratings is an array of ratings, each rating consisting on a list with [userID, movieID, rating]\n",
    "(rows, cols, vals) = sp.find(ratings_csr)\n",
    "ratings = np.array([np.array([int(u),int(i),int(r)]) for (u,i,r) in zip(cols, rows, vals)])\n",
    "\n",
    "n_user = max(ratings[:, 0]) + 1\n",
    "n_item = max(ratings[:, 1]) + 1"
   ]
  },
  {
   "cell_type": "code",
   "execution_count": null,
   "metadata": {
    "collapsed": true
   },
   "outputs": [],
   "source": [
    "# split data to training & testing\n",
    "train_pct = 0.9\n",
    "rand_state = RandomState(0)\n",
    "rand_state.shuffle(ratings)\n",
    "train_size = int(train_pct * ratings.shape[0])\n",
    "train = ratings[:train_size]\n",
    "validation = ratings[train_size:]"
   ]
  },
  {
   "cell_type": "markdown",
   "metadata": {},
   "source": [
    "#### Set number of iterations (epochs)"
   ]
  },
  {
   "cell_type": "code",
   "execution_count": null,
   "metadata": {
    "collapsed": true
   },
   "outputs": [],
   "source": [
    "eval_iters = 50"
   ]
  },
  {
   "cell_type": "markdown",
   "metadata": {},
   "source": [
    "#### k10"
   ]
  },
  {
   "cell_type": "code",
   "execution_count": null,
   "metadata": {},
   "outputs": [],
   "source": [
    "rand_state = RandomState(0)\n",
    "\n",
    "# models settings\n",
    "n_feature = 10\n",
    "print(\"n_user: %d, n_item: %d, n_feature: %d, training size: %d, validation size: %d\" % (\n",
    "    n_user, n_item, n_feature, train.shape[0], validation.shape[0]))\n",
    "als = ALS(n_user=n_user, n_item=n_item, n_feature=n_feature,\n",
    "          reg=5e-2, max_rating=5., min_rating=1., seed=0)\n",
    "\n",
    "als.fit(train, n_iters=eval_iters)\n",
    "train_preds = als.predict(train[:, :2])\n",
    "train_rmse = RMSE(train_preds, train[:, 2])\n",
    "val_preds = als.predict(validation[:, :2])\n",
    "val_rmse = RMSE(val_preds, validation[:, 2])\n",
    "print(\"after %d iterations, train RMSE: %.6f, validation RMSE: %.6f\" % \\\n",
    "      (eval_iters, train_rmse, val_rmse))"
   ]
  },
  {
   "cell_type": "code",
   "execution_count": null,
   "metadata": {},
   "outputs": [],
   "source": [
    "rand_state = RandomState(0)\n",
    "\n",
    "# models settings\n",
    "n_feature = 10\n",
    "print(\"n_user: %d, n_item: %d, n_feature: %d, training size: %d, validation size: %d\" % (\n",
    "    n_user, n_item, n_feature, train.shape[0], validation.shape[0]))\n",
    "als = ALS(n_user=n_user, n_item=n_item, n_feature=n_feature,\n",
    "          reg=10e-2, max_rating=5., min_rating=1., seed=0)\n",
    "\n",
    "als.fit(train, n_iters=eval_iters)\n",
    "train_preds = als.predict(train[:, :2])\n",
    "train_rmse = RMSE(train_preds, train[:, 2])\n",
    "val_preds = als.predict(validation[:, :2])\n",
    "val_rmse = RMSE(val_preds, validation[:, 2])\n",
    "print(\"after %d iterations, train RMSE: %.6f, validation RMSE: %.6f\" % \\\n",
    "      (eval_iters, train_rmse, val_rmse))"
   ]
  },
  {
   "cell_type": "code",
   "execution_count": null,
   "metadata": {},
   "outputs": [],
   "source": [
    "rand_state = RandomState(0)\n",
    "\n",
    "# models settings\n",
    "n_feature = 10\n",
    "print(\"n_user: %d, n_item: %d, n_feature: %d, training size: %d, validation size: %d\" % (\n",
    "    n_user, n_item, n_feature, train.shape[0], validation.shape[0]))\n",
    "als = ALS(n_user=n_user, n_item=n_item, n_feature=n_feature,\n",
    "          reg=15e-2, max_rating=5., min_rating=1., seed=0)\n",
    "\n",
    "als.fit(train, n_iters=eval_iters)\n",
    "train_preds = als.predict(train[:, :2])\n",
    "train_rmse = RMSE(train_preds, train[:, 2])\n",
    "val_preds = als.predict(validation[:, :2])\n",
    "val_rmse = RMSE(val_preds, validation[:, 2])\n",
    "print(\"after %d iterations, train RMSE: %.6f, validation RMSE: %.6f\" % \\\n",
    "      (eval_iters, train_rmse, val_rmse))"
   ]
  },
  {
   "cell_type": "markdown",
   "metadata": {},
   "source": [
    "#### k18"
   ]
  },
  {
   "cell_type": "code",
   "execution_count": null,
   "metadata": {},
   "outputs": [],
   "source": [
    "rand_state = RandomState(0)\n",
    "\n",
    "# models settings\n",
    "n_feature = 18\n",
    "print(\"n_user: %d, n_item: %d, n_feature: %d, training size: %d, validation size: %d\" % (\n",
    "    n_user, n_item, n_feature, train.shape[0], validation.shape[0]))\n",
    "als = ALS(n_user=n_user, n_item=n_item, n_feature=n_feature,\n",
    "          reg=9e-2, max_rating=5., min_rating=1., seed=0)\n",
    "\n",
    "als.fit(train, n_iters=eval_iters)\n",
    "train_preds = als.predict(train[:, :2])\n",
    "train_rmse = RMSE(train_preds, train[:, 2])\n",
    "val_preds = als.predict(validation[:, :2])\n",
    "val_rmse = RMSE(val_preds, validation[:, 2])\n",
    "print(\"after %d iterations, train RMSE: %.6f, validation RMSE: %.6f\" % \\\n",
    "      (eval_iters, train_rmse, val_rmse))"
   ]
  },
  {
   "cell_type": "markdown",
   "metadata": {},
   "source": [
    "#### k20"
   ]
  },
  {
   "cell_type": "code",
   "execution_count": null,
   "metadata": {},
   "outputs": [],
   "source": [
    "rand_state = RandomState(0)\n",
    "\n",
    "# models settings\n",
    "n_feature = 20\n",
    "print(\"n_user: %d, n_item: %d, n_feature: %d, training size: %d, validation size: %d\" % (\n",
    "    n_user, n_item, n_feature, train.shape[0], validation.shape[0]))\n",
    "als = ALS(n_user=n_user, n_item=n_item, n_feature=n_feature,\n",
    "          reg=5e-2, max_rating=5., min_rating=1., seed=0)\n",
    "\n",
    "als.fit(train, n_iters=eval_iters)\n",
    "train_preds = als.predict(train[:, :2])\n",
    "train_rmse = RMSE(train_preds, train[:, 2])\n",
    "val_preds = als.predict(validation[:, :2])\n",
    "val_rmse = RMSE(val_preds, validation[:, 2])\n",
    "print(\"after %d iterations, train RMSE: %.6f, validation RMSE: %.6f\" % \\\n",
    "      (eval_iters, train_rmse, val_rmse))"
   ]
  },
  {
   "cell_type": "code",
   "execution_count": null,
   "metadata": {},
   "outputs": [],
   "source": [
    "rand_state = RandomState(0)\n",
    "\n",
    "# models settings\n",
    "n_feature = 20\n",
    "print(\"n_user: %d, n_item: %d, n_feature: %d, training size: %d, validation size: %d\" % (\n",
    "    n_user, n_item, n_feature, train.shape[0], validation.shape[0]))\n",
    "als = ALS(n_user=n_user, n_item=n_item, n_feature=n_feature,\n",
    "          reg=8e-2, max_rating=5., min_rating=1., seed=0)\n",
    "\n",
    "als.fit(train, n_iters=eval_iters)\n",
    "train_preds = als.predict(train[:, :2])\n",
    "train_rmse = RMSE(train_preds, train[:, 2])\n",
    "val_preds = als.predict(validation[:, :2])\n",
    "val_rmse = RMSE(val_preds, validation[:, 2])\n",
    "print(\"after %d iterations, train RMSE: %.6f, validation RMSE: %.6f\" % \\\n",
    "      (eval_iters, train_rmse, val_rmse))"
   ]
  },
  {
   "cell_type": "code",
   "execution_count": null,
   "metadata": {},
   "outputs": [],
   "source": [
    "rand_state = RandomState(0)\n",
    "\n",
    "# models settings\n",
    "n_feature = 20\n",
    "print(\"n_user: %d, n_item: %d, n_feature: %d, training size: %d, validation size: %d\" % (\n",
    "    n_user, n_item, n_feature, train.shape[0], validation.shape[0]))\n",
    "als = ALS(n_user=n_user, n_item=n_item, n_feature=n_feature,\n",
    "          reg=85e-3, max_rating=5., min_rating=1., seed=0)\n",
    "\n",
    "als.fit(train, n_iters=eval_iters)\n",
    "train_preds = als.predict(train[:, :2])\n",
    "train_rmse = RMSE(train_preds, train[:, 2])\n",
    "val_preds = als.predict(validation[:, :2])\n",
    "val_rmse = RMSE(val_preds, validation[:, 2])\n",
    "print(\"after %d iterations, train RMSE: %.6f, validation RMSE: %.6f\" % \\\n",
    "      (eval_iters, train_rmse, val_rmse))"
   ]
  },
  {
   "cell_type": "code",
   "execution_count": null,
   "metadata": {},
   "outputs": [],
   "source": [
    "rand_state = RandomState(0)\n",
    "# models settings\n",
    "n_feature = 20\n",
    "print(\"n_user: %d, n_item: %d, n_feature: %d, training size: %d, validation size: %d\" % (\n",
    "    n_user, n_item, n_feature, train.shape[0], validation.shape[0]))\n",
    "als = ALS(n_user=n_user, n_item=n_item, n_feature=n_feature,\n",
    "          reg=9e-2, max_rating=5., min_rating=1., seed=0)\n",
    "\n",
    "als.fit(train, n_iters=eval_iters)\n",
    "train_preds = als.predict(train[:, :2])\n",
    "train_rmse = RMSE(train_preds, train[:, 2])\n",
    "val_preds = als.predict(validation[:, :2])\n",
    "val_rmse = RMSE(val_preds, validation[:, 2])\n",
    "print(\"after %d iterations, train RMSE: %.6f, validation RMSE: %.6f\" % \\\n",
    "      (eval_iters, train_rmse, val_rmse))"
   ]
  },
  {
   "cell_type": "code",
   "execution_count": null,
   "metadata": {},
   "outputs": [],
   "source": [
    "rand_state = RandomState(0)\n",
    "\n",
    "# models settings\n",
    "n_feature = 20\n",
    "print(\"n_user: %d, n_item: %d, n_feature: %d, training size: %d, validation size: %d\" % (\n",
    "    n_user, n_item, n_feature, train.shape[0], validation.shape[0]))\n",
    "als = ALS(n_user=n_user, n_item=n_item, n_feature=n_feature,\n",
    "          reg=95e-3, max_rating=5., min_rating=1., seed=0)\n",
    "\n",
    "als.fit(train, n_iters=eval_iters)\n",
    "train_preds = als.predict(train[:, :2])\n",
    "train_rmse = RMSE(train_preds, train[:, 2])\n",
    "val_preds = als.predict(validation[:, :2])\n",
    "val_rmse = RMSE(val_preds, validation[:, 2])\n",
    "print(\"after %d iterations, train RMSE: %.6f, validation RMSE: %.6f\" % \\\n",
    "      (eval_iters, train_rmse, val_rmse))"
   ]
  },
  {
   "cell_type": "code",
   "execution_count": null,
   "metadata": {},
   "outputs": [],
   "source": [
    "rand_state = RandomState(0)\n",
    "\n",
    "# models settings\n",
    "n_feature = 20\n",
    "print(\"n_user: %d, n_item: %d, n_feature: %d, training size: %d, validation size: %d\" % (\n",
    "    n_user, n_item, n_feature, train.shape[0], validation.shape[0]))\n",
    "als = ALS(n_user=n_user, n_item=n_item, n_feature=n_feature,\n",
    "          reg=10e-2, max_rating=5., min_rating=1., seed=0)\n",
    "\n",
    "als.fit(train, n_iters=eval_iters)\n",
    "train_preds = als.predict(train[:, :2])\n",
    "train_rmse = RMSE(train_preds, train[:, 2])\n",
    "val_preds = als.predict(validation[:, :2])\n",
    "val_rmse = RMSE(val_preds, validation[:, 2])\n",
    "print(\"after %d iterations, train RMSE: %.6f, validation RMSE: %.6f\" % \\\n",
    "      (eval_iters, train_rmse, val_rmse))"
   ]
  },
  {
   "cell_type": "code",
   "execution_count": null,
   "metadata": {},
   "outputs": [],
   "source": [
    "rand_state = RandomState(0)\n",
    "\n",
    "# models settings\n",
    "n_feature = 20\n",
    "print(\"n_user: %d, n_item: %d, n_feature: %d, training size: %d, validation size: %d\" % (\n",
    "    n_user, n_item, n_feature, train.shape[0], validation.shape[0]))\n",
    "als = ALS(n_user=n_user, n_item=n_item, n_feature=n_feature,\n",
    "          reg=15e-2, max_rating=5., min_rating=1., seed=0)\n",
    "\n",
    "als.fit(train, n_iters=eval_iters)\n",
    "train_preds = als.predict(train[:, :2])\n",
    "train_rmse = RMSE(train_preds, train[:, 2])\n",
    "val_preds = als.predict(validation[:, :2])\n",
    "val_rmse = RMSE(val_preds, validation[:, 2])\n",
    "print(\"after %d iterations, train RMSE: %.6f, validation RMSE: %.6f\" % \\\n",
    "      (eval_iters, train_rmse, val_rmse))"
   ]
  },
  {
   "cell_type": "markdown",
   "metadata": {},
   "source": [
    "#### k22"
   ]
  },
  {
   "cell_type": "code",
   "execution_count": null,
   "metadata": {},
   "outputs": [],
   "source": [
    "rand_state = RandomState(0)\n",
    "\n",
    "# models settings\n",
    "n_feature = 22\n",
    "print(\"n_user: %d, n_item: %d, n_feature: %d, training size: %d, validation size: %d\" % (\n",
    "    n_user, n_item, n_feature, train.shape[0], validation.shape[0]))\n",
    "als = ALS(n_user=n_user, n_item=n_item, n_feature=n_feature,\n",
    "          reg=9e-2, max_rating=5., min_rating=1., seed=0)\n",
    "\n",
    "als.fit(train, n_iters=eval_iters)\n",
    "train_preds = als.predict(train[:, :2])\n",
    "train_rmse = RMSE(train_preds, train[:, 2])\n",
    "val_preds = als.predict(validation[:, :2])\n",
    "val_rmse = RMSE(val_preds, validation[:, 2])\n",
    "print(\"after %d iterations, train RMSE: %.6f, validation RMSE: %.6f\" % \\\n",
    "      (eval_iters, train_rmse, val_rmse))"
   ]
  },
  {
   "cell_type": "markdown",
   "metadata": {},
   "source": [
    "#### k=30"
   ]
  },
  {
   "cell_type": "code",
   "execution_count": null,
   "metadata": {},
   "outputs": [],
   "source": [
    "rand_state = RandomState(0)\n",
    "\n",
    "# models settings\n",
    "n_feature = 30\n",
    "print(\"n_user: %d, n_item: %d, n_feature: %d, training size: %d, validation size: %d\" % (\n",
    "    n_user, n_item, n_feature, train.shape[0], validation.shape[0]))\n",
    "als = ALS(n_user=n_user, n_item=n_item, n_feature=n_feature,\n",
    "          reg=5e-2, max_rating=5., min_rating=1., seed=0)\n",
    "\n",
    "als.fit(train, n_iters=eval_iters)\n",
    "train_preds = als.predict(train[:, :2])\n",
    "train_rmse = RMSE(train_preds, train[:, 2])\n",
    "val_preds = als.predict(validation[:, :2])\n",
    "val_rmse = RMSE(val_preds, validation[:, 2])\n",
    "print(\"after %d iterations, train RMSE: %.6f, validation RMSE: %.6f\" % \\\n",
    "      (eval_iters, train_rmse, val_rmse))"
   ]
  },
  {
   "cell_type": "code",
   "execution_count": null,
   "metadata": {},
   "outputs": [],
   "source": [
    "rand_state = RandomState(0)\n",
    "\n",
    "# models settings\n",
    "n_feature = 30\n",
    "print(\"n_user: %d, n_item: %d, n_feature: %d, training size: %d, validation size: %d\" % (\n",
    "    n_user, n_item, n_feature, train.shape[0], validation.shape[0]))\n",
    "als = ALS(n_user=n_user, n_item=n_item, n_feature=n_feature,\n",
    "          reg=7e-2, max_rating=5., min_rating=1., seed=0)\n",
    "\n",
    "als.fit(train, n_iters=eval_iters)\n",
    "train_preds = als.predict(train[:, :2])\n",
    "train_rmse = RMSE(train_preds, train[:, 2])\n",
    "val_preds = als.predict(validation[:, :2])\n",
    "val_rmse = RMSE(val_preds, validation[:, 2])\n",
    "print(\"after %d iterations, train RMSE: %.6f, validation RMSE: %.6f\" % \\\n",
    "      (eval_iters, train_rmse, val_rmse))"
   ]
  },
  {
   "cell_type": "code",
   "execution_count": null,
   "metadata": {},
   "outputs": [],
   "source": [
    "rand_state = RandomState(0)\n",
    "\n",
    "# models settings\n",
    "n_feature = 30\n",
    "print(\"n_user: %d, n_item: %d, n_feature: %d, training size: %d, validation size: %d\" % (\n",
    "    n_user, n_item, n_feature, train.shape[0], validation.shape[0]))\n",
    "als = ALS(n_user=n_user, n_item=n_item, n_feature=n_feature,\n",
    "          reg=9e-2, max_rating=5., min_rating=1., seed=0)\n",
    "\n",
    "als.fit(train, n_iters=eval_iters)\n",
    "train_preds = als.predict(train[:, :2])\n",
    "train_rmse = RMSE(train_preds, train[:, 2])\n",
    "val_preds = als.predict(validation[:, :2])\n",
    "val_rmse = RMSE(val_preds, validation[:, 2])\n",
    "print(\"after %d iterations, train RMSE: %.6f, validation RMSE: %.6f\" % \\\n",
    "      (eval_iters, train_rmse, val_rmse))"
   ]
  },
  {
   "cell_type": "code",
   "execution_count": null,
   "metadata": {},
   "outputs": [],
   "source": [
    "rand_state = RandomState(0)\n",
    "\n",
    "# models settings\n",
    "n_feature = 30\n",
    "print(\"n_user: %d, n_item: %d, n_feature: %d, training size: %d, validation size: %d\" % (\n",
    "    n_user, n_item, n_feature, train.shape[0], validation.shape[0]))\n",
    "als = ALS(n_user=n_user, n_item=n_item, n_feature=n_feature,\n",
    "          reg=95e-3, max_rating=5., min_rating=1., seed=0)\n",
    "\n",
    "als.fit(train, n_iters=eval_iters)\n",
    "train_preds = als.predict(train[:, :2])\n",
    "train_rmse = RMSE(train_preds, train[:, 2])\n",
    "val_preds = als.predict(validation[:, :2])\n",
    "val_rmse = RMSE(val_preds, validation[:, 2])\n",
    "print(\"after %d iterations, train RMSE: %.6f, validation RMSE: %.6f\" % \\\n",
    "      (eval_iters, train_rmse, val_rmse))"
   ]
  },
  {
   "cell_type": "code",
   "execution_count": null,
   "metadata": {},
   "outputs": [],
   "source": [
    "rand_state = RandomState(0)\n",
    "\n",
    "# models settings\n",
    "n_feature = 30\n",
    "print(\"n_user: %d, n_item: %d, n_feature: %d, training size: %d, validation size: %d\" % (\n",
    "    n_user, n_item, n_feature, train.shape[0], validation.shape[0]))\n",
    "als = ALS(n_user=n_user, n_item=n_item, n_feature=n_feature,\n",
    "          reg=97e-3, max_rating=5., min_rating=1., seed=0)\n",
    "\n",
    "als.fit(train, n_iters=eval_iters)\n",
    "train_preds = als.predict(train[:, :2])\n",
    "train_rmse = RMSE(train_preds, train[:, 2])\n",
    "val_preds = als.predict(validation[:, :2])\n",
    "val_rmse = RMSE(val_preds, validation[:, 2])\n",
    "print(\"after %d iterations, train RMSE: %.6f, validation RMSE: %.6f\" % \\\n",
    "      (eval_iters, train_rmse, val_rmse))"
   ]
  },
  {
   "cell_type": "code",
   "execution_count": null,
   "metadata": {},
   "outputs": [],
   "source": [
    "rand_state = RandomState(0)\n",
    "\n",
    "# models settings\n",
    "n_feature = 30\n",
    "print(\"n_user: %d, n_item: %d, n_feature: %d, training size: %d, validation size: %d\" % (\n",
    "    n_user, n_item, n_feature, train.shape[0], validation.shape[0]))\n",
    "als = ALS(n_user=n_user, n_item=n_item, n_feature=n_feature,\n",
    "          reg=10e-2, max_rating=5., min_rating=1., seed=0)\n",
    "\n",
    "als.fit(train, n_iters=eval_iters)\n",
    "train_preds = als.predict(train[:, :2])\n",
    "train_rmse = RMSE(train_preds, train[:, 2])\n",
    "val_preds = als.predict(validation[:, :2])\n",
    "val_rmse = RMSE(val_preds, validation[:, 2])\n",
    "print(\"after %d iterations, train RMSE: %.6f, validation RMSE: %.6f\" % \\\n",
    "      (eval_iters, train_rmse, val_rmse))"
   ]
  },
  {
   "cell_type": "code",
   "execution_count": null,
   "metadata": {},
   "outputs": [],
   "source": [
    "rand_state = RandomState(0)\n",
    "\n",
    "# models settings\n",
    "n_feature = 30\n",
    "print(\"n_user: %d, n_item: %d, n_feature: %d, training size: %d, validation size: %d\" % (\n",
    "    n_user, n_item, n_feature, train.shape[0], validation.shape[0]))\n",
    "als = ALS(n_user=n_user, n_item=n_item, n_feature=n_feature,\n",
    "          reg=12e-2, max_rating=5., min_rating=1., seed=0)\n",
    "\n",
    "als.fit(train, n_iters=eval_iters)\n",
    "train_preds = als.predict(train[:, :2])\n",
    "train_rmse = RMSE(train_preds, train[:, 2])\n",
    "val_preds = als.predict(validation[:, :2])\n",
    "val_rmse = RMSE(val_preds, validation[:, 2])\n",
    "print(\"after %d iterations, train RMSE: %.6f, validation RMSE: %.6f\" % \\\n",
    "      (eval_iters, train_rmse, val_rmse))"
   ]
  },
  {
   "cell_type": "code",
   "execution_count": null,
   "metadata": {},
   "outputs": [],
   "source": [
    "rand_state = RandomState(0)\n",
    "\n",
    "# models settings\n",
    "n_feature = 30\n",
    "print(\"n_user: %d, n_item: %d, n_feature: %d, training size: %d, validation size: %d\" % (\n",
    "    n_user, n_item, n_feature, train.shape[0], validation.shape[0]))\n",
    "als = ALS(n_user=n_user, n_item=n_item, n_feature=n_feature,\n",
    "          reg=15e-2, max_rating=5., min_rating=1., seed=0)\n",
    "\n",
    "als.fit(train, n_iters=eval_iters)\n",
    "train_preds = als.predict(train[:, :2])\n",
    "train_rmse = RMSE(train_preds, train[:, 2])\n",
    "val_preds = als.predict(validation[:, :2])\n",
    "val_rmse = RMSE(val_preds, validation[:, 2])\n",
    "print(\"after %d iterations, train RMSE: %.6f, validation RMSE: %.6f\" % \\\n",
    "      (eval_iters, train_rmse, val_rmse))"
   ]
  },
  {
   "cell_type": "markdown",
   "metadata": {},
   "source": [
    "#### k=50"
   ]
  },
  {
   "cell_type": "code",
   "execution_count": null,
   "metadata": {},
   "outputs": [],
   "source": [
    "rand_state = RandomState(0)\n",
    "\n",
    "# models settings\n",
    "n_feature = 50\n",
    "print(\"n_user: %d, n_item: %d, n_feature: %d, training size: %d, validation size: %d\" % (\n",
    "    n_user, n_item, n_feature, train.shape[0], validation.shape[0]))\n",
    "als = ALS(n_user=n_user, n_item=n_item, n_feature=n_feature,\n",
    "          reg=5e-2, max_rating=5., min_rating=1., seed=0)\n",
    "\n",
    "als.fit(train, n_iters=eval_iters)\n",
    "train_preds = als.predict(train[:, :2])\n",
    "train_rmse = RMSE(train_preds, train[:, 2])\n",
    "val_preds = als.predict(validation[:, :2])\n",
    "val_rmse = RMSE(val_preds, validation[:, 2])\n",
    "print(\"after %d iterations, train RMSE: %.6f, validation RMSE: %.6f\" % \\\n",
    "      (eval_iters, train_rmse, val_rmse))"
   ]
  },
  {
   "cell_type": "code",
   "execution_count": null,
   "metadata": {},
   "outputs": [],
   "source": [
    "rand_state = RandomState(0)\n",
    "\n",
    "# models settings\n",
    "n_feature = 50\n",
    "print(\"n_user: %d, n_item: %d, n_feature: %d, training size: %d, validation size: %d\" % (\n",
    "    n_user, n_item, n_feature, train.shape[0], validation.shape[0]))\n",
    "als = ALS(n_user=n_user, n_item=n_item, n_feature=n_feature,\n",
    "          reg=8e-2, max_rating=5., min_rating=1., seed=0)\n",
    "\n",
    "als.fit(train, n_iters=eval_iters)\n",
    "train_preds = als.predict(train[:, :2])\n",
    "train_rmse = RMSE(train_preds, train[:, 2])\n",
    "val_preds = als.predict(validation[:, :2])\n",
    "val_rmse = RMSE(val_preds, validation[:, 2])\n",
    "print(\"after %d iterations, train RMSE: %.6f, validation RMSE: %.6f\" % \\\n",
    "      (eval_iters, train_rmse, val_rmse))"
   ]
  },
  {
   "cell_type": "code",
   "execution_count": null,
   "metadata": {},
   "outputs": [],
   "source": [
    "rand_state = RandomState(0)\n",
    "\n",
    "# models settings\n",
    "n_feature = 50\n",
    "print(\"n_user: %d, n_item: %d, n_feature: %d, training size: %d, validation size: %d\" % (\n",
    "    n_user, n_item, n_feature, train.shape[0], validation.shape[0]))\n",
    "als = ALS(n_user=n_user, n_item=n_item, n_feature=n_feature,\n",
    "          reg=9e-2, max_rating=5., min_rating=1., seed=0)\n",
    "\n",
    "als.fit(train, n_iters=eval_iters)\n",
    "train_preds = als.predict(train[:, :2])\n",
    "train_rmse = RMSE(train_preds, train[:, 2])\n",
    "val_preds = als.predict(validation[:, :2])\n",
    "val_rmse = RMSE(val_preds, validation[:, 2])\n",
    "print(\"after %d iterations, train RMSE: %.6f, validation RMSE: %.6f\" % \\\n",
    "      (eval_iters, train_rmse, val_rmse))"
   ]
  },
  {
   "cell_type": "code",
   "execution_count": null,
   "metadata": {},
   "outputs": [],
   "source": [
    "rand_state = RandomState(0)\n",
    "\n",
    "# models settings\n",
    "n_feature = 50\n",
    "print(\"n_user: %d, n_item: %d, n_feature: %d, training size: %d, validation size: %d\" % (\n",
    "    n_user, n_item, n_feature, train.shape[0], validation.shape[0]))\n",
    "als = ALS(n_user=n_user, n_item=n_item, n_feature=n_feature,\n",
    "          reg=10e-2, max_rating=5., min_rating=1., seed=0)\n",
    "\n",
    "als.fit(train, n_iters=eval_iters)\n",
    "train_preds = als.predict(train[:, :2])\n",
    "train_rmse = RMSE(train_preds, train[:, 2])\n",
    "val_preds = als.predict(validation[:, :2])\n",
    "val_rmse = RMSE(val_preds, validation[:, 2])\n",
    "print(\"after %d iterations, train RMSE: %.6f, validation RMSE: %.6f\" % \\\n",
    "      (eval_iters, train_rmse, val_rmse))"
   ]
  },
  {
   "cell_type": "code",
   "execution_count": null,
   "metadata": {},
   "outputs": [],
   "source": [
    "rand_state = RandomState(0)\n",
    "\n",
    "# models settings\n",
    "n_feature = 50\n",
    "print(\"n_user: %d, n_item: %d, n_feature: %d, training size: %d, validation size: %d\" % (\n",
    "    n_user, n_item, n_feature, train.shape[0], validation.shape[0]))\n",
    "als = ALS(n_user=n_user, n_item=n_item, n_feature=n_feature,\n",
    "          reg=11e-2, max_rating=5., min_rating=1., seed=0)\n",
    "\n",
    "als.fit(train, n_iters=eval_iters)\n",
    "train_preds = als.predict(train[:, :2])\n",
    "train_rmse = RMSE(train_preds, train[:, 2])\n",
    "val_preds = als.predict(validation[:, :2])\n",
    "val_rmse = RMSE(val_preds, validation[:, 2])\n",
    "print(\"after %d iterations, train RMSE: %.6f, validation RMSE: %.6f\" % \\\n",
    "      (eval_iters, train_rmse, val_rmse))"
   ]
  },
  {
   "cell_type": "code",
   "execution_count": null,
   "metadata": {},
   "outputs": [],
   "source": [
    "rand_state = RandomState(0)\n",
    "\n",
    "# models settings\n",
    "n_feature = 50\n",
    "print(\"n_user: %d, n_item: %d, n_feature: %d, training size: %d, validation size: %d\" % (\n",
    "    n_user, n_item, n_feature, train.shape[0], validation.shape[0]))\n",
    "als = ALS(n_user=n_user, n_item=n_item, n_feature=n_feature,\n",
    "          reg=13e-2, max_rating=5., min_rating=1., seed=0)\n",
    "\n",
    "als.fit(train, n_iters=eval_iters)\n",
    "train_preds = als.predict(train[:, :2])\n",
    "train_rmse = RMSE(train_preds, train[:, 2])\n",
    "val_preds = als.predict(validation[:, :2])\n",
    "val_rmse = RMSE(val_preds, validation[:, 2])\n",
    "print(\"after %d iterations, train RMSE: %.6f, validation RMSE: %.6f\" % \\\n",
    "      (eval_iters, train_rmse, val_rmse))"
   ]
  },
  {
   "cell_type": "code",
   "execution_count": null,
   "metadata": {},
   "outputs": [],
   "source": [
    "rand_state = RandomState(0)\n",
    "\n",
    "# models settings\n",
    "n_feature = 50\n",
    "print(\"n_user: %d, n_item: %d, n_feature: %d, training size: %d, validation size: %d\" % (\n",
    "    n_user, n_item, n_feature, train.shape[0], validation.shape[0]))\n",
    "als = ALS(n_user=n_user, n_item=n_item, n_feature=n_feature,\n",
    "          reg=15e-2, max_rating=5., min_rating=1., seed=0)\n",
    "\n",
    "als.fit(train, n_iters=eval_iters)\n",
    "train_preds = als.predict(train[:, :2])\n",
    "train_rmse = RMSE(train_preds, train[:, 2])\n",
    "val_preds = als.predict(validation[:, :2])\n",
    "val_rmse = RMSE(val_preds, validation[:, 2])\n",
    "print(\"after %d iterations, train RMSE: %.6f, validation RMSE: %.6f\" % \\\n",
    "      (eval_iters, train_rmse, val_rmse))"
   ]
  },
  {
   "cell_type": "code",
   "execution_count": null,
   "metadata": {
    "collapsed": true
   },
   "outputs": [],
   "source": []
  },
  {
   "cell_type": "code",
   "execution_count": null,
   "metadata": {
    "collapsed": true
   },
   "outputs": [],
   "source": []
  },
  {
   "cell_type": "code",
   "execution_count": null,
   "metadata": {
    "collapsed": true
   },
   "outputs": [],
   "source": []
  },
  {
   "cell_type": "code",
   "execution_count": null,
   "metadata": {
    "collapsed": true
   },
   "outputs": [],
   "source": []
  },
  {
   "cell_type": "code",
   "execution_count": null,
   "metadata": {
    "collapsed": true
   },
   "outputs": [],
   "source": []
  },
  {
   "cell_type": "code",
   "execution_count": null,
   "metadata": {
    "collapsed": true
   },
   "outputs": [],
   "source": []
  },
  {
   "cell_type": "code",
   "execution_count": null,
   "metadata": {
    "collapsed": true
   },
   "outputs": [],
   "source": []
  },
  {
   "cell_type": "code",
   "execution_count": null,
   "metadata": {
    "collapsed": true
   },
   "outputs": [],
   "source": []
  },
  {
   "cell_type": "code",
   "execution_count": null,
   "metadata": {
    "collapsed": true
   },
   "outputs": [],
   "source": [
    "# Define paths to dataset files\n",
    "sample_file_path = os.path.expanduser('{}{}'.format(DATA_PATH, SAMPLE_DATA_FILE))\n",
    "train_file_path = os.path.expanduser('{}{}'.format(DATA_PATH, TRAIN_DATA_FILE))\n",
    "submission_file_path = os.path.expanduser('{}{}'.format(DATA_PATH, SUBMISSION_DATA_FILE))\n",
    "\n",
    "# Define a reader\n",
    "reader = Reader(line_format='item user rating', sep=',')\n",
    "\n",
    "# Load datasets\n",
    "sample_data = Dataset.load_from_file(sample_file_path, reader=reader)\n",
    "train_data = Dataset.load_from_file(train_file_path, reader=reader)\n",
    "submission_data = Dataset.load_from_file(submission_file_path, reader=reader)"
   ]
  },
  {
   "cell_type": "code",
   "execution_count": null,
   "metadata": {
    "collapsed": true
   },
   "outputs": [],
   "source": [
    "# Define folds for cross-validation\n",
    "random.seed(50)\n",
    "sample_data.split(n_folds=5)  # data can now be used normally\n",
    "\n",
    "random.seed(50)\n",
    "train_data.split(n_folds=5)  # data can now be used normally"
   ]
  },
  {
   "cell_type": "raw",
   "metadata": {
    "collapsed": true
   },
   "source": [
    "param_grid = {'n_factors': [20, 30, 60, 80, 100,120],\n",
    "              'reg_all': [0.01, 0.03, 0.05, 0.1, 0.12, 0.15, 0.17, 0.2, 0.25],\n",
    "              'n_epochs': [20]}\n",
    "grid_search = GridSearch(SVD, param_grid, measures=['RMSE'])\n",
    "grid_search.evaluate(train_data)"
   ]
  },
  {
   "cell_type": "raw",
   "metadata": {},
   "source": [
    "param_grid = {'n_factors': [70,100,130],\n",
    "              'reg_all': [0.03, 0.05, 0.07],\n",
    "              'n_epochs': [20]}\n",
    "grid_search = GridSearch(SVD, param_grid, measures=['RMSE'])\n",
    "grid_search.evaluate(train_data)"
   ]
  },
  {
   "cell_type": "raw",
   "metadata": {},
   "source": [
    "param_grid = {'n_factors': [90,100,110],\n",
    "              'reg_all': [0.045, 0.05, 0.055],\n",
    "              'n_epochs': [30]}\n",
    "grid_search = GridSearch(SVD, param_grid, measures=['RMSE'])\n",
    "grid_search.evaluate(train_data)"
   ]
  },
  {
   "cell_type": "code",
   "execution_count": null,
   "metadata": {},
   "outputs": [],
   "source": [
    "param_grid = {'n_factors': [90],\n",
    "              'reg_bu': [.04], \n",
    "              'reg_bi': [.05], \n",
    "              'reg_pu': [.05], \n",
    "              'reg_qi': [.06], \n",
    "              'n_epochs': [30]}\n",
    "grid_search = GridSearch(SVD, param_grid, measures=['RMSE'])\n",
    "grid_search.evaluate(train_data)"
   ]
  },
  {
   "cell_type": "code",
   "execution_count": null,
   "metadata": {},
   "outputs": [],
   "source": [
    "param_grid = {'n_factors': [90],\n",
    "              'reg_bu': [.04], \n",
    "              'reg_bi': [.05], \n",
    "              'reg_pu': [.05], \n",
    "              'reg_qi': [.06], \n",
    "              'n_epochs': [30]}\n",
    "grid_search = GridSearch(SVD, param_grid, measures=['RMSE'])\n",
    "grid_search.evaluate(train_data)"
   ]
  },
  {
   "cell_type": "code",
   "execution_count": null,
   "metadata": {
    "collapsed": true
   },
   "outputs": [],
   "source": [
    "param_grid = {'n_factors': [90],\n",
    "              'reg_bu': [.04], \n",
    "              'reg_bi': [.04], \n",
    "              'reg_pu': [.04], \n",
    "              'reg_qi': [.06, .07], \n",
    "              'n_epochs': [20]}\n",
    "grid_search = GridSearch(SVD, param_grid, measures=['RMSE'])\n",
    "grid_search.evaluate(train_data)"
   ]
  },
  {
   "cell_type": "code",
   "execution_count": null,
   "metadata": {
    "collapsed": true
   },
   "outputs": [],
   "source": [
    "SVD()"
   ]
  },
  {
   "cell_type": "raw",
   "metadata": {
    "collapsed": true
   },
   "source": [
    "from methods import split_data\n",
    "\n",
    "valid_ratings, train, test = split_data(ratings, num_items_per_user,\n",
    "    num_users_per_item, min_num_ratings=0, p_test=0.1, verbose=True)"
   ]
  },
  {
   "cell_type": "markdown",
   "metadata": {},
   "source": [
    "### Create submission"
   ]
  },
  {
   "cell_type": "code",
   "execution_count": null,
   "metadata": {
    "collapsed": true
   },
   "outputs": [],
   "source": [
    "# Retrieve the trainset.\n",
    "trainset = sample_data.build_full_trainset()\n",
    "\n",
    "# Build an algorithm, and train it.\n",
    "algo = SVD()\n",
    "algo.train(trainset)"
   ]
  },
  {
   "cell_type": "code",
   "execution_count": null,
   "metadata": {
    "collapsed": true
   },
   "outputs": [],
   "source": [
    "pred = algo.predict(1,2)"
   ]
  }
 ],
 "metadata": {
  "kernelspec": {
   "display_name": "Python 3",
   "language": "python",
   "name": "python3"
  },
  "language_info": {
   "codemirror_mode": {
    "name": "ipython",
    "version": 3
   },
   "file_extension": ".py",
   "mimetype": "text/x-python",
   "name": "python",
   "nbconvert_exporter": "python",
   "pygments_lexer": "ipython3",
   "version": "3.6.3"
  }
 },
 "nbformat": 4,
 "nbformat_minor": 1
}
