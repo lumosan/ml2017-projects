{
 "cells": [
  {
   "cell_type": "code",
   "execution_count": null,
   "metadata": {
    "collapsed": true,
    "scrolled": true
   },
   "outputs": [],
   "source": [
    "%load_ext autoreload\n",
    "%autoreload 2"
   ]
  },
  {
   "cell_type": "code",
   "execution_count": null,
   "metadata": {
    "collapsed": true
   },
   "outputs": [],
   "source": [
    "from datafile_methods.data_processing import k_fold_split\n",
    "from datafile_methods.data_io import load_data, save_csv\n",
    "from datafile_methods.data_processing import parse_data_sur"
   ]
  },
  {
   "cell_type": "code",
   "execution_count": null,
   "metadata": {
    "collapsed": true,
    "scrolled": true
   },
   "outputs": [],
   "source": [
    "# Load training dataset and example submission\n",
    "DATA_PATH = '../data/'\n",
    "PREDICTION_PATH = '../data/predictions/'\n",
    "ratings = load_data('{dp}data_train.csv'.format(dp=DATA_PATH))"
   ]
  },
  {
   "cell_type": "code",
   "execution_count": null,
   "metadata": {
    "scrolled": true
   },
   "outputs": [],
   "source": [
    "def prepare_data(k=5, data_path=''):\n",
    "    \"\"\"Splits data for training and test and for Surprise library\"\"\"\n",
    "    # Split training data for cross-validation and save files\n",
    "    folds = k_fold_split(ratings, k=k)\n",
    "    for i, f in enumerate(folds):\n",
    "        save_csv(f, prediction_path=data_path, filename='fold{}'.format(i))\n",
    "    \n",
    "    # Parse input data files into surprise format\n",
    "    # initialize lists with names of files\n",
    "    train_sub_filenames = ['data_train', 'sample_submission']\n",
    "    fold_filenames = ['fold{}'.format(i) for i in range(k)]\n",
    "    # save files\n",
    "    for fn in train_sub_filenames:\n",
    "        parse_data_sur([fn], data_path=data_path, output_fn=fn,\n",
    "            output_path=data_path+'surprise/') \n",
    "    \n",
    "    # prepare and save fold files\n",
    "    for i in range(k):\n",
    "        train_fn = fold_filenames.copy()\n",
    "        test_fn = train_fn.pop(i)\n",
    "        parse_data_sur(train_fn, data_path=data_path,\n",
    "            output_fn='fold_tr_{}'.format(i),\n",
    "            output_path=data_path+'surprise/')\n",
    "\n",
    "        parse_data_sur([test_fn], data_path=data_path,\n",
    "            output_fn='fold_te_{}'.format(i),\n",
    "            output_path=data_path+'surprise/')"
   ]
  },
  {
   "cell_type": "code",
   "execution_count": null,
   "metadata": {
    "scrolled": true
   },
   "outputs": [],
   "source": [
    "prepare_data(k=5, data_path=DATA_PATH)"
   ]
  },
  {
   "cell_type": "code",
   "execution_count": null,
   "metadata": {
    "collapsed": true
   },
   "outputs": [],
   "source": []
  }
 ],
 "metadata": {
  "kernelspec": {
   "display_name": "Python 3",
   "language": "python",
   "name": "python3"
  },
  "language_info": {
   "codemirror_mode": {
    "name": "ipython",
    "version": 3
   },
   "file_extension": ".py",
   "mimetype": "text/x-python",
   "name": "python",
   "nbconvert_exporter": "python",
   "pygments_lexer": "ipython3",
   "version": "3.6.3"
  }
 },
 "nbformat": 4,
 "nbformat_minor": 2
}
