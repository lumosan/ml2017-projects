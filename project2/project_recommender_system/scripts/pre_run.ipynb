{
 "cells": [
  {
   "cell_type": "markdown",
   "metadata": {},
   "source": [
    "#### Split data into training, test and validation"
   ]
  },
  {
   "cell_type": "code",
   "execution_count": null,
   "metadata": {},
   "outputs": [],
   "source": [
    "from processing_methods.data_processing import load_data, split_data, save_csv\n",
    "\n",
    "# Load training dataset and example submission\n",
    "DATA_PATH = '../data/'\n",
    "PREDICTION_PATH = '../data/predictions/'\n",
    "ratings = load_data('{dp}data_train.csv'.format(dp=DATA_PATH))\n",
    "\n",
    "# Split into training (0.8), test (0.1) and validation (0.1)\n",
    "all_r, train, test = split_data(ratings, min_num_ratings=0, p_test=0.2)\n",
    "all_r, test, validation = split_data(test, min_num_ratings=0, p_test=0.5)\n",
    "\n",
    "# Save files\n",
    "save_csv(train, prediction_path=DATA_PATH, filename='train_set')\n",
    "save_csv(test, prediction_path=DATA_PATH, filename='test_set')\n",
    "save_csv(validation, prediction_path=DATA_PATH, filename='validation_set')"
   ]
  },
  {
   "cell_type": "markdown",
   "metadata": {},
   "source": [
    "#### Parse input data files into *surprise* format"
   ]
  },
  {
   "cell_type": "code",
   "execution_count": null,
   "metadata": {
    "collapsed": true
   },
   "outputs": [],
   "source": [
    "from processing_methods.data_processing import parse_data_sur\n",
    "\n",
    "def create_surprise_input_files():\n",
    "    \"\"\"Creates input files for the surprise library\n",
    "    By reading the `train`, `test`, `validation` and `sample_submission`\n",
    "    cvs files.\n",
    "    \"\"\"\n",
    "    data_path = '../data/'\n",
    "    for fn in ['train_set', 'test_set', 'validation_set',\n",
    "               'sample_submission', 'data_train']:\n",
    "        parse_data_sur(filename=fn, data_path=data_path,\n",
    "            output_path=data_path+'surprise/')\n",
    "        \n",
    "create_surprise_input_files()"
   ]
  },
  {
   "cell_type": "code",
   "execution_count": null,
   "metadata": {
    "collapsed": true
   },
   "outputs": [],
   "source": []
  }
 ],
 "metadata": {
  "kernelspec": {
   "display_name": "Python 3",
   "language": "python",
   "name": "python3"
  },
  "language_info": {
   "codemirror_mode": {
    "name": "ipython",
    "version": 3
   },
   "file_extension": ".py",
   "mimetype": "text/x-python",
   "name": "python",
   "nbconvert_exporter": "python",
   "pygments_lexer": "ipython3",
   "version": "3.6.3"
  }
 },
 "nbformat": 4,
 "nbformat_minor": 2
}
