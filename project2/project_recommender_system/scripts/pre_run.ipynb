{
 "cells": [
  {
   "cell_type": "code",
   "execution_count": null,
   "metadata": {
    "scrolled": true
   },
   "outputs": [],
   "source": [
    "%load_ext autoreload\n",
    "%autoreload 2"
   ]
  },
  {
   "cell_type": "code",
   "execution_count": null,
   "metadata": {
    "scrolled": true
   },
   "outputs": [],
   "source": [
    "from datafile_methods.data_processing import k_fold_split\n",
    "from datafile_methods.data_io import load_data, save_csv\n",
    "from datafile_methods.data_processing import parse_data_sur\n",
    "\n",
    "# Load training dataset and example submission\n",
    "DATA_PATH = '../data/'\n",
    "PREDICTION_PATH = '../data/predictions/'\n",
    "ratings = load_data('{dp}data_train.csv'.format(dp=DATA_PATH))"
   ]
  },
  {
   "cell_type": "code",
   "execution_count": null,
   "metadata": {
    "collapsed": true,
    "scrolled": true
   },
   "outputs": [],
   "source": [
    "def prepare_data(k=5):\n",
    "    \"\"\"Splits data for training and test and for Surprise library\"\"\"\n",
    "    # Split training data for cross-validation and save files\n",
    "    folds = k_fold_split(ratings, k=k)\n",
    "    for i, f in enumerate(folds):\n",
    "        save_csv(f, prediction_path=DATA_PATH, filename='fold{}'.format(i))\n",
    "    \n",
    "    # Parse input data files into surprise format\n",
    "    train_sub_filenames = ['data_train', 'sample_submission']\n",
    "    fold_filenames = ['fold{}'.format(i) for i in range(k)]\n",
    "    filenames = train_sub_filenames + fold_filenames\n",
    "    # save files\n",
    "    create_surprise_input_files(filenames, data_path=DATA_PATH)"
   ]
  },
  {
   "cell_type": "code",
   "execution_count": null,
   "metadata": {
    "collapsed": true,
    "scrolled": true
   },
   "outputs": [],
   "source": [
    "def create_surprise_input_files(filenames, data_path=''):\n",
    "    \"\"\"Creates input files for the surprise library\"\"\"\n",
    "    for fn in filenames:\n",
    "        parse_data_sur(filename=fn, data_path=data_path,\n",
    "            output_path=data_path+'surprise/')       "
   ]
  },
  {
   "cell_type": "code",
   "execution_count": null,
   "metadata": {
    "collapsed": true,
    "scrolled": true
   },
   "outputs": [],
   "source": [
    "prepare_data(k=5)"
   ]
  },
  {
   "cell_type": "code",
   "execution_count": null,
   "metadata": {
    "collapsed": true,
    "scrolled": true
   },
   "outputs": [],
   "source": []
  }
 ],
 "metadata": {
  "kernelspec": {
   "display_name": "Python 3",
   "language": "python",
   "name": "python3"
  },
  "language_info": {
   "codemirror_mode": {
    "name": "ipython",
    "version": 3
   },
   "file_extension": ".py",
   "mimetype": "text/x-python",
   "name": "python",
   "nbconvert_exporter": "python",
   "pygments_lexer": "ipython3",
   "version": "3.6.3"
  }
 },
 "nbformat": 4,
 "nbformat_minor": 2
}
