{
 "cells": [
  {
   "cell_type": "code",
   "execution_count": 5,
   "metadata": {},
   "outputs": [],
   "source": [
    "from processing_methods.data_processing import parse_data_sur\n",
    "\n",
    "def create_surprise_input_files():\n",
    "    \"\"\"Creates input files for the surprise library\n",
    "    By reading the `train`, `test`, `validation` and `sample_submission`\n",
    "    cvs files.\n",
    "    \"\"\"\n",
    "    data_path = '../data/'\n",
    "    for fn in ['train_set', 'test_set', 'validation_set', 'sample_submission']:\n",
    "        parse_data_sur(filename=fn, data_path=data_path,\n",
    "            output_path=data_path+'sur_')\n",
    "        \n",
    "create_surprise_input_files()"
   ]
  },
  {
   "cell_type": "code",
   "execution_count": null,
   "metadata": {
    "collapsed": true
   },
   "outputs": [],
   "source": []
  }
 ],
 "metadata": {
  "kernelspec": {
   "display_name": "Python 3",
   "language": "python",
   "name": "python3"
  },
  "language_info": {
   "codemirror_mode": {
    "name": "ipython",
    "version": 3
   },
   "file_extension": ".py",
   "mimetype": "text/x-python",
   "name": "python",
   "nbconvert_exporter": "python",
   "pygments_lexer": "ipython3",
   "version": "3.6.3"
  }
 },
 "nbformat": 4,
 "nbformat_minor": 2
}
