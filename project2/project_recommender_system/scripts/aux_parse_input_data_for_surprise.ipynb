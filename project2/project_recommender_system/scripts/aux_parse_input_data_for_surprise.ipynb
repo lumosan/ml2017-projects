{
 "cells": [
  {
   "cell_type": "code",
   "execution_count": null,
   "metadata": {
    "collapsed": true
   },
   "outputs": [],
   "source": [
    "from processing_methods.data_processing import generate_surprise_csv\n",
    "\n",
    "DATA_PATH = '../data/'\n",
    "OUTPUT_DATA_PATH = '../data/surprise/'"
   ]
  },
  {
   "cell_type": "code",
   "execution_count": null,
   "metadata": {},
   "outputs": [],
   "source": [
    "generate_surprise_csv(file_name='movielens100k', data_path=DATA_PATH, output_dp=OUTPUT_DATA_PATH+'new')\n",
    "generate_surprise_csv(file_name='data_train', data_path=DATA_PATH, output_dp=OUTPUT_DATA_PATH+'new')\n",
    "generate_surprise_csv(file_name='sample_submission', data_path=DATA_PATH, output_dp=OUTPUT_DATA_PATH+'new')"
   ]
  },
  {
   "cell_type": "code",
   "execution_count": null,
   "metadata": {
    "collapsed": true
   },
   "outputs": [],
   "source": []
  }
 ],
 "metadata": {
  "kernelspec": {
   "display_name": "Python 3",
   "language": "python",
   "name": "python3"
  },
  "language_info": {
   "codemirror_mode": {
    "name": "ipython",
    "version": 3
   },
   "file_extension": ".py",
   "mimetype": "text/x-python",
   "name": "python",
   "nbconvert_exporter": "python",
   "pygments_lexer": "ipython3",
   "version": "3.6.3"
  }
 },
 "nbformat": 4,
 "nbformat_minor": 2
}
