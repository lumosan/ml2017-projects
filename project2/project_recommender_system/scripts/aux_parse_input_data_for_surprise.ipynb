{
 "cells": [
  {
   "cell_type": "code",
   "execution_count": null,
   "metadata": {},
   "outputs": [],
   "source": [
    "from methods import read_txt\n",
    "import csv\n",
    "\n",
    "DATA_PATH = '../data/'\n",
    "PREDICTION_PATH = '../data/predictions/surprise/'\n",
    "OUTPUT_DATA_PATH = '../data/surprise/'\n",
    "\n",
    "#ratings_sample = read_txt('{dp}data_train.csv'.format(dp=DATA_PATH))\n",
    "#ratings = load_data('{dp}movielens100k.csv'.format(dp=DATA_PATH))\n",
    "#submission = load_data('{dp}sample_submission.csv'.format(dp=DATA_PATH))"
   ]
  },
  {
   "cell_type": "code",
   "execution_count": null,
   "metadata": {
    "collapsed": true
   },
   "outputs": [],
   "source": [
    "def generate_surprise_csv(file_name):\n",
    "    \"\"\"Preprocessing the text data, conversion to numerical array format.\"\"\"\n",
    "    def read_txt(path):\n",
    "        with open(path, \"r\") as f:\n",
    "            return f.read().splitlines()\n",
    "\n",
    "    def deal_line(line):\n",
    "        pos, rating = line.split(',')\n",
    "        row, col = pos.split(\"_\")\n",
    "        row = row.replace(\"r\", \"\")\n",
    "        col = col.replace(\"c\", \"\")\n",
    "        return int(row), int(col), float(rating)\n",
    "    \n",
    "    def write(parsed_list):\n",
    "        with open('{dp}.csv'.format(dp=write_path), 'w') as csvfile:\n",
    "            fieldnames = ['item', 'user', 'rating']\n",
    "            writer = csv.DictWriter(csvfile, delimiter=\",\", fieldnames=fieldnames)\n",
    "            for (i, u, r) in parsed_list:\n",
    "                writer.writerow({'item':i,'user':u,'rating':r})\n",
    "    read_path = '{dp}{f}.csv'.format(dp=DATA_PATH, f=file_name)\n",
    "    write_path = '{odp}{f}'.format(odp=OUTPUT_DATA_PATH, f=file_name)\n",
    "    data = read_txt(read_path)[1:]\n",
    "    parsed_data = [deal_line(line) for line in data]\n",
    "    write(parsed_data)"
   ]
  },
  {
   "cell_type": "code",
   "execution_count": null,
   "metadata": {},
   "outputs": [],
   "source": [
    "generate_surprise_csv('movielens100k')\n",
    "generate_surprise_csv('data_train')\n",
    "generate_surprise_csv('sample_submission')"
   ]
  }
 ],
 "metadata": {
  "kernelspec": {
   "display_name": "Python 3",
   "language": "python",
   "name": "python3"
  },
  "language_info": {
   "codemirror_mode": {
    "name": "ipython",
    "version": 3
   },
   "file_extension": ".py",
   "mimetype": "text/x-python",
   "name": "python",
   "nbconvert_exporter": "python",
   "pygments_lexer": "ipython3",
   "version": "3.6.3"
  }
 },
 "nbformat": 4,
 "nbformat_minor": 2
}
