{
 "cells": [
  {
   "cell_type": "code",
   "execution_count": 1,
   "metadata": {},
   "outputs": [],
   "source": [
    "import numpy as np\n",
    "import pandas as pd\n",
    "import matplotlib.pyplot as plt\n",
    "import seaborn as sns\n",
    "sns.set_style(\"whitegrid\")\n",
    "\n",
    "%load_ext autoreload\n",
    "%autoreload 2\n",
    "%matplotlib inline"
   ]
  },
  {
   "cell_type": "code",
   "execution_count": 2,
   "metadata": {
    "collapsed": true
   },
   "outputs": [],
   "source": [
    "from datafile_methods.data_processing import load_data\n",
    "PREDICTION_PATH = '../data/predictions/'"
   ]
  },
  {
   "cell_type": "markdown",
   "metadata": {},
   "source": [
    "#### Compare train and test errors for different models"
   ]
  },
  {
   "cell_type": "code",
   "execution_count": 3,
   "metadata": {
    "collapsed": true
   },
   "outputs": [],
   "source": [
    "errors = {'baseline': [[ 0.99425462,  0.99468217,  0.99438628,  0.99377059,  0.99424295],\n",
    "  [ 1.00601127,  1.00459408,  1.00499478,  1.00810896,  1.00620091]],\n",
    " 'mf_als_recommend': [[ 0.88712575,  0.88734776,  0.88697049,  0.88671749,  0.88695225],\n",
    "  [ 0.99485903,  0.99279848,  0.99421156,  0.99677274,  0.99500636]],\n",
    " 'mf_svd_sci': [[ 0.94425527,  0.94475345,  0.94450673,  0.94360606,  0.94392763],\n",
    "  [ 0.99638552,  0.9944817 ,  0.99543418,  0.99831226,  0.99661938]],\n",
    " 'mf_svd_skl': [[ 0.95359693,  0.9542387 ,  0.95362805,  0.95351571,  0.95366641],\n",
    "  [ 0.99593991,  0.99455596,  0.99519758,  0.9983749 ,  0.9965133 ]],\n",
    " 'slope_one': [[ 0.93905529,  0.93943099,  0.93922088,  0.93864486,  0.93895883],\n",
    "  [ 1.00153839,  1.00012637,  1.00086173,  1.003991  ,  1.00150891]],\n",
    " 'co_clustering': [[ 0.97690452,  0.97837862,  0.9773867 ,  0.97755343,  0.97704166],\n",
    "  [ 1.00326364,  1.00164185,  1.00312846,  1.005973  ,  1.0037095 ]],\n",
    " 'knn_baseline_i': [[ 0.94654128,  0.94697197,  0.94658684,  0.94601615,  0.94647668],\n",
    "  [ 0.99630403,  0.99446918,  0.99561056,  0.99819283,  0.99635748]],\n",
    " 'knn_baseline_u': [[ 0.95829473,  0.95866049,  0.95840947,  0.95780609,  0.95822906],\n",
    "  [ 0.99762091,  0.99615513,  0.99711687,  0.99980506,  0.99795458]],\n",
    " 'nmf': [[ 0.98747149,  0.98797977,  0.98768374,  0.98707014,  0.98764229],\n",
    "  [ 0.99998649,  0.99855507,  0.99939229,  1.00186393,  1.00029995]],\n",
    " 'sur_svd': [[ 0.785207  ,  0.78505567,  0.78511465,  0.78539203,  0.78555635],\n",
    "  [ 0.99009985,  0.98788137,  0.98995628,  0.99210459,  0.99018139]]}\n",
    "\n",
    "train_errors = pd.DataFrame({model: m_errors[0] for model, m_errors in errors.items()})\n",
    "test_errors = pd.DataFrame({model: m_errors[1] for model, m_errors in errors.items()})"
   ]
  },
  {
   "cell_type": "raw",
   "metadata": {},
   "source": [
    "errors_sur_svd = {'0.06': [[ 0.74950633,  0.74916149,  0.7494349 ,  0.74953836,  0.74970652],\n",
    "  [ 0.99321666,  0.99098355,  0.99322932,  0.99528198,  0.99333216]],\n",
    "  '0.065': [[ 0.785207  ,  0.78505567,  0.78511465,  0.78539203,  0.78555635],\n",
    "  [ 0.99009985,  0.98788137,  0.98995628,  0.99210459,  0.99018139]],\n",
    " '0.07': [[ 0.81894318,  0.81898369,  0.81883913,  0.81922909,  0.81939788],\n",
    "  [ 0.98812418,  0.98591379,  0.98781895,  0.99005976,  0.9881808 ]],\n",
    " '0.075': [[ 0.8500643 ,  0.85026095,  0.84993965,  0.85036896,  0.85053494],\n",
    "  [ 0.98715118,  0.9849444 ,  0.98668749,  0.98900942,  0.98718898]],\n",
    " '0.08': [[ 0.87792296,  0.8782257 ,  0.87775975,  0.87815772,  0.87831429],\n",
    "  [ 0.98702295,  0.98481952,  0.98641145,  0.9887999 ,  0.9870455 ]],\n",
    " '0.085': [[ 0.90199292,  0.90236337,  0.90178164,  0.90209379,  0.90225015],\n",
    "  [ 0.98755252,  0.9853611 ,  0.98681256,  0.98925307,  0.98756362]],\n",
    " '0.09': [[ 0.9220038 ,  0.9224337 ,  0.92175803,  0.92195296,  0.9221351 ],\n",
    "  [ 0.98853193,  0.98637509,  0.98769401,  0.99017452,  0.98854289]],\n",
    " '0.10': [[ 0.95050828,  0.95111433,  0.95029729,  0.95024526,  0.95055769],\n",
    "  [ 0.99111003,  0.98911876,  0.99019097,  0.99272297,  0.99118022]],\n",
    " '0.11': [[ 0.96751873,  0.96831637,  0.9674054 ,  0.9671782 ,  0.96763865],\n",
    "  [ 0.99390899,  0.99216944,  0.9930216 ,  0.99558192,  0.99410577]]}"
   ]
  },
  {
   "cell_type": "raw",
   "metadata": {},
   "source": [
    "errors_sc = {\n",
    " '05': [[ 0.97270177,  0.97316066,  0.97280212,  0.97244631,  0.97279005],\n",
    "  [ 0.99730966,  0.99560469,  0.99633474,  0.99971287,  0.99784341]],\n",
    " '15': [[ 0.94647595,  0.94696315,  0.94695074,  0.94598485,  0.94635553],\n",
    "  [ 0.99623055,  0.99448407,  0.99528854,  0.99827751,  0.99653788]],\n",
    " '17': [[ 0.94174593,  0.94230752,  0.94209953,  0.94109987,  0.9415659 ],\n",
    "  [ 0.99616505,  0.99450738,  0.99555233,  0.99837099,  0.99669194]],\n",
    " '25': [[ 0.92369856,  0.92395076,  0.92351618,  0.92288001,  0.92362356],\n",
    "  [ 0.99712052,  0.99574494,  0.9962677 ,  0.99922068,  0.99742583]],\n",
    " '03': [[ 0.98001665,  0.97985069,  0.98011265,  0.97945982,  0.97966539],\n",
    "  [ 0.99923999,  0.9972677 ,  0.99823564,  1.00146609,  0.999349  ]],\n",
    " '11': [[ 0.9560467 ,  0.9567148 ,  0.95622841,  0.95573098,  0.95595145],\n",
    "  [ 0.99603571,  0.99456326,  0.99520994,  0.99828116,  0.9964187 ]],\n",
    " '13': [[ 0.95135504,  0.9518707 ,  0.95149805,  0.9507868 ,  0.95116691],\n",
    "  [ 0.99601752,  0.99452261,  0.99532743,  0.9982914 ,  0.9965627 ]],\n",
    " '19': [[ 0.93718099,  0.93761667,  0.93718702,  0.93632078,  0.93687795],\n",
    "  [ 0.99645983,  0.99497089,  0.99565679,  0.99868621,  0.9968124 ]],\n",
    " '21': [[ 0.93248449,  0.93295109,  0.93258858,  0.93178116,  0.93243839],\n",
    "  [ 0.99656524,  0.99521332,  0.99584325,  0.99883187,  0.99702808]],\n",
    " '23': [[ 0.92787194,  0.9284434 ,  0.92791505,  0.92724034,  0.92781381],\n",
    "  [ 0.99691538,  0.99545004,  0.99612445,  0.99894211,  0.99716874]],\n",
    " '27': [[ 0.91934151,  0.91952939,  0.91929975,  0.91872964,  0.91942917],\n",
    "  [ 0.99744576,  0.9958609 ,  0.9964279 ,  0.99943785,  0.99760864]],\n",
    " '29': [[ 0.91520476,  0.91554592,  0.9150979 ,  0.91447001,  0.91547225],\n",
    "  [ 0.9975872 ,  0.99612561,  0.99648016,  0.99968566,  0.99792499]],\n",
    " '31': [[ 0.91096944,  0.91137237,  0.91111585,  0.91032241,  0.9110775 ],\n",
    "  [ 0.99775751,  0.99644997,  0.99664171,  0.99995077,  0.99819921]],\n",
    " '33': [[ 0.90693585,  0.90757319,  0.9070649 ,  0.90637533,  0.90691559],\n",
    "  [ 0.9979235 ,  0.99674212,  0.99693216,  1.0001753 ,  0.99846752]],\n",
    " '35': [[ 0.90290307,  0.9034876 ,  0.90296242,  0.90215299,  0.90285271],\n",
    "  [ 0.99831048,  0.99687161,  0.99719786,  1.00044638,  0.99855299]],\n",
    " '07': [[ 0.96661141,  0.96709094,  0.96656901,  0.9659833 ,  0.96650999],\n",
    "  [ 0.99653633,  0.99485128,  0.99571836,  0.99869003,  0.99693379]],\n",
    " '09': [[ 0.96107032,  0.96151802,  0.96085395,  0.96044074,  0.96094864],\n",
    "  [ 0.99617665,  0.99455563,  0.99534517,  0.99836964,  0.99664914]]}"
   ]
  },
  {
   "cell_type": "code",
   "execution_count": 35,
   "metadata": {
    "collapsed": true
   },
   "outputs": [],
   "source": [
    "errors_sk = {'03': [[ 0.98001665,  0.97985069,  0.98011265,  0.97945982,  0.97966539],\n",
    "  [ 0.99923999,  0.9972677 ,  0.99823564,  1.00146609,  0.999349  ]],\n",
    " '05': [[ 0.97270177,  0.97316066,  0.97280212,  0.97244631,  0.97279004],\n",
    "  [ 0.99730966,  0.99560469,  0.99633474,  0.99971287,  0.99784341]],\n",
    " '07': [[ 0.96661141,  0.96709094,  0.96656901,  0.9659833 ,  0.96651002],\n",
    "  [ 0.99653633,  0.99485127,  0.99571837,  0.99869003,  0.99693379]],\n",
    " '09': [[ 0.96107037,  0.96151796,  0.96085401,  0.96044072,  0.96094869],\n",
    "  [ 0.99617666,  0.99455558,  0.9953452 ,  0.99836964,  0.99664907]],\n",
    " '11': [[ 0.95604677,  0.95671483,  0.95622853,  0.95573096,  0.95595154],\n",
    "  [ 0.9960356 ,  0.99456342,  0.99521   ,  0.99828111,  0.99641878]],\n",
    " '13': [[ 0.95135528,  0.95187106,  0.95149846,  0.95078682,  0.95116699],\n",
    "  [ 0.99601761,  0.99452242,  0.99532679,  0.99829138,  0.996563  ]],\n",
    " '15': [[ 0.94647522,  0.94696212,  0.94695092,  0.94598458,  0.94635388],\n",
    "  [ 0.99623038,  0.99448332,  0.99528858,  0.99827728,  0.99653665]],\n",
    " '17': [[ 0.94174489,  0.94230624,  0.94209997,  0.94109883,  0.9415669 ],\n",
    "  [ 0.99616458,  0.99450593,  0.99555218,  0.99837099,  0.9966911 ]],\n",
    " '19': [[ 0.93718039,  0.9376148 ,  0.93718619,  0.93632814,  0.93687514],\n",
    "  [ 0.99646358,  0.99497431,  0.9956576 ,  0.99868282,  0.99681424]],\n",
    " '21': [[ 0.93249385,  0.93294613,  0.93259075,  0.93178372,  0.93243883],\n",
    "  [ 0.9965766 ,  0.99521838,  0.99584397,  0.99883607,  0.99702822]],\n",
    " '23': [[ 0.92788798,  0.92844659,  0.92789341,  0.92724524,  0.92781303],\n",
    "  [ 0.99691046,  0.995448  ,  0.99614639,  0.99893696,  0.9971638 ]],\n",
    " '25': [[ 0.92369004,  0.92395166,  0.92351934,  0.92289914,  0.92362244],\n",
    "  [ 0.99712973,  0.99573706,  0.99627893,  0.99923287,  0.99743282]],\n",
    " '27': [[ 0.91931121,  0.91954482,  0.91930111,  0.91870567,  0.91943166],\n",
    "  [ 0.99744232,  0.9958687 ,  0.99643206,  0.99944247,  0.99761095]],\n",
    " '29': [[ 0.91519414,  0.91555719,  0.91510107,  0.91447906,  0.91547329],\n",
    "  [ 0.99757305,  0.99612985,  0.99648569,  0.99968696,  0.99792266]],\n",
    " '35': [[ 0.90291524,  0.90347941,  0.90299347,  0.90213266,  0.90285086],\n",
    "  [ 0.99830211,  0.99687539,  0.99718277,  1.00044685,  0.99856132]]}\n",
    "errors = errors_sk"
   ]
  },
  {
   "cell_type": "code",
   "execution_count": 36,
   "metadata": {
    "collapsed": true
   },
   "outputs": [],
   "source": [
    "train_errors = pd.DataFrame({model: m_errors[0] for model, m_errors in errors.items()})\n",
    "test_errors = pd.DataFrame({model: m_errors[1] for model, m_errors in errors.items()})"
   ]
  },
  {
   "cell_type": "code",
   "execution_count": 37,
   "metadata": {},
   "outputs": [
    {
     "data": {
      "text/plain": [
       "<matplotlib.axes._subplots.AxesSubplot at 0x7f994a414e10>"
      ]
     },
     "execution_count": 37,
     "metadata": {},
     "output_type": "execute_result"
    },
    {
     "data": {
      "image/png": "[encoded data removed]",
      "text/plain": [
       "<matplotlib.figure.Figure at 0x7f994a58d400>"
      ]
     },
     "metadata": {},
     "output_type": "display_data"
    }
   ],
   "source": [
    "plt.figure(figsize=(14,5))\n",
    "train_errors.boxplot()\n",
    "test_errors.boxplot()"
   ]
  },
  {
   "cell_type": "code",
   "execution_count": 38,
   "metadata": {},
   "outputs": [
    {
     "data": {
      "text/plain": [
       "<matplotlib.axes._subplots.AxesSubplot at 0x7f994a193160>"
      ]
     },
     "execution_count": 38,
     "metadata": {},
     "output_type": "execute_result"
    },
    {
     "data": {
      "image/png": "[encoded data removed]",
      "text/plain": [
       "<matplotlib.figure.Figure at 0x7f994a1931d0>"
      ]
     },
     "metadata": {},
     "output_type": "display_data"
    }
   ],
   "source": [
    "plt.figure(figsize=(14,5))\n",
    "test_errors.boxplot()"
   ]
  },
  {
   "cell_type": "markdown",
   "metadata": {},
   "source": [
    "#### Compare submission files"
   ]
  },
  {
   "cell_type": "code",
   "execution_count": null,
   "metadata": {
    "collapsed": true
   },
   "outputs": [],
   "source": [
    "models = list(errors.keys())\n",
    "n_models = len(models)\n",
    "\n",
    "fn_sub = [load_data('{}model_{}_sub.csv'.format(PREDICTION_PATH, e))\n",
    "         for e in models]"
   ]
  },
  {
   "cell_type": "code",
   "execution_count": null,
   "metadata": {
    "collapsed": true
   },
   "outputs": [],
   "source": [
    "nonzero = fn_sub[0].count_nonzero()\n",
    "\n",
    "diff_mean = np.zeros((n_models, n_models))\n",
    "diff_max = np.zeros((n_models, n_models))\n",
    "diff_min = np.zeros((n_models, n_models))\n",
    "\n",
    "for i in range(n_models):\n",
    "    for j in range(n_models):\n",
    "        diff_mean[i,j] = abs(fn_sub[i] - fn_sub[j]).sum() / nonzero\n",
    "        diff_max[i,j] = abs(fn_sub[i] - fn_sub[j]).max()\n",
    "        diff_min[i,j] = abs(fn_sub[i] - fn_sub[j]).min()"
   ]
  },
  {
   "cell_type": "code",
   "execution_count": null,
   "metadata": {},
   "outputs": [],
   "source": [
    "plt.figure(figsize=(14,5))\n",
    "plt.subplot(121)\n",
    "sns.heatmap(diff_mean, square=True, xticklabels=models, yticklabels=models)\n",
    "plt.title('Mean difference')\n",
    "plt.subplot(122)\n",
    "sns.heatmap(diff_max, square=True, xticklabels=models, yticklabels=models)\n",
    "plt.title('Max difference')\n",
    "plt.show()"
   ]
  },
  {
   "cell_type": "code",
   "execution_count": null,
   "metadata": {
    "collapsed": true
   },
   "outputs": [],
   "source": []
  }
 ],
 "metadata": {
  "kernelspec": {
   "display_name": "Python 3",
   "language": "python",
   "name": "python3"
  },
  "language_info": {
   "codemirror_mode": {
    "name": "ipython",
    "version": 3
   },
   "file_extension": ".py",
   "mimetype": "text/x-python",
   "name": "python",
   "nbconvert_exporter": "python",
   "pygments_lexer": "ipython3",
   "version": "3.6.3"
  }
 },
 "nbformat": 4,
 "nbformat_minor": 2
}
