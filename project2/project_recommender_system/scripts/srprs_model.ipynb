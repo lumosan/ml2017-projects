{
 "cells": [
  {
   "cell_type": "code",
   "execution_count": null,
   "metadata": {
    "collapsed": true
   },
   "outputs": [],
   "source": [
    "#import numpy as np\n",
    "#import scipy\n",
    "#import scipy.io\n",
    "#import scipy.sparse as sp\n",
    "#import csv\n",
    "\n",
    "#import matplotlib.pyplot as plt\n",
    "#import seaborn as sns\n",
    "#sns.set_style(\"whitegrid\")\n",
    "\n",
    "import os\n",
    "import random\n",
    "\n",
    "from surprise.dataset import Reader\n",
    "from surprise import SVD\n",
    "from surprise import SVDpp\n",
    "from surprise import Dataset\n",
    "from surprise import evaluate, print_perf\n",
    "from surprise import GridSearch\n",
    "from surprise import BaselineOnly\n",
    "\n",
    "from numpy.random import RandomState\n",
    "\n",
    "%load_ext autoreload\n",
    "%autoreload 2\n",
    "%matplotlib inline"
   ]
  },
  {
   "cell_type": "markdown",
   "metadata": {},
   "source": [
    "# Load and prepare data"
   ]
  },
  {
   "cell_type": "markdown",
   "metadata": {},
   "source": [
    "### Training and testing data"
   ]
  },
  {
   "cell_type": "markdown",
   "metadata": {},
   "source": [
    "#### Load the Data"
   ]
  },
  {
   "cell_type": "code",
   "execution_count": null,
   "metadata": {
    "collapsed": true
   },
   "outputs": [],
   "source": [
    "DATA_PATH = '../data/surprise/'\n",
    "OUTPUT_DATA_PATH = '../data/surprise/'\n",
    "\n",
    "SAMPLE_DATA_FILE = 'movielens100k.csv'\n",
    "TRAIN_DATA_FILE = 'data_train.csv'\n",
    "SUBMISSION_DATA_FILE = 'sample_submission.csv'"
   ]
  },
  {
   "cell_type": "code",
   "execution_count": null,
   "metadata": {
    "collapsed": true
   },
   "outputs": [],
   "source": [
    "# Define paths to dataset files\n",
    "sample_file_path = os.path.expanduser('{}{}'.format(DATA_PATH, SAMPLE_DATA_FILE))\n",
    "train_file_path = os.path.expanduser('{}{}'.format(DATA_PATH, TRAIN_DATA_FILE))\n",
    "submission_file_path = os.path.expanduser('{}{}'.format(DATA_PATH, SUBMISSION_DATA_FILE))\n",
    "\n",
    "# Define a reader\n",
    "reader = Reader(line_format='item user rating', sep=',')\n",
    "\n",
    "# Load datasets\n",
    "sample_data = Dataset.load_from_file(sample_file_path, reader=reader)\n",
    "train_data = Dataset.load_from_file(train_file_path, reader=reader)\n",
    "submission_data = Dataset.load_from_file(submission_file_path, reader=reader)"
   ]
  },
  {
   "cell_type": "code",
   "execution_count": null,
   "metadata": {
    "collapsed": true
   },
   "outputs": [],
   "source": [
    "# Define folds for cross-validation\n",
    "random.seed(50)\n",
    "sample_data.split(n_folds=5)  # data can now be used normally\n",
    "\n",
    "random.seed(50)\n",
    "train_data.split(n_folds=5)  # data can now be used normally"
   ]
  },
  {
   "cell_type": "raw",
   "metadata": {
    "collapsed": true
   },
   "source": [
    "param_grid = {'n_factors': [20, 30, 60, 80, 100,120],\n",
    "              'reg_all': [0.01, 0.03, 0.05, 0.1, 0.12, 0.15, 0.17, 0.2, 0.25],\n",
    "              'n_epochs': [20]}\n",
    "grid_search = GridSearch(SVD, param_grid, measures=['RMSE'])\n",
    "grid_search.evaluate(train_data)"
   ]
  },
  {
   "cell_type": "raw",
   "metadata": {},
   "source": [
    "param_grid = {'n_factors': [70,100,130],\n",
    "              'reg_all': [0.03, 0.05, 0.07],\n",
    "              'n_epochs': [20]}\n",
    "grid_search = GridSearch(SVD, param_grid, measures=['RMSE'])\n",
    "grid_search.evaluate(train_data)"
   ]
  },
  {
   "cell_type": "raw",
   "metadata": {},
   "source": [
    "param_grid = {'n_factors': [90,100,110],\n",
    "              'reg_all': [0.045, 0.05, 0.055],\n",
    "              'n_epochs': [30]}\n",
    "grid_search = GridSearch(SVD, param_grid, measures=['RMSE'])\n",
    "grid_search.evaluate(train_data)"
   ]
  },
  {
   "cell_type": "code",
   "execution_count": null,
   "metadata": {},
   "outputs": [],
   "source": [
    "rand_state = RandomState(0)\n",
    "\n",
    "param_grid = {'n_factors': [90],\n",
    "              'reg_bu': [.04], \n",
    "              'reg_bi': [.05], \n",
    "              'reg_pu': [.05], \n",
    "              'reg_qi': [.06], \n",
    "              'n_epochs': [5]}\n",
    "grid_search = GridSearch(SVD, param_grid, measures=['RMSE'])\n",
    "grid_search.evaluate(train_data)"
   ]
  },
  {
   "cell_type": "raw",
   "metadata": {
    "collapsed": true
   },
   "source": [
    "from methods import split_data\n",
    "\n",
    "valid_ratings, train, test = split_data(ratings, num_items_per_user,\n",
    "    num_users_per_item, min_num_ratings=0, p_test=0.1, verbose=True)"
   ]
  },
  {
   "cell_type": "markdown",
   "metadata": {},
   "source": [
    "### Create submission"
   ]
  },
  {
   "cell_type": "code",
   "execution_count": null,
   "metadata": {
    "collapsed": true
   },
   "outputs": [],
   "source": [
    "# Retrieve the trainset\n",
    "trainset = sample_data.build_full_trainset()\n",
    "\n",
    "# Build an algorithm, and train it\n",
    "algo = SVD()\n",
    "algo.train(trainset)"
   ]
  },
  {
   "cell_type": "raw",
   "metadata": {
    "collapsed": true
   },
   "source": [
    "pred = algo.predict()"
   ]
  }
 ],
 "metadata": {
  "kernelspec": {
   "display_name": "Python 3",
   "language": "python",
   "name": "python3"
  },
  "language_info": {
   "codemirror_mode": {
    "name": "ipython",
    "version": 3
   },
   "file_extension": ".py",
   "mimetype": "text/x-python",
   "name": "python",
   "nbconvert_exporter": "python",
   "pygments_lexer": "ipython3",
   "version": "3.6.3"
  }
 },
 "nbformat": 4,
 "nbformat_minor": 1
}
