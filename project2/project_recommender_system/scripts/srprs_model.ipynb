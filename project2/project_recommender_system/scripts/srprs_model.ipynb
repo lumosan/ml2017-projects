{
 "cells": [
  {
   "cell_type": "code",
   "execution_count": 1,
   "metadata": {
    "collapsed": true
   },
   "outputs": [],
   "source": [
    "#import numpy as np\n",
    "#import scipy\n",
    "#import scipy.io\n",
    "#import scipy.sparse as sp\n",
    "#import csv\n",
    "\n",
    "#import matplotlib.pyplot as plt\n",
    "#import seaborn as sns\n",
    "#sns.set_style(\"whitegrid\")\n",
    "\n",
    "import os\n",
    "import random\n",
    "\n",
    "from surprise.dataset import Reader\n",
    "from surprise import SVD\n",
    "from surprise import SVDpp\n",
    "from surprise import Dataset\n",
    "from surprise import evaluate, print_perf\n",
    "from surprise import GridSearch\n",
    "from surprise import BaselineOnly\n",
    "\n",
    "from numpy.random import RandomState\n",
    "\n",
    "%load_ext autoreload\n",
    "%autoreload 2\n",
    "%matplotlib inline"
   ]
  },
  {
   "cell_type": "markdown",
   "metadata": {},
   "source": [
    "# Load and prepare data"
   ]
  },
  {
   "cell_type": "markdown",
   "metadata": {},
   "source": [
    "### Training and testing data"
   ]
  },
  {
   "cell_type": "markdown",
   "metadata": {},
   "source": [
    "#### Load the Data"
   ]
  },
  {
   "cell_type": "code",
   "execution_count": 2,
   "metadata": {
    "collapsed": true
   },
   "outputs": [],
   "source": [
    "DATA_PATH = '../data/surprise/'\n",
    "OUTPUT_DATA_PATH = '../data/surprise/'\n",
    "\n",
    "SAMPLE_DATA_FILE = 'movielens100k.csv'\n",
    "TRAIN_DATA_FILE = 'data_train.csv'\n",
    "SUBMISSION_DATA_FILE = 'sample_submission.csv'"
   ]
  },
  {
   "cell_type": "code",
   "execution_count": 3,
   "metadata": {
    "collapsed": true
   },
   "outputs": [],
   "source": [
    "# Define paths to dataset files\n",
    "sample_file_path = os.path.expanduser('{}{}'.format(DATA_PATH, SAMPLE_DATA_FILE))\n",
    "train_file_path = os.path.expanduser('{}{}'.format(DATA_PATH, TRAIN_DATA_FILE))\n",
    "submission_file_path = os.path.expanduser('{}{}'.format(DATA_PATH, SUBMISSION_DATA_FILE))\n",
    "\n",
    "# Define a reader\n",
    "reader = Reader(line_format='item user rating', sep=',')\n",
    "\n",
    "# Load datasets\n",
    "#sample_data = Dataset.load_from_file(sample_file_path, reader=reader)\n",
    "train_data = Dataset.load_from_file(train_file_path, reader=reader)\n",
    "#submission_data = Dataset.load_from_file(submission_file_path, reader=reader)"
   ]
  },
  {
   "cell_type": "code",
   "execution_count": 4,
   "metadata": {
    "collapsed": true
   },
   "outputs": [],
   "source": [
    "# Define folds for cross-validation\n",
    "random.seed(50)\n",
    "#sample_data.split(n_folds=5)\n",
    "#sample_trainset = sample_data.build_full_trainset()\n",
    "\n",
    "random.seed(50)\n",
    "train_data.split(n_folds=5)"
   ]
  },
  {
   "cell_type": "markdown",
   "metadata": {},
   "source": [
    "Example:"
   ]
  },
  {
   "cell_type": "raw",
   "metadata": {},
   "source": [
    "rand_state = RandomState(0)\n",
    "svd_alg = SVD()\n",
    "svd_perf = evaluate(svd_alg, sample_data, measures=['RMSE'])"
   ]
  },
  {
   "cell_type": "markdown",
   "metadata": {},
   "source": [
    "### NMF collaborative filtering"
   ]
  },
  {
   "cell_type": "code",
   "execution_count": 5,
   "metadata": {
    "collapsed": true
   },
   "outputs": [],
   "source": [
    "from surprise import NMF"
   ]
  },
  {
   "cell_type": "markdown",
   "metadata": {},
   "source": [
    "Parameters:\t\n",
    "* n_factors – The number of factors. Default is 15.\n",
    "* n_epochs – The number of iteration of the SGD procedure. Default is 50.\n",
    "* biased (bool) – Whether to use baselines (or biases). Default is False.\n",
    "* reg_pu – The regularization term for users λu. Default is 0.06.\n",
    "* reg_qi – The regularization term for items λi. Default is 0.06.\n",
    "* reg_bu – The regularization term for bu. Only relevant for biased version. Default is 0.02.\n",
    "* reg_bi – The regularization term for bi. Only relevant for biased version. Default is 0.02.\n",
    "* lr_bu – The learning rate for bu. Only relevant for biased version. Default is 0.005.\n",
    "* lr_bi – The learning rate for bi. Only relevant for biased version. Default is 0.005.\n",
    "* init_low – Lower bound for random initialization of factors. Must be greater than 0 to ensure non-negative factors. Default is 0.\n",
    "* init_high – Higher bound for random initialization of factors. Default is 1.\n",
    "* verbose – If True, prints the current epoch. Default is False."
   ]
  },
  {
   "cell_type": "raw",
   "metadata": {},
   "source": [
    "rand_state = RandomState(0)\n",
    "nmf_alg = NMF()\n",
    "nmf_perf = evaluate(nmf_alg, train_data, measures=['RMSE'])"
   ]
  },
  {
   "cell_type": "code",
   "execution_count": null,
   "metadata": {
    "scrolled": false
   },
   "outputs": [],
   "source": [
    "param_grid = {'biased': [True],\n",
    "              'n_factors': [20],\n",
    "              'reg_pu': [.08],\n",
    "              'reg_qi': [.08],\n",
    "              'reg_bu': [.055],\n",
    "              'reg_bi': [.055],\n",
    "              'n_epochs': [150]\n",
    "             }\n",
    "\n",
    "grid_search = GridSearch(NMF, param_grid, measures=['RMSE'])\n",
    "\n",
    "grid_search.evaluate(train_data)"
   ]
  },
  {
   "cell_type": "code",
   "execution_count": null,
   "metadata": {
    "scrolled": false
   },
   "outputs": [],
   "source": [
    "param_grid = {'biased': [True],\n",
    "              'n_factors': [20],\n",
    "              'reg_pu': [.1],\n",
    "              'reg_qi': [.1],\n",
    "              'reg_bu': [.055],\n",
    "              'reg_bi': [.055],\n",
    "              'n_epochs': [150]\n",
    "             }\n",
    "\n",
    "grid_search = GridSearch(NMF, param_grid, measures=['RMSE'])\n",
    "\n",
    "grid_search.evaluate(train_data)"
   ]
  },
  {
   "cell_type": "code",
   "execution_count": null,
   "metadata": {
    "scrolled": false
   },
   "outputs": [],
   "source": [
    "param_grid = {'biased': [True],\n",
    "              'n_factors': [100],\n",
    "              'reg_pu': [.25],\n",
    "              'reg_qi': [.25],\n",
    "              'reg_bu': [.055],\n",
    "              'reg_bi': [.055],\n",
    "              'n_epochs': [150]\n",
    "             }\n",
    "\n",
    "grid_search = GridSearch(NMF, param_grid, measures=['RMSE'])\n",
    "\n",
    "grid_search.evaluate(train_data)"
   ]
  },
  {
   "cell_type": "markdown",
   "metadata": {},
   "source": [
    "### SVD"
   ]
  },
  {
   "cell_type": "code",
   "execution_count": 13,
   "metadata": {
    "collapsed": true
   },
   "outputs": [],
   "source": [
    "from surprise import SVD"
   ]
  },
  {
   "cell_type": "markdown",
   "metadata": {},
   "source": [
    "Try Grid Search:"
   ]
  },
  {
   "cell_type": "code",
   "execution_count": null,
   "metadata": {},
   "outputs": [],
   "source": [
    "param_grid = {'biased': [True],\n",
    "              'n_factors': [130],\n",
    "              'reg_all': [0.065],\n",
    "              'n_epochs':[100]\n",
    "             }\n",
    "\n",
    "grid_search = GridSearch(SVD, param_grid, measures=['RMSE'])\n",
    "\n",
    "grid_search.evaluate(train_data)"
   ]
  },
  {
   "cell_type": "code",
   "execution_count": null,
   "metadata": {},
   "outputs": [],
   "source": [
    "param_grid = {'biased': [True],\n",
    "              'n_factors': [110],\n",
    "              'reg_all': [0.065],\n",
    "              'n_epochs':[100]\n",
    "             }\n",
    "\n",
    "grid_search = GridSearch(SVD, param_grid, measures=['RMSE'])\n",
    "\n",
    "grid_search.evaluate(train_data)"
   ]
  },
  {
   "cell_type": "code",
   "execution_count": null,
   "metadata": {},
   "outputs": [],
   "source": [
    "param_grid = {'biased': [True],\n",
    "              'n_factors': [130],\n",
    "              'reg_all': [0.066],\n",
    "              'n_epochs':[100]\n",
    "             }\n",
    "\n",
    "grid_search = GridSearch(SVD, param_grid, measures=['RMSE'])\n",
    "\n",
    "grid_search.evaluate(train_data)"
   ]
  },
  {
   "cell_type": "code",
   "execution_count": null,
   "metadata": {},
   "outputs": [],
   "source": [
    "param_grid = {'biased': [True],\n",
    "              'n_factors': [110],\n",
    "              'reg_all': [0.067],\n",
    "              'n_epochs':[100]\n",
    "             }\n",
    "\n",
    "grid_search = GridSearch(SVD, param_grid, measures=['RMSE'])\n",
    "\n",
    "grid_search.evaluate(train_data)"
   ]
  },
  {
   "cell_type": "code",
   "execution_count": null,
   "metadata": {
    "collapsed": true
   },
   "outputs": [],
   "source": []
  },
  {
   "cell_type": "markdown",
   "metadata": {},
   "source": [
    "### Create submission"
   ]
  },
  {
   "cell_type": "code",
   "execution_count": null,
   "metadata": {
    "collapsed": true
   },
   "outputs": [],
   "source": [
    "# Retrieve the trainset\n",
    "trainset = sample_data.build_full_trainset()\n",
    "\n",
    "# Build an algorithm, and train it\n",
    "algo = SVD()\n",
    "algo.train(trainset)"
   ]
  },
  {
   "cell_type": "raw",
   "metadata": {
    "collapsed": true
   },
   "source": [
    "pred = algo.predict()"
   ]
  }
 ],
 "metadata": {
  "kernelspec": {
   "display_name": "Python 3",
   "language": "python",
   "name": "python3"
  },
  "language_info": {
   "codemirror_mode": {
    "name": "ipython",
    "version": 3
   },
   "file_extension": ".py",
   "mimetype": "text/x-python",
   "name": "python",
   "nbconvert_exporter": "python",
   "pygments_lexer": "ipython3",
   "version": "3.6.3"
  }
 },
 "nbformat": 4,
 "nbformat_minor": 1
}
