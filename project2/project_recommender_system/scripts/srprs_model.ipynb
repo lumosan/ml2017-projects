{
 "cells": [
  {
   "cell_type": "code",
   "execution_count": 1,
   "metadata": {
    "collapsed": true
   },
   "outputs": [],
   "source": [
    "#import numpy as np\n",
    "#import scipy\n",
    "#import scipy.io\n",
    "#import scipy.sparse as sp\n",
    "#import csv\n",
    "\n",
    "#import matplotlib.pyplot as plt\n",
    "#import seaborn as sns\n",
    "#sns.set_style(\"whitegrid\")\n",
    "\n",
    "import os\n",
    "import random\n",
    "\n",
    "from surprise.dataset import Reader\n",
    "from surprise import SVD\n",
    "from surprise import SVDpp\n",
    "from surprise import Dataset\n",
    "from surprise import evaluate, print_perf\n",
    "from surprise import GridSearch\n",
    "from surprise import BaselineOnly\n",
    "\n",
    "from numpy.random import RandomState\n",
    "\n",
    "%load_ext autoreload\n",
    "%autoreload 2\n",
    "%matplotlib inline"
   ]
  },
  {
   "cell_type": "markdown",
   "metadata": {},
   "source": [
    "# Load and prepare data"
   ]
  },
  {
   "cell_type": "markdown",
   "metadata": {},
   "source": [
    "### Training and testing data"
   ]
  },
  {
   "cell_type": "markdown",
   "metadata": {},
   "source": [
    "#### Load the Data"
   ]
  },
  {
   "cell_type": "code",
   "execution_count": 2,
   "metadata": {
    "collapsed": true
   },
   "outputs": [],
   "source": [
    "DATA_PATH = '../data/surprise/'\n",
    "OUTPUT_DATA_PATH = '../data/surprise/'\n",
    "\n",
    "SAMPLE_DATA_FILE = 'movielens100k.csv'\n",
    "TRAIN_DATA_FILE = 'data_train.csv'\n",
    "SUBMISSION_DATA_FILE = 'sample_submission.csv'"
   ]
  },
  {
   "cell_type": "code",
   "execution_count": 10,
   "metadata": {
    "collapsed": true
   },
   "outputs": [],
   "source": [
    "# Define paths to dataset files\n",
    "sample_file_path = os.path.expanduser('{}{}'.format(DATA_PATH, SAMPLE_DATA_FILE))\n",
    "train_file_path = os.path.expanduser('{}{}'.format(DATA_PATH, TRAIN_DATA_FILE))\n",
    "submission_file_path = os.path.expanduser('{}{}'.format(DATA_PATH, SUBMISSION_DATA_FILE))\n",
    "\n",
    "# Define a reader\n",
    "reader = Reader(line_format='item user rating', sep=',')\n",
    "\n",
    "# Load datasets\n",
    "sample_data = Dataset.load_from_file(sample_file_path, reader=reader)\n",
    "train_data = Dataset.load_from_file(train_file_path, reader=reader)\n",
    "submission_data = Dataset.load_from_file(submission_file_path, reader=reader)"
   ]
  },
  {
   "cell_type": "code",
   "execution_count": 12,
   "metadata": {},
   "outputs": [],
   "source": [
    "# Define folds for cross-validation\n",
    "random.seed(50)\n",
    "sample_data.split(n_folds=5)\n",
    "sample_trainset = sample_data.build_full_trainset()\n",
    "\n",
    "random.seed(50)\n",
    "train_data.split(n_folds=5)"
   ]
  },
  {
   "cell_type": "markdown",
   "metadata": {},
   "source": [
    "### Matrix factorization"
   ]
  },
  {
   "cell_type": "code",
   "execution_count": 13,
   "metadata": {
    "collapsed": true
   },
   "outputs": [],
   "source": [
    "from surprise import SVD"
   ]
  },
  {
   "cell_type": "markdown",
   "metadata": {},
   "source": [
    "Example:"
   ]
  },
  {
   "cell_type": "raw",
   "metadata": {},
   "source": [
    "rand_state = RandomState(0)\n",
    "svd_alg = SVD()\n",
    "svd_perf = evaluate(svd_alg, sample_data, measures=['RMSE'])"
   ]
  },
  {
   "cell_type": "markdown",
   "metadata": {},
   "source": [
    "Try Grid Search:"
   ]
  },
  {
   "cell_type": "code",
   "execution_count": 23,
   "metadata": {},
   "outputs": [
    {
     "name": "stdout",
     "output_type": "stream",
     "text": [
      "[{'biased': True, 'n_factors': 80, 'reg_all': 0.045, 'n_epochs': 30}, {'biased': True, 'n_factors': 80, 'reg_all': 0.05, 'n_epochs': 30}, {'biased': True, 'n_factors': 80, 'reg_all': 0.055, 'n_epochs': 30}, {'biased': True, 'n_factors': 80, 'reg_all': 0.06, 'n_epochs': 30}, {'biased': True, 'n_factors': 100, 'reg_all': 0.045, 'n_epochs': 30}, {'biased': True, 'n_factors': 100, 'reg_all': 0.05, 'n_epochs': 30}, {'biased': True, 'n_factors': 100, 'reg_all': 0.055, 'n_epochs': 30}, {'biased': True, 'n_factors': 100, 'reg_all': 0.06, 'n_epochs': 30}, {'biased': True, 'n_factors': 120, 'reg_all': 0.045, 'n_epochs': 30}, {'biased': True, 'n_factors': 120, 'reg_all': 0.05, 'n_epochs': 30}, {'biased': True, 'n_factors': 120, 'reg_all': 0.055, 'n_epochs': 30}, {'biased': True, 'n_factors': 120, 'reg_all': 0.06, 'n_epochs': 30}, {'biased': False, 'n_factors': 80, 'reg_all': 0.045, 'n_epochs': 30}, {'biased': False, 'n_factors': 80, 'reg_all': 0.05, 'n_epochs': 30}, {'biased': False, 'n_factors': 80, 'reg_all': 0.055, 'n_epochs': 30}, {'biased': False, 'n_factors': 80, 'reg_all': 0.06, 'n_epochs': 30}, {'biased': False, 'n_factors': 100, 'reg_all': 0.045, 'n_epochs': 30}, {'biased': False, 'n_factors': 100, 'reg_all': 0.05, 'n_epochs': 30}, {'biased': False, 'n_factors': 100, 'reg_all': 0.055, 'n_epochs': 30}, {'biased': False, 'n_factors': 100, 'reg_all': 0.06, 'n_epochs': 30}, {'biased': False, 'n_factors': 120, 'reg_all': 0.045, 'n_epochs': 30}, {'biased': False, 'n_factors': 120, 'reg_all': 0.05, 'n_epochs': 30}, {'biased': False, 'n_factors': 120, 'reg_all': 0.055, 'n_epochs': 30}, {'biased': False, 'n_factors': 120, 'reg_all': 0.06, 'n_epochs': 30}]\n"
     ]
    }
   ],
   "source": [
    "param_grid = {'biased': [True, False],\n",
    "              'n_factors': [80,100,120],\n",
    "              'reg_all': [0.045, 0.05, 0.055, 0.06],\n",
    "              'n_epochs':[30]\n",
    "             }\n",
    "\n",
    "grid_search = GridSearch(SVD, param_grid, measures=['RMSE'])"
   ]
  },
  {
   "cell_type": "code",
   "execution_count": null,
   "metadata": {},
   "outputs": [
    {
     "name": "stdout",
     "output_type": "stream",
     "text": [
      "------------\n",
      "Parameters combination 1 of 24\n",
      "params:  {'biased': True, 'n_factors': 80, 'reg_all': 0.045, 'n_epochs': 30}\n"
     ]
    }
   ],
   "source": [
    "grid_search.evaluate(train_data)"
   ]
  },
  {
   "cell_type": "markdown",
   "metadata": {},
   "source": [
    "### Create submission"
   ]
  },
  {
   "cell_type": "code",
   "execution_count": null,
   "metadata": {
    "collapsed": true
   },
   "outputs": [],
   "source": [
    "# Retrieve the trainset\n",
    "trainset = sample_data.build_full_trainset()\n",
    "\n",
    "# Build an algorithm, and train it\n",
    "algo = SVD()\n",
    "algo.train(trainset)"
   ]
  },
  {
   "cell_type": "raw",
   "metadata": {
    "collapsed": true
   },
   "source": [
    "pred = algo.predict()"
   ]
  }
 ],
 "metadata": {
  "kernelspec": {
   "display_name": "Python 3",
   "language": "python",
   "name": "python3"
  },
  "language_info": {
   "codemirror_mode": {
    "name": "ipython",
    "version": 3
   },
   "file_extension": ".py",
   "mimetype": "text/x-python",
   "name": "python",
   "nbconvert_exporter": "python",
   "pygments_lexer": "ipython3",
   "version": "3.6.3"
  }
 },
 "nbformat": 4,
 "nbformat_minor": 1
}
