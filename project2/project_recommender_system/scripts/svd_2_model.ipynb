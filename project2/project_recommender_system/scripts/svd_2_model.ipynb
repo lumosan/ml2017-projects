{
 "cells": [
  {
   "cell_type": "code",
   "execution_count": null,
   "metadata": {},
   "outputs": [],
   "source": [
    "import numpy as np\n",
    "import scipy\n",
    "import scipy.io\n",
    "import scipy.sparse as sp\n",
    "import csv\n",
    "\n",
    "import matplotlib.pyplot as plt\n",
    "import seaborn as sns\n",
    "sns.set_style(\"whitegrid\")\n",
    "\n",
    "%load_ext autoreload\n",
    "%autoreload 2\n",
    "%matplotlib inline\n",
    "\n",
    "from helpers import calculate_mse"
   ]
  },
  {
   "cell_type": "markdown",
   "metadata": {},
   "source": [
    "# 0.1 Load and prepare data"
   ]
  },
  {
   "cell_type": "markdown",
   "metadata": {},
   "source": [
    "### Training and testing data"
   ]
  },
  {
   "cell_type": "markdown",
   "metadata": {},
   "source": [
    "#### Load the Data\n",
    "`ratings` is a sparse matrix in the shape of (num_items, num_users)"
   ]
  },
  {
   "cell_type": "code",
   "execution_count": null,
   "metadata": {},
   "outputs": [],
   "source": [
    "from helpers import load_data, preprocess_data\n",
    "\n",
    "DATA_PATH = '../data/'\n",
    "PREDICTION_PATH = '../data/predictions/'\n",
    "ratings = load_data('{dp}data_train.csv'.format(dp=DATA_PATH))\n",
    "#ratings = load_data('{dp}movielens100k.csv'.format(dp=DATA_PATH))"
   ]
  },
  {
   "cell_type": "markdown",
   "metadata": {},
   "source": [
    "#### Plot the number of ratings per movie and user"
   ]
  },
  {
   "cell_type": "code",
   "execution_count": null,
   "metadata": {
    "scrolled": true
   },
   "outputs": [],
   "source": [
    "from plots import plot_raw_data\n",
    "\n",
    "num_items_per_user, num_users_per_item = plot_raw_data(ratings)\n",
    "\n",
    "print(\"min # of items per user = {}, min # of users per item = {}.\".format(\n",
    "        min(num_items_per_user), min(num_users_per_item)))"
   ]
  },
  {
   "cell_type": "markdown",
   "metadata": {},
   "source": [
    "#### Split the data into a train and test set"
   ]
  },
  {
   "cell_type": "code",
   "execution_count": null,
   "metadata": {},
   "outputs": [],
   "source": [
    "def split_data(ratings, num_items_per_user, num_users_per_item,\n",
    "               min_num_ratings, p_test=0.1, verbose=False):\n",
    "    \"\"\"split the ratings to training data and test data.\n",
    "    Args:\n",
    "        min_num_ratings: \n",
    "            all users and items we keep must have at least min_num_ratings per user and per item. \n",
    "    \"\"\"\n",
    "    # set seed\n",
    "    np.random.seed(988)\n",
    "    \n",
    "    # select user and item based on the condition.\n",
    "    valid_users = np.where(num_items_per_user >= min_num_ratings)[0]\n",
    "    valid_items = np.where(num_users_per_item >= min_num_ratings)[0]\n",
    "    valid_ratings = ratings[valid_items, :][:, valid_users]\n",
    "    \n",
    "    # LIL is a convenient format for constructing sparse matrices\n",
    "    train = sp.lil_matrix(valid_ratings.shape)\n",
    "    test = sp.lil_matrix(valid_ratings.shape)\n",
    "    \n",
    "    valid_ratings_i, valid_ratings_u, valid_ratings_v = sp.find(valid_ratings)\n",
    "    valid_ratings_p_idx = np.random.permutation(range(len(valid_ratings_i)))\n",
    "    \n",
    "    n_test = int(p_test*len(valid_ratings_i))\n",
    "    \n",
    "    for idx in valid_ratings_p_idx[:n_test]:\n",
    "        test[valid_ratings_i[idx], valid_ratings_u[idx]] = valid_ratings_v[idx]\n",
    "        \n",
    "    for idx in valid_ratings_p_idx[n_test:]:\n",
    "        train[valid_ratings_i[idx], valid_ratings_u[idx]] = valid_ratings_v[idx]\n",
    "\n",
    "    if verbose:\n",
    "        print(\"Total number of nonzero elements in original data:{v}\".format(v=ratings.nnz))\n",
    "        print(\"Total number of nonzero elements in train data:{v}\".format(v=train.nnz))\n",
    "        print(\"Total number of nonzero elements in test data:{v}\".format(v=test.nnz))\n",
    "    \n",
    "    # convert to CSR for faster operations\n",
    "    return valid_ratings, train.tocsr(), test.tocsr()"
   ]
  },
  {
   "cell_type": "code",
   "execution_count": null,
   "metadata": {},
   "outputs": [],
   "source": [
    "valid_ratings, train, test = split_data(ratings, num_items_per_user,\n",
    "    num_users_per_item, min_num_ratings=10, p_test=0.1, verbose=True)"
   ]
  },
  {
   "cell_type": "markdown",
   "metadata": {},
   "source": [
    "### Read submission creation data"
   ]
  },
  {
   "cell_type": "code",
   "execution_count": null,
   "metadata": {},
   "outputs": [],
   "source": [
    "ratings_csr = ratings.tocsr()\n",
    "sample_submission = load_data('{dp}sample_submission.csv'.format(dp=DATA_PATH))\n",
    "sample_submission_csr = sample_submission.tocsr()"
   ]
  },
  {
   "cell_type": "markdown",
   "metadata": {},
   "source": [
    "# 0.2 Auxiliary functions"
   ]
  },
  {
   "cell_type": "code",
   "execution_count": null,
   "metadata": {},
   "outputs": [],
   "source": [
    "def compute_division(a, b):\n",
    "    \"\"\"Computes element by element division.\n",
    "    If x/0 returns 0.\n",
    "    \"\"\"\n",
    "    # Raises error if vectors have different lengths\n",
    "    assert(len(a) == len(b))\n",
    "    \n",
    "    # Computes division\n",
    "    res = a.copy()\n",
    "    for i in range(len(a)):\n",
    "        if b[i] == 0:\n",
    "            res[i] = 0\n",
    "        else:\n",
    "            res[i] = a[i] / b[i]\n",
    "\n",
    "    return res"
   ]
  },
  {
   "cell_type": "markdown",
   "metadata": {},
   "source": [
    "# 1 Baselines"
   ]
  },
  {
   "cell_type": "code",
   "execution_count": null,
   "metadata": {
    "scrolled": true
   },
   "outputs": [],
   "source": [
    "# Baseline rating\n",
    "def baseline_rating(data):\n",
    "    \"\"\"Implements baseline method for a ratings matrix\n",
    "    using the global mean.\n",
    "    \"\"\"\n",
    "    # Compute global mean using training data\n",
    "    r_mean = data.sum() / data.count_nonzero()\n",
    "    return r_mean\n",
    "\n",
    "\n",
    "# User or item specific effect\n",
    "def baseline_user_item_specific(data, mean, set_num=0):\n",
    "    \"\"\"Implements baseline method for a ratings matrix\n",
    "    using either the user or the item mean,\n",
    "    as indicated in parameter mean.\n",
    "    \"\"\"\n",
    "    if mean==\"user\":\n",
    "        flag = 1\n",
    "        inv_flag = 0\n",
    "    else:\n",
    "        flag = 0\n",
    "        inv_flag = 1\n",
    "\n",
    "    num = max(set_num, data.shape[flag])\n",
    "    \n",
    "    # Obtain r_demeaned (ratings minus global avg)\n",
    "    global_mean = baseline_rating(data)\n",
    "    r_demeaned = data.copy()\n",
    "    r_demeaned.data = (1.0 * r_demeaned.data) - global_mean\n",
    "    \n",
    "    # Compute means using training data\n",
    "    # get rows, columns and values for elements in r_demeaned\n",
    "    data_rcv = sp.find(r_demeaned)\n",
    "    # compute means\n",
    "    counts = np.bincount(data_rcv[flag], minlength=num)\n",
    "    sums = np.bincount(data_rcv[flag], weights=data_rcv[2], minlength=num)\n",
    "    means = compute_division(sums, counts)\n",
    "\n",
    "    return means"
   ]
  },
  {
   "cell_type": "markdown",
   "metadata": {},
   "source": [
    "# 2 Matrix Factorization"
   ]
  },
  {
   "cell_type": "markdown",
   "metadata": {},
   "source": [
    "## Matrix Factorization with scikit's TruncatedSVD and baselines"
   ]
  },
  {
   "cell_type": "code",
   "execution_count": null,
   "metadata": {},
   "outputs": [],
   "source": [
    "from sklearn.decomposition import TruncatedSVD"
   ]
  },
  {
   "cell_type": "code",
   "execution_count": null,
   "metadata": {},
   "outputs": [],
   "source": [
    "def demean_matrix(data, verbose=False):\n",
    "    \"\"\"Removes the global, user and item means from a matrix.\n",
    "    Returns the matrix and the computed means.\n",
    "    \"\"\"\n",
    "    num_rows, num_cols = data.shape\n",
    "    (rows, cols, vals) = sp.find(data)\n",
    "    \n",
    "    # Compute global, user and item means    \n",
    "    global_mean = baseline_rating(data)\n",
    "    item_means = baseline_user_item_specific(data, 'item')\n",
    "    user_means = baseline_user_item_specific(data, 'user')\n",
    "    \n",
    "    # Substract the baseline of each element in 'data'\n",
    "    train_vals = vals.copy()\n",
    "    train_vals = 1.0 * train_vals\n",
    "    \n",
    "    baselines = np.array([(global_mean + item_means[i] + user_means[u])\n",
    "        for (i, u) in zip(rows, cols)])\n",
    "    train_vals = train_vals - baselines\n",
    "    \n",
    "    # Get matrix\n",
    "    r_demeaned = sp.csr_matrix((train_vals, (rows, cols)),\n",
    "        shape=(num_rows, num_cols))\n",
    "    \n",
    "    if verbose:\n",
    "        print('---------------------------------------------')\n",
    "        print('          Completed demean_matrix!           ')\n",
    "        print('---------------------------------------------')\n",
    "    \n",
    "    return r_demeaned, global_mean, user_means, item_means"
   ]
  },
  {
   "cell_type": "code",
   "execution_count": null,
   "metadata": {},
   "outputs": [],
   "source": [
    "def matrix_factorization_SVD(data, test_data, test_flag, sub_flag=False,\n",
    "    k=20, int_vals=False, sub_filename=\"new_submission\", verbose=False,\n",
    "    n_iter=10, random_state=42):\n",
    "    \"\"\"Matrix factorization by SVD.\n",
    "\n",
    "    If 'test_flag' is True, then 'data' should be the training dataset and\n",
    "    'test_data' the test dataset. In this case sub_flag is ignored.\n",
    "    \n",
    "    If 'test_flag' is False and 'sub_flag' is True, then 'data' should be\n",
    "    the entire ratings dataset and 'test_data' should be a sample submission.\n",
    "    \n",
    "    Both 'data' and 'test_data' should be csr sparse matrices.\n",
    "    \"\"\"\n",
    "\n",
    "    assert test_flag or sub_flag, \"Specify a task\"\n",
    "    assert k <= min(data.shape), \"k must be smaller than the min dimension of 'data'\"\n",
    "    \n",
    "    # Substract baseline from data\n",
    "    r_demeaned, global_mean, user_means, item_means = demean_matrix(data, verbose=verbose)\n",
    "    # Use sklearn's TruncatedSVD\n",
    "    svd = TruncatedSVD(n_components=k, n_iter=n_iter, random_state=random_state)\n",
    "    item_features = svd.fit_transform(r_demeaned)\n",
    "    user_features = svd.components_\n",
    "    \n",
    "    if verbose:\n",
    "        print('Finished fitting model')\n",
    "\n",
    "    # Get non-zero elements\n",
    "    (rows, cols, vals) = sp.find(data)\n",
    "    (test_rows, test_cols, test_vals) = sp.find(test_data)\n",
    "\n",
    "    if test_flag:        \n",
    "        # Do predictions        \n",
    "        baselines = np.array([(global_mean + item_means[i] + user_means[u])\n",
    "            for (i, u) in zip(test_rows, test_cols)])\n",
    "        interactions = np.array([(user_features[:,u].dot(item_features[i,:]))\n",
    "            for (i, u) in zip(test_rows, test_cols)])\n",
    "        pred_test = baselines + interactions\n",
    "        if int_vals:\n",
    "            pred_test = np.rint(pred_test)\n",
    "      \n",
    "        if verbose:\n",
    "            print('Finished predicting')\n",
    "\n",
    "        # Compute and print test error\n",
    "        test_mse = calculate_mse(test_vals, pred_test)\n",
    "        test_rmse = np.sqrt(test_mse / len(test_vals))\n",
    "        \n",
    "        if verbose:\n",
    "            print(\"Test RMSE using baseline and matrix factorization: {e}\".format(e=test_rmse)) \n",
    "            print()\n",
    "            print('-----------------------------------------------')\n",
    "            print(' Completed test in matrix_factorization_SVD! ')    \n",
    "            print('-----------------------------------------------')\n",
    "\n",
    "        return test_rmse, pred_test\n",
    "\n",
    "    elif sub_flag:\n",
    "        # Directly write predictions to submission file\n",
    "        with open('{dp}{fn}.csv'.format(dp=PREDICTION_PATH, fn=sub_filename), 'w') as csvfile:\n",
    "            fieldnames = ['Id', 'Prediction']\n",
    "            writer = csv.DictWriter(csvfile, delimiter=\",\", fieldnames=fieldnames)\n",
    "            writer.writeheader()\n",
    "            for (i, u) in zip(test_rows, test_cols):\n",
    "                interaction = user_features[:,u].dot(item_features[i,:])\n",
    "                baseline = global_mean + user_means[u] + item_means[i]\n",
    "                pred_i_u = interaction + baseline\n",
    "                writer.writerow({'Id':'r{r}_c{c}'.format(r=i+1,c=u+1),'Prediction':pred_i_u})\n",
    "\n",
    "        if verbose:\n",
    "            print('-----------------------------------------------------')\n",
    "            print(' Completed submission in matrix_factorization_SVD! ')    \n",
    "            print('-----------------------------------------------------')"
   ]
  },
  {
   "cell_type": "markdown",
   "metadata": {},
   "source": [
    "Test:"
   ]
  },
  {
   "cell_type": "code",
   "execution_count": null,
   "metadata": {},
   "outputs": [],
   "source": [
    "test_rmse, pred_test = matrix_factorization_SVD(train, test, True,\n",
    "    k=8, verbose=True, n_iter=30)\n",
    "# Test RMSE of matrix_factorization_SVD with k=8: 0.9943842697582924\n",
    "\n",
    "test_rmse, pred_test = matrix_factorization_SVD(train, test, True,\n",
    "    k=9, verbose=True, n_iter=30)\n",
    "# Test RMSE of matrix_factorization_SVD with k=9: 0.9941915401489383\n",
    "\n",
    "test_rmse, pred_test = matrix_factorization_SVD(train, test, True,\n",
    "    k=10, verbose=True, n_iter=30)\n",
    "# Test RMSE of matrix_factorization_SVD with k=10: 0.9940223204731177\n",
    "\n",
    "test_rmse, pred_test = matrix_factorization_SVD(train, test, True,\n",
    "    k=11, verbose=True, n_iter=30)\n",
    "# Test RMSE of matrix_factorization_SVD with k=11: 0.9938398983810981\n",
    "\n",
    "test_rmse, pred_test = matrix_factorization_SVD(train, test, True,\n",
    "    k=12, verbose=True, n_iter=30)\n",
    "# Test RMSE of matrix_factorization_SVD with k=12: 0.9938594474952429\n",
    "\n",
    "test_rmse, pred_test = matrix_factorization_SVD(train, test, True,\n",
    "    k=13, verbose=True, n_iter=30)\n",
    "# Test RMSE of matrix_factorization_SVD with k=13: 0.9938733009164722\n",
    "\n",
    "test_rmse, pred_test = matrix_factorization_SVD(train, test, True,\n",
    "    k=14, verbose=True, n_iter=30)\n",
    "# Test RMSE of matrix_factorization_SVD with k=14: 0.9938002517981297\n",
    "\n",
    "test_rmse, pred_test = matrix_factorization_SVD(train, test, True,\n",
    "    k=15, verbose=True, n_iter=30)\n",
    "# Test RMSE of matrix_factorization_SVD with k=15: 0.9939089420610264\n",
    "\n",
    "test_rmse, pred_test = matrix_factorization_SVD(train, test, True,\n",
    "    k=16, verbose=True, n_iter=30)\n",
    "# Test RMSE of matrix_factorization_SVD with k=16: 0.9938735362990492 \n",
    "\n",
    "test_rmse, pred_test = matrix_factorization_SVD(train, test, True,\n",
    "    k=17, verbose=True, n_iter=30)\n",
    "# Test RMSE of matrix_factorization_SVD with k=17: 0.993893372103984\n",
    "\n",
    "test_rmse, pred_test = matrix_factorization_SVD(train,\n",
    "    test, True, k=18, verbose=True, n_iter=30)\n",
    "# Test RMSE of matrix_factorization_SVD with k=18: 0.99411346124994\n",
    "\n",
    "test_rmse, pred_test = matrix_factorization_SVD(train,\n",
    "    test, True, k=20, verbose=True, n_iter=30)\n",
    "# Test RMSE of matrix_factorization_SVD with k=20: 0.9943208474820583\n",
    "\n",
    "test_rmse, pred_test = matrix_factorization_SVD(train,\n",
    "    test, True, k=40, verbose=True, n_iter=30)\n",
    "# Test RMSE of matrix_factorization_SVD with k=30: 0.996778622735402\n",
    "\n",
    "test_rmse, pred_test = matrix_factorization_SVD(train,\n",
    "    test, True, k=60, verbose=True, n_iter=30)\n",
    "# Test RMSE of matrix_factorization_SVD with k=60: 0.9988865706700296\n",
    "\n",
    "test_rmse, pred_test = matrix_factorization_SVD(train, test,\n",
    "    True, k=80, verbose=True, n_iter=30)\n",
    "# Test RMSE of matrix_factorization_SVD with k=80: 1.0014715425339453"
   ]
  },
  {
   "cell_type": "markdown",
   "metadata": {},
   "source": [
    "Now we prepare the submission file for Kaggle:"
   ]
  },
  {
   "cell_type": "code",
   "execution_count": null,
   "metadata": {},
   "outputs": [],
   "source": [
    "matrix_factorization_SVD(ratings_csr, sample_submission_csr, False,\n",
    "    k=11, sub_flag=True, sub_filename=\"mf_svd2_k11_r42\", verbose=True,\n",
    "    n_iter=30, random_state=42)\n",
    "\n",
    "# Achieves 0.99089 in Kaggle"
   ]
  },
  {
   "cell_type": "code",
   "execution_count": null,
   "metadata": {},
   "outputs": [],
   "source": [
    "matrix_factorization_SVD(ratings_csr, sample_submission_csr, False,\n",
    "    k=12, sub_flag=True, sub_filename=\"mf_svd2_k12_r42\", verbose=True,\n",
    "    n_iter=30, random_state=42)\n",
    "\n",
    "# Achieves ??? in Kaggle"
   ]
  },
  {
   "cell_type": "code",
   "execution_count": null,
   "metadata": {},
   "outputs": [],
   "source": [
    "matrix_factorization_SVD(ratings_csr, sample_submission_csr, False,\n",
    "    k=11, sub_flag=True, sub_filename=\"mf_svd2_k11_r70\", verbose=True,\n",
    "    n_iter=30, random_state=70)\n",
    "\n",
    "# Achieves ??? in Kaggle"
   ]
  },
  {
   "cell_type": "code",
   "execution_count": null,
   "metadata": {},
   "outputs": [],
   "source": [
    "matrix_factorization_SVD(ratings_csr, sample_submission_csr, False,\n",
    "    k=12, sub_flag=True, sub_filename=\"mf_svd2_k12_r70\", verbose=True,\n",
    "    n_iter=30, random_state=70)\n",
    "\n",
    "# Achieves ??? in Kaggle"
   ]
  },
  {
   "cell_type": "code",
   "execution_count": null,
   "metadata": {},
   "outputs": [],
   "source": [
    "matrix_factorization_SVD(ratings_csr, sample_submission_csr, False,\n",
    "    k=11, sub_flag=True, sub_filename=\"mf_svd2_k11_r70_i50\", verbose=True,\n",
    "    n_iter=50, random_state=70)\n",
    "\n",
    "# Achieves ??? in Kaggle"
   ]
  },
  {
   "cell_type": "code",
   "execution_count": null,
   "metadata": {},
   "outputs": [],
   "source": [
    "matrix_factorization_SVD(ratings_csr, sample_submission_csr, False,\n",
    "    k=12, sub_flag=True, sub_filename=\"mf_svd2_k12_r70_i50\", verbose=True,\n",
    "    n_iter=50, random_state=70)\n",
    "\n",
    "# Achieves 0.99082 in Kaggle"
   ]
  },
  {
   "cell_type": "code",
   "execution_count": null,
   "metadata": {},
   "outputs": [],
   "source": []
  }
 ],
 "metadata": {
  "kernelspec": {
   "display_name": "Python [default]",
   "language": "python",
   "name": "python3"
  },
  "language_info": {
   "codemirror_mode": {
    "name": "ipython",
    "version": 3
   },
   "file_extension": ".py",
   "mimetype": "text/x-python",
   "name": "python",
   "nbconvert_exporter": "python",
   "pygments_lexer": "ipython3",
   "version": "3.6.1"
  }
 },
 "nbformat": 4,
 "nbformat_minor": 1
}
