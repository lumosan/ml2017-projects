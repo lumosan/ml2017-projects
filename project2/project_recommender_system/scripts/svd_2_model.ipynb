{
 "cells": [
  {
   "cell_type": "code",
   "execution_count": 3,
   "metadata": {},
   "outputs": [
    {
     "name": "stdout",
     "output_type": "stream",
     "text": [
      "The autoreload extension is already loaded. To reload it, use:\n",
      "  %reload_ext autoreload\n"
     ]
    }
   ],
   "source": [
    "%load_ext autoreload\n",
    "%autoreload 2"
   ]
  },
  {
   "cell_type": "markdown",
   "metadata": {},
   "source": [
    "### Training and testing data"
   ]
  },
  {
   "cell_type": "markdown",
   "metadata": {},
   "source": [
    "#### Load the Data\n",
    "`ratings` is a sparse matrix in the shape of (num_items, num_users)"
   ]
  },
  {
   "cell_type": "code",
   "execution_count": 4,
   "metadata": {
    "collapsed": true
   },
   "outputs": [],
   "source": [
    "from processing_methods.data_processing import load_data\n",
    "\n",
    "DATA_PATH = '../data/'\n",
    "PREDICTION_PATH = '../data/predictions/'\n",
    "ratings_csr = load_data('{dp}data_train.csv'.format(dp=DATA_PATH))\n",
    "sample_submission_csr = load_data('{dp}sample_submission.csv'.format(dp=DATA_PATH))"
   ]
  },
  {
   "cell_type": "code",
   "execution_count": 15,
   "metadata": {},
   "outputs": [
    {
     "name": "stdout",
     "output_type": "stream",
     "text": [
      "Total number of nonzero elements in original data: 1176952\n",
      "Total number of nonzero elements in train data:    1059186\n",
      "Total number of nonzero elements in test data:     117687\n"
     ]
    }
   ],
   "source": [
    "from processing_methods.data_processing import split_data\n",
    "valid_ratings, train, test = split_data(ratings_csr, min_num_ratings=10, p_test=0.1, verbose=True)"
   ]
  },
  {
   "cell_type": "markdown",
   "metadata": {},
   "source": [
    "Test:"
   ]
  },
  {
   "cell_type": "code",
   "execution_count": 6,
   "metadata": {
    "collapsed": true
   },
   "outputs": [],
   "source": [
    "from prediction_methods.svd_model import matrix_factorization_SVD"
   ]
  },
  {
   "cell_type": "code",
   "execution_count": 19,
   "metadata": {},
   "outputs": [
    {
     "name": "stdout",
     "output_type": "stream",
     "text": [
      "Completed demean_matrix!\n",
      "Finished fitting model\n",
      "Finished predicting\n",
      "Test RMSE using baseline and matrix factorization: 0.9924168593043273\n"
     ]
    },
    {
     "data": {
      "text/plain": [
       "(0.99241685930432733,\n",
       " array([ 3.11638412,  3.5497862 ,  3.38390667, ...,  3.53615898,\n",
       "         3.6651291 ,  3.87012503]))"
      ]
     },
     "execution_count": 19,
     "metadata": {},
     "output_type": "execute_result"
    }
   ],
   "source": [
    "matrix_factorization_SVD(train, test, True, k=11, verbose=True,\n",
    "    n_iter=100, library='sklearn')\n",
    "\n",
    "# Achieves 0.99089 in Kaggle"
   ]
  },
  {
   "cell_type": "raw",
   "metadata": {
    "collapsed": true
   },
   "source": [
    "matrix_factorization_SVD(ratings_csr, sample_submission_csr, False,\n",
    "    k=11, sub_flag=True, sub_filename=\"mf_svd2_k11_r42\", verbose=True,\n",
    "    n_iter=30, random_state=42)\n",
    "\n",
    "# Achieves 0.99089 in Kaggle"
   ]
  }
 ],
 "metadata": {
  "kernelspec": {
   "display_name": "Python 3",
   "language": "python",
   "name": "python3"
  },
  "language_info": {
   "codemirror_mode": {
    "name": "ipython",
    "version": 3
   },
   "file_extension": ".py",
   "mimetype": "text/x-python",
   "name": "python",
   "nbconvert_exporter": "python",
   "pygments_lexer": "ipython3",
   "version": "3.6.3"
  }
 },
 "nbformat": 4,
 "nbformat_minor": 1
}
