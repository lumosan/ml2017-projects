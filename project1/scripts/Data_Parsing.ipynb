{
 "cells": [
  {
   "cell_type": "markdown",
   "metadata": {},
   "source": [
    "# Parsing the data"
   ]
  },
  {
   "cell_type": "code",
   "execution_count": 1,
   "metadata": {
    "collapsed": true
   },
   "outputs": [],
   "source": [
    "import pandas as pd\n",
    "import numpy as np\n",
    "import matplotlib\n",
    "\n",
    "%matplotlib inline"
   ]
  },
  {
   "cell_type": "code",
   "execution_count": 2,
   "metadata": {
    "collapsed": true
   },
   "outputs": [],
   "source": [
    "TEST_DATA_PATH = '../data/test.csv'\n",
    "TRAIN_DATA_PATH = '../data/train.csv'\n",
    "\n",
    "NEW_TEST_DATA_PATH = '../data/test_fixed.csv'\n",
    "NEW_TRAIN_DATA_PATH = '../data/train_fixed.csv'"
   ]
  },
  {
   "cell_type": "code",
   "execution_count": 3,
   "metadata": {
    "collapsed": true
   },
   "outputs": [],
   "source": [
    "MIN_CORRELATION = 0.15\n",
    "MAX_CORRELATION = 0.85"
   ]
  },
  {
   "cell_type": "markdown",
   "metadata": {},
   "source": [
    "# Auxiliary methods"
   ]
  },
  {
   "cell_type": "code",
   "execution_count": 4,
   "metadata": {
    "collapsed": true
   },
   "outputs": [],
   "source": [
    "def create_fixed_dataframe_from_raw_data(df):\n",
    "    '''\n",
    "    Creates a new DataFrame in which each column's\n",
    "    NaN values are replaced with the most likely\n",
    "    existing values.\n",
    "    '''\n",
    "    fixed_df = df.replace(to_replace=-999.0, value=float('NaN'))\n",
    "    fixed_df = fixed_df.set_index(['Id'], drop=True)\n",
    "    \n",
    "    # Get correlation matrices\n",
    "    raw_corr_df = fixed_df.corr()\n",
    "    abs_corr_df = fixed_df.corr().apply(lambda x: abs(x))\n",
    "    \n",
    "    # Remove columns' self correlation\n",
    "    identity_df = pd.DataFrame(np.identity(len(fixed_df.columns)), raw_corr_df.columns, raw_corr_df.columns)\n",
    "    raw_corr_df = raw_corr_df - identity_df\n",
    "    abs_corr_df = abs_corr_df - identity_df\n",
    "    \n",
    "    # Fill NaN according to correlated columns\n",
    "    fixed_df = fixed_df.apply(lambda x: replace_nan_with_max_correlation(abs_corr_df[x.name], raw_corr_df, fixed_df))\n",
    "    \n",
    "    # Drop columns with more than 50% NaNs\n",
    "    #fixed_df = fixed_df.loc[:, (fixed_df.isnull().sum(axis=0) <= fixed_df.shape[0] / 2.0)]\n",
    "    \n",
    "    # Fill remaining NaNs with the column's mean value\n",
    "    fixed_df = fixed_df.apply(lambda x: replace_nan_with_mean(x))\n",
    "    \n",
    "    return fixed_df.reset_index()"
   ]
  },
  {
   "cell_type": "code",
   "execution_count": 5,
   "metadata": {
    "collapsed": true
   },
   "outputs": [],
   "source": [
    "def replace_nan_with_max_correlation(abs_corr_column, raw_corr_df, data_df):\n",
    "    '''\n",
    "    Creates a new column in which every row's\n",
    "    NaN values are replaced with its highest correlated\n",
    "    column's values, provided the correlation is above \n",
    "    a certain threshold.\n",
    "    '''\n",
    "    max_correlation_index = abs_corr_column.idxmax()\n",
    "    max_correlation_value = abs_corr_column.get(max_correlation_index)\n",
    "    max_correlation_column = data_df[max_correlation_index]\n",
    "    \n",
    "    nan_filled_column = data_df[abs_corr_column.name]\n",
    "    # Only replace if there is a high enough correlation between the columns\n",
    "    if (max_correlation_value >= MIN_CORRELATION):\n",
    "        mult = 1.0 if (raw_corr_df[abs_corr_column.name].get(max_correlation_index) >= 0.0) else -1.0\n",
    "        nan_filled_column.fillna(mult * data_df[max_correlation_index], inplace=True)\n",
    "        \n",
    "    return nan_filled_column"
   ]
  },
  {
   "cell_type": "code",
   "execution_count": 6,
   "metadata": {
    "collapsed": true
   },
   "outputs": [],
   "source": [
    "def replace_nan_with_mean(column):\n",
    "    return column.fillna(column.mean())"
   ]
  },
  {
   "cell_type": "code",
   "execution_count": 7,
   "metadata": {
    "collapsed": true
   },
   "outputs": [],
   "source": [
    "test_df = pd.read_csv(TEST_DATA_PATH)\n",
    "train_df = pd.read_csv(TRAIN_DATA_PATH)\n",
    "\n",
    "# Fixing testing data\n",
    "test_prediction_column = test_df['Prediction']\n",
    "fixed_test_df = create_fixed_dataframe_from_raw_data(test_df.drop(['Prediction'], axis=1))\n",
    "fixed_test_df.insert(loc=1, column='Prediction', value=test_prediction_column)\n",
    "\n",
    "# Fixing trainning data\n",
    "train_prediction_column = train_df['Prediction']\n",
    "fixed_train_df = create_fixed_dataframe_from_raw_data(train_df.drop(['Prediction'], axis=1))\n",
    "fixed_train_df.insert(loc=1, column='Prediction', value=train_prediction_column)"
   ]
  },
  {
   "cell_type": "code",
   "execution_count": 8,
   "metadata": {
    "collapsed": true
   },
   "outputs": [],
   "source": [
    "# Write results to files\n",
    "fixed_test_df.to_csv(NEW_TEST_DATA_PATH, index=False)\n",
    "fixed_train_df.to_csv(NEW_TRAIN_DATA_PATH, index=False)"
   ]
  },
  {
   "cell_type": "code",
   "execution_count": null,
   "metadata": {
    "collapsed": true
   },
   "outputs": [],
   "source": []
  }
 ],
 "metadata": {
  "kernelspec": {
   "display_name": "Python 3",
   "language": "python",
   "name": "python3"
  },
  "language_info": {
   "codemirror_mode": {
    "name": "ipython",
    "version": 3
   },
   "file_extension": ".py",
   "mimetype": "text/x-python",
   "name": "python",
   "nbconvert_exporter": "python",
   "pygments_lexer": "ipython3",
   "version": "3.6.2"
  }
 },
 "nbformat": 4,
 "nbformat_minor": 2
}
