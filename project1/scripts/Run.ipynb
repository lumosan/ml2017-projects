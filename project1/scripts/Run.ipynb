{
 "cells": [
  {
   "cell_type": "markdown",
   "metadata": {},
   "source": [
    "# General"
   ]
  },
  {
   "cell_type": "code",
   "execution_count": 1,
   "metadata": {
    "collapsed": true
   },
   "outputs": [],
   "source": [
    "# run.py\n",
    "import numpy as np\n",
    "import matplotlib.pyplot as plt \n",
    "from proj1_helpers import *"
   ]
  },
  {
   "cell_type": "code",
   "execution_count": 2,
   "metadata": {
    "collapsed": true
   },
   "outputs": [],
   "source": [
    "def standardize(x):\n",
    "    \"\"\"Standardize the original data set.\"\"\"\n",
    "    mean_x = np.mean(x, axis = 0)\n",
    "    x = x - mean_x\n",
    "    std_x = np.std(x, axis = 0)\n",
    "    x = x / std_x\n",
    "    return x, mean_x, std_x\n",
    "\n",
    "def de_standardize(x, mean_x, std_x):\n",
    "    \"\"\"Reverse the procedure of standardization.\"\"\"\n",
    "    x = x * std_x\n",
    "    x = x + mean_x\n",
    "    return x\n",
    "\n",
    "def build_poly(x, degree, offset=True):\n",
    "    \"\"\"Polynomial basis functions for input data x,\n",
    "    for up to a certain degree.\"\"\"\n",
    "    if offset:\n",
    "        rows, cols = np.indices((x.shape[0], degree+1))\n",
    "        tx = np.power(x[rows], cols)\n",
    "    else:\n",
    "        rows, cols = np.indices((x.shape[0], degree))\n",
    "        tx = np.power(x[rows], cols+1)\n",
    "    return tx\n",
    "\n",
    "def build_model_data(x, y):\n",
    "    \"\"\"Form (y,tX) to get regression data in matrix form. Uses build_poly.\"\"\"\n",
    "    tx = np.c_[np.ones(len(y)), x]\n",
    "    return y, tx\n",
    "\n",
    "def split_data(x, y, ratio):\n",
    "    \"\"\"Split the dataset based on the split ratio.\n",
    "\n",
    "    E.g. if the ratio is 0.8 then 80% of the data set is dedicated\n",
    "    to training (and the rest dedicated to testing)\n",
    "    \"\"\"\n",
    "    size = int(ratio * x.shape[0])\n",
    "    indices = np.random.permutation(x.shape[0])\n",
    "    training_idx, test_idx = indices[:size], indices[size:]\n",
    "\n",
    "    x_training, x_test = x[training_idx], x[test_idx]\n",
    "    y_training, y_test = y[training_idx], y[test_idx]\n",
    "\n",
    "    return x_training, x_test, y_training, y_test\n",
    "\n",
    "def compute_mse(y, tx, w):\n",
    "    \"\"\"Calculates the loss using MSE.\"\"\"\n",
    "    if len(tx.shape) == 1:\n",
    "        tx = tx.reshape(-1, 1)\n",
    "    if len(y.shape) == 1:\n",
    "        y = y.reshape(-1, 1)\n",
    "    w = np.array(w).reshape(tx.shape[1], 1)\n",
    "    z = y - tx.dot(w)\n",
    "    z = z.T.dot(z)\n",
    "    return z[0][0] / tx.shape[0]\n",
    "\n",
    "def sigmoid(t):\n",
    "    \"\"\"Apply sigmoid function on t, with t being a one dim vector\"\"\"\n",
    "    t_exp = np.exp(t)\n",
    "    return t_exp / (t_exp + 1)"
   ]
  },
  {
   "cell_type": "code",
   "execution_count": 3,
   "metadata": {
    "collapsed": true
   },
   "outputs": [],
   "source": [
    "def calculate_precision(y, y_pred):\n",
    "    correct = np.sum(np.abs(y + y_pred))/2\n",
    "    precision = correct / y.shape[0]\n",
    "    return precision"
   ]
  },
  {
   "cell_type": "code",
   "execution_count": 4,
   "metadata": {
    "collapsed": true
   },
   "outputs": [],
   "source": [
    "DATA_PATH = '../data/'"
   ]
  },
  {
   "cell_type": "markdown",
   "metadata": {},
   "source": [
    "#### Random seed"
   ]
  },
  {
   "cell_type": "code",
   "execution_count": 5,
   "metadata": {
    "collapsed": true
   },
   "outputs": [],
   "source": [
    "np.random.seed(1)"
   ]
  },
  {
   "cell_type": "markdown",
   "metadata": {},
   "source": [
    "#### Read files and prepare data"
   ]
  },
  {
   "cell_type": "code",
   "execution_count": 6,
   "metadata": {},
   "outputs": [],
   "source": [
    "yb, input_data, ids = load_csv_data(DATA_PATH+'train.csv')"
   ]
  },
  {
   "cell_type": "code",
   "execution_count": 7,
   "metadata": {
    "collapsed": true
   },
   "outputs": [],
   "source": [
    "test_yb, test_input_data, test_ids = load_csv_data(DATA_PATH+'test.csv')"
   ]
  },
  {
   "cell_type": "markdown",
   "metadata": {},
   "source": [
    "#### In case we need to change the labels (we now need to do it for logistic regression)"
   ]
  },
  {
   "cell_type": "code",
   "execution_count": 8,
   "metadata": {
    "collapsed": true
   },
   "outputs": [],
   "source": [
    "#y = np.ones(len(yb))\n",
    "#y[np.where(yb==-1)] = 0\n",
    "y = yb"
   ]
  },
  {
   "cell_type": "markdown",
   "metadata": {},
   "source": [
    "#### Normalize and add offset"
   ]
  },
  {
   "cell_type": "code",
   "execution_count": 9,
   "metadata": {
    "collapsed": true
   },
   "outputs": [],
   "source": [
    "x, mean_x, std_x = standardize(input_data)\n",
    "y, tx = build_model_data(x, y)"
   ]
  },
  {
   "cell_type": "code",
   "execution_count": 10,
   "metadata": {
    "collapsed": true
   },
   "outputs": [],
   "source": [
    "test_x, test_mean_x, test_std_x = standardize(test_input_data)\n",
    "test_y, test_tx = build_model_data(test_x, test_yb)"
   ]
  },
  {
   "cell_type": "markdown",
   "metadata": {},
   "source": [
    "# 70% split and Ridge regression"
   ]
  },
  {
   "cell_type": "code",
   "execution_count": null,
   "metadata": {
    "collapsed": true
   },
   "outputs": [],
   "source": [
    "tx_training, tx_val, y_training, y_val = split_data(tx, y, .7)"
   ]
  },
  {
   "cell_type": "code",
   "execution_count": 11,
   "metadata": {
    "collapsed": true
   },
   "outputs": [],
   "source": [
    "def ridge_regression(y, tx, lambda_):\n",
    "    \"\"\"Implements ridge regression using normal equations.\"\"\"\n",
    "    # create identity matrix\n",
    "    I = np.eye(tx.shape[1])\n",
    "    # compute w opt using normal equations\n",
    "    inv = np.linalg.inv(tx.T.dot(tx) + 2 * tx.shape[1] * lambda_ * I)\n",
    "    w_opt = inv.dot(tx.T).dot(y)\n",
    "    # compute ridge regression loss\n",
    "    loss = compute_mse(y, tx, w_opt) + lambda_ / tx.shape[1] * w_opt.T.dot(w_opt)\n",
    "    return w_opt, loss"
   ]
  },
  {
   "cell_type": "code",
   "execution_count": null,
   "metadata": {
    "collapsed": true
   },
   "outputs": [],
   "source": [
    "lambdas = np.logspace(-3, 2, num=18)"
   ]
  },
  {
   "cell_type": "code",
   "execution_count": null,
   "metadata": {
    "collapsed": true
   },
   "outputs": [],
   "source": [
    "precisions_tr = []\n",
    "precisions_te = []\n",
    "ws = []\n",
    "\n",
    "for lambda_ in lambdas:\n",
    "    w_opt, loss = ridge_regression(y, tx, lambda_)\n",
    "    y_pred_tr = predict_labels(w_opt, tx_training)\n",
    "    y_pred_te = predict_labels(w_opt, tx_val)\n",
    "    precision_tr = calculate_precision(y_training, y_pred_tr)\n",
    "    precision_te = calculate_precision(y_val, y_pred_te)\n",
    "    ws.append(w_opt)\n",
    "    precisions_tr.append(precision_tr)\n",
    "    precisions_te.append(precision_te)"
   ]
  },
  {
   "cell_type": "code",
   "execution_count": null,
   "metadata": {
    "collapsed": true
   },
   "outputs": [],
   "source": [
    "plt.semilogx(lambdas, precisions_te)\n",
    "plt.semilogx(lambdas, precisions_tr)\n",
    "plt.show()"
   ]
  },
  {
   "cell_type": "markdown",
   "metadata": {},
   "source": [
    "We can choose $\\lambda=10^{-2}$"
   ]
  },
  {
   "cell_type": "code",
   "execution_count": null,
   "metadata": {
    "collapsed": true
   },
   "outputs": [],
   "source": [
    "w_opt, loss = ridge_regression(y, tx, 10**(-2))\n",
    "test_y_pred = predict_labels(w_opt, test_tx)"
   ]
  },
  {
   "cell_type": "code",
   "execution_count": null,
   "metadata": {
    "collapsed": true
   },
   "outputs": [],
   "source": [
    "create_csv_submission(test_ids, test_y_pred, DATA_PATH+'ridge_submission.csv')"
   ]
  },
  {
   "cell_type": "markdown",
   "metadata": {},
   "source": [
    "We get 0.74454"
   ]
  },
  {
   "cell_type": "markdown",
   "metadata": {},
   "source": [
    "# 70% split and SGD Logistic Regression"
   ]
  },
  {
   "cell_type": "code",
   "execution_count": 11,
   "metadata": {
    "collapsed": true
   },
   "outputs": [],
   "source": [
    "tx_training, tx_val, y_training, y_val = split_data(tx, y, .7)"
   ]
  },
  {
   "cell_type": "code",
   "execution_count": 12,
   "metadata": {
    "collapsed": true
   },
   "outputs": [],
   "source": [
    "def get_batch(y, tx, batch_size):\n",
    "    m = tx.shape[0]\n",
    "    p = np.random.permutation(np.arange(m))\n",
    "    tx_p, y_p = tx[p], y[p]\n",
    "    return y_p[:batch_size], tx_p[:batch_size,:]"
   ]
  },
  {
   "cell_type": "code",
   "execution_count": 13,
   "metadata": {
    "collapsed": true
   },
   "outputs": [],
   "source": [
    "def log_regr_by_gradient_descent(y, tx, w, gamma):\n",
    "    \"\"\"Do one step of gradient descent using logistic regression.\n",
    "    Return the loss and the updated w.\n",
    "    \"\"\"\n",
    "    tx_w = tx.dot(w)\n",
    "    # compute the cost\n",
    "    loss = np.sum(np.log(1 + np.exp(tx_w))) - np.sum(y * tx_w)\n",
    "    # compute the gradient\n",
    "    gradient = tx.T.dot(sigmoid(tx_w) - y)\n",
    "    # update w\n",
    "    w_1 = w\n",
    "    w = w_1 - gamma * gradient\n",
    "    return loss, w"
   ]
  },
  {
   "cell_type": "code",
   "execution_count": 14,
   "metadata": {
    "collapsed": true
   },
   "outputs": [],
   "source": [
    "def logistic_regression(y, tx, initial_w, max_iters, gamma, return_all=False):\n",
    "    \"\"\"Logistic regression using mini-batch gradient descent\"\"\"\n",
    "    if len(tx.shape) == 1:\n",
    "        tx = tx.reshape(-1, 1)\n",
    "    if len(y.shape) == 1:\n",
    "        y = y.reshape(-1, 1)\n",
    "    initial_w = np.array(initial_w).reshape(tx.shape[1], 1)\n",
    "\n",
    "    batch_size = int(.1 * tx.shape[0])\n",
    "    \n",
    "    # init parameters    \n",
    "    w = initial_w\n",
    "    if return_all:\n",
    "        ws = [w]\n",
    "        losses = []\n",
    "\n",
    "    for n_iter in range(max_iters):\n",
    "        gamma_iter = gamma / ((n_iter + 1)**2)\n",
    "        # get mini-batch\n",
    "        y_n, tx_n = get_batch(y, tx, batch_size)\n",
    "        # get loss and update w by gradient\n",
    "        loss, w = log_regr_by_gradient_descent(y_n, tx_n, w, gamma_iter)\n",
    "        if return_all:\n",
    "            # store w and loss\n",
    "            ws.append(w)\n",
    "            losses.append(loss)\n",
    "            if n_iter % 100 == 0:\n",
    "                print(\"Current iteration={i}, loss={l}\".format(i=n_iter, l=loss))\n",
    "    # return w and loss, either all or only last ones\n",
    "    if return_all:\n",
    "        return ws, losses\n",
    "    else:\n",
    "        return w, loss"
   ]
  },
  {
   "cell_type": "code",
   "execution_count": 15,
   "metadata": {
    "collapsed": true
   },
   "outputs": [],
   "source": [
    "initial_w = np.zeros((tx_training.shape[1], 1))\n",
    "max_iters = 10000\n",
    "gamma = .00001\n",
    "w, loss = logistic_regression(y_training, tx_training, initial_w, max_iters, gamma, return_all=False)"
   ]
  },
  {
   "cell_type": "code",
   "execution_count": 16,
   "metadata": {
    "collapsed": true
   },
   "outputs": [],
   "source": [
    "def predict_labels_bis(weights, data):\n",
    "    \"\"\"Generates class predictions given weights, and a test data matrix\"\"\"\n",
    "    y_pred = np.dot(data, weights)\n",
    "    y_pred[np.where(y_pred <= 0.5)] = -1\n",
    "    y_pred[np.where(y_pred > 0.5)] = 1\n",
    "\n",
    "    return y_pred"
   ]
  },
  {
   "cell_type": "code",
   "execution_count": 46,
   "metadata": {
    "collapsed": true
   },
   "outputs": [],
   "source": [
    "y_pred_te = predict_labels_bis(w, tx_val)\n",
    "y_aux = np.ones(len(y_pred_te))\n",
    "y_aux[np.where(y_pred_te==0)[0]] = -1"
   ]
  },
  {
   "cell_type": "code",
   "execution_count": 47,
   "metadata": {
    "collapsed": true
   },
   "outputs": [],
   "source": [
    "precision_te = calculate_precision(y_aux, y_pred_te.flatten())"
   ]
  },
  {
   "cell_type": "code",
   "execution_count": 48,
   "metadata": {},
   "outputs": [
    {
     "data": {
      "text/plain": [
       "0.017453333333333335"
      ]
     },
     "execution_count": 48,
     "metadata": {},
     "output_type": "execute_result"
    }
   ],
   "source": [
    "precision_te"
   ]
  },
  {
   "cell_type": "code",
   "execution_count": null,
   "metadata": {
    "collapsed": true
   },
   "outputs": [],
   "source": [
    "test_y_pred = predict_labels_bis(w_opt, test_tx)"
   ]
  },
  {
   "cell_type": "markdown",
   "metadata": {},
   "source": [
    "# Others"
   ]
  },
  {
   "cell_type": "markdown",
   "metadata": {},
   "source": [
    "Use gradient descent:"
   ]
  },
  {
   "cell_type": "raw",
   "metadata": {},
   "source": [
    "initial_w = np.zeros((x_training.shape[1], 1))\n",
    "max_iter = 10000\n",
    "gamma = .001\n",
    "lambda_ = .5\n",
    "w, loss = reg_logistic_regression(y_training, x_training, lambda_, initial_w, max_iter, gamma)"
   ]
  },
  {
   "cell_type": "markdown",
   "metadata": {},
   "source": [
    "Ridge regression using k-fold"
   ]
  },
  {
   "cell_type": "code",
   "execution_count": 12,
   "metadata": {
    "collapsed": true
   },
   "outputs": [],
   "source": [
    "def build_k_indices(y, k_fold, seed):\n",
    "    '''\n",
    "    Build k indices for k-fold.\n",
    "    '''\n",
    "    num_row = y.shape[0]\n",
    "    interval = int(num_row / k_fold)\n",
    "    np.random.seed(seed)\n",
    "    indices = np.random.permutation(num_row)\n",
    "    k_indices = [indices[k * interval: (k + 1) * interval]\n",
    "                 for k in range(k_fold)]\n",
    "    return np.array(k_indices)\n",
    "\n",
    "def split_data_k_indices(y, x, k_indices, k):\n",
    "    '''\n",
    "    Splits the data into test and training data.\n",
    "    Samples get randomized through 'k_indices' and\n",
    "    selected through 'k'.\n",
    "    '''\n",
    "    mask = np.ones(k_indices.shape, dtype=bool)\n",
    "    mask[k] = False\n",
    "    \n",
    "    # Test data\n",
    "    x_test = x[k_indices[k]]\n",
    "    y_test = y[k_indices[k]]\n",
    "    \n",
    "    # Train data\n",
    "    x_train = x[k_indices[mask]]\n",
    "    y_train = y[k_indices[mask]]\n",
    "    \n",
    "    return x_test, y_test, x_train, y_train"
   ]
  },
  {
   "cell_type": "code",
   "execution_count": 13,
   "metadata": {
    "collapsed": true
   },
   "outputs": [],
   "source": [
    "def cross_validation(y, x, k_indices, k, lambda_, degree):\n",
    "    '''\n",
    "    Return the loss of ridge regression.\n",
    "    '''\n",
    "    # Split data according to 'k_indices' and 'k'\n",
    "    x_test, y_test, x_train, y_train = split_data_k_indices(y, x, k_indices, k)\n",
    "\n",
    "    # Form data with polynomial degree\n",
    "    # tx_test = build_poly(x_test, degree)\n",
    "    # tx_train = build_poly(x_train, degree)\n",
    "\n",
    "    # Apply ridge regression\n",
    "    w_opt, rmse_train = ridge_regression(y_train, x_train, lambda_)\n",
    "    \n",
    "    prediction = {\n",
    "        'train': predict_labels(w_opt, x_train),\n",
    "        'test': predict_labels(w_opt, x_test)\n",
    "    } \n",
    "    \n",
    "    precision = {\n",
    "        'train': calculate_precision(prediction['train'], y_train),\n",
    "        'test': calculate_precision(prediction['test'], y_test)\n",
    "    }\n",
    "    \n",
    "    # Return loss for train and test data\n",
    "    return precision['train'], precision['test']"
   ]
  },
  {
   "cell_type": "code",
   "execution_count": 14,
   "metadata": {
    "collapsed": true
   },
   "outputs": [],
   "source": [
    "def cross_validation_visualization(lambds, mse_tr, mse_te, mse_dif):\n",
    "    \"\"\"visualization the curves of mse_tr and mse_te.\"\"\"\n",
    "    plt.semilogx(lambds, mse_tr, marker=\".\", color='b', label='train error')\n",
    "    plt.semilogx(lambds, mse_te, marker=\".\", color='r', label='test error')\n",
    "    plt.semilogx(lambds, mse_dif, marker=\".\", color='y', label='error delta')\n",
    "    plt.xlabel(\"lambda\")\n",
    "    plt.ylabel(\"rmse\")\n",
    "    plt.title(\"cross validation\")\n",
    "    plt.legend(loc=2)\n",
    "    plt.grid(True)\n",
    "    plt.show()"
   ]
  },
  {
   "cell_type": "code",
   "execution_count": 17,
   "metadata": {},
   "outputs": [
    {
     "name": "stdout",
     "output_type": "stream",
     "text": [
      "[0.71779487117948471, 0.71904287617150464, 0.71858087432349727]\n",
      "[0.72036288145152583, 0.71703886815547258, 0.71826287305149217]\n",
      "[0.71779487117948471, 0.71904287617150464, 0.71858087432349727]\n",
      "[0.72036288145152583, 0.71703886815547258, 0.71826287305149217]\n",
      "[0.71779487117948471, 0.71904287617150464, 0.71858087432349727]\n",
      "[0.72036288145152583, 0.71703886815547258, 0.71826287305149217]\n",
      "[0.71779487117948471, 0.71904287617150464, 0.71858087432349727]\n",
      "[0.72036288145152583, 0.71703886815547258, 0.71826287305149217]\n",
      "[0.71779487117948471, 0.71904287617150464, 0.71858087432349727]\n",
      "[0.72036288145152583, 0.71703886815547258, 0.71826287305149217]\n",
      "[0.71779487117948471, 0.71904287617150464, 0.71858087432349727]\n",
      "[0.72036288145152583, 0.71703886815547258, 0.71826287305149217]\n",
      "[0.71779487117948471, 0.71904287617150464, 0.71858087432349727]\n",
      "[0.72036288145152583, 0.71703886815547258, 0.71826287305149217]\n",
      "[0.71779487117948471, 0.71904287617150464, 0.71858087432349727]\n",
      "[0.72036288145152583, 0.71703886815547258, 0.71826287305149217]\n",
      "[0.71779487117948471, 0.71904287617150464, 0.71858087432349727]\n",
      "[0.72036288145152583, 0.71703886815547258, 0.71826287305149217]\n",
      "[0.71779487117948471, 0.71904287617150464, 0.71858087432349727]\n",
      "[0.72036288145152583, 0.71703886815547258, 0.71826287305149217]\n",
      "[0.71779487117948471, 0.71903087612350447, 0.71858687434749735]\n",
      "[0.720374881499526, 0.71703886815547258, 0.71826287305149217]\n",
      "[0.71779487117948471, 0.71903087612350447, 0.71859287437149744]\n",
      "[0.72036288145152583, 0.71703886815547258, 0.718250873003492]\n",
      "[0.71775287101148399, 0.7190188760755043, 0.71862887451549806]\n",
      "[0.72038688154752617, 0.71706286825147303, 0.71827487309949245]\n",
      "[0.71781287125148496, 0.71911487645950589, 0.71866487465949869]\n",
      "[0.720374881499526, 0.7170748682994732, 0.71817887271549086]\n",
      "[0.71718286873147497, 0.71853287413149658, 0.71830487321949288]\n",
      "[0.72005088020352082, 0.71606686426745703, 0.71787887151548602]\n",
      "[0.71622886491545967, 0.71771687086748348, 0.71727286909147636]\n",
      "[0.71958287833151335, 0.71546686186744746, 0.7173028692114769]\n",
      "[0.66081864327457307, 0.66172464689858757, 0.66096264385057535]\n",
      "[0.66223464893859574, 0.65949863799455199, 0.6613466453865815]\n",
      "[0.63838455353821411, 0.63900855603422413, 0.639248556994228]\n",
      "[0.63962655850623407, 0.63833055332221333, 0.63866655466621869]\n",
      "[0.63842655370621482, 0.63903855615422467, 0.63927855711422843]\n",
      "[0.63969855879423521, 0.63835455341821368, 0.63871455485821949]\n",
      "[0.63842655370621482, 0.63904455617822475, 0.63927855711422843]\n",
      "[0.63968655874623503, 0.63835455341821368, 0.63871455485821949]\n",
      "[0.63842655370621482, 0.63904455617822475, 0.63927855711422843]\n",
      "[0.63968655874623503, 0.63835455341821368, 0.63871455485821949]\n",
      "[0.63842655370621482, 0.63904455617822475, 0.63927855711422843]\n",
      "[0.63968655874623503, 0.63835455341821368, 0.63871455485821949]\n",
      "[0.63842655370621482, 0.63904455617822475, 0.63927855711422843]\n",
      "[0.63968655874623503, 0.63835455341821368, 0.63871455485821949]\n",
      "[0.63842655370621482, 0.63904455617822475, 0.63927855711422843]\n",
      "[0.63968655874623503, 0.63835455341821368, 0.63871455485821949]\n",
      "[0.63842655370621482, 0.63904455617822475, 0.63927855711422843]\n",
      "[0.63968655874623503, 0.63835455341821368, 0.63871455485821949]\n",
      "[0.63842655370621482, 0.63904455617822475, 0.63927855711422843]\n",
      "[0.63968655874623503, 0.63835455341821368, 0.63871455485821949]\n",
      "[0.63842655370621482, 0.63904455617822475, 0.63927855711422843]\n",
      "[0.63968655874623503, 0.63835455341821368, 0.63871455485821949]\n",
      "[0.63842655370621482, 0.63904455617822475, 0.63927855711422843]\n",
      "[0.63968655874623503, 0.63835455341821368, 0.63871455485821949]\n",
      "[0.63842655370621482, 0.63904455617822475, 0.63927855711422843]\n",
      "[0.63968655874623503, 0.63835455341821368, 0.63871455485821949]\n",
      "[0.63842655370621482, 0.63904455617822475, 0.63927855711422843]\n",
      "[0.63968655874623503, 0.63835455341821368, 0.63871455485821949]\n"
     ]
    },
    {
     "data": {
      "image/png": "[encoded data removed]",
      "text/plain": [
       "<matplotlib.figure.Figure at 0x1314b943cc0>"
      ]
     },
     "metadata": {},
     "output_type": "display_data"
    }
   ],
   "source": [
    "degree = 7\n",
    "k_fold = 3\n",
    "seed = 13\n",
    "\n",
    "lambdas = np.logspace(-40, 40, 30)\n",
    "\n",
    "# split data in k fold\n",
    "k_indices = build_k_indices(y, k_fold, seed)\n",
    "\n",
    "lambda_avg_rmse_trs = []\n",
    "lambda_avg_rmse_tes = []\n",
    "lambda_avg_rmse_difs = []\n",
    "\n",
    "for lambda_ in lambdas:\n",
    "    \n",
    "    rmse_trs = []\n",
    "    rmse_tes = []\n",
    "    rmse_difs = []\n",
    "\n",
    "    # K-fold cross validation and pick the rmse 'test' and 'train'\n",
    "    # errors that represent the least absolute difference between\n",
    "    # them (for a given lambda).\n",
    "    for k in range(k_fold):\n",
    "        rmse_cur_tr, rmse_cur_te = cross_validation(y, x, k_indices, k, lambda_, degree)\n",
    "        \n",
    "        rmse_trs.append(rmse_cur_tr)\n",
    "        rmse_tes.append(rmse_cur_te)\n",
    "        rmse_difs.append(abs(rmse_cur_tr - rmse_cur_te))\n",
    "        \n",
    "    lambda_avg_rmse_trs.append(np.mean(rmse_trs))\n",
    "    lambda_avg_rmse_tes.append(np.mean(rmse_tes))\n",
    "    lambda_avg_rmse_difs.append(np.mean(rmse_difs))\n",
    "\n",
    "cross_validation_visualization(lambdas, lambda_avg_rmse_trs, lambda_avg_rmse_tes, lambda_avg_rmse_difs)"
   ]
  },
  {
   "cell_type": "markdown",
   "metadata": {},
   "source": [
    "Read test data"
   ]
  },
  {
   "cell_type": "code",
   "execution_count": null,
   "metadata": {
    "collapsed": true
   },
   "outputs": [],
   "source": [
    "test_yb, test_input_data, test_ids = load_csv_data(DATA_PATH+'test.csv')"
   ]
  },
  {
   "cell_type": "markdown",
   "metadata": {},
   "source": [
    "Predict labels:"
   ]
  },
  {
   "cell_type": "code",
   "execution_count": null,
   "metadata": {
    "collapsed": true
   },
   "outputs": [],
   "source": [
    "test_y_pred = predict_labels(w_opt, test_input_data)"
   ]
  },
  {
   "cell_type": "markdown",
   "metadata": {},
   "source": [
    "Create submission:"
   ]
  },
  {
   "cell_type": "code",
   "execution_count": null,
   "metadata": {
    "collapsed": true
   },
   "outputs": [],
   "source": [
    "create_csv_submission(test_ids, test_y_pred, DATA_PATH+'submission.csv')"
   ]
  },
  {
   "cell_type": "code",
   "execution_count": null,
   "metadata": {
    "collapsed": true
   },
   "outputs": [],
   "source": []
  }
 ],
 "metadata": {
  "kernelspec": {
   "display_name": "Python 3",
   "language": "python",
   "name": "python3"
  },
  "language_info": {
   "codemirror_mode": {
    "name": "ipython",
    "version": 3
   },
   "file_extension": ".py",
   "mimetype": "text/x-python",
   "name": "python",
   "nbconvert_exporter": "python",
   "pygments_lexer": "ipython3",
   "version": "3.6.1"
  }
 },
 "nbformat": 4,
 "nbformat_minor": 2
}
