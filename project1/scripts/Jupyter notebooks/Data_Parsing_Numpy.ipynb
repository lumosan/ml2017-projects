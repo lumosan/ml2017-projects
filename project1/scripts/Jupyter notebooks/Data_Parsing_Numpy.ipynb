{
 "cells": [
  {
   "cell_type": "markdown",
   "metadata": {},
   "source": [
    "# Parsing data using Numpy"
   ]
  },
  {
   "cell_type": "code",
   "execution_count": 1,
   "metadata": {
    "collapsed": true
   },
   "outputs": [],
   "source": [
    "from data_handler import DataFrame, Column"
   ]
  },
  {
   "cell_type": "code",
   "execution_count": 2,
   "metadata": {
    "collapsed": true
   },
   "outputs": [],
   "source": [
    "IN_TEST_DATA_PATH = '../data/test.csv'\n",
    "IN_TRAIN_DATA_PATH = '../data/train.csv'\n",
    "\n",
    "OUT_TEST_DATA_PATH = '../data/test_fixed.csv'\n",
    "OUT_TRAIN_DATA_PATH = '../data/train_fixed.csv'"
   ]
  },
  {
   "cell_type": "code",
   "execution_count": 3,
   "metadata": {
    "collapsed": true
   },
   "outputs": [],
   "source": [
    "test_df = DataFrame(IN_TEST_DATA_PATH)\n",
    "train_df = DataFrame(IN_TRAIN_DATA_PATH)"
   ]
  },
  {
   "cell_type": "code",
   "execution_count": 4,
   "metadata": {},
   "outputs": [],
   "source": [
    "# Store 'Id' and 'Prediction' columns\n",
    "test_id_column, test_prediction_column = test_df.get_columns(['Id', 'Prediction'])\n",
    "train_id_column, train_prediction_column = train_df.get_columns(['Id', 'Prediction'])\n",
    "\n",
    "# Drop 'Id' and 'Prediction' columns and replace '-999' with 'NaN'\n",
    "test_df = test_df.drop(['Id', 'Prediction']).as_type(float).replace(-999.0, float('NaN'))\n",
    "train_df = train_df.drop(['Id', 'Prediction']).as_type(float).replace(-999.0, float('NaN'))\n",
    "\n",
    "# Create correlation matrices\n",
    "test_corr_df = test_df.replace(float('NaN'), 0.0).corr()\n",
    "train_corr_df = train_df.replace(float('NaN'), 0.0).corr()"
   ]
  },
  {
   "cell_type": "code",
   "execution_count": 5,
   "metadata": {},
   "outputs": [],
   "source": [
    "# Get NaN count for each column\n",
    "nan_count = {}\n",
    "for column in test_df.get_columns():\n",
    "    nan_count[column.label] = len(column.values) - len(column.nonan().values)\n",
    "    \n",
    "# Get columns sorted by NaN count\n",
    "sorted_nan_count = sorted(nan_count, key=nan_count.get)\n",
    "\n",
    "# Pick 1/3 worst columns to remove\n",
    "target_columns = sorted_nan_count[int(2 * len(sorted_nan_count) / 3):]\n",
    "\n",
    "# Drop columns from DataFrames\n",
    "test_df = test_df.drop(target_columns)\n",
    "train_df = train_df.drop(target_columns)"
   ]
  },
  {
   "cell_type": "code",
   "execution_count": 6,
   "metadata": {},
   "outputs": [],
   "source": [
    "# Normalizing dataframes\n",
    "test_df = test_df.normalize()\n",
    "train_df = train_df.normalize()\n",
    "\n",
    "# Replacing NaNs with 0s\n",
    "test_df = test_df.replace(float('NaN'), 0.0).round_values()\n",
    "train_df = train_df.replace(float('NaN'), 0.0).round_values()"
   ]
  },
  {
   "cell_type": "code",
   "execution_count": 7,
   "metadata": {
    "collapsed": true
   },
   "outputs": [],
   "source": [
    "# Add 'Id' and 'Prediction' columns back into the dataframes\n",
    "test_df = test_df.as_type(str).insert([test_id_column, test_prediction_column], [0, 1])\n",
    "train_df = train_df.as_type(str).insert([train_id_column, train_prediction_column], [0, 1])"
   ]
  },
  {
   "cell_type": "code",
   "execution_count": 8,
   "metadata": {},
   "outputs": [
    {
     "data": {
      "text/plain": [
       "|            Id |    Prediction |  DER_mass_MMC | DER_mass_t... |  DER_mass_vis |      DER_pt_h | ...\n",
       "---------------------------------------------------------------------------------------------------\n",
       "|        350000 |             ? |           0.0 |         0.857 |       -1.4134 |       -0.8655 | ...\n",
       "|        350001 |             ? |       -0.2725 |        0.5151 |        0.1687 |       -0.1238 | ...\n",
       "|        350002 |             ? |       -0.0718 |        0.1969 |        0.3764 |       -0.8482 | ...\n",
       "|        350003 |             ? |        0.2464 |       -0.5271 |        0.3994 |       -0.7697 | ...\n",
       "|        350004 |             ? |       -0.8402 |        0.9469 |       -0.5532 |        0.5026 | ...\n",
       "|        350005 |             ? |       -0.4607 |        1.2689 |       -0.3667 |        -0.681 | ...\n",
       "|        350006 |             ? |       -0.6353 |       -0.0056 |       -0.3704 |       -0.3279 | ...\n",
       "|        350007 |             ? |        5.4134 |        0.7289 |        3.7923 |        0.2084 | ...\n",
       "(...)"
      ]
     },
     "execution_count": 8,
     "metadata": {},
     "output_type": "execute_result"
    }
   ],
   "source": [
    "test_df"
   ]
  },
  {
   "cell_type": "code",
   "execution_count": 9,
   "metadata": {},
   "outputs": [
    {
     "data": {
      "text/plain": [
       "|            Id |    Prediction |  DER_mass_MMC | DER_mass_t... |  DER_mass_vis |      DER_pt_h | ...\n",
       "---------------------------------------------------------------------------------------------------\n",
       "|        100000 |             s |        0.2899 |        0.0683 |        0.4077 |         -0.47 | ...\n",
       "|        100001 |             b |         0.682 |        0.5525 |        0.5401 |       -0.1532 | ...\n",
       "|        100002 |             b |           0.0 |        3.1952 |        1.0966 |       -0.3497 | ...\n",
       "|        100003 |             b |        0.3848 |        0.9104 |       -0.0059 |        -0.903 | ...\n",
       "|        100004 |             b |        0.9425 |       -0.9146 |        1.3134 |       -0.6518 | ...\n",
       "|        100005 |             b |       -0.5605 |       -1.0098 |       -0.5396 |        0.9182 | ...\n",
       "|        100006 |             s |        0.4694 |       -0.5765 |        0.6515 |        0.7577 | ...\n",
       "|        100007 |             s |        0.5769 |       -1.0984 |        0.3314 |       -0.4513 | ...\n",
       "(...)"
      ]
     },
     "execution_count": 9,
     "metadata": {},
     "output_type": "execute_result"
    }
   ],
   "source": [
    "train_df"
   ]
  },
  {
   "cell_type": "code",
   "execution_count": 10,
   "metadata": {},
   "outputs": [],
   "source": [
    "# Write dataframes to csv files\n",
    "test_df.write_to_csv(OUT_TEST_DATA_PATH)\n",
    "train_df.write_to_csv(OUT_TRAIN_DATA_PATH)"
   ]
  }
 ],
 "metadata": {
  "kernelspec": {
   "display_name": "Python 3",
   "language": "python",
   "name": "python3"
  },
  "language_info": {
   "codemirror_mode": {
    "name": "ipython",
    "version": 3
   },
   "file_extension": ".py",
   "mimetype": "text/x-python",
   "name": "python",
   "nbconvert_exporter": "python",
   "pygments_lexer": "ipython3",
   "version": "3.6.2"
  }
 },
 "nbformat": 4,
 "nbformat_minor": 2
}
