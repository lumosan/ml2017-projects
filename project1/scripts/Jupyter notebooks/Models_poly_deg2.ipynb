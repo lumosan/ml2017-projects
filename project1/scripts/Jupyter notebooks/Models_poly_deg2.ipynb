{
 "cells": [
  {
   "cell_type": "markdown",
   "metadata": {},
   "source": [
    "# General"
   ]
  },
  {
   "cell_type": "code",
   "execution_count": 84,
   "metadata": {},
   "outputs": [],
   "source": [
    "# run.py\n",
    "import numpy as np\n",
    "import matplotlib.pyplot as plt \n",
    "from proj1_helpers import *\n",
    "from auxiliary_functions import *"
   ]
  },
  {
   "cell_type": "code",
   "execution_count": 2,
   "metadata": {},
   "outputs": [],
   "source": [
    "def calculate_precision(y, y_pred, zeros_ones=False):\n",
    "    if len(np.array(y).shape) > 1:\n",
    "        y=y.flatten()\n",
    "    if len(np.array(y_pred).shape) > 1:\n",
    "        y_pred=y_pred.flatten()\n",
    "    if zeros_ones:\n",
    "        incorrect = np.sum(np.abs(y - y_pred))\n",
    "    else:\n",
    "        incorrect = np.sum(np.abs(y - y_pred))/2\n",
    "    precision = 1 - (incorrect / y.shape[0])\n",
    "    return precision\n",
    "\n",
    "def predict_labels_bis(weights, data, return_zeros=False):\n",
    "    \"\"\"Generates class predictions given weights, and a test data matrix\"\"\"\n",
    "    y_pred = np.dot(data, weights)\n",
    "    if return_zeros:\n",
    "        y_pred[np.where(y_pred <= 0.5)] = 0\n",
    "    else:\n",
    "        y_pred[np.where(y_pred <= 0.5)] = -1\n",
    "    y_pred[np.where(y_pred > 0.5)] = 1\n",
    "\n",
    "    return y_pred"
   ]
  },
  {
   "cell_type": "code",
   "execution_count": 3,
   "metadata": {},
   "outputs": [],
   "source": [
    "DATA_PATH = '../data/'"
   ]
  },
  {
   "cell_type": "markdown",
   "metadata": {},
   "source": [
    "#### Read files and prepare data"
   ]
  },
  {
   "cell_type": "code",
   "execution_count": 4,
   "metadata": {},
   "outputs": [],
   "source": [
    "yb, input_data, ids = load_csv_data(DATA_PATH+'train.csv')"
   ]
  },
  {
   "cell_type": "code",
   "execution_count": 5,
   "metadata": {},
   "outputs": [],
   "source": [
    "test_yb, test_input_data, test_ids = load_csv_data(DATA_PATH+'test.csv')"
   ]
  },
  {
   "cell_type": "markdown",
   "metadata": {},
   "source": [
    "#### In case we need to change the labels (we now need to do it for logistic regression)"
   ]
  },
  {
   "cell_type": "code",
   "execution_count": 6,
   "metadata": {},
   "outputs": [],
   "source": [
    "y = np.ones(len(yb))\n",
    "y[np.where(yb==-1)] = 0"
   ]
  },
  {
   "cell_type": "code",
   "execution_count": 7,
   "metadata": {},
   "outputs": [],
   "source": [
    "Y=np.array((yb, y)).T"
   ]
  },
  {
   "cell_type": "markdown",
   "metadata": {},
   "source": [
    "Y.T[0] has labels {-1, 1}\n",
    "\n",
    "Y.T[1] has labels {0, 1}"
   ]
  },
  {
   "cell_type": "markdown",
   "metadata": {},
   "source": [
    "#### Fix weird values"
   ]
  },
  {
   "cell_type": "code",
   "execution_count": 8,
   "metadata": {},
   "outputs": [],
   "source": [
    "clean_data = input_data\n",
    "clean_data[np.where(input_data==-999)] = 0\n",
    "\n",
    "test_clean_data = test_input_data\n",
    "test_clean_data[np.where(input_data==-999)] = 0"
   ]
  },
  {
   "cell_type": "markdown",
   "metadata": {},
   "source": [
    "#### Normalize"
   ]
  },
  {
   "cell_type": "code",
   "execution_count": 9,
   "metadata": {},
   "outputs": [],
   "source": [
    "x, mean_x, std_x = standardize(clean_data)\n",
    "test_x, test_mean_x, test_std_x = standardize(test_clean_data)"
   ]
  },
  {
   "cell_type": "markdown",
   "metadata": {
    "collapsed": true
   },
   "source": [
    "#### Keep some columns only"
   ]
  },
  {
   "cell_type": "code",
   "execution_count": 10,
   "metadata": {},
   "outputs": [],
   "source": [
    "small_x = x[:, [0,1,2,10,11,13]]\n",
    "test_small_x = test_x[:, [0,1,2,10,11,13]]"
   ]
  },
  {
   "cell_type": "markdown",
   "metadata": {},
   "source": [
    "#### Build poly"
   ]
  },
  {
   "cell_type": "code",
   "execution_count": 11,
   "metadata": {},
   "outputs": [],
   "source": [
    "poly_tx = build_poly(small_x, 2)\n",
    "test_poly_tx = build_poly(test_small_x, 2)"
   ]
  },
  {
   "cell_type": "markdown",
   "metadata": {},
   "source": [
    "#### Split data: 80% for training and 20% for testing. Out of the training, 80% is for *training* and 20% for validation"
   ]
  },
  {
   "cell_type": "code",
   "execution_count": 12,
   "metadata": {},
   "outputs": [],
   "source": [
    "tv_tx, te_tx, tv_Y, te_Y = split_data(poly_tx, Y, .8)"
   ]
  },
  {
   "cell_type": "code",
   "execution_count": 13,
   "metadata": {},
   "outputs": [],
   "source": [
    "tr_tx, va_tx, tr_Y, va_Y = split_data(tv_tx, tv_Y, .8)"
   ]
  },
  {
   "cell_type": "markdown",
   "metadata": {},
   "source": [
    "# Ridge regression"
   ]
  },
  {
   "cell_type": "code",
   "execution_count": 14,
   "metadata": {},
   "outputs": [],
   "source": [
    "from implementations import ridge_regression"
   ]
  },
  {
   "cell_type": "code",
   "execution_count": 15,
   "metadata": {},
   "outputs": [],
   "source": [
    "tr_y = tr_Y.T[0]\n",
    "va_y = va_Y.T[0]\n",
    "te_y = te_Y.T[0]"
   ]
  },
  {
   "cell_type": "code",
   "execution_count": 16,
   "metadata": {},
   "outputs": [],
   "source": [
    "tr_errors = []\n",
    "va_errors = []\n",
    "ws = []\n",
    "\n",
    "lambdas = np.logspace(-2, 5, num=30)\n",
    "\n",
    "for lambda_ in lambdas:\n",
    "    w, loss = ridge_regression(tr_y, tr_tx, lambda_)\n",
    "    tr_y_pred = predict_labels(w, tr_tx)\n",
    "    va_y_pred = predict_labels(w, va_tx)\n",
    "    tr_error = 1 - calculate_precision(tr_y, tr_y_pred)\n",
    "    va_error = 1 - calculate_precision(va_y, va_y_pred)\n",
    "    ws.append(w)\n",
    "    tr_errors.append(tr_error)\n",
    "    va_errors.append(va_error)"
   ]
  },
  {
   "cell_type": "code",
   "execution_count": 17,
   "metadata": {},
   "outputs": [
    {
     "data": {
      "image/png": "[encoded data removed]",
      "text/plain": [
       "<matplotlib.figure.Figure at 0x7f52d5719ba8>"
      ]
     },
     "metadata": {},
     "output_type": "display_data"
    }
   ],
   "source": [
    "plt.semilogx(lambdas, tr_errors)\n",
    "plt.semilogx(lambdas, va_errors)\n",
    "plt.show()"
   ]
  },
  {
   "cell_type": "markdown",
   "metadata": {},
   "source": [
    "We can choose $\\lambda=10^{2}$"
   ]
  },
  {
   "cell_type": "code",
   "execution_count": 18,
   "metadata": {},
   "outputs": [
    {
     "data": {
      "text/plain": [
       "0.73304000000000002"
      ]
     },
     "execution_count": 18,
     "metadata": {},
     "output_type": "execute_result"
    }
   ],
   "source": [
    "lambda_ = 1e2\n",
    "w, loss = ridge_regression(tr_y, tr_tx, lambda_)\n",
    "te_y_pred = predict_labels(w, te_tx)\n",
    "calculate_precision(te_y_pred, te_y)"
   ]
  },
  {
   "cell_type": "markdown",
   "metadata": {},
   "source": [
    "0.73304000000000002"
   ]
  },
  {
   "cell_type": "markdown",
   "metadata": {},
   "source": [
    "Get submission:"
   ]
  },
  {
   "cell_type": "code",
   "execution_count": 19,
   "metadata": {},
   "outputs": [],
   "source": [
    "test_y_pred = predict_labels(w, test_poly_tx)\n",
    "create_csv_submission(test_ids, test_y_pred, DATA_PATH+'ridge_submission_upd.csv')"
   ]
  },
  {
   "cell_type": "markdown",
   "metadata": {},
   "source": [
    "# Logistic Regression"
   ]
  },
  {
   "cell_type": "code",
   "execution_count": 20,
   "metadata": {},
   "outputs": [],
   "source": [
    "from implementations import logistic_regression"
   ]
  },
  {
   "cell_type": "code",
   "execution_count": 21,
   "metadata": {},
   "outputs": [],
   "source": [
    "np.random.seed(1)"
   ]
  },
  {
   "cell_type": "code",
   "execution_count": 22,
   "metadata": {},
   "outputs": [],
   "source": [
    "tr_y = tr_Y.T[1]\n",
    "va_y = va_Y.T[1]\n",
    "te_y = te_Y.T[1]"
   ]
  },
  {
   "cell_type": "code",
   "execution_count": 23,
   "metadata": {},
   "outputs": [],
   "source": [
    "initial_w = np.zeros((tr_tx.shape[1], 1))\n",
    "max_iters = 40\n",
    "ws = []\n",
    "losses = []\n",
    "tr_errors = []\n",
    "va_errors = []\n",
    "gammas = np.logspace(-5, -2.5, 10)\n",
    "for gamma in gammas:\n",
    "    w, loss = logistic_regression(tr_y, tr_tx, initial_w, max_iters, gamma)\n",
    "    tr_y_pred = predict_labels_bis(w, tr_tx, return_zeros=True)\n",
    "    va_y_pred = predict_labels_bis(w, va_tx, return_zeros=True)\n",
    "    tr_error = 1 - calculate_precision(tr_y, tr_y_pred, zeros_ones=True)\n",
    "    va_error = 1 - calculate_precision(va_y, va_y_pred, zeros_ones=True)\n",
    "    tr_errors.append(tr_error)\n",
    "    va_errors.append(va_error)\n",
    "    ws.append(w)\n",
    "    losses.append(loss)"
   ]
  },
  {
   "cell_type": "code",
   "execution_count": 24,
   "metadata": {},
   "outputs": [
    {
     "data": {
      "image/png": "[encoded data removed]",
      "text/plain": [
       "<matplotlib.figure.Figure at 0x7f52862bb080>"
      ]
     },
     "metadata": {},
     "output_type": "display_data"
    }
   ],
   "source": [
    "plt.semilogx(gammas, tr_errors)\n",
    "plt.semilogx(gammas, va_errors)\n",
    "plt.show()"
   ]
  },
  {
   "cell_type": "markdown",
   "metadata": {},
   "source": [
    "Final choice:"
   ]
  },
  {
   "cell_type": "code",
   "execution_count": 25,
   "metadata": {},
   "outputs": [],
   "source": [
    "np.random.seed(1)"
   ]
  },
  {
   "cell_type": "code",
   "execution_count": 26,
   "metadata": {},
   "outputs": [],
   "source": [
    "gamma = 1e-3\n",
    "max_iters = 100\n",
    "initial_w = np.zeros((tr_tx.shape[1], 1))\n",
    "w, loss = logistic_regression(tr_y, tr_tx, initial_w, max_iters, gamma)"
   ]
  },
  {
   "cell_type": "markdown",
   "metadata": {},
   "source": [
    "Test it"
   ]
  },
  {
   "cell_type": "code",
   "execution_count": 27,
   "metadata": {},
   "outputs": [
    {
     "data": {
      "text/plain": [
       "0.74981999999999993"
      ]
     },
     "execution_count": 27,
     "metadata": {},
     "output_type": "execute_result"
    }
   ],
   "source": [
    "calculate_precision(predict_labels_bis(w, te_tx, return_zeros=True), te_y, zeros_ones=True)"
   ]
  },
  {
   "cell_type": "markdown",
   "metadata": {},
   "source": [
    "0.74981999999999993"
   ]
  },
  {
   "cell_type": "markdown",
   "metadata": {},
   "source": [
    "Get submission:"
   ]
  },
  {
   "cell_type": "code",
   "execution_count": 28,
   "metadata": {},
   "outputs": [],
   "source": [
    "test_y_pred = predict_labels_bis(w, test_poly_tx)\n",
    "create_csv_submission(test_ids, test_y_pred, DATA_PATH+'lr_submission_upd.csv')"
   ]
  },
  {
   "cell_type": "markdown",
   "metadata": {},
   "source": [
    "# Logistic Regression with adaptive lambda"
   ]
  },
  {
   "cell_type": "code",
   "execution_count": 61,
   "metadata": {},
   "outputs": [],
   "source": [
    "np.random.seed(1)"
   ]
  },
  {
   "cell_type": "code",
   "execution_count": 62,
   "metadata": {},
   "outputs": [],
   "source": [
    "tr_y = tr_Y.T[1]\n",
    "va_y = va_Y.T[1]\n",
    "te_y = te_Y.T[1]"
   ]
  },
  {
   "cell_type": "code",
   "execution_count": 63,
   "metadata": {},
   "outputs": [],
   "source": [
    "def logistic_regression_improved(y, tx, initial_w, max_iters, gamma,\n",
    "    batch_size=1000, return_all=False):\n",
    "    \"\"\"Logistic regression, with adaptive lambda\"\"\"\n",
    "    if len(tx.shape) == 1:\n",
    "        tx = tx.reshape(-1, 1)\n",
    "    if len(y.shape) == 1:\n",
    "        y = y.reshape(-1, 1)\n",
    "    initial_w = np.array(initial_w).reshape(tx.shape[1], 1)\n",
    "    \n",
    "    # init parameters    \n",
    "    w = initial_w\n",
    "    if return_all:\n",
    "        ws = [w]\n",
    "        losses = []\n",
    "\n",
    "    for n_iter in range(max_iters):\n",
    "        # get mini-batch\n",
    "        y_n, tx_n = get_batch(y, tx, batch_size)\n",
    "        # get loss and update w by gradient\n",
    "        loss, w = logistic_by_gd(y_n, tx_n, w, next(gamma))\n",
    "        if return_all:\n",
    "            # store w and loss\n",
    "            ws.append(w)\n",
    "            losses.append(loss)\n",
    "            if n_iter % 100 == 0:\n",
    "                print(\"Current iteration={i}, loss={l}\".format(i=n_iter, l=loss))\n",
    "    # return w and loss, either all or only last ones\n",
    "    if return_all:\n",
    "        return ws, losses\n",
    "    else:\n",
    "        return w, loss"
   ]
  },
  {
   "cell_type": "code",
   "execution_count": 64,
   "metadata": {},
   "outputs": [],
   "source": [
    "initial_w = np.zeros((tr_tx.shape[1], 1))\n",
    "max_iters = 40\n",
    "ws = []\n",
    "losses = []\n",
    "tr_errors = []\n",
    "va_errors = []\n",
    "\n",
    "gammas = [(np.random.uniform(.1,.9), np.random.randint(-4,-2)) for k in range(20)]\n",
    "\n",
    "for g in gammas:\n",
    "    gamma = adaptive_gamma(kappa=g[0], eta0=10**g[1])\n",
    "    w, loss = logistic_regression_improved(tr_y, tr_tx, initial_w, max_iters, gamma)\n",
    "    tr_y_pred = predict_labels_bis(w, tr_tx, return_zeros=True)\n",
    "    va_y_pred = predict_labels_bis(w, va_tx, return_zeros=True)\n",
    "    tr_error = 1 - calculate_precision(tr_y, tr_y_pred, zeros_ones=True)\n",
    "    va_error = 1 - calculate_precision(va_y, va_y_pred, zeros_ones=True)\n",
    "    tr_errors.append(tr_error)\n",
    "    va_errors.append(va_error)\n",
    "    ws.append(w)\n",
    "    losses.append(loss)"
   ]
  },
  {
   "cell_type": "code",
   "execution_count": 65,
   "metadata": {},
   "outputs": [
    {
     "data": {
      "text/plain": [
       "[(0.43361760376205927, -4),\n",
       " (0.846045887470927, -3),\n",
       " (0.3418660581054718, -3),\n",
       " (0.28887118156158087, -3),\n",
       " (0.24900816910213674, -3),\n",
       " (0.635796829442784, -3),\n",
       " (0.5310533872026856, -4),\n",
       " (0.35061881354582014, -4),\n",
       " (0.263561799785214, -4),\n",
       " (0.2836617709838605, -4),\n",
       " (0.6363740081427218, -3),\n",
       " (0.4657638463895907, -3),\n",
       " (0.21230955087618703, -4),\n",
       " (0.7227113890692268, -3),\n",
       " (0.874609260575518, -3),\n",
       " (0.17424064691259034, -3),\n",
       " (0.8011113218368306, -4),\n",
       " (0.7633175258937133, -4),\n",
       " (0.1312438265863059, -3),\n",
       " (0.1473945610412508, -4)]"
      ]
     },
     "execution_count": 65,
     "metadata": {},
     "output_type": "execute_result"
    }
   ],
   "source": [
    "gammas"
   ]
  },
  {
   "cell_type": "code",
   "execution_count": 66,
   "metadata": {},
   "outputs": [
    {
     "data": {
      "text/plain": [
       "[0.33744375000000004,\n",
       " 0.28513125000000006,\n",
       " 0.25940625000000006,\n",
       " 0.25688749999999994,\n",
       " 0.2623875,\n",
       " 0.27257500000000001,\n",
       " 0.33876250000000008,\n",
       " 0.33413749999999998,\n",
       " 0.32946249999999999,\n",
       " 0.33160000000000001,\n",
       " 0.26643749999999999,\n",
       " 0.26458749999999998,\n",
       " 0.32883125000000002,\n",
       " 0.27803124999999995,\n",
       " 0.27839999999999998,\n",
       " 0.26129999999999998,\n",
       " 0.34065624999999999,\n",
       " 0.34056874999999998,\n",
       " 0.25358124999999998,\n",
       " 0.31857500000000005]"
      ]
     },
     "execution_count": 66,
     "metadata": {},
     "output_type": "execute_result"
    }
   ],
   "source": [
    "tr_errors"
   ]
  },
  {
   "cell_type": "code",
   "execution_count": 67,
   "metadata": {},
   "outputs": [
    {
     "data": {
      "text/plain": [
       "[0.33804999999999996,\n",
       " 0.28687499999999999,\n",
       " 0.26255000000000006,\n",
       " 0.26037500000000002,\n",
       " 0.26642500000000002,\n",
       " 0.27564999999999995,\n",
       " 0.33945000000000003,\n",
       " 0.33472499999999994,\n",
       " 0.32994999999999997,\n",
       " 0.33240000000000003,\n",
       " 0.26897499999999996,\n",
       " 0.26772499999999999,\n",
       " 0.32942500000000008,\n",
       " 0.28092499999999998,\n",
       " 0.28167500000000001,\n",
       " 0.26507499999999995,\n",
       " 0.34182500000000005,\n",
       " 0.34172500000000006,\n",
       " 0.25705,\n",
       " 0.319025]"
      ]
     },
     "execution_count": 67,
     "metadata": {},
     "output_type": "execute_result"
    }
   ],
   "source": [
    "va_errors"
   ]
  },
  {
   "cell_type": "markdown",
   "metadata": {},
   "source": [
    "Final choice:"
   ]
  },
  {
   "cell_type": "code",
   "execution_count": 114,
   "metadata": {},
   "outputs": [],
   "source": [
    "np.random.seed(1)"
   ]
  },
  {
   "cell_type": "code",
   "execution_count": 115,
   "metadata": {},
   "outputs": [],
   "source": [
    "initial_w = np.zeros((tr_tx.shape[1], 1))\n",
    "max_iters = 100\n",
    "gamma = adaptive_gamma(kappa=0.1, eta0=1e-3)\n",
    "w, loss = logistic_regression_improved(tr_y, tr_tx, initial_w, max_iters, gamma, batch_size=1000)"
   ]
  },
  {
   "cell_type": "markdown",
   "metadata": {},
   "source": [
    "Test it"
   ]
  },
  {
   "cell_type": "code",
   "execution_count": 116,
   "metadata": {},
   "outputs": [
    {
     "data": {
      "text/plain": [
       "0.74371999999999994"
      ]
     },
     "execution_count": 116,
     "metadata": {},
     "output_type": "execute_result"
    }
   ],
   "source": [
    "calculate_precision(predict_labels_bis(w, te_tx, return_zeros=True), te_y, zeros_ones=True)"
   ]
  },
  {
   "cell_type": "markdown",
   "metadata": {},
   "source": [
    "0.74371999999999994"
   ]
  },
  {
   "cell_type": "markdown",
   "metadata": {},
   "source": [
    "Submission:"
   ]
  },
  {
   "cell_type": "code",
   "execution_count": 77,
   "metadata": {},
   "outputs": [],
   "source": [
    "test_y_pred = predict_labels_bis(w, test_poly_tx)\n",
    "create_csv_submission(test_ids, test_y_pred, DATA_PATH+'lri_submission_upd.csv')"
   ]
  },
  {
   "cell_type": "markdown",
   "metadata": {},
   "source": [
    "# Regularized logistic regression"
   ]
  },
  {
   "cell_type": "code",
   "execution_count": 120,
   "metadata": {},
   "outputs": [],
   "source": [
    "np.random.seed(1)"
   ]
  },
  {
   "cell_type": "code",
   "execution_count": 121,
   "metadata": {},
   "outputs": [],
   "source": [
    "from implementations import reg_logistic_regression"
   ]
  },
  {
   "cell_type": "markdown",
   "metadata": {},
   "source": [
    "Check different gammas and lambdas:"
   ]
  },
  {
   "cell_type": "code",
   "execution_count": 125,
   "metadata": {
    "scrolled": true
   },
   "outputs": [
    {
     "name": "stdout",
     "output_type": "stream",
     "text": [
      "\n",
      "0.0001\n",
      "0.001\n",
      "0.2858\n",
      "\n",
      "0.001\n",
      "0.001\n",
      "0.261375\n",
      "\n",
      "0.01\n",
      "0.001\n",
      "0.254475\n"
     ]
    },
    {
     "name": "stderr",
     "output_type": "stream",
     "text": [
      "/home/lmon/repositories/03-ML/ml2017-proj/project1/scripts/auxiliary_functions.py:96: RuntimeWarning: overflow encountered in exp\n",
      "  # compute the cost\n",
      "/home/lmon/repositories/03-ML/ml2017-proj/project1/scripts/auxiliary_functions.py:108: RuntimeWarning: overflow encountered in exp\n",
      "  # update w\n",
      "/home/lmon/repositories/03-ML/ml2017-proj/project1/scripts/auxiliary_functions.py:109: RuntimeWarning: invalid value encountered in true_divide\n",
      "  w_1 = w\n",
      "/home/lmon/anaconda3/lib/python3.6/site-packages/ipykernel/__main__.py:17: RuntimeWarning: invalid value encountered in less_equal\n",
      "/home/lmon/anaconda3/lib/python3.6/site-packages/ipykernel/__main__.py:20: RuntimeWarning: invalid value encountered in greater\n"
     ]
    },
    {
     "name": "stdout",
     "output_type": "stream",
     "text": [
      "\n",
      "0.0001\n",
      "0.01\n",
      "nan\n",
      "\n",
      "0.001\n",
      "0.01\n",
      "nan\n",
      "\n",
      "0.01\n",
      "0.01\n",
      "nan\n",
      "\n",
      "0.0001\n",
      "0.1\n",
      "nan\n",
      "\n",
      "0.001\n",
      "0.1\n",
      "nan\n",
      "\n",
      "0.01\n",
      "0.1\n",
      "nan\n",
      "\n",
      "0.0001\n",
      "1.0\n",
      "nan\n",
      "\n",
      "0.001\n",
      "1.0\n",
      "nan\n",
      "\n",
      "0.01\n",
      "1.0\n",
      "nan\n",
      "\n",
      "0.0001\n",
      "10.0\n",
      "nan\n",
      "\n",
      "0.001\n",
      "10.0\n",
      "nan\n",
      "\n",
      "0.01\n",
      "10.0\n",
      "nan\n",
      "\n",
      "0.0001\n",
      "100.0\n",
      "nan\n",
      "\n",
      "0.001\n",
      "100.0\n",
      "nan\n",
      "\n",
      "0.01\n",
      "100.0\n",
      "nan\n"
     ]
    }
   ],
   "source": [
    "initial_w = np.zeros((tr_tx.shape[1], 1))\n",
    "max_iters = 20\n",
    "ws=[]\n",
    "tr_errors=[]\n",
    "te_errors=[]\n",
    "losses = []\n",
    "\n",
    "gammas = np.logspace(-5, 5, 11)\n",
    "lambdas = np.logspace(-3, 3, num=7)\n",
    "\n",
    "for gamma in gammas:\n",
    "    for lambda_ in lambdas:\n",
    "        w, loss = reg_logistic_regression(tr_y, tr_tx, lambda_, initial_w, max_iters, gamma, batch_size=2000)        \n",
    "        tr_y_pred = predict_labels_bis(w, tr_tx, return_zeros=True)\n",
    "        va_y_pred = predict_labels_bis(w, va_tx, return_zeros=True)\n",
    "        tr_error = 1 - calculate_precision(tr_y, tr_y_pred, zeros_ones=True)\n",
    "        va_error = 1 - calculate_precision(va_y, va_y_pred, zeros_ones=True)\n",
    "        tr_errors.append(tr_error)\n",
    "        va_errors.append(va_error)\n",
    "        print()\n",
    "        print(lambda_)\n",
    "        print(gamma)\n",
    "        print(va_error)\n",
    "        \n",
    "        ws.append(w)\n",
    "        losses.append(loss)"
   ]
  },
  {
   "cell_type": "markdown",
   "metadata": {},
   "source": [
    "Final choice:"
   ]
  },
  {
   "cell_type": "code",
   "execution_count": 127,
   "metadata": {},
   "outputs": [],
   "source": [
    "np.random.seed(1)\n",
    "\n",
    "gamma = .001\n",
    "lambda_ = .01\n",
    "max_iters = 100\n",
    "initial_w = np.zeros((tr_tx.shape[1], 1))\n",
    "w, loss = reg_logistic_regression(tr_y, tr_tx, lambda_, initial_w, max_iters,\n",
    "    gamma, batch_size=2000)"
   ]
  },
  {
   "cell_type": "markdown",
   "metadata": {},
   "source": [
    "Test it:"
   ]
  },
  {
   "cell_type": "code",
   "execution_count": 128,
   "metadata": {},
   "outputs": [
    {
     "data": {
      "text/plain": [
       "0.75375999999999999"
      ]
     },
     "execution_count": 128,
     "metadata": {},
     "output_type": "execute_result"
    }
   ],
   "source": [
    "calculate_precision(predict_labels_bis(w, te_tx, return_zeros=True), te_y, zeros_ones=True)"
   ]
  },
  {
   "cell_type": "markdown",
   "metadata": {},
   "source": [
    "# Improved regularized logistic regression with adaptive gamma"
   ]
  },
  {
   "cell_type": "code",
   "execution_count": 85,
   "metadata": {},
   "outputs": [],
   "source": [
    "np.random.seed(1)"
   ]
  },
  {
   "cell_type": "code",
   "execution_count": 86,
   "metadata": {},
   "outputs": [],
   "source": [
    "def reg_logistic_regression_improved(y, tx, lambda_, initial_w, max_iters,\n",
    "    gamma, batch_size=1000, return_all=False):\n",
    "    \"\"\"Regularized logistic regression using mini-batch gradient descent.\n",
    "    Uses adaptive lambda and does not penalize offset.\"\"\"\n",
    "    if len(tx.shape) == 1:\n",
    "        tx = tx.reshape(-1, 1)\n",
    "    if len(y.shape) == 1:\n",
    "        y = y.reshape(-1, 1)\n",
    "    initial_w = np.array(initial_w).reshape(tx.shape[1], 1)\n",
    "\n",
    "    # init parameters\n",
    "    w = initial_w\n",
    "    if return_all:\n",
    "        ws = [w]\n",
    "        losses = []\n",
    "\n",
    "    for n_iter in range(max_iters):\n",
    "        # get mini-batch\n",
    "        y_n, tx_n = get_batch(y, tx, batch_size)\n",
    "        # get loss and update w by gradient\n",
    "        loss, w = reg_logistic_by_gd(y_n, tx_n, lambda_, w, next(gamma), False)\n",
    "        if return_all:\n",
    "            # store w and loss\n",
    "            ws.append(w)\n",
    "            losses.append(loss)\n",
    "            if n_iter % 100 == 0:\n",
    "                print(\"Current iteration={i}, loss={l}\".format(i=n_iter, l=loss))\n",
    "    # return w and loss, either all or only last ones\n",
    "    if return_all:\n",
    "        return ws, losses\n",
    "    else:\n",
    "        return w, loss"
   ]
  },
  {
   "cell_type": "markdown",
   "metadata": {},
   "source": [
    "Check different gammas and lambdas:"
   ]
  },
  {
   "cell_type": "code",
   "execution_count": 91,
   "metadata": {
    "scrolled": true
   },
   "outputs": [
    {
     "name": "stdout",
     "output_type": "stream",
     "text": [
      "\n",
      "0.001\n",
      "(0.4144666096098798, -3)\n",
      "0.268275\n",
      "\n",
      "0.01\n",
      "(0.4144666096098798, -3)\n",
      "0.26645\n",
      "\n",
      "0.1\n",
      "(0.4144666096098798, -3)\n",
      "0.262625\n",
      "\n",
      "1.0\n",
      "(0.4144666096098798, -3)\n",
      "0.2603\n",
      "\n",
      "10.0\n",
      "(0.4144666096098798, -3)\n",
      "0.2692\n",
      "\n",
      "100.0\n",
      "(0.4144666096098798, -3)\n",
      "0.280125\n",
      "\n",
      "1000.0\n",
      "(0.4144666096098798, -3)\n",
      "0.34275\n",
      "\n",
      "0.001\n",
      "(0.6779804887602191, -2)\n",
      "0.21955\n",
      "\n",
      "0.01\n",
      "(0.6779804887602191, -2)\n",
      "0.22105\n",
      "\n",
      "0.1\n",
      "(0.6779804887602191, -2)\n",
      "0.2247\n",
      "\n",
      "1.0\n",
      "(0.6779804887602191, -2)\n",
      "0.224975\n",
      "\n",
      "10.0\n",
      "(0.6779804887602191, -2)\n",
      "0.237125\n",
      "\n",
      "100.0\n",
      "(0.6779804887602191, -2)\n",
      "0.25385\n"
     ]
    },
    {
     "name": "stderr",
     "output_type": "stream",
     "text": [
      "/home/lmon/anaconda3/lib/python3.6/site-packages/ipykernel/__main__.py:15: RuntimeWarning: overflow encountered in exp\n",
      "/home/lmon/repositories/03-ML/ml2017-proj/project1/scripts/auxiliary_functions.py:108: RuntimeWarning: overflow encountered in exp\n",
      "  # update w\n",
      "/home/lmon/repositories/03-ML/ml2017-proj/project1/scripts/auxiliary_functions.py:109: RuntimeWarning: invalid value encountered in true_divide\n",
      "  w_1 = w\n",
      "/home/lmon/anaconda3/lib/python3.6/site-packages/ipykernel/__main__.py:17: RuntimeWarning: invalid value encountered in less_equal\n",
      "/home/lmon/anaconda3/lib/python3.6/site-packages/ipykernel/__main__.py:20: RuntimeWarning: invalid value encountered in greater\n"
     ]
    },
    {
     "name": "stdout",
     "output_type": "stream",
     "text": [
      "\n",
      "1000.0\n",
      "(0.6779804887602191, -2)\n",
      "nan\n",
      "\n",
      "0.001\n",
      "(0.6298227205333596, -2)\n",
      "0.217975\n",
      "\n",
      "0.01\n",
      "(0.6298227205333596, -2)\n",
      "0.2279\n",
      "\n",
      "0.1\n",
      "(0.6298227205333596, -2)\n",
      "0.224025\n",
      "\n",
      "1.0\n",
      "(0.6298227205333596, -2)\n",
      "0.2456\n",
      "\n",
      "10.0\n",
      "(0.6298227205333596, -2)\n",
      "0.2233\n",
      "\n",
      "100.0\n",
      "(0.6298227205333596, -2)\n",
      "0.26695\n",
      "\n",
      "1000.0\n",
      "(0.6298227205333596, -2)\n",
      "nan\n",
      "\n",
      "0.001\n",
      "(0.548120153411696, -3)\n",
      "0.270675\n",
      "\n",
      "0.01\n",
      "(0.548120153411696, -3)\n",
      "0.2721\n",
      "\n",
      "0.1\n",
      "(0.548120153411696, -3)\n",
      "0.2683\n",
      "\n",
      "1.0\n",
      "(0.548120153411696, -3)\n",
      "0.270675\n",
      "\n",
      "10.0\n",
      "(0.548120153411696, -3)\n",
      "0.2693\n",
      "\n",
      "100.0\n",
      "(0.548120153411696, -3)\n",
      "0.287725\n",
      "\n",
      "1000.0\n",
      "(0.548120153411696, -3)\n",
      "0.341525\n",
      "\n",
      "0.001\n",
      "(0.40848324300629346, -2)\n",
      "0.27885\n",
      "\n",
      "0.01\n",
      "(0.40848324300629346, -2)\n",
      "0.268725\n",
      "\n",
      "0.1\n",
      "(0.40848324300629346, -2)\n",
      "0.2666\n",
      "\n",
      "1.0\n",
      "(0.40848324300629346, -2)\n",
      "0.24485\n",
      "\n",
      "10.0\n",
      "(0.40848324300629346, -2)\n",
      "0.275975\n",
      "\n",
      "100.0\n",
      "(0.40848324300629346, -2)\n",
      "0.338675\n",
      "\n",
      "1000.0\n",
      "(0.40848324300629346, -2)\n",
      "nan\n",
      "\n",
      "0.001\n",
      "(0.6510415341636413, -2)\n",
      "0.239025\n",
      "\n",
      "0.01\n",
      "(0.6510415341636413, -2)\n",
      "0.22145\n",
      "\n",
      "0.1\n",
      "(0.6510415341636413, -2)\n",
      "0.223\n",
      "\n",
      "1.0\n",
      "(0.6510415341636413, -2)\n",
      "0.230975\n",
      "\n",
      "10.0\n",
      "(0.6510415341636413, -2)\n",
      "0.227175\n",
      "\n",
      "100.0\n",
      "(0.6510415341636413, -2)\n",
      "0.317475\n",
      "\n",
      "1000.0\n",
      "(0.6510415341636413, -2)\n",
      "nan\n",
      "\n",
      "0.001\n",
      "(0.70915007011796, -2)\n",
      "0.221525\n",
      "\n",
      "0.01\n",
      "(0.70915007011796, -2)\n",
      "0.224725\n",
      "\n",
      "0.1\n",
      "(0.70915007011796, -2)\n",
      "0.21995\n",
      "\n",
      "1.0\n",
      "(0.70915007011796, -2)\n",
      "0.2184\n",
      "\n",
      "10.0\n",
      "(0.70915007011796, -2)\n",
      "0.225375\n",
      "\n",
      "100.0\n",
      "(0.70915007011796, -2)\n",
      "0.251675\n",
      "\n",
      "1000.0\n",
      "(0.70915007011796, -2)\n",
      "nan\n",
      "\n",
      "0.001\n",
      "(0.06817964428719923, -2)\n",
      "nan\n",
      "\n",
      "0.01\n",
      "(0.06817964428719923, -2)\n",
      "nan\n",
      "\n",
      "0.1\n",
      "(0.06817964428719923, -2)\n",
      "0.29675\n",
      "\n",
      "1.0\n",
      "(0.06817964428719923, -2)\n",
      "0.333125\n",
      "\n",
      "10.0\n",
      "(0.06817964428719923, -2)\n",
      "0.30165\n",
      "\n",
      "100.0\n",
      "(0.06817964428719923, -2)\n",
      "nan\n",
      "\n",
      "1000.0\n",
      "(0.06817964428719923, -2)\n",
      "nan\n",
      "\n",
      "0.001\n",
      "(0.6063805305703175, -3)\n",
      "0.270675\n",
      "\n",
      "0.01\n",
      "(0.6063805305703175, -3)\n",
      "0.277225\n",
      "\n",
      "0.1\n",
      "(0.6063805305703175, -3)\n",
      "0.263425\n",
      "\n",
      "1.0\n",
      "(0.6063805305703175, -3)\n",
      "0.27295\n",
      "\n",
      "10.0\n",
      "(0.6063805305703175, -3)\n",
      "0.275625\n",
      "\n",
      "100.0\n",
      "(0.6063805305703175, -3)\n",
      "0.2835\n",
      "\n",
      "1000.0\n",
      "(0.6063805305703175, -3)\n",
      "0.33955\n",
      "\n",
      "0.001\n",
      "(0.149331727567769, -3)\n",
      "0.26065\n",
      "\n",
      "0.01\n",
      "(0.149331727567769, -3)\n",
      "0.258725\n",
      "\n",
      "0.1\n",
      "(0.149331727567769, -3)\n",
      "0.2532\n",
      "\n",
      "1.0\n",
      "(0.149331727567769, -3)\n",
      "0.2602\n",
      "\n",
      "10.0\n",
      "(0.149331727567769, -3)\n",
      "0.2515\n",
      "\n",
      "100.0\n",
      "(0.149331727567769, -3)\n",
      "0.287075\n",
      "\n",
      "1000.0\n",
      "(0.149331727567769, -3)\n",
      "0.31225\n"
     ]
    }
   ],
   "source": [
    "initial_w = np.zeros((tr_tx.shape[1], 1))\n",
    "max_iters = 20\n",
    "ws=[]\n",
    "tr_errors=[]\n",
    "te_errors=[]\n",
    "losses = []\n",
    "\n",
    "gammas = [(np.random.uniform(.05,.9), np.random.randint(-3,-1)) for k in range(10)]\n",
    "lambdas = np.logspace(-3, 3, num=7)\n",
    "\n",
    "for g in gammas:\n",
    "    for lambda_ in lambdas:\n",
    "        gamma = adaptive_gamma(kappa=g[0], eta0=10**g[1])\n",
    "        w, loss = reg_logistic_regression_improved(tr_y, tr_tx, lambda_, initial_w, max_iters, gamma)        \n",
    "        tr_y_pred = predict_labels_bis(w, tr_tx, return_zeros=True)\n",
    "        va_y_pred = predict_labels_bis(w, va_tx, return_zeros=True)\n",
    "        tr_error = 1 - calculate_precision(tr_y, tr_y_pred, zeros_ones=True)\n",
    "        va_error = 1 - calculate_precision(va_y, va_y_pred, zeros_ones=True)\n",
    "        tr_errors.append(tr_error)\n",
    "        va_errors.append(va_error)\n",
    "        print()\n",
    "        print(lambda_)\n",
    "        print(g)\n",
    "        print(va_error)\n",
    "        \n",
    "        ws.append(w)\n",
    "        losses.append(loss)"
   ]
  },
  {
   "cell_type": "markdown",
   "metadata": {},
   "source": [
    "Repeat in a smaller range of parameters:"
   ]
  },
  {
   "cell_type": "code",
   "execution_count": 93,
   "metadata": {},
   "outputs": [
    {
     "name": "stdout",
     "output_type": "stream",
     "text": [
      "\n",
      "0.001\n",
      "(0.7811277484042665, -2)\n",
      "0.2201\n",
      "\n",
      "0.0215443469003\n",
      "(0.7811277484042665, -2)\n",
      "0.21995\n",
      "\n",
      "0.464158883361\n",
      "(0.7811277484042665, -2)\n",
      "0.22475\n",
      "\n",
      "10.0\n",
      "(0.7811277484042665, -2)\n",
      "0.233375\n",
      "\n",
      "0.001\n",
      "(0.6805780148797523, -2)\n",
      "0.23775\n",
      "\n",
      "0.0215443469003\n",
      "(0.6805780148797523, -2)\n",
      "0.22325\n",
      "\n",
      "0.464158883361\n",
      "(0.6805780148797523, -2)\n",
      "0.237525\n",
      "\n",
      "10.0\n",
      "(0.6805780148797523, -2)\n",
      "0.245475\n",
      "\n",
      "0.001\n",
      "(0.7382012836849072, -2)\n",
      "0.220675\n",
      "\n",
      "0.0215443469003\n",
      "(0.7382012836849072, -2)\n",
      "0.224975\n",
      "\n",
      "0.464158883361\n",
      "(0.7382012836849072, -2)\n",
      "0.215625\n",
      "\n",
      "10.0\n",
      "(0.7382012836849072, -2)\n",
      "0.253975\n",
      "\n",
      "0.001\n",
      "(0.7547460441047553, -2)\n",
      "0.215825\n",
      "\n",
      "0.0215443469003\n",
      "(0.7547460441047553, -2)\n",
      "0.22\n",
      "\n",
      "0.464158883361\n",
      "(0.7547460441047553, -2)\n",
      "0.22135\n",
      "\n",
      "10.0\n",
      "(0.7547460441047553, -2)\n",
      "0.238425\n"
     ]
    },
    {
     "name": "stderr",
     "output_type": "stream",
     "text": [
      "/home/lmon/anaconda3/lib/python3.6/site-packages/ipykernel/__main__.py:15: RuntimeWarning: overflow encountered in exp\n",
      "/home/lmon/repositories/03-ML/ml2017-proj/project1/scripts/auxiliary_functions.py:108: RuntimeWarning: overflow encountered in exp\n",
      "  # update w\n",
      "/home/lmon/repositories/03-ML/ml2017-proj/project1/scripts/auxiliary_functions.py:109: RuntimeWarning: invalid value encountered in true_divide\n",
      "  w_1 = w\n",
      "/home/lmon/anaconda3/lib/python3.6/site-packages/ipykernel/__main__.py:17: RuntimeWarning: invalid value encountered in less_equal\n",
      "/home/lmon/anaconda3/lib/python3.6/site-packages/ipykernel/__main__.py:20: RuntimeWarning: invalid value encountered in greater\n"
     ]
    },
    {
     "name": "stdout",
     "output_type": "stream",
     "text": [
      "\n",
      "0.001\n",
      "(0.7024348800263576, -2)\n",
      "nan\n",
      "\n",
      "0.0215443469003\n",
      "(0.7024348800263576, -2)\n",
      "0.229125\n",
      "\n",
      "0.464158883361\n",
      "(0.7024348800263576, -2)\n",
      "0.2271\n",
      "\n",
      "10.0\n",
      "(0.7024348800263576, -2)\n",
      "0.242975\n",
      "\n",
      "0.001\n",
      "(0.6326542261454162, -2)\n",
      "0.220125\n",
      "\n",
      "0.0215443469003\n",
      "(0.6326542261454162, -2)\n",
      "0.2179\n",
      "\n",
      "0.464158883361\n",
      "(0.6326542261454162, -2)\n",
      "0.227325\n",
      "\n",
      "10.0\n",
      "(0.6326542261454162, -2)\n",
      "0.247\n",
      "\n",
      "0.001\n",
      "(0.6789481107794665, -2)\n",
      "0.222325\n",
      "\n",
      "0.0215443469003\n",
      "(0.6789481107794665, -2)\n",
      "0.2295\n",
      "\n",
      "0.464158883361\n",
      "(0.6789481107794665, -2)\n",
      "0.218\n",
      "\n",
      "10.0\n",
      "(0.6789481107794665, -2)\n",
      "0.24185\n",
      "\n",
      "0.001\n",
      "(0.7433874619669785, -2)\n",
      "nan\n",
      "\n",
      "0.0215443469003\n",
      "(0.7433874619669785, -2)\n",
      "0.222475\n",
      "\n",
      "0.464158883361\n",
      "(0.7433874619669785, -2)\n",
      "0.2296\n",
      "\n",
      "10.0\n",
      "(0.7433874619669785, -2)\n",
      "0.2443\n",
      "\n",
      "0.001\n",
      "(0.6991490849407433, -2)\n",
      "0.22505\n",
      "\n",
      "0.0215443469003\n",
      "(0.6991490849407433, -2)\n",
      "0.23825\n",
      "\n",
      "0.464158883361\n",
      "(0.6991490849407433, -2)\n",
      "0.22805\n",
      "\n",
      "10.0\n",
      "(0.6991490849407433, -2)\n",
      "0.257125\n",
      "\n",
      "0.001\n",
      "(0.5424729465111501, -2)\n",
      "0.22085\n",
      "\n",
      "0.0215443469003\n",
      "(0.5424729465111501, -2)\n",
      "0.228125\n",
      "\n",
      "0.464158883361\n",
      "(0.5424729465111501, -2)\n",
      "0.24155\n",
      "\n",
      "10.0\n",
      "(0.5424729465111501, -2)\n",
      "0.254025\n"
     ]
    }
   ],
   "source": [
    "initial_w = np.zeros((tr_tx.shape[1], 1))\n",
    "max_iters = 40\n",
    "ws=[]\n",
    "tr_errors=[]\n",
    "te_errors=[]\n",
    "losses = []\n",
    "\n",
    "gammas = [(np.random.uniform(.5,.8), -2) for k in range(10)]\n",
    "lambdas = np.logspace(-3, 1, num=4)\n",
    "\n",
    "for g in gammas:\n",
    "    for lambda_ in lambdas:\n",
    "        gamma = adaptive_gamma(kappa=g[0], eta0=10**g[1])\n",
    "        w, loss = reg_logistic_regression_improved(tr_y, tr_tx, lambda_, initial_w, max_iters, gamma)        \n",
    "        tr_y_pred = predict_labels_bis(w, tr_tx, return_zeros=True)\n",
    "        va_y_pred = predict_labels_bis(w, va_tx, return_zeros=True)\n",
    "        tr_error = 1 - calculate_precision(tr_y, tr_y_pred, zeros_ones=True)\n",
    "        va_error = 1 - calculate_precision(va_y, va_y_pred, zeros_ones=True)\n",
    "        tr_errors.append(tr_error)\n",
    "        va_errors.append(va_error)\n",
    "        print()\n",
    "        print(lambda_)\n",
    "        print(g)\n",
    "        print(va_error)\n",
    "        \n",
    "        ws.append(w)\n",
    "        losses.append(loss)"
   ]
  },
  {
   "cell_type": "markdown",
   "metadata": {},
   "source": [
    "Final choice:"
   ]
  },
  {
   "cell_type": "code",
   "execution_count": 94,
   "metadata": {},
   "outputs": [],
   "source": [
    "np.random.seed(1)\n",
    "\n",
    "initial_w = np.zeros((tr_tx.shape[1], 1))\n",
    "max_iters = 200\n",
    "gamma = adaptive_gamma(kappa=0.7, eta0=1e-2)\n",
    "lambda_= 0.1\n",
    "w, loss = reg_logistic_regression_improved(tr_y, tr_tx, lambda_, initial_w,\n",
    "                                           max_iters, gamma)"
   ]
  },
  {
   "cell_type": "markdown",
   "metadata": {},
   "source": [
    "Test it:"
   ]
  },
  {
   "cell_type": "code",
   "execution_count": 95,
   "metadata": {},
   "outputs": [
    {
     "data": {
      "text/plain": [
       "0.75394000000000005"
      ]
     },
     "execution_count": 95,
     "metadata": {},
     "output_type": "execute_result"
    }
   ],
   "source": [
    "calculate_precision(predict_labels_bis(w, te_tx, return_zeros=True), te_y, zeros_ones=True)"
   ]
  },
  {
   "cell_type": "markdown",
   "metadata": {},
   "source": [
    "0.75394000000000005"
   ]
  },
  {
   "cell_type": "code",
   "execution_count": 96,
   "metadata": {},
   "outputs": [],
   "source": [
    "test_y_pred = predict_labels_bis(w, test_poly_tx)\n",
    "create_csv_submission(test_ids, test_y_pred, DATA_PATH+'rlri_submission_upd.csv')"
   ]
  },
  {
   "cell_type": "markdown",
   "metadata": {},
   "source": [
    "# Cross validation"
   ]
  },
  {
   "cell_type": "markdown",
   "metadata": {},
   "source": [
    "Ridge regression using k-fold"
   ]
  },
  {
   "cell_type": "code",
   "execution_count": null,
   "metadata": {},
   "outputs": [],
   "source": [
    "def build_k_indices(y, k_fold, seed):\n",
    "    '''\n",
    "    Build k indices for k-fold.\n",
    "    '''\n",
    "    num_row = y.shape[0]\n",
    "    interval = int(num_row / k_fold)\n",
    "    np.random.seed(seed)\n",
    "    indices = np.random.permutation(num_row)\n",
    "    k_indices = [indices[k * interval: (k + 1) * interval]\n",
    "                 for k in range(k_fold)]\n",
    "    return np.array(k_indices)\n",
    "\n",
    "def split_data_k_indices(y, x, k_indices, k):\n",
    "    '''\n",
    "    Splits the data into test and training data.\n",
    "    Samples get randomized through 'k_indices' and\n",
    "    selected through 'k'.\n",
    "    '''\n",
    "    mask = np.ones(k_indices.shape, dtype=bool)\n",
    "    mask[k] = False\n",
    "    \n",
    "    # Test data\n",
    "    x_test = x[k_indices[k]]\n",
    "    y_test = y[k_indices[k]]\n",
    "    \n",
    "    # Train data\n",
    "    x_train = x[k_indices[mask]]\n",
    "    y_train = y[k_indices[mask]]\n",
    "    \n",
    "    return x_test, y_test, x_train, y_train"
   ]
  },
  {
   "cell_type": "code",
   "execution_count": null,
   "metadata": {},
   "outputs": [],
   "source": [
    "def cross_validation(y, x, k_indices, k, lambda_, degree):\n",
    "    '''\n",
    "    Return the loss of ridge regression.\n",
    "    '''\n",
    "    # Split data according to 'k_indices' and 'k'\n",
    "    x_test, y_test, x_train, y_train = split_data_k_indices(y, x, k_indices, k)\n",
    "\n",
    "    # Form data with polynomial degree\n",
    "    # tx_test = build_poly(x_test, degree)\n",
    "    # tx_train = build_poly(x_train, degree)\n",
    "\n",
    "    # Apply ridge regression\n",
    "    w_opt, rmse_train = ridge_regression(y_train, x_train, lambda_)\n",
    "    \n",
    "    prediction = {\n",
    "        'train': predict_labels(w_opt, x_train),\n",
    "        'test': predict_labels(w_opt, x_test)\n",
    "    } \n",
    "    \n",
    "    precision = {\n",
    "        'train': calculate_precision(prediction['train'], y_train),\n",
    "        'test': calculate_precision(prediction['test'], y_test)\n",
    "    }\n",
    "    \n",
    "    # Return loss for train and test data\n",
    "    return precision['train'], precision['test']"
   ]
  },
  {
   "cell_type": "code",
   "execution_count": null,
   "metadata": {},
   "outputs": [],
   "source": [
    "def cross_validation_visualization(lambds, mse_tr, mse_te, mse_dif):\n",
    "    \"\"\"visualization the curves of mse_tr and mse_te.\"\"\"\n",
    "    plt.semilogx(lambds, mse_tr, marker=\".\", color='b', label='train error')\n",
    "    plt.semilogx(lambds, mse_te, marker=\".\", color='r', label='test error')\n",
    "    plt.semilogx(lambds, mse_dif, marker=\".\", color='y', label='error delta')\n",
    "    plt.xlabel(\"lambda\")\n",
    "    plt.ylabel(\"rmse\")\n",
    "    plt.title(\"cross validation\")\n",
    "    plt.legend(loc=2)\n",
    "    plt.grid(True)\n",
    "    plt.show()"
   ]
  },
  {
   "cell_type": "code",
   "execution_count": null,
   "metadata": {},
   "outputs": [],
   "source": [
    "degree = 7\n",
    "k_fold = 3\n",
    "seed = 13\n",
    "\n",
    "lambdas = np.logspace(-40, 40, 30)\n",
    "\n",
    "# split data in k fold\n",
    "k_indices = build_k_indices(y, k_fold, seed)\n",
    "\n",
    "lambda_avg_rmse_trs = []\n",
    "lambda_avg_rmse_tes = []\n",
    "lambda_avg_rmse_difs = []\n",
    "\n",
    "for lambda_ in lambdas:\n",
    "    \n",
    "    rmse_trs = []\n",
    "    rmse_tes = []\n",
    "    rmse_difs = []\n",
    "\n",
    "    # K-fold cross validation and pick the rmse 'test' and 'train'\n",
    "    # errors that represent the least absolute difference between\n",
    "    # them (for a given lambda).\n",
    "    for k in range(k_fold):\n",
    "        rmse_cur_tr, rmse_cur_te = cross_validation(y, x, k_indices, k, lambda_, degree)\n",
    "        \n",
    "        rmse_trs.append(rmse_cur_tr)\n",
    "        rmse_tes.append(rmse_cur_te)\n",
    "        rmse_difs.append(abs(rmse_cur_tr - rmse_cur_te))\n",
    "        \n",
    "    lambda_avg_rmse_trs.append(np.mean(rmse_trs))\n",
    "    lambda_avg_rmse_tes.append(np.mean(rmse_tes))\n",
    "    lambda_avg_rmse_difs.append(np.mean(rmse_difs))\n",
    "\n",
    "cross_validation_visualization(lambdas, lambda_avg_rmse_trs, lambda_avg_rmse_tes, lambda_avg_rmse_difs)"
   ]
  },
  {
   "cell_type": "markdown",
   "metadata": {},
   "source": [
    "Read test data"
   ]
  },
  {
   "cell_type": "code",
   "execution_count": null,
   "metadata": {},
   "outputs": [],
   "source": [
    "test_yb, test_input_data, test_ids = load_csv_data(DATA_PATH+'test.csv')"
   ]
  },
  {
   "cell_type": "markdown",
   "metadata": {},
   "source": [
    "Predict labels:"
   ]
  },
  {
   "cell_type": "code",
   "execution_count": null,
   "metadata": {},
   "outputs": [],
   "source": [
    "test_y_pred = predict_labels(w_opt, test_input_data)"
   ]
  },
  {
   "cell_type": "markdown",
   "metadata": {},
   "source": [
    "Create submission:"
   ]
  },
  {
   "cell_type": "code",
   "execution_count": null,
   "metadata": {},
   "outputs": [],
   "source": [
    "create_csv_submission(test_ids, test_y_pred, DATA_PATH+'submission.csv')"
   ]
  },
  {
   "cell_type": "code",
   "execution_count": null,
   "metadata": {},
   "outputs": [],
   "source": []
  }
 ],
 "metadata": {
  "kernelspec": {
   "display_name": "Python [conda root]",
   "language": "python",
   "name": "conda-root-py"
  },
  "language_info": {
   "codemirror_mode": {
    "name": "ipython",
    "version": 3
   },
   "file_extension": ".py",
   "mimetype": "text/x-python",
   "name": "python",
   "nbconvert_exporter": "python",
   "pygments_lexer": "ipython3",
   "version": "3.6.1"
  }
 },
 "nbformat": 4,
 "nbformat_minor": 2
}
