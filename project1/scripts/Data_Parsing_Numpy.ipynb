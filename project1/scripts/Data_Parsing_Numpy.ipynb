{
 "cells": [
  {
   "cell_type": "markdown",
   "metadata": {},
   "source": [
    "# Parsing data using Numpy"
   ]
  },
  {
   "cell_type": "code",
   "execution_count": 1,
   "metadata": {
    "collapsed": true
   },
   "outputs": [],
   "source": [
    "import numpy as np\n",
    "import csv\n",
    "import copy"
   ]
  },
  {
   "cell_type": "code",
   "execution_count": 2,
   "metadata": {
    "collapsed": true
   },
   "outputs": [],
   "source": [
    "IN_TEST_DATA_PATH = '../data/test.csv'\n",
    "IN_TRAIN_DATA_PATH = '../data/train.csv'\n",
    "\n",
    "OUT_TEST_DATA_PATH = '../data/test_fixed.csv'\n",
    "OUT_TRAIN_DATA_PATH = '../data/train_fixed.csv'"
   ]
  },
  {
   "cell_type": "code",
   "execution_count": 3,
   "metadata": {
    "collapsed": true
   },
   "outputs": [],
   "source": [
    "test_csv_reader = csv.reader(open(IN_TEST_DATA_PATH))\n",
    "train_csv_reader = csv.reader(open(IN_TRAIN_DATA_PATH))"
   ]
  },
  {
   "cell_type": "code",
   "execution_count": 4,
   "metadata": {},
   "outputs": [],
   "source": [
    "class DataFrame:\n",
    "    '''\n",
    "    This class is used as a data-container,\n",
    "    representeing column-organized information\n",
    "    read from csv files.\n",
    "    '''\n",
    "    column_labels = {}\n",
    "    data = None\n",
    "    \n",
    "    def __init__(self, csv_path):\n",
    "        \n",
    "        temp_data = None\n",
    "        \n",
    "        with open(csv_path) as csv_file:\n",
    "            csv_reader =  csv.reader(csv_file)\n",
    "            n_rows = sum(1 for row in csv_reader)\n",
    "        \n",
    "            # Reset reader's head pointer\n",
    "            csv_file.seek(0)\n",
    "            \n",
    "            for row_idx, row in enumerate(csv_reader):\n",
    "                if (row_idx == 0):\n",
    "                    \n",
    "                    # Fill in dictionary with (column_name:column_index)\n",
    "                    for column_idx, column_label in enumerate(row):\n",
    "                        self.column_labels[column_label] = column_idx\n",
    "                    temp_data = [[0 for x in range(n_rows-1)] for y in range(len(self.column_labels))]\n",
    "                else:\n",
    "                    \n",
    "                    # Fill data in a column-oriented fashion\n",
    "                    for column_idx, column_value in enumerate(row):\n",
    "                        temp_data[column_idx][row_idx-1] = column_value\n",
    "        \n",
    "        # Store all the data into an 'ndarray'\n",
    "        self.data = np.array(temp_data)\n",
    "    \n",
    "    # targets have to be labels, not indices\n",
    "    def get_columns(self, targets):\n",
    "        '''\n",
    "        Returns a copy the desired columns' data as a \n",
    "        list of Column objects.\n",
    "        '''\n",
    "        columns = []\n",
    "        \n",
    "        if all(isinstance(label, str) for label in targets):\n",
    "            columns = [Column(label, self.data[self.column_labels[label],:]) for label in targets]\n",
    "            \n",
    "        return columns\n",
    "    \n",
    "    # target_axix=0 is columns, target_axix=1 is rows\n",
    "    def drop(self, targets, target_axis=0):\n",
    "        '''\n",
    "        Returns a new DataFrame without the\n",
    "        dropped columns/rows.\n",
    "        '''\n",
    "        dataframe_clone = self.__clone()\n",
    "        dataframe_offset = len(targets)\n",
    "        \n",
    "        # All elements in the list are indexes\n",
    "        if all(isinstance(index, int) for index in targets):\n",
    "            dropable_keys = [key for key in dataframe_clone.column_labels if dataframe_clone.column_labels[key] in targets]\n",
    "            dataframe_clone.data = np.delete(dataframe_clone.data, [dataframe_clone.column_labels.pop(label) for label in dropable_keys], axis=target_axis)\n",
    "            dataframe_clone.column_labels = {k: v-dataframe_offset for k, v in dataframe_clone.items()}\n",
    "        \n",
    "        # All elements in the list are labels\n",
    "        elif all(isinstance(label, str) for label in targets) and target_axis == 0:\n",
    "            dataframe_clone.data = np.delete(dataframe_clone.data, [dataframe_clone.column_labels.pop(label) for label in targets], axis=target_axis)\n",
    "            dataframe_clone.column_labels = {k: v-dataframe_offset for k, v in dataframe_clone.column_labels.items()}\n",
    "        \n",
    "        return dataframe_clone\n",
    "    \n",
    "    def corr(self):\n",
    "        '''\n",
    "        Returns a 2D matrix with the correlation\n",
    "        coeficients between all of the columns.\n",
    "        '''\n",
    "        return np.corrcoef(self.data)\n",
    "    \n",
    "    def set_type(self, target_type):\n",
    "        '''\n",
    "        Attempts to change the DataFrame's data\n",
    "        type to a single type (target_type). The\n",
    "        returned DataFrame is a copy of 'self'.\n",
    "        '''\n",
    "        dataframe_clone = self.__clone()\n",
    "        dataframe_clone.data = dataframe_clone.data.astype(target_type)\n",
    "        return dataframe_clone\n",
    "    \n",
    "    def __clone(self):\n",
    "        '''\n",
    "        Creates and returns a clone of the current\n",
    "        DataFrame object (creating a deep copy of\n",
    "        all its components).\n",
    "        '''\n",
    "        dataframe_clone = copy.deepcopy(self)\n",
    "        dataframe_clone.column_labels = copy.deepcopy(self.column_labels)\n",
    "        dataframe_clone.data = copy.deepcopy(self.data)\n",
    "        return dataframe_clone\n",
    "    \n",
    "class Column:\n",
    "    label = None\n",
    "    values = None\n",
    "    \n",
    "    def __init__(self, label, values):\n",
    "        self.label = label\n",
    "        self.values = values"
   ]
  },
  {
   "cell_type": "code",
   "execution_count": 5,
   "metadata": {},
   "outputs": [],
   "source": [
    "test_df = DataFrame(IN_TEST_DATA_PATH)\n",
    "train_df = DataFrame(IN_TRAIN_DATA_PATH)"
   ]
  },
  {
   "cell_type": "code",
   "execution_count": 6,
   "metadata": {},
   "outputs": [],
   "source": [
    "corr_df = test_df.drop(['Id', 'Prediction']).set_type(float).corr()"
   ]
  },
  {
   "cell_type": "code",
   "execution_count": null,
   "metadata": {
    "collapsed": true
   },
   "outputs": [],
   "source": []
  }
 ],
 "metadata": {
  "kernelspec": {
   "display_name": "Python 3",
   "language": "python",
   "name": "python3"
  },
  "language_info": {
   "codemirror_mode": {
    "name": "ipython",
    "version": 3
   },
   "file_extension": ".py",
   "mimetype": "text/x-python",
   "name": "python",
   "nbconvert_exporter": "python",
   "pygments_lexer": "ipython3",
   "version": "3.6.2"
  }
 },
 "nbformat": 4,
 "nbformat_minor": 2
}
